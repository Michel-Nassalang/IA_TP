{
 "cells": [
  {
   "cell_type": "code",
   "execution_count": 1,
   "id": "5ba2dbe9",
   "metadata": {},
   "outputs": [],
   "source": [
    "import numpy as np;"
   ]
  },
  {
   "cell_type": "code",
   "execution_count": 3,
   "id": "47afd652",
   "metadata": {},
   "outputs": [
    {
     "name": "stdout",
     "output_type": "stream",
     "text": [
      "[0.38279781 0.43853436 0.59688622 0.55541227]\n"
     ]
    }
   ],
   "source": [
    "x=np.random.rand(4);\n",
    "print(x);"
   ]
  },
  {
   "cell_type": "code",
   "execution_count": 6,
   "id": "cfa42dc6",
   "metadata": {},
   "outputs": [
    {
     "name": "stdout",
     "output_type": "stream",
     "text": [
      "[[0.30702531 0.14070019 0.36158579 0.544963   0.04338073]\n",
      " [0.44946982 0.59435505 0.08043143 0.34873434 0.36713155]\n",
      " [0.74813161 0.98857302 0.03164962 0.21202354 0.2873939 ]\n",
      " [0.08782272 0.50537121 0.14178413 0.40320257 0.65965758]]\n"
     ]
    }
   ],
   "source": [
    "y = np.random.random(size=(4,5));\n",
    "print(y);"
   ]
  },
  {
   "cell_type": "code",
   "execution_count": 7,
   "id": "81162331",
   "metadata": {},
   "outputs": [
    {
     "data": {
      "text/plain": [
       "array([[0., 0., 0., 0., 0.],\n",
       "       [0., 0., 0., 0., 0.],\n",
       "       [0., 0., 0., 0., 0.],\n",
       "       [0., 0., 0., 0., 0.]])"
      ]
     },
     "execution_count": 7,
     "metadata": {},
     "output_type": "execute_result"
    }
   ],
   "source": [
    "np.zeros((4,5))"
   ]
  },
  {
   "cell_type": "code",
   "execution_count": null,
   "id": "37c4ed08",
   "metadata": {},
   "outputs": [],
   "source": []
  }
 ],
 "metadata": {
  "kernelspec": {
   "display_name": "Python 3",
   "language": "python",
   "name": "python3"
  },
  "language_info": {
   "codemirror_mode": {
    "name": "ipython",
    "version": 3
   },
   "file_extension": ".py",
   "mimetype": "text/x-python",
   "name": "python",
   "nbconvert_exporter": "python",
   "pygments_lexer": "ipython3",
   "version": "3.8.8"
  }
 },
 "nbformat": 4,
 "nbformat_minor": 5
}
