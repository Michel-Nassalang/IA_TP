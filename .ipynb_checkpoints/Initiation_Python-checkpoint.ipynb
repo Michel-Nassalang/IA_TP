{
 "cells": [
  {
   "cell_type": "code",
   "execution_count": 1,
   "id": "be53e8b3",
   "metadata": {},
   "outputs": [
    {
     "name": "stdout",
     "output_type": "stream",
     "text": [
      "Hello World!\n"
     ]
    }
   ],
   "source": [
    "print(\"Hello World!\");"
   ]
  },
  {
   "cell_type": "code",
   "execution_count": 2,
   "id": "c3be8c1b",
   "metadata": {},
   "outputs": [
    {
     "name": "stdout",
     "output_type": "stream",
     "text": [
      "La variable est égale à  10\n",
      "Le type de la variable est  <class 'int'>\n"
     ]
    }
   ],
   "source": [
    "variable = 10;\n",
    "print(\"La variable est égale à \", variable);\n",
    "print(\"Le type de la variable est \",type(variable));"
   ]
  },
  {
   "cell_type": "code",
   "execution_count": 3,
   "id": "6c3187ab",
   "metadata": {},
   "outputs": [
    {
     "data": {
      "text/plain": [
       "10.0"
      ]
     },
     "execution_count": 3,
     "metadata": {},
     "output_type": "execute_result"
    }
   ],
   "source": [
    "float(variable)"
   ]
  },
  {
   "cell_type": "code",
   "execution_count": 8,
   "id": "ce1463b6",
   "metadata": {},
   "outputs": [
    {
     "data": {
      "text/plain": [
       "'10'"
      ]
     },
     "execution_count": 8,
     "metadata": {},
     "output_type": "execute_result"
    }
   ],
   "source": [
    "str(variable)"
   ]
  },
  {
   "cell_type": "code",
   "execution_count": null,
   "id": "0509cdbe",
   "metadata": {},
   "outputs": [],
   "source": []
  }
 ],
 "metadata": {
  "kernelspec": {
   "display_name": "Python 3",
   "language": "python",
   "name": "python3"
  },
  "language_info": {
   "codemirror_mode": {
    "name": "ipython",
    "version": 3
   },
   "file_extension": ".py",
   "mimetype": "text/x-python",
   "name": "python",
   "nbconvert_exporter": "python",
   "pygments_lexer": "ipython3",
   "version": "3.8.8"
  }
 },
 "nbformat": 4,
 "nbformat_minor": 5
}
