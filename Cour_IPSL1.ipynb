{
 "cells": [
  {
   "cell_type": "markdown",
   "id": "eaf448aa",
   "metadata": {},
   "source": [
    "## Python "
   ]
  },
  {
   "cell_type": "markdown",
   "id": "3d12cff5",
   "metadata": {},
   "source": [
    "Il y a enormement de langage de programmation, et on se pose la question pourquoi python???? Python est un Langage de haut niveau car c'est un langage qui s'eloigne d'un langage machine. Exemple des langage de haut niveau on a Java, Nuby, etc...\n",
    "un langage de haut niveau qui est facile a etre exploré est le langage python. Dans le langage Python on a beaucoup de structure qui sont déja  developpé. Pourquoi tout le monde ne l'utilise pas??? Juste que plus tu es dans le langage de haut niveau et plus la machine prend du temps a etre processer. Python c'est tres lent lorsque tu fait le IA. Il est le deuxieme Langage le plus utilisé juste apres Java."
   ]
  },
  {
   "cell_type": "markdown",
   "id": "adcf6a3a",
   "metadata": {},
   "source": [
    "## Les varibles et les types de variables"
   ]
  },
  {
   "cell_type": "code",
   "execution_count": 4,
   "id": "55ee4f76",
   "metadata": {},
   "outputs": [
    {
     "name": "stdout",
     "output_type": "stream",
     "text": [
      "Hello world\n",
      "Bonjour\n"
     ]
    },
    {
     "data": {
      "text/plain": [
       "'Bonjour'"
      ]
     },
     "execution_count": 4,
     "metadata": {},
     "output_type": "execute_result"
    }
   ],
   "source": [
    "## On commence un programme sous un langage par printé \n",
    "print(\"Hello world\")\n",
    "print(\"Bonjour\")\n",
    "# print() est une fonction \n",
    "# Si tu ajoute par exemple \"Bonjour\" il va juste te l'affichee\n",
    "\"Bonjour\"\n"
   ]
  },
  {
   "cell_type": "code",
   "execution_count": 10,
   "id": "9c1df7dd",
   "metadata": {},
   "outputs": [
    {
     "name": "stdout",
     "output_type": "stream",
     "text": [
      "La variable A={a}\n"
     ]
    }
   ],
   "source": [
    "a=10\n",
    "print('La variable A={a}')"
   ]
  },
  {
   "cell_type": "code",
   "execution_count": 11,
   "id": "6a5d04a6",
   "metadata": {},
   "outputs": [
    {
     "name": "stdout",
     "output_type": "stream",
     "text": [
      "La variable A=10\n"
     ]
    }
   ],
   "source": [
    "a=10\n",
    "print(f'La variable A={a}')"
   ]
  },
  {
   "cell_type": "markdown",
   "id": "9fe94e8e",
   "metadata": {},
   "source": [
    "Donc vous remarquerai la difference entre le deux solutions sous python la second est disons la bonne car elle donne la reponse attendu"
   ]
  },
  {
   "cell_type": "code",
   "execution_count": 12,
   "id": "4ccb81b6",
   "metadata": {},
   "outputs": [
    {
     "name": "stdout",
     "output_type": "stream",
     "text": [
      "10\n",
      "<class 'int'>\n",
      "10.0\n",
      "<class 'float'>\n",
      "Olympique de Marseille\n",
      "<class 'str'>\n"
     ]
    }
   ],
   "source": [
    "# un Integer 0,1,2,3,4..... int()\n",
    "variable1=10\n",
    "print(variable1)\n",
    "print(type(variable1))\n",
    "\n",
    "# les float 0.5,01.5..... les valeurs a virgule\n",
    "variable2=10.0\n",
    "print(variable2)\n",
    "print(type(variable2))\n",
    "## String e.g 'Maurice'\n",
    "variable3='Olympique de Marseille'\n",
    "print(variable3)\n",
    "print(type(variable3))\n"
   ]
  },
  {
   "cell_type": "code",
   "execution_count": 18,
   "id": "9841c07b",
   "metadata": {},
   "outputs": [
    {
     "name": "stdout",
     "output_type": "stream",
     "text": [
      "15\n"
     ]
    }
   ],
   "source": [
    "# On peut convertir les float en int , ou des string(si uniquement des nombres) en int vice verca \n",
    "print(int(15.5))"
   ]
  },
  {
   "cell_type": "markdown",
   "id": "24e1626f",
   "metadata": {},
   "source": [
    "## Boolean "
   ]
  },
  {
   "cell_type": "markdown",
   "id": "82854957",
   "metadata": {},
   "source": [
    "C'est quoi un boolean??? En programmation informatique, un booléen est un type de variable à deux états (généralement notés vrai et faux), destiné à représenter les valeurs de vérité de la logique et l'algèbre booléenne. Il est nommé ainsi d'après George Boole, fondateur dans le milieu du xixe siècle de l'algèbre portant son nom. Le type de données booléen est principalement associé à des états conditionnels. C'est un cas particulier du type de données logique, la logique n'étant pas toujours de type booléen."
   ]
  },
  {
   "cell_type": "code",
   "execution_count": 17,
   "id": "4485ea64",
   "metadata": {},
   "outputs": [
    {
     "name": "stdout",
     "output_type": "stream",
     "text": [
      "False\n",
      "False\n",
      "True\n",
      "False\n",
      "True\n",
      "True\n",
      "False True\n"
     ]
    }
   ],
   "source": [
    "## Boolean true, false, 1,0\n",
    "print(1==0) #Egalité ==\n",
    "print(1< 0) # Inferieur <\n",
    "print(1> 0) # Superieur >\n",
    "print(1<=0) #Inferieur ou egal <=\n",
    "print(1>=0) #Superieur ou egal >=\n",
    "print(1!=0) #Different !=\n",
    "print(bool(0),bool(1))"
   ]
  },
  {
   "cell_type": "markdown",
   "id": "6334a301",
   "metadata": {},
   "source": [
    "Ouf python vie dans la meme dimension que les humains"
   ]
  },
  {
   "cell_type": "markdown",
   "id": "f544ead7",
   "metadata": {},
   "source": [
    "## Les Tuples"
   ]
  },
  {
   "cell_type": "code",
   "execution_count": 1,
   "id": "d81e60f1",
   "metadata": {},
   "outputs": [
    {
     "name": "stdout",
     "output_type": "stream",
     "text": [
      "(1, 0)\n",
      "<class 'tuple'>\n"
     ]
    }
   ],
   "source": [
    "variable4=(1,0)\n",
    "print(variable4)\n",
    "print(type(variable4)) "
   ]
  },
  {
   "cell_type": "code",
   "execution_count": 12,
   "id": "a5a00a9b",
   "metadata": {},
   "outputs": [
    {
     "name": "stdout",
     "output_type": "stream",
     "text": [
      "(1, 4, 5, 6)\n",
      "<class 'tuple'>\n"
     ]
    }
   ],
   "source": [
    "val = (1,4,5,6)\n",
    "print(val)\n",
    "print(type(val))"
   ]
  },
  {
   "cell_type": "code",
   "execution_count": null,
   "id": "4922ff4f",
   "metadata": {},
   "outputs": [],
   "source": [
    "list=[]"
   ]
  },
  {
   "cell_type": "markdown",
   "id": "f5399ec0",
   "metadata": {},
   "source": [
    "Les tuples sont tres important dans l'étude du Deep Learning et la ils serons a la base des tenseur"
   ]
  },
  {
   "cell_type": "code",
   "execution_count": 28,
   "id": "f094071e",
   "metadata": {},
   "outputs": [
    {
     "name": "stdout",
     "output_type": "stream",
     "text": [
      "[1, 0, 'OM', 'PSG', 'OL']\n",
      "<class 'list'>\n"
     ]
    },
    {
     "data": {
      "text/plain": [
       "'OM'"
      ]
     },
     "execution_count": 28,
     "metadata": {},
     "output_type": "execute_result"
    }
   ],
   "source": [
    "## Les listes noté\n",
    "# List[1,0,'OM','PSG','OL']\n",
    "variable5=[1,0,'OM','PSG','OL']\n",
    "print(variable5)\n",
    "print(type(variable5))\n",
    "variable5[2]"
   ]
  },
  {
   "cell_type": "markdown",
   "id": "0c8c8688",
   "metadata": {},
   "source": [
    "Dictionnaire nous permet de définir les clées qui vont avoir des valeurs "
   ]
  },
  {
   "cell_type": "code",
   "execution_count": 13,
   "id": "4c486e67",
   "metadata": {},
   "outputs": [
    {
     "name": "stdout",
     "output_type": "stream",
     "text": [
      "{'P': ['Profil', 'Papa', 'Peloton', 'Pomme'], 'Anis': ['Eau', 'Clavier', 'Souris']}\n",
      "<class 'dict'>\n"
     ]
    }
   ],
   "source": [
    "# Dict {'P':'Pomme'}\n",
    "variable6={'P':['Profil','Papa','Peloton','Pomme'],\n",
    "          'Anis':['Eau', 'Clavier', 'Souris']}\n",
    "print(variable6)\n",
    "print(type(variable6))"
   ]
  },
  {
   "cell_type": "code",
   "execution_count": 21,
   "id": "f76f1461",
   "metadata": {},
   "outputs": [
    {
     "data": {
      "text/plain": [
       "dict_keys(['P', 'Anis'])"
      ]
     },
     "execution_count": 21,
     "metadata": {},
     "output_type": "execute_result"
    }
   ],
   "source": [
    "variable6.keys()"
   ]
  },
  {
   "cell_type": "code",
   "execution_count": 31,
   "id": "fe059e78",
   "metadata": {},
   "outputs": [
    {
     "data": {
      "text/plain": [
       "dict_values([['Profil', 'Papa', 'Peloton', 'Pomme'], ['Eau', 'Clavier', 'Souris']])"
      ]
     },
     "execution_count": 31,
     "metadata": {},
     "output_type": "execute_result"
    }
   ],
   "source": [
    "vals = variable6.values()\n",
    "vals"
   ]
  },
  {
   "cell_type": "code",
   "execution_count": 32,
   "id": "8e1a5afb",
   "metadata": {},
   "outputs": [
    {
     "data": {
      "text/plain": [
       "dict_items([('P', ['Profil', 'Papa', 'Peloton', 'Pomme']), ('Anis', ['Eau', 'Clavier', 'Souris'])])"
      ]
     },
     "execution_count": 32,
     "metadata": {},
     "output_type": "execute_result"
    }
   ],
   "source": [
    "variable6.items()"
   ]
  },
  {
   "cell_type": "markdown",
   "id": "17af7404",
   "metadata": {},
   "source": [
    "## Les Structures de controle"
   ]
  },
  {
   "cell_type": "code",
   "execution_count": 25,
   "id": "68eecb49",
   "metadata": {},
   "outputs": [
    {
     "name": "stdout",
     "output_type": "stream",
     "text": [
      "c'est l'OM\n"
     ]
    }
   ],
   "source": [
    "## if else/ elif permet de metre des conditions\n",
    "if variable3==\"PSG\":\n",
    "    print(\"c'est le PSG\")\n",
    "elif variable3==\"Olympique de Marseille\":\n",
    "    print(\"c'est l'OM\")\n",
    "else:\n",
    "    print(\"ce n'est ni l'OM ni le PSG\")"
   ]
  },
  {
   "cell_type": "markdown",
   "id": "0f70862c",
   "metadata": {},
   "source": [
    "On a cette reponse parceque on avais definie variable3 comme olympique de Marseille"
   ]
  },
  {
   "cell_type": "code",
   "execution_count": 27,
   "id": "ce02cef0",
   "metadata": {},
   "outputs": [
    {
     "name": "stdout",
     "output_type": "stream",
     "text": [
      "c'est l'OM\n"
     ]
    }
   ],
   "source": [
    "## if else/ elif permet de metre des conditions\n",
    "variable1000='PSG'\n",
    "if variable3==\"PSG\":\n",
    "    print(\"c'est le PSG\")\n",
    "elif variable3==\"Olympique de Marseille\":\n",
    "    print(\"c'est l'OM\")\n",
    "else:\n",
    "    print(\"ce n'est ni l'OM ni le PSG\")"
   ]
  },
  {
   "cell_type": "markdown",
   "id": "23da289f",
   "metadata": {},
   "source": [
    "Il nous redonne la meme reponse car on a pas changé les instructions "
   ]
  },
  {
   "cell_type": "code",
   "execution_count": 28,
   "id": "f4925d82",
   "metadata": {},
   "outputs": [
    {
     "name": "stdout",
     "output_type": "stream",
     "text": [
      "c'est le PSG\n"
     ]
    }
   ],
   "source": [
    "## if else/ elif permet de metre des conditions\n",
    "variable1000='PSG'\n",
    "if variable1000==\"PSG\":\n",
    "    print(\"c'est le PSG\")\n",
    "elif variable1000==\"Olympique de Marseille\":\n",
    "    print(\"c'est l'OM\")\n",
    "else:\n",
    "    print(\"ce n'est ni l'OM ni le PSG\")"
   ]
  },
  {
   "cell_type": "markdown",
   "id": "c173cd71",
   "metadata": {},
   "source": [
    "## Boucle "
   ]
  },
  {
   "cell_type": "markdown",
   "id": "fa704918",
   "metadata": {},
   "source": [
    "C'est lorsque une instruction se repete plusieurs fois"
   ]
  },
  {
   "cell_type": "code",
   "execution_count": 29,
   "id": "016a81d4",
   "metadata": {},
   "outputs": [
    {
     "name": "stdout",
     "output_type": "stream",
     "text": [
      "PSG\n",
      "PSG\n",
      "PSG\n",
      "PSG\n"
     ]
    }
   ],
   "source": [
    "# Boucle for <variable> in <list>:\n",
    "#Il ya pas de pointeur en python\n",
    "print(variable1000)\n",
    "print(variable1000)\n",
    "print(variable1000)\n",
    "print(variable1000)"
   ]
  },
  {
   "cell_type": "code",
   "execution_count": 30,
   "id": "95fa345f",
   "metadata": {},
   "outputs": [
    {
     "name": "stdout",
     "output_type": "stream",
     "text": [
      "PSG\n",
      "PSG\n",
      "PSG\n",
      "PSG\n"
     ]
    }
   ],
   "source": [
    "##Never repeat youself: C'est a dire moins vous repter les choses plus votre code est efficace\n",
    "for i in [variable1000,variable1000,variable1000,variable1000]:\n",
    "    print(i)"
   ]
  },
  {
   "cell_type": "code",
   "execution_count": 35,
   "id": "3af878fe",
   "metadata": {},
   "outputs": [
    {
     "name": "stdout",
     "output_type": "stream",
     "text": [
      "0\n",
      "PSG\n",
      "1\n",
      "PSG\n",
      "2\n",
      "PSG\n",
      "3\n",
      "PSG\n",
      "0\n",
      "1\n",
      "2\n",
      "3\n",
      "4\n",
      "5\n",
      "6\n",
      "7\n",
      "8\n",
      "9\n"
     ]
    }
   ],
   "source": [
    "for i in [0,1,2,3]:\n",
    "    print(i)\n",
    "    print(variable1000)\n",
    "    \n",
    "## creer des lists dans le boucle for\n",
    "for i in range(10): #print uniquement jusqu'a 9 car il commence toujours a zero\n",
    "    print(i)\n",
    "    "
   ]
  },
  {
   "cell_type": "code",
   "execution_count": 2,
   "id": "e0d33727",
   "metadata": {},
   "outputs": [
    {
     "name": "stdout",
     "output_type": "stream",
     "text": [
      "0\n",
      "1\n",
      "2\n",
      "3\n",
      "4\n",
      "5\n",
      "6\n",
      "7\n",
      "8\n",
      "9\n"
     ]
    }
   ],
   "source": [
    "## While: tantque \n",
    "## while<condition> pas resolu, on boucle\n",
    "## une erreur a ne pas faire est de ne pas avoir le max de la boucle par exemple\n",
    "#i=0\n",
    "# while(i==10):\n",
    "#   print(i)\n",
    "# On appel ca une boucle infinie \n",
    "i=0\n",
    "while(i!=10):\n",
    "    print(i)\n",
    "    i=i+1"
   ]
  },
  {
   "cell_type": "markdown",
   "id": "b0ba6662",
   "metadata": {},
   "source": [
    "## Fonctions"
   ]
  },
  {
   "cell_type": "markdown",
   "id": "b5e822da",
   "metadata": {},
   "source": [
    "Calcul de la moyenne de deux nombres $a_1$ et $a_2$ telque $\\dfrac{a_1+a_2}{2}$"
   ]
  },
  {
   "cell_type": "code",
   "execution_count": 4,
   "id": "c39fb33d",
   "metadata": {},
   "outputs": [
    {
     "name": "stdout",
     "output_type": "stream",
     "text": [
      "15.0\n"
     ]
    }
   ],
   "source": [
    "def mean(nbre1,nbre2):\n",
    "    mean_of_two_numb=(nbre1+nbre2)/2\n",
    "    return mean_of_two_numb\n",
    "## print()\n",
    "mean(10,20)\n",
    "print(mean(10,20))"
   ]
  },
  {
   "cell_type": "markdown",
   "id": "141ac35f",
   "metadata": {},
   "source": [
    "Coder les expressions suivant pour calculer lorsqu'on choisi le nombre entier natuelle en utilisant la boucle **for**\n",
    "$\\overset{n-1}{\\underset{i=0}{\\sum}}(i+3)$ et $\\overset{n-1}{\\underset{i=0}{\\prod}}(i+3)$"
   ]
  },
  {
   "cell_type": "code",
   "execution_count": 2,
   "id": "cdbd2b41",
   "metadata": {},
   "outputs": [
    {
     "name": "stdout",
     "output_type": "stream",
     "text": [
      "entrer un entier  3\n",
      "\n",
      "\n",
      "4\n"
     ]
    }
   ],
   "source": [
    "n= input(\"entrer un entier  \")\n",
    "n=int(n)\n",
    "sum=0\n",
    "for i in range(n):\n",
    "    if i%2==1:\n",
    "        sum=sum+(i+3)\n",
    "    else:\n",
    "        print(\"\")\n",
    "print(sum)"
   ]
  },
  {
   "cell_type": "code",
   "execution_count": 77,
   "id": "6f425e9a",
   "metadata": {},
   "outputs": [
    {
     "name": "stdout",
     "output_type": "stream",
     "text": [
      "entrer un nombre entier 8\n",
      "945\n"
     ]
    }
   ],
   "source": [
    "n= input(\"entrer un nombre entier \" )\n",
    "n=int(n)\n",
    "pro=1\n",
    "for i in range(n):\n",
    "    if i%2==0:\n",
    "        pro=pro*(i+3)\n",
    "print(pro)"
   ]
  },
  {
   "cell_type": "markdown",
   "id": "6281bf76",
   "metadata": {},
   "source": [
    "Ecrivez un programme qui lit le numéro du jour de la semaine (de 0 à 6). S'il s'agit d'un\n",
    "jour ouvrable, alors le programme écrira le nom du jour correspondant. Sinon\n",
    "il écrira le mot \"Week-end\"."
   ]
  },
  {
   "cell_type": "code",
   "execution_count": 78,
   "id": "60f65fef",
   "metadata": {},
   "outputs": [
    {
     "name": "stdout",
     "output_type": "stream",
     "text": [
      "entrer un entier compris entre 0 à 6: 5\n",
      "Weekend\n"
     ]
    }
   ],
   "source": [
    "n=input(\"entrer un entier compris entre 0 à 6: \")\n",
    "n=int(n)\n",
    "if n==0:\n",
    "    print(\"lundi\")\n",
    "elif n==1: \n",
    "    print(\"Mardi\")\n",
    "elif n==2: \n",
    "    print(\"mecredi\")\n",
    "elif n==3: \n",
    "    print(\"jeudi\")\n",
    "elif n==4: \n",
    "    print(\"vendredi\")\n",
    "else : \n",
    "    print(\"Weekend\")"
   ]
  },
  {
   "cell_type": "markdown",
   "id": "e8142f20",
   "metadata": {},
   "source": [
    " Créez un programme qui, à partir d'un numéro de mois (de 0 à 11), indique le nombre de jours du mois (28, 30 ou 31), sans tenir compte des années bissextiles."
   ]
  },
  {
   "cell_type": "code",
   "execution_count": 79,
   "id": "0c14b8d8",
   "metadata": {},
   "outputs": [
    {
     "name": "stdout",
     "output_type": "stream",
     "text": [
      "entrer une valeur compris entre 0 à 11  11\n",
      "le nombre de jours de ce mois est 31\n"
     ]
    }
   ],
   "source": [
    "n=input(\"entrer une valeur compris entre 0 à 11  \")\n",
    "n=int(n)\n",
    "if n==0:\n",
    "    print(\"le nombre de jours de ce mois est 31\")\n",
    "elif n==1:\n",
    "    print(\"le nombre de jours de ce mois est 28\")\n",
    "elif n==2:\n",
    "    print(\"le nombre de jours de ce mois est 31\")\n",
    "elif n==3:\n",
    "    print(\"le nombre de jours de ce mois est 30\")\n",
    "elif n==4:\n",
    "    print(\"le nombre de jours de ce mois est 31\")\n",
    "elif n==5:\n",
    "    print(\"le nombre de jours de ce mois est 30\")\n",
    "elif n==6:\n",
    "    print(\"le nombre de jours de ce mois est 31\")\n",
    "elif n==7:\n",
    "    print(\"le nombre de jours de ce mois est 31\")\n",
    "elif n==8:\n",
    "    print(\"le nombre de jours de ce mois est 30\")\n",
    "elif n==9:\n",
    "    print(\"le nombre de jours de ce mois est 31\")    \n",
    "elif n==10:\n",
    "    print(\"le nombre de jours de ce mois est 30\")\n",
    "elif n==11:\n",
    "    print(\"le nombre de jours de ce mois est 31\")\n",
    "else:\n",
    "    print(\"Cette valeur ne correspond pas aux nombres choisi\")"
   ]
  },
  {
   "cell_type": "markdown",
   "id": "d77215c2",
   "metadata": {},
   "source": [
    " Écrivez deux versions du code python qui affiche votre nom 3 fois. Une version avec une\n",
    "boucle \"for\" et une autre version avec une \"boucle while\"."
   ]
  },
  {
   "cell_type": "markdown",
   "id": "7fe9f65c",
   "metadata": {},
   "source": [
    "## boucle for"
   ]
  },
  {
   "cell_type": "code",
   "execution_count": 80,
   "id": "e5531434",
   "metadata": {},
   "outputs": [
    {
     "name": "stdout",
     "output_type": "stream",
     "text": [
      "Entrer votre:  KPIZIM Essozimna\n",
      "KPIZIM Essozimna\n",
      "KPIZIM Essozimna\n",
      "KPIZIM Essozimna\n"
     ]
    }
   ],
   "source": [
    "n=input(\"Entrer votre:  \")\n",
    "n=str(n)\n",
    "for i in range(3):\n",
    "    print(n)"
   ]
  },
  {
   "cell_type": "markdown",
   "id": "dc7b1adc",
   "metadata": {},
   "source": [
    "## boucle while"
   ]
  },
  {
   "cell_type": "code",
   "execution_count": 81,
   "id": "0bc03d40",
   "metadata": {},
   "outputs": [
    {
     "name": "stdout",
     "output_type": "stream",
     "text": [
      "Entrer votre: KPIZIM Essozimna\n",
      "KPIZIM Essozimna\n",
      "KPIZIM Essozimna\n",
      "KPIZIM Essozimna\n"
     ]
    }
   ],
   "source": [
    "i=0\n",
    "n=input(\"Entrer votre: \")\n",
    "n=str(n)\n",
    "while i<3:\n",
    "    print(n)\n",
    "    i=i+1"
   ]
  },
  {
   "cell_type": "markdown",
   "id": "f2428ab2",
   "metadata": {},
   "source": [
    "Étant donné deux nombres $a_0$ et $a_1$, la suite de Fibonacci qu'ils engendrent est construite à partir de la formule de récurrence $a_{n+1} = a_n + a_{n-1}$. Calculer les $15$ premiers termes d'une suite de Fibonacci en demandant à l'utilisateur les valeurs initiales.\n",
    "en demandant à l'utilisateur les valeurs initiales."
   ]
  },
  {
   "cell_type": "code",
   "execution_count": 82,
   "id": "37b7a072",
   "metadata": {},
   "outputs": [
    {
     "name": "stdout",
     "output_type": "stream",
     "text": [
      "Entrer la valeur de a_0  2\n",
      "Entrer la valeur de a_1  2\n",
      "4\n",
      "6\n",
      "10\n",
      "16\n",
      "26\n",
      "42\n",
      "68\n",
      "110\n",
      "178\n",
      "288\n",
      "466\n",
      "754\n",
      "1220\n"
     ]
    }
   ],
   "source": [
    "n=15\n",
    "a0=input(\"Entrer la valeur de a_0  \")\n",
    "a1=input(\"Entrer la valeur de a_1  \")\n",
    "a0=int(a0)\n",
    "a1=int(a1)\n",
    "for i in range(n-2):\n",
    "    a2=a0+a1\n",
    "    a0,a1=a1,a2\n",
    "    print(a2)"
   ]
  },
  {
   "cell_type": "code",
   "execution_count": 5,
   "id": "16e301b1",
   "metadata": {},
   "outputs": [],
   "source": [
    "## Si je fais mean_of_two_numb il y'aura des erreurs car se nom ne vie que dans la fonction."
   ]
  },
  {
   "cell_type": "markdown",
   "id": "18d5b5bf",
   "metadata": {},
   "source": [
    "## Programmation objet et fonctionnelle"
   ]
  },
  {
   "cell_type": "markdown",
   "id": "a2df497e",
   "metadata": {},
   "source": [
    "On parle du programmation objet c'est quant il s'agit de manipuler les objet du quotidien comme par exemple un casque je vais definir l'objet casque et si pour dimunier le volume du casque j'ecris une fonction qui dimunie le volume du casque "
   ]
  },
  {
   "cell_type": "markdown",
   "id": "176e4a83",
   "metadata": {},
   "source": [
    "## Programmation fonctionnelle et porté des variables (espace de nommage)"
   ]
  },
  {
   "cell_type": "markdown",
   "id": "d654f7e5",
   "metadata": {},
   "source": [
    "Python est un langage indenté"
   ]
  },
  {
   "cell_type": "code",
   "execution_count": 6,
   "id": "48beea28",
   "metadata": {},
   "outputs": [
    {
     "name": "stdout",
     "output_type": "stream",
     "text": [
      "10\n"
     ]
    }
   ],
   "source": [
    "a=10\n",
    "print(a)"
   ]
  },
  {
   "cell_type": "code",
   "execution_count": 7,
   "id": "3e06d4e4",
   "metadata": {},
   "outputs": [
    {
     "name": "stdout",
     "output_type": "stream",
     "text": [
      "10\n"
     ]
    }
   ],
   "source": [
    "def fonct():\n",
    "    print(a)\n",
    "fonct()"
   ]
  },
  {
   "cell_type": "code",
   "execution_count": 8,
   "id": "05f983ee",
   "metadata": {},
   "outputs": [
    {
     "name": "stdout",
     "output_type": "stream",
     "text": [
      "4\n"
     ]
    }
   ],
   "source": [
    "# parcontre si on definie autrement\n",
    "def fonct(a):\n",
    "    print(a)\n",
    "fonct(4)\n",
    "#car 'a' qui est la est consideré comme une variable a donner."
   ]
  },
  {
   "cell_type": "code",
   "execution_count": 6,
   "id": "01e1df44",
   "metadata": {},
   "outputs": [
    {
     "name": "stdout",
     "output_type": "stream",
     "text": [
      "Inside local fct exemple* local exemple\n",
      "local exemple* exemple\n",
      "non local exemple* non local exemple\n",
      "global exemple* non local exemple\n",
      "Main exemple* global exemple\n"
     ]
    }
   ],
   "source": [
    "def exemple_porte_variable():\n",
    "    def define_local():\n",
    "        exemple='local exemple'\n",
    "        print('Inside local fct exemple*', exemple)\n",
    "    \n",
    "    def define_nonlocal():\n",
    "        nonlocal exemple\n",
    "        exemple='non local exemple'\n",
    "    \n",
    "    def define_global():\n",
    "        global exemple\n",
    "        exemple='global exemple'\n",
    "        \n",
    "    exemple='exemple'\n",
    "    define_local()\n",
    "    print('local exemple*',exemple)\n",
    "    define_nonlocal()\n",
    "    print('non local exemple*',exemple)\n",
    "    define_global()\n",
    "    print('global exemple*',exemple)\n",
    "\n",
    "exemple_porte_variable()\n",
    "print('Main exemple*',exemple)\n",
    "    "
   ]
  },
  {
   "cell_type": "code",
   "execution_count": 7,
   "id": "f2617ffe",
   "metadata": {},
   "outputs": [],
   "source": [
    "import matplotlib.pyplot as plt\n",
    "import matplotlib.image as img\n",
    "\n"
   ]
  },
  {
   "cell_type": "code",
   "execution_count": 8,
   "id": "8deeb534",
   "metadata": {},
   "outputs": [
    {
     "data": {
      "image/png": "[encoded data removed]",
      "text/plain": [
       "<Figure size 432x288 with 1 Axes>"
      ]
     },
     "metadata": {
      "needs_background": "light"
     },
     "output_type": "display_data"
    }
   ],
   "source": [
    "image = img.imread('planetes.png')\n",
    "plt.imshow(image)\n",
    "plt.show()"
   ]
  },
  {
   "cell_type": "markdown",
   "id": "21af9c58",
   "metadata": {},
   "source": [
    "Là nous allons utiliser les nom des planètes avec leur diametre et distance. Nous allons créer une function qui nous donne la planète dont le diametre est la plus petite."
   ]
  },
  {
   "cell_type": "code",
   "execution_count": 13,
   "id": "8d5cb467",
   "metadata": {},
   "outputs": [
    {
     "name": "stdout",
     "output_type": "stream",
     "text": [
      "1391\n",
      "4880\n",
      "12104\n",
      "12756\n",
      "6805\n",
      "142984\n",
      "120536\n",
      "51312\n",
      "49922\n",
      "2300\n"
     ]
    }
   ],
   "source": [
    "## On va tout d'abord céer un dictionnaire \n",
    "#les listes\n",
    "planet_list=['Mercure','Venus','Terre','Mars','Jupiter','Saturne','Uranus','Neptune','Pluton']\n",
    "diametre_list=[1391,4880,12104,12756,6805,142984,120536,51312,49922,2300]\n",
    "distance_soleil_planet=['58','108','150','227','778','457','870','500','900']\n",
    "dictionnaire_list={\n",
    "    'Mercure':{'diametre':'1391',\n",
    "              'distance':'58'\n",
    "              },\n",
    "    'Venus':{'diametre':'4880',\n",
    "              'distance':'108'\n",
    "            },\n",
    "    'Terre':{'diametre':'12104',\n",
    "              'distance':'150'\n",
    "            }\n",
    "    }\n",
    "def find_littlest_planet(pla_list,dia_list):\n",
    "    for diametre_ in dia_list:\n",
    "        print(diametre_)\n",
    "find_littlest_planet(planet_list,diametre_list)\n"
   ]
  },
  {
   "cell_type": "code",
   "execution_count": 11,
   "id": "f16aa72c",
   "metadata": {},
   "outputs": [
    {
     "name": "stdout",
     "output_type": "stream",
     "text": [
      "1391\n"
     ]
    }
   ],
   "source": [
    "## On va tout d'abord céer un dictionnaire \n",
    "#les listes\n",
    "planet_list=['Mercure','Venus','Terre','Mars','Jupiter','Saturne','Uranus','Neptune','Pluton']\n",
    "diametre_list=[1391,4880,12104,12756,6805,142984,120536,51312,49922,2300]\n",
    "distance_soleil_planet=['58','108','150','227','778','457','870','500','900']\n",
    "dictionnaire_list={\n",
    "    'Mercure':{'diametre':'1391',\n",
    "              'distance':'58'\n",
    "              },\n",
    "    'Venus':{'diametre':'4880',\n",
    "              'distance':'108'\n",
    "            },\n",
    "    'Terre':{'diametre':'12104',\n",
    "              'distance':'150'\n",
    "            }\n",
    "    }\n",
    "def littlest_planet(pla_list,dia_list):\n",
    "    petit_valeur=9999999999999999\n",
    "    for diametre_ in  dia_list:\n",
    "        #print(diametre_)\n",
    "        if diametre_<petit_valeur:\n",
    "            petit_valeur=diametre_\n",
    "            \n",
    "    print(petit_valeur)\n",
    "littlest_planet(planet_list,diametre_list)\n",
    "        "
   ]
  },
  {
   "cell_type": "code",
   "execution_count": null,
   "id": "93699aa3",
   "metadata": {},
   "outputs": [],
   "source": []
  },
  {
   "cell_type": "code",
   "execution_count": null,
   "id": "e90b40ac",
   "metadata": {},
   "outputs": [],
   "source": []
  },
  {
   "cell_type": "code",
   "execution_count": null,
   "id": "66c0479c",
   "metadata": {},
   "outputs": [],
   "source": []
  },
  {
   "cell_type": "code",
   "execution_count": null,
   "id": "4b788360",
   "metadata": {},
   "outputs": [],
   "source": []
  },
  {
   "cell_type": "code",
   "execution_count": null,
   "id": "aff63267",
   "metadata": {},
   "outputs": [],
   "source": []
  },
  {
   "cell_type": "code",
   "execution_count": 14,
   "id": "ac5dea91",
   "metadata": {},
   "outputs": [
    {
     "name": "stdout",
     "output_type": "stream",
     "text": [
      "{'Mercure': {'diametre': '1391', 'distance': '58'}, 'Venus': {'diametre': '4880', 'distance': '108'}, 'Terre': {'diametre': '12104', 'distance': '150'}}\n"
     ]
    }
   ],
   "source": [
    "print(dictionnaire_list)"
   ]
  },
  {
   "cell_type": "code",
   "execution_count": 16,
   "id": "3a895aa1",
   "metadata": {},
   "outputs": [
    {
     "name": "stdout",
     "output_type": "stream",
     "text": [
      "1391\n",
      "4880\n",
      "12104\n",
      "12756\n",
      "6805\n",
      "142984\n",
      "120536\n",
      "51312\n",
      "49922\n",
      "2300\n"
     ]
    }
   ],
   "source": [
    "## On va tout d'abord céer un dictionnaire \n",
    "#les listes\n",
    "planet_list=['Mercure','Venus','Terre','Mars','Jupiter','Saturne','Uranus','Neptune','Pluton']\n",
    "diametre_list=[1391,4880,12104,12756,6805,142984,120536,51312,49922,2300]\n",
    "distance_soleil_planet=['58','108','150','227','778','457','870','500','900']\n",
    "dictionnaire_list={\n",
    "    'Mercure':{'diametre':'1391',\n",
    "              'distance':'58'\n",
    "              },\n",
    "    'Venus':{'diametre':'4880',\n",
    "              'distance':'108'\n",
    "            },\n",
    "    'Terre':{'diametre':'12104',\n",
    "              'distance':'150'\n",
    "            },\n",
    "    'Mars':{'diametre':'12756',\n",
    "              'distance':'227'\n",
    "            },\n",
    "    'Jupiter':{'diametre':'6805',\n",
    "              'distance':'778'\n",
    "            },\n",
    "    'Saturne':{'diametre':'142984',\n",
    "              'distance':'457'\n",
    "            },\n",
    "    'Uranus':{'diametre':'120536',\n",
    "              'distance':'870'\n",
    "            },\n",
    "    'Nepturne':{'diametre':'51312',\n",
    "              'distance':'500'\n",
    "            },\n",
    "    'Pluton':{'diametre':'49922',\n",
    "              'distance':'900'\n",
    "            }\n",
    "    }\n",
    "def find_littlest_planet(pla_list,dia_list):\n",
    "    for diametre_ in dia_list:\n",
    "        print(diametre_)\n",
    "find_littlest_planet(planet_list,diametre_list)\n",
    "##Le disionnaire tout entier"
   ]
  },
  {
   "cell_type": "code",
   "execution_count": 17,
   "id": "dabef99f",
   "metadata": {},
   "outputs": [
    {
     "name": "stdout",
     "output_type": "stream",
     "text": [
      "1391\n"
     ]
    }
   ],
   "source": [
    "## On va tout d'abord céer un dictionnaire \n",
    "#les listes\n",
    "planet_list=['Mercure','Venus','Terre','Mars','Jupiter','Saturne','Uranus','Neptune','Pluton']\n",
    "diametre_list=[1391,4880,12104,12756,6805,142984,120536,51312,49922,2300]\n",
    "distance_soleil_planet=['58','108','150','227','778','457','870','500','900']\n",
    "dictionnaire_list={\n",
    "    'Mercure':{'diametre':'1391',\n",
    "              'distance':'58'\n",
    "              },\n",
    "    'Venus':{'diametre':'4880',\n",
    "              'distance':'108'\n",
    "            },\n",
    "    'Terre':{'diametre':'12104',\n",
    "              'distance':'150'\n",
    "            }\n",
    "    }\n",
    "def find_littlest_planet(pla_list,dia_list):\n",
    "    littlest_planet=8888888888888888888\n",
    "    for diametre_ in dia_list:\n",
    "       # print(diametre_)\n",
    "        if diametre_< littlest_planet:\n",
    "            littlest_planet=diametre_\n",
    "    print(littlest_planet)\n",
    "find_littlest_planet(planet_list,diametre_list)"
   ]
  },
  {
   "cell_type": "code",
   "execution_count": 18,
   "id": "e1dec98e",
   "metadata": {},
   "outputs": [],
   "source": [
    "# Nous pouvons dire que la planète la plus petite est Mercure. L'objectif là est de voir comment marche les boucles"
   ]
  },
  {
   "cell_type": "markdown",
   "id": "2d65a184",
   "metadata": {},
   "source": [
    "On ai pas totalement satisfait alors on va chercher a afficher aussi le numero de la planète"
   ]
  },
  {
   "cell_type": "code",
   "execution_count": 19,
   "id": "f9a6dee3",
   "metadata": {},
   "outputs": [
    {
     "name": "stdout",
     "output_type": "stream",
     "text": [
      "0 1391\n",
      "1 4880\n",
      "2 12104\n",
      "3 12756\n",
      "4 6805\n",
      "5 142984\n",
      "6 120536\n",
      "7 51312\n",
      "8 49922\n",
      "9 2300\n",
      "1391\n"
     ]
    }
   ],
   "source": [
    "## On va tout d'abord céer un dictionnaire \n",
    "#les listes\n",
    "planet_list=['Mercure','Venus','Terre','Mars','Jupiter','Saturne','Uranus','Neptune','Pluton']\n",
    "diametre_list=[1391,4880,12104,12756,6805,142984,120536,51312,49922,2300]\n",
    "distance_soleil_planet=['58','108','150','227','778','457','870','500','900']\n",
    "dictionnaire_list={\n",
    "    'Mercure':{'diametre':'1391',\n",
    "              'distance':'58'\n",
    "              },\n",
    "    'Venus':{'diametre':'4880',\n",
    "              'distance':'108'\n",
    "            },\n",
    "    'Terre':{'diametre':'12104',\n",
    "              'distance':'150'\n",
    "            }\n",
    "    }\n",
    "def find_littlest_planet(pla_list,dia_list):\n",
    "    littlest_planet=8888888888888888888\n",
    "    for i,diametre_ in enumerate(dia_list):\n",
    "        print(i,diametre_)\n",
    "       # print(diametre_)\n",
    "        if diametre_< littlest_planet:\n",
    "            littlest_planet=diametre_\n",
    "    print(littlest_planet)\n",
    "find_littlest_planet(planet_list,diametre_list)"
   ]
  },
  {
   "cell_type": "markdown",
   "id": "0e86ed14",
   "metadata": {},
   "source": [
    "Maintenant je veux sauvegarder 'i' alors "
   ]
  },
  {
   "cell_type": "code",
   "execution_count": 20,
   "id": "c407efe5",
   "metadata": {},
   "outputs": [
    {
     "name": "stdout",
     "output_type": "stream",
     "text": [
      "1391 0\n"
     ]
    }
   ],
   "source": [
    "## On va tout d'abord céer un dictionnaire \n",
    "#les listes\n",
    "planet_list=['Mercure','Venus','Terre','Mars','Jupiter','Saturne','Uranus','Neptune','Pluton']\n",
    "diametre_list=[1391,4880,12104,12756,6805,142984,120536,51312,49922,2300]\n",
    "distance_soleil_planet=['58','108','150','227','778','457','870','500','900']\n",
    "dictionnaire_list={\n",
    "    'Mercure':{'diametre':'1391',\n",
    "              'distance':'58'\n",
    "              },\n",
    "    'Venus':{'diametre':'4880',\n",
    "              'distance':'108'\n",
    "            },\n",
    "    'Terre':{'diametre':'12104',\n",
    "              'distance':'150'\n",
    "            }\n",
    "    }\n",
    "def find_littlest_planet(pla_list,dia_list):\n",
    "    littlest_planet=8888888888888888888\n",
    "    for i,diametre_ in enumerate(dia_list):\n",
    "       # print(i,diametre_)\n",
    "       # print(diametre_)\n",
    "        if diametre_< littlest_planet:\n",
    "            littlest_planet=diametre_\n",
    "            index_littlest_planet=i\n",
    "    print(littlest_planet,index_littlest_planet)\n",
    "find_littlest_planet(planet_list,diametre_list)"
   ]
  },
  {
   "cell_type": "code",
   "execution_count": 21,
   "id": "6566ea5d",
   "metadata": {},
   "outputs": [
    {
     "name": "stdout",
     "output_type": "stream",
     "text": [
      "1391 Mercure\n"
     ]
    }
   ],
   "source": [
    "## On va tout d'abord céer un dictionnaire \n",
    "#les listes\n",
    "planet_list=['Mercure','Venus','Terre','Mars','Jupiter','Saturne','Uranus','Neptune','Pluton']\n",
    "diametre_list=[1391,4880,12104,12756,6805,142984,120536,51312,49922,2300]\n",
    "distance_soleil_planet=['58','108','150','227','778','457','870','500','900']\n",
    "dictionnaire_list={\n",
    "    'Mercure':{'diametre':'1391',\n",
    "              'distance':'58'\n",
    "              },\n",
    "    'Venus':{'diametre':'4880',\n",
    "              'distance':'108'\n",
    "            },\n",
    "    'Terre':{'diametre':'12104',\n",
    "              'distance':'150'\n",
    "            }\n",
    "    }\n",
    "def find_littlest_planet(pla_list,dia_list):\n",
    "    littlest_planet=8888888888888888888\n",
    "    for i,diametre_ in enumerate(dia_list):\n",
    "       # print(i,diametre_)\n",
    "       # print(diametre_)\n",
    "        if diametre_< littlest_planet:\n",
    "            littlest_planet=diametre_\n",
    "            index_littlest_planet=i\n",
    "    print(littlest_planet,planet_list[index_littlest_planet])\n",
    "find_littlest_planet(planet_list,diametre_list)"
   ]
  },
  {
   "cell_type": "code",
   "execution_count": 25,
   "id": "6ac63f10",
   "metadata": {},
   "outputs": [
    {
     "name": "stdout",
     "output_type": "stream",
     "text": [
      "The most little planet is Mercure of diameter 1391 km\n"
     ]
    }
   ],
   "source": [
    "## On va tout d'abord céer un dictionnaire \n",
    "#les listes\n",
    "planet_list=['Mercure','Venus','Terre','Mars','Jupiter','Saturne','Uranus','Neptune','Pluton']\n",
    "diametre_list=[1391,4880,12104,12756,6805,142984,120536,51312,49922,2300]\n",
    "distance_soleil_planet=['58','108','150','227','778','457','870','500','900']\n",
    "dictionnaire_list={\n",
    "    'Mercure':{'diametre':'1391',\n",
    "              'distance':'58'\n",
    "              },\n",
    "    'Venus':{'diametre':'4880',\n",
    "              'distance':'108'\n",
    "            },\n",
    "    'Terre':{'diametre':'12104',\n",
    "              'distance':'150'\n",
    "            }\n",
    "    }\n",
    "def find_littlest_planet(pla_list,dia_list):\n",
    "    littlest_planet=8888888888888888888\n",
    "    for i,diametre_ in enumerate(dia_list):\n",
    "       # print(i,diametre_)\n",
    "       # print(diametre_)\n",
    "        if diametre_< littlest_planet:\n",
    "            littlest_planet=diametre_\n",
    "            index_littlest_planet=i\n",
    "    #print(littlest_planet,planet_list[index_littlest_planet])\n",
    "    return planet_list[index_littlest_planet],littlest_planet\n",
    "name,diameter=find_littlest_planet(planet_list,diametre_list)\n",
    "#find_littlest_planet(planet_list,diametre_list)\n",
    "print(f'The most little planet is {name} of diameter {diameter} km')"
   ]
  },
  {
   "cell_type": "code",
   "execution_count": 4,
   "id": "5f203e0e",
   "metadata": {},
   "outputs": [
    {
     "name": "stdout",
     "output_type": "stream",
     "text": [
      "0 1391\n",
      "1 4880\n",
      "2 12104\n",
      "3 12756\n",
      "4 6805\n",
      "5 142984\n",
      "6 120536\n",
      "7 51312\n",
      "8 49922\n",
      "9 2300\n",
      "142984\n"
     ]
    }
   ],
   "source": [
    "## On va tout d'abord céer un dictionnaire \n",
    "#les listes\n",
    "planet_list=['Mercure','Venus','Terre','Mars','Jupiter','Saturne','Uranus','Neptune','Pluton']\n",
    "diametre_list=[1391,4880,12104,12756,6805,142984,120536,51312,49922,2300]\n",
    "distance_soleil_planet=['58','108','150','227','778','457','870','500','900']\n",
    "dictionnaire_list={\n",
    "    'Mercure':{'diametre':'1391',\n",
    "              'distance':'58'\n",
    "              },\n",
    "    'Venus':{'diametre':'4880',\n",
    "              'distance':'108'\n",
    "            },\n",
    "    'Terre':{'diametre':'12104',\n",
    "              'distance':'150'\n",
    "            }\n",
    "    }\n",
    "def find_hilest_planet(pla_list,dia_list):\n",
    "    hilest_planet=0\n",
    "    for i,diametre_ in enumerate(dia_list):\n",
    "        print(i,diametre_)\n",
    "       # print(diametre_)\n",
    "        if diametre_> hilest_planet:\n",
    "            hilest_planet=diametre_\n",
    "    print(hilest_planet)\n",
    "find_hilest_planet(planet_list,diametre_list)"
   ]
  },
  {
   "cell_type": "markdown",
   "id": "538ba3a0",
   "metadata": {},
   "source": [
    "**Exercice:** Trouver la planete là plus eloigné du soleil."
   ]
  },
  {
   "cell_type": "code",
   "execution_count": 26,
   "id": "a2f655df",
   "metadata": {},
   "outputs": [
    {
     "data": {
      "text/plain": [
       "5"
      ]
     },
     "execution_count": 26,
     "metadata": {},
     "output_type": "execute_result"
    }
   ],
   "source": [
    "def funct(num):\n",
    "    num=num+1\n",
    "    return num\n",
    "my_new_number=funct(4)\n",
    "my_new_number"
   ]
  },
  {
   "cell_type": "code",
   "execution_count": 35,
   "id": "c28cb04e",
   "metadata": {},
   "outputs": [],
   "source": [
    "class Person():\n",
    "    def __init__(self,hair_color,eye_color,height,weight):\n",
    "        self.hair_color=hair_color\n",
    "        self.eye_color=eye_color\n",
    "        self.height=height\n",
    "        self.weight=weight\n",
    "    def getIMC(self):\n",
    "        return self.weight/(self.height*self.height)\n",
    "        "
   ]
  },
  {
   "cell_type": "code",
   "execution_count": 36,
   "id": "4f33c589",
   "metadata": {},
   "outputs": [],
   "source": [
    "KB7=Person(hair_color='noir',eye_color='noir',height=1.87,weight=85)"
   ]
  },
  {
   "cell_type": "code",
   "execution_count": 37,
   "id": "87449b94",
   "metadata": {},
   "outputs": [
    {
     "data": {
      "text/plain": [
       "__main__.Person"
      ]
     },
     "execution_count": 37,
     "metadata": {},
     "output_type": "execute_result"
    }
   ],
   "source": [
    "type(KB7)"
   ]
  },
  {
   "cell_type": "code",
   "execution_count": 40,
   "id": "9f0c184b",
   "metadata": {},
   "outputs": [
    {
     "name": "stdout",
     "output_type": "stream",
     "text": [
      "24.307243558580453\n"
     ]
    }
   ],
   "source": [
    "IMC_kb7=KB7.getIMC()\n",
    "print(IMC_kb7)"
   ]
  },
  {
   "cell_type": "code",
   "execution_count": 43,
   "id": "5189f584",
   "metadata": {},
   "outputs": [
    {
     "name": "stdout",
     "output_type": "stream",
     "text": [
      "Il s'agit de Earth qui a un diametre de 12104 km et une distance au soleil de 150 Million de Km.\n",
      "Il s'agit de Earth qui a un diametre de 12104 km et une distance au soleil de 228 Million de Km.\n"
     ]
    }
   ],
   "source": [
    "class Planet():\n",
    "    def __init__(self,diametre,distance_au_soleil,name):\n",
    "        self.diametre=diametre\n",
    "        self.distance_au_soleil=distance_au_soleil\n",
    "        self.name=name\n",
    "    def get_description(self):\n",
    "        print(f\"Il s'agit de {self.name} qui a un diametre de {self.diametre} km et une distance au soleil de {self.distance_au_soleil} Million de Km.\")\n",
    "Earth=Planet(12104,150,'Earth')\n",
    "Mars=Planet(12756,227,'Mars')\n",
    "Earth.get_description()\n",
    "Earth.distance_au_soleil=228\n",
    "Earth.get_description()"
   ]
  },
  {
   "cell_type": "markdown",
   "id": "46bdaadd",
   "metadata": {},
   "source": [
    "Modifier la distance de la planete par rapport au soleil"
   ]
  },
  {
   "cell_type": "markdown",
   "id": "6101f059",
   "metadata": {},
   "source": [
    "Self: permet de decrir l'integralité de notre objet."
   ]
  },
  {
   "cell_type": "markdown",
   "id": "e94c0437",
   "metadata": {},
   "source": [
    "## Construction d'un test ADN"
   ]
  },
  {
   "cell_type": "code",
   "execution_count": 1,
   "id": "151c6c16",
   "metadata": {},
   "outputs": [
    {
     "name": "stdout",
     "output_type": "stream",
     "text": [
      "Requirement already satisfied: dna_features_viewer in c:\\programdata\\anaconda3\\lib\\site-packages (3.1.1)\n",
      "Requirement already satisfied: packaging in c:\\programdata\\anaconda3\\lib\\site-packages (from dna_features_viewer) (21.0)\n",
      "Requirement already satisfied: Biopython in c:\\programdata\\anaconda3\\lib\\site-packages (from dna_features_viewer) (1.79)\n",
      "Requirement already satisfied: matplotlib>=3 in c:\\programdata\\anaconda3\\lib\\site-packages (from dna_features_viewer) (3.4.3)\n",
      "Requirement already satisfied: pyparsing>=2.2.1 in c:\\programdata\\anaconda3\\lib\\site-packages (from matplotlib>=3->dna_features_viewer) (3.0.4)\n",
      "Requirement already satisfied: kiwisolver>=1.0.1 in c:\\programdata\\anaconda3\\lib\\site-packages (from matplotlib>=3->dna_features_viewer) (1.3.1)\n",
      "Requirement already satisfied: pillow>=6.2.0 in c:\\programdata\\anaconda3\\lib\\site-packages (from matplotlib>=3->dna_features_viewer) (8.4.0)\n",
      "Requirement already satisfied: python-dateutil>=2.7 in c:\\programdata\\anaconda3\\lib\\site-packages (from matplotlib>=3->dna_features_viewer) (2.8.2)\n",
      "Requirement already satisfied: numpy>=1.16 in c:\\programdata\\anaconda3\\lib\\site-packages (from matplotlib>=3->dna_features_viewer) (1.20.3)\n",
      "Requirement already satisfied: cycler>=0.10 in c:\\programdata\\anaconda3\\lib\\site-packages (from matplotlib>=3->dna_features_viewer) (0.10.0)\n",
      "Requirement already satisfied: six in c:\\programdata\\anaconda3\\lib\\site-packages (from cycler>=0.10->matplotlib>=3->dna_features_viewer) (1.16.0)\n"
     ]
    }
   ],
   "source": [
    "!pip install dna_features_viewer"
   ]
  },
  {
   "cell_type": "code",
   "execution_count": 2,
   "id": "877ce387",
   "metadata": {},
   "outputs": [
    {
     "name": "stdout",
     "output_type": "stream",
     "text": [
      "Il s'agit de Cristiano Ronaldo qui a 35 ans, il mesure 187cm, pèse 84kg,il a les cheveux noir et a les yeux marron.\n",
      "Il s'agit de Cristiano Junior qui a 9 ans, il mesure 153cm, pèse 45kg,il a les cheveux noir et a les yeux marron.\n"
     ]
    }
   ],
   "source": [
    "class Human():\n",
    "    def __init__(self,genes,hair_color,eye_color,height,weight,age,name):\n",
    "        self.genes=genes\n",
    "        self.hair_color=hair_color\n",
    "        self.eye_color=eye_color\n",
    "        self.height=height\n",
    "        self.weight=weight\n",
    "        self.age=age\n",
    "        self.name=name\n",
    "    def get_description(self):\n",
    "        print(f\"Il s'agit de {self.name} qui a {self.age} ans, il mesure {self.height}cm, pèse {self.weight}kg,\\\n",
    "il a les cheveux {self.hair_color} et a les yeux {self.eye_color}.\")\n",
    "genes1={'sequence':\"ATGCATGCATGCATGCATGCATGCATGCATGCATGCATGCATGCATGCATGCATGCATGCATGCGTGGTGGATT\",\n",
    "    'genes': {\n",
    "            'genes1':(1,5),\n",
    "            'genes2':(3,9),\n",
    "            'genes3':(10,15),\n",
    "            'genes4':(13,19),\n",
    "            'genes5':(17,24),\n",
    "            'genes6':(25,35),\n",
    "            'genes7':(34,42),\n",
    "            'genes8':(27,57),\n",
    "            'genes9':(54,60),\n",
    "            'genes10':(60,70)\n",
    "          }\n",
    "    \n",
    "}\n",
    "genes2 = {'sequence':\"TACCAACACGCCATGCATGCATGCATGCATGCATGCATGCAGGCCTTATGGCCATGCAGTAGGGTCCTG\",\n",
    "    'genes': {\n",
    "            'genes1':(1,5),\n",
    "            'genes2':(2,12),\n",
    "            'genes3':(11,41),\n",
    "            'genes4':(19,28),\n",
    "            'genes5':(26,35),\n",
    "            'genes6':(30,36),\n",
    "            'genes7':(36,41),\n",
    "            'genes8':(40,45),\n",
    "            'genes9':(52,58),\n",
    "            'genes10':(58,70)\n",
    "          }\n",
    "}\n",
    "# *args, **kwargs\n",
    "CR7 = Human(genes1, 'noir', 'marron', 187, 84, 35, 'Cristiano Ronaldo')\n",
    "CJ = Human(genes2, 'noir', 'marron', 153, 45, 9, 'Cristiano Junior')\n",
    "\n",
    "CR7.get_description()\n",
    "CJ.get_description()"
   ]
  },
  {
   "cell_type": "markdown",
   "id": "dab6d4ef",
   "metadata": {},
   "source": [
    "# Récupérer l'attribut genes de l'objet Human CR7"
   ]
  },
  {
   "cell_type": "code",
   "execution_count": 3,
   "id": "8ca54b9e",
   "metadata": {},
   "outputs": [
    {
     "data": {
      "text/plain": [
       "{'sequence': 'ATGCATGCATGCATGCATGCATGCATGCATGCATGCATGCATGCATGCATGCATGCATGCATGCGTGGTGGATT',\n",
       " 'genes': {'genes1': (1, 5),\n",
       "  'genes2': (3, 9),\n",
       "  'genes3': (10, 15),\n",
       "  'genes4': (13, 19),\n",
       "  'genes5': (17, 24),\n",
       "  'genes6': (25, 35),\n",
       "  'genes7': (34, 42),\n",
       "  'genes8': (27, 57),\n",
       "  'genes9': (54, 60),\n",
       "  'genes10': (60, 70)}}"
      ]
     },
     "execution_count": 3,
     "metadata": {},
     "output_type": "execute_result"
    }
   ],
   "source": [
    "CR7.genes"
   ]
  },
  {
   "cell_type": "code",
   "execution_count": 4,
   "id": "18f94260",
   "metadata": {},
   "outputs": [
    {
     "data": {
      "text/plain": [
       "{'sequence': 'TACCAACACGCCATGCATGCATGCATGCATGCATGCATGCAGGCCTTATGGCCATGCAGTAGGGTCCTG',\n",
       " 'genes': {'genes1': (1, 5),\n",
       "  'genes2': (2, 12),\n",
       "  'genes3': (11, 41),\n",
       "  'genes4': (19, 28),\n",
       "  'genes5': (26, 35),\n",
       "  'genes6': (30, 36),\n",
       "  'genes7': (36, 41),\n",
       "  'genes8': (40, 45),\n",
       "  'genes9': (52, 58),\n",
       "  'genes10': (58, 70)}}"
      ]
     },
     "execution_count": 4,
     "metadata": {},
     "output_type": "execute_result"
    }
   ],
   "source": [
    "CJ.genes"
   ]
  },
  {
   "cell_type": "code",
   "execution_count": 5,
   "id": "e8518936",
   "metadata": {},
   "outputs": [
    {
     "data": {
      "text/plain": [
       "dict_keys(['sequence', 'genes'])"
      ]
     },
     "execution_count": 5,
     "metadata": {},
     "output_type": "execute_result"
    }
   ],
   "source": [
    "## Clés du dictionnaire genes\n",
    "CR7.genes.keys()"
   ]
  },
  {
   "cell_type": "code",
   "execution_count": 6,
   "id": "76fcb882",
   "metadata": {},
   "outputs": [
    {
     "data": {
      "text/plain": [
       "dict_values(['ATGCATGCATGCATGCATGCATGCATGCATGCATGCATGCATGCATGCATGCATGCATGCATGCGTGGTGGATT', {'genes1': (1, 5), 'genes2': (3, 9), 'genes3': (10, 15), 'genes4': (13, 19), 'genes5': (17, 24), 'genes6': (25, 35), 'genes7': (34, 42), 'genes8': (27, 57), 'genes9': (54, 60), 'genes10': (60, 70)}])"
      ]
     },
     "execution_count": 6,
     "metadata": {},
     "output_type": "execute_result"
    }
   ],
   "source": [
    "CR7.genes.values() #récupérer les valeurs du dictionnaire genes"
   ]
  },
  {
   "cell_type": "code",
   "execution_count": 13,
   "id": "9b3b1156",
   "metadata": {},
   "outputs": [
    {
     "data": {
      "text/plain": [
       "['ATGCATGCATGCATGCATGCATGCATGCATGCATGCATGCATGCATGCATGCATGCATGCATGCGTGGTGGATT',\n",
       " {'genes1': (1, 5),\n",
       "  'genes2': (3, 9),\n",
       "  'genes3': (10, 15),\n",
       "  'genes4': (13, 19),\n",
       "  'genes5': (17, 24),\n",
       "  'genes6': (25, 35),\n",
       "  'genes7': (34, 42),\n",
       "  'genes8': (27, 57),\n",
       "  'genes9': (54, 60),\n",
       "  'genes10': (60, 70)}]"
      ]
     },
     "execution_count": 13,
     "metadata": {},
     "output_type": "execute_result"
    }
   ],
   "source": [
    "##C'est ici de type list car il ya la secquence nicléotide et l'attribue genes entre crochée cequi nous fais allusion a une list.\n",
    "list(CR7.genes.values())"
   ]
  },
  {
   "cell_type": "code",
   "execution_count": 14,
   "id": "5c806cb6",
   "metadata": {},
   "outputs": [
    {
     "data": {
      "text/plain": [
       "{'genes1': (1, 5),\n",
       " 'genes2': (3, 9),\n",
       " 'genes3': (10, 15),\n",
       " 'genes4': (13, 19),\n",
       " 'genes5': (17, 24),\n",
       " 'genes6': (25, 35),\n",
       " 'genes7': (34, 42),\n",
       " 'genes8': (27, 57),\n",
       " 'genes9': (54, 60),\n",
       " 'genes10': (60, 70)}"
      ]
     },
     "execution_count": 14,
     "metadata": {},
     "output_type": "execute_result"
    }
   ],
   "source": [
    "#On remarque ici une liste de l'attribue genes qui est presentésous forme de dict\n",
    "list(CR7.genes.values())[1]"
   ]
  },
  {
   "cell_type": "code",
   "execution_count": 12,
   "id": "1d30a17d",
   "metadata": {},
   "outputs": [
    {
     "data": {
      "text/plain": [
       "dict"
      ]
     },
     "execution_count": 12,
     "metadata": {},
     "output_type": "execute_result"
    }
   ],
   "source": [
    "type(list(CR7.genes.values())[1])"
   ]
  },
  {
   "cell_type": "code",
   "execution_count": null,
   "id": "f7500600",
   "metadata": {},
   "outputs": [],
   "source": [
    "## la recuperation de la keys de l'attribue genes"
   ]
  },
  {
   "cell_type": "code",
   "execution_count": 7,
   "id": "8ec049ae",
   "metadata": {},
   "outputs": [
    {
     "data": {
      "text/plain": [
       "dict_keys(['genes1', 'genes2', 'genes3', 'genes4', 'genes5', 'genes6', 'genes7', 'genes8', 'genes9', 'genes10'])"
      ]
     },
     "execution_count": 7,
     "metadata": {},
     "output_type": "execute_result"
    }
   ],
   "source": [
    "CR7.genes['genes'].keys()"
   ]
  },
  {
   "cell_type": "code",
   "execution_count": 8,
   "id": "f7a195ea",
   "metadata": {},
   "outputs": [],
   "source": [
    "#Import of the package\n",
    "from dna_features_viewer import GraphicFeature, GraphicRecord"
   ]
  },
  {
   "cell_type": "code",
   "execution_count": 9,
   "id": "6787b808",
   "metadata": {},
   "outputs": [
    {
     "name": "stderr",
     "output_type": "stream",
     "text": [
      "C:\\ProgramData\\Anaconda3\\lib\\site-packages\\Bio\\Seq.py:2979: BiopythonWarning: Partial codon, len(sequence) not a multiple of three. Explicitly trim the sequence or add trailing N before translation. This may become an error in future.\n",
      "  warnings.warn(\n"
     ]
    },
    {
     "data": {
      "image/png": "[encoded data removed]",
      "text/plain": [
       "<Figure size 1440x187.2 with 1 Axes>"
      ]
     },
     "metadata": {},
     "output_type": "display_data"
    },
    {
     "data": {
      "image/png": "[encoded data removed]",
      "text/plain": [
       "<Figure size 1440x187.2 with 1 Axes>"
      ]
     },
     "metadata": {},
     "output_type": "display_data"
    }
   ],
   "source": [
    "from dna_features_viewer import GraphicFeature, GraphicRecord\n",
    "\n",
    "def print_sequence_dna(genes):\n",
    "    sequence_gene = genes['sequence']\n",
    "  \n",
    "    features_gene = []\n",
    "    for gene_ in genes['genes'].values():\n",
    "        features_gene.append(GraphicFeature(start=gene_[0], end=gene_[1], strand=+1, color='#ffcccc'))\n",
    "\n",
    "    record = GraphicRecord(sequence=sequence_gene, features=features_gene)\n",
    "    ax, _ = record.plot(figure_width=20)\n",
    "    record.plot_translation(ax, (1, len(sequence_gene)), fontdict={'weight': 'bold'})\n",
    "    \n",
    "print_sequence_dna(CR7.genes)\n",
    "print_sequence_dna(CJ.genes)"
   ]
  },
  {
   "cell_type": "markdown",
   "id": "c3dd22dd",
   "metadata": {},
   "source": [
    "## Construction de notre logique de Test"
   ]
  },
  {
   "cell_type": "code",
   "execution_count": null,
   "id": "3b811344",
   "metadata": {},
   "outputs": [],
   "source": [
    "## Le test logique nous permet de faire le test d'ADN"
   ]
  },
  {
   "cell_type": "code",
   "execution_count": 15,
   "id": "0da6ffa5",
   "metadata": {},
   "outputs": [
    {
     "data": {
      "text/plain": [
       "dict_values([(1, 5), (3, 9), (10, 15), (13, 19), (17, 24), (25, 35), (34, 42), (27, 57), (54, 60), (60, 70)])"
      ]
     },
     "execution_count": 15,
     "metadata": {},
     "output_type": "execute_result"
    }
   ],
   "source": [
    "##Les tuples donc genes_[0] correspond a la premiere valeurs et genes_[1] a la seconde valeurs des tuples\n",
    "CR7.genes['genes'].values()"
   ]
  },
  {
   "cell_type": "code",
   "execution_count": 16,
   "id": "032c4c2c",
   "metadata": {},
   "outputs": [
    {
     "name": "stdout",
     "output_type": "stream",
     "text": [
      "CJ:  ['ACCA', 'CCAACACGCC', 'CATGCATGCATGCATGCATGCATGCATGCA', 'CATGCATGC', 'GCATGCATG', 'GCATGC', 'ATGCA', 'AGGCC', 'CATGCA', 'GTAGGGTCCTG']\n",
      "CR7:  ['TGCA', 'CATGCA', 'GCATG', 'TGCATG', 'TGCATGC', 'TGCATGCATG', 'GCATGCAT', 'CATGCATGCATGCATGCATGCATGCATGCA', 'GCATGC', 'ATGCGTGGTG']\n"
     ]
    }
   ],
   "source": [
    "\"\"\"\n",
    "{'genes': {'genes1': (1, 5),\n",
    "  'genes10': (58, 70),\n",
    "  'genes2': (2, 12),\n",
    "  'genes3': (11, 41),\n",
    "  'genes4': (19, 28),\n",
    "  'genes5': (26, 35),\n",
    "  'genes6': (30, 36),\n",
    "  'genes7': (36, 41),\n",
    "  'genes8': (40, 45),\n",
    "  'genes9': (52, 58)},\n",
    " 'sequence': 'TACCAACACGCCATGCATGCATGCATGCATGCATGCATGCAGGCCTTATGGCCATGCAGTAGGGTCCTG'}\n",
    "\"\"\"\n",
    "list_genes_CR7 = [] ##On va venir recuperer une liste de genes\n",
    "for genes_ in CR7.genes['genes'].values():## et on viens dire que tu viens recuperer la sequence dans la liste de genes et on\n",
    "    \n",
    "   # va itterer sur les tuples des genes\n",
    "  #print(CR7.genes['sequence'][genes_[0]:genes_[1]],genes_[0],genes_[1])\n",
    "    list_genes_CR7.append(CR7.genes['sequence'][genes_[0]:genes_[1]])\n",
    "\n",
    "list_genes_CJ = []\n",
    "for genes_ in CJ.genes['genes'].values():\n",
    "  #print(CJ.genes['sequence'][genes_[0]:genes_[1]],genes_[0],genes_[1])\n",
    "    list_genes_CJ.append(CJ.genes['sequence'][genes_[0]:genes_[1]])\n",
    "\n",
    "print('CJ: ',list_genes_CJ)\n",
    "print('CR7: ',list_genes_CR7)"
   ]
  },
  {
   "cell_type": "code",
   "execution_count": 17,
   "id": "4dcd3c99",
   "metadata": {},
   "outputs": [
    {
     "data": {
      "text/plain": [
       "True"
      ]
     },
     "execution_count": 17,
     "metadata": {},
     "output_type": "execute_result"
    }
   ],
   "source": [
    "'ACCA' in list_genes_CJ"
   ]
  },
  {
   "cell_type": "code",
   "execution_count": 18,
   "id": "94902ec7",
   "metadata": {},
   "outputs": [
    {
     "data": {
      "text/plain": [
       "False"
      ]
     },
     "execution_count": 18,
     "metadata": {},
     "output_type": "execute_result"
    }
   ],
   "source": [
    "'ACCA' in list_genes_CR7"
   ]
  },
  {
   "cell_type": "code",
   "execution_count": 24,
   "id": "86f8cf56",
   "metadata": {},
   "outputs": [
    {
     "name": "stdout",
     "output_type": "stream",
     "text": [
      "Wall time: 0 ns\n",
      "DIRTY WAY\n",
      "Gene en commun! CATGCA\n",
      "Gene en commun! CATGCATGCATGCATGCATGCATGCATGCA\n",
      "Gene en commun! GCATGC\n"
     ]
    }
   ],
   "source": [
    "%time\n",
    "#DIRTY WAY\n",
    "print('DIRTY WAY')\n",
    "for genes_CR7 in list_genes_CR7 :\n",
    "    for genes_CJ in list_genes_CJ :\n",
    "        if genes_CR7 == genes_CJ :\n",
    "            print('Gene en commun!', genes_CR7)\n",
    "#@TODO\n",
    "#Créer une fonction pour comparer les genes et sortir le pourcentage sur plusieurs personnes"
   ]
  },
  {
   "cell_type": "code",
   "execution_count": 25,
   "id": "9551530e",
   "metadata": {},
   "outputs": [
    {
     "name": "stdout",
     "output_type": "stream",
     "text": [
      "Wall time: 0 ns\n",
      "SOFT WAY\n",
      "Gene en commun! CATGCA\n",
      "Gene en commun! CATGCATGCATGCATGCATGCATGCATGCA\n",
      "Gene en commun! GCATGC\n"
     ]
    }
   ],
   "source": [
    "%time\n",
    "#SOFT WAY\n",
    "print('SOFT WAY')\n",
    "nombre_de_genes_en_commun = 0\n",
    "for genes_CR7 in list_genes_CR7 :\n",
    "    if genes_CR7 in list_genes_CJ:\n",
    "        print('Gene en commun!', genes_CR7)\n",
    "        nombre_de_genes_en_commun = nombre_de_genes_en_commun + 1"
   ]
  },
  {
   "cell_type": "code",
   "execution_count": 26,
   "id": "28db0c4a",
   "metadata": {},
   "outputs": [
    {
     "name": "stdout",
     "output_type": "stream",
     "text": [
      "Cristiano Ronaldo et Cristiano Junior ont 30.0% de genes en commun\n"
     ]
    }
   ],
   "source": [
    "print(f'{CR7.name} et {CJ.name} ont {(nombre_de_genes_en_commun/10)*100}% de genes en commun')"
   ]
  },
  {
   "cell_type": "markdown",
   "id": "c80682c0",
   "metadata": {},
   "source": [
    "## FIN CR7 et CJ"
   ]
  },
  {
   "cell_type": "code",
   "execution_count": 27,
   "id": "87379884",
   "metadata": {},
   "outputs": [
    {
     "name": "stdout",
     "output_type": "stream",
     "text": [
      "Wall time: 0 ns\n"
     ]
    },
    {
     "data": {
      "text/plain": [
       "[1, 2, 3]"
      ]
     },
     "execution_count": 27,
     "metadata": {},
     "output_type": "execute_result"
    }
   ],
   "source": [
    "##Complecité algorithmique\n",
    "%time\n",
    "a = [1,2,2,3,1]\n",
    "list(set(a)) #le set sert à enlever les doublons et a organiser la list"
   ]
  },
  {
   "cell_type": "code",
   "execution_count": 28,
   "id": "c8b348df",
   "metadata": {},
   "outputs": [
    {
     "name": "stdout",
     "output_type": "stream",
     "text": [
      "Cristiano Ronaldo do\n",
      "20\n"
     ]
    },
    {
     "data": {
      "text/plain": [
       "3"
      ]
     },
     "execution_count": 28,
     "metadata": {},
     "output_type": "execute_result"
    }
   ],
   "source": [
    "phrase = 'Cristiano Ronaldo dos Santos Aveiro GOIH ComM (European Portuguese: [kɾiʃˈtjɐnu ʁɔˈnaɫdu]; born 5 February 1985) is a Portuguese professional footballer who plays as a forward for Serie A club Juventus and captains the Portugal national team.'\n",
    "\n",
    "print(phrase[:20]) #une lsite commence à 0 !! On peut accéder aux donnés par index\n",
    "a=[1,2,3]\n",
    "\n",
    "compteur = 0\n",
    "for i in phrase[:20]:\n",
    "    compteur = compteur +1\n",
    "print(compteur)\n",
    "\n",
    "len(a)"
   ]
  },
  {
   "cell_type": "code",
   "execution_count": 29,
   "id": "9f5947a3",
   "metadata": {},
   "outputs": [
    {
     "data": {
      "text/plain": [
       "'s Santos A'"
      ]
     },
     "execution_count": 29,
     "metadata": {},
     "output_type": "execute_result"
    }
   ],
   "source": [
    "phrase[20:30]"
   ]
  },
  {
   "cell_type": "code",
   "execution_count": 30,
   "id": "4c355d0f",
   "metadata": {},
   "outputs": [
    {
     "name": "stdout",
     "output_type": "stream",
     "text": [
      "1\n",
      "5\n"
     ]
    }
   ],
   "source": [
    "a = (1, 5)\n",
    "print(a[0])\n",
    "print(a[1])"
   ]
  },
  {
   "cell_type": "code",
   "execution_count": 31,
   "id": "1fb3a97d",
   "metadata": {},
   "outputs": [
    {
     "name": "stdout",
     "output_type": "stream",
     "text": [
      "[1, 2, 3, 4]\n"
     ]
    }
   ],
   "source": [
    "#ajouter un element dans une list\n",
    "a = [1,2,3]\n",
    "\n",
    "a.append(4)\n",
    "print(a)"
   ]
  },
  {
   "cell_type": "code",
   "execution_count": 32,
   "id": "8509a4d4",
   "metadata": {},
   "outputs": [
    {
     "name": "stdout",
     "output_type": "stream",
     "text": [
      "1 5\n",
      "3 9\n",
      "10 25\n",
      "20 28\n"
     ]
    }
   ],
   "source": [
    "genes = { 'sequence':\"ATGCATGCATGCATGCATGCATGCATGCATGCATGCATGCATGCATGCATGCATGCATGCATGC\",\n",
    "    'genes': {\n",
    "            'genes1':(1,5),\n",
    "            'genes2':(3,9),\n",
    "            'genes3':(10,25),\n",
    "            'genes4':(20,28)\n",
    "          }\n",
    "}\n",
    "\n",
    "for gene_ in genes['genes'].values():\n",
    "    print(gene_[0],gene_[1])"
   ]
  },
  {
   "cell_type": "code",
   "execution_count": 33,
   "id": "01d91a6a",
   "metadata": {},
   "outputs": [
    {
     "name": "stdout",
     "output_type": "stream",
     "text": [
      "genes1 TGCA 1 5\n",
      "genes2 CATGCA 3 9\n",
      "genes3 GCATGCATGCATGCA 10 25\n",
      "genes4 ATGCATGC 20 28\n"
     ]
    }
   ],
   "source": [
    "genes1 = { 'sequence':\"ATGCATGCATGCATGCATGCATGCATGCATGCATGCATGCATGCATGCATGCATGCATGCATGCGTGGTGGATT\",\n",
    "    'genes': {\n",
    "            'genes1':(0,5),\n",
    "            'genes2':(3,9),\n",
    "            'genes3':(10,15),\n",
    "            'genes4':(13,19),\n",
    "            'genes5':(17,24),\n",
    "            'genes6':(25,35),\n",
    "            'genes7':(34,42),\n",
    "            'genes8':(27,57),\n",
    "            'genes9':(54,60),\n",
    "            'genes10':(60,70)\n",
    "          }\n",
    "}\n",
    "seq = genes1['sequence']\n",
    "for gene_ in genes['genes']:\n",
    "    print(gene_,seq[genes['genes'][gene_][0]:genes['genes'][gene_][1]],genes['genes'][gene_][0],genes['genes'][gene_][1])\n",
    "    "
   ]
  },
  {
   "cell_type": "markdown",
   "id": "016ef9c6",
   "metadata": {},
   "source": [
    "## Programmation objet"
   ]
  },
  {
   "cell_type": "markdown",
   "id": "07b69c80",
   "metadata": {},
   "source": [
    "Encapsulation\n",
    "\n",
    "Empecher l'accées aux données d'un objet par un autre moyen que ceux définit\n",
    "\n",
    "Definir un objet et l'encapsuler "
   ]
  },
  {
   "cell_type": "code",
   "execution_count": 3,
   "id": "e015323c",
   "metadata": {},
   "outputs": [
    {
     "name": "stdout",
     "output_type": "stream",
     "text": [
      "Lion\n"
     ]
    }
   ],
   "source": [
    "## definir un attribut privé:__ATTRIBUT\n",
    "class Animal:\n",
    "    def __init__(self,race):\n",
    "        self.race=race\n",
    "        \n",
    "        \n",
    "toto_le_Lion=Animal('Lion')## Lion est l'instance de ma class animal\n",
    "print(toto_le_Lion.race)"
   ]
  },
  {
   "cell_type": "code",
   "execution_count": 4,
   "id": "ac195d18",
   "metadata": {},
   "outputs": [
    {
     "ename": "AttributeError",
     "evalue": "'Animal' object has no attribute '__race'",
     "output_type": "error",
     "traceback": [
      "\u001b[1;31m---------------------------------------------------------------------------\u001b[0m",
      "\u001b[1;31mAttributeError\u001b[0m                            Traceback (most recent call last)",
      "\u001b[1;32m~\\AppData\\Local\\Temp/ipykernel_1124/2776629414.py\u001b[0m in \u001b[0;36m<module>\u001b[1;34m\u001b[0m\n\u001b[0;32m      7\u001b[0m \u001b[1;33m\u001b[0m\u001b[0m\n\u001b[0;32m      8\u001b[0m \u001b[0mtoto_le_Lion\u001b[0m\u001b[1;33m=\u001b[0m\u001b[0mAnimal\u001b[0m\u001b[1;33m(\u001b[0m\u001b[1;34m'Lion'\u001b[0m\u001b[1;33m)\u001b[0m\u001b[1;31m## Lion est l'instance de ma class animal\u001b[0m\u001b[1;33m\u001b[0m\u001b[1;33m\u001b[0m\u001b[0m\n\u001b[1;32m----> 9\u001b[1;33m \u001b[0mprint\u001b[0m\u001b[1;33m(\u001b[0m\u001b[0mtoto_le_Lion\u001b[0m\u001b[1;33m.\u001b[0m\u001b[0m__race\u001b[0m\u001b[1;33m)\u001b[0m\u001b[1;33m\u001b[0m\u001b[1;33m\u001b[0m\u001b[0m\n\u001b[0m",
      "\u001b[1;31mAttributeError\u001b[0m: 'Animal' object has no attribute '__race'"
     ]
    }
   ],
   "source": [
    "## Petit t'astuce \n",
    "# Si je veux definir une seul fois mon attribut et il ne change jamais\n",
    "class Animal:\n",
    "    def __init__(self,race):\n",
    "        self.__race=race\n",
    "        \n",
    "        \n",
    "toto_le_Lion=Animal('Lion')## Lion est l'instance de ma class animal\n",
    "print(toto_le_Lion.__race)"
   ]
  },
  {
   "cell_type": "markdown",
   "id": "a609274c",
   "metadata": {},
   "source": [
    "Là c'est très bien car il n'ai pas capable d'acceder directement a mon attribut car elle deveint un attribut privée"
   ]
  },
  {
   "cell_type": "code",
   "execution_count": 5,
   "id": "feb9355f",
   "metadata": {},
   "outputs": [
    {
     "name": "stdout",
     "output_type": "stream",
     "text": [
      "Lion\n"
     ]
    }
   ],
   "source": [
    "## Bonne pratique: setteurs et getteurs --- set_attribut(self,attribut)\n",
    "\n",
    "## Petit t'astuce \n",
    "# Si je veux definir une seul fois mon attribut et il ne change jamais\n",
    "class Animal:\n",
    "    def __init__(self,race):\n",
    "        self.__race=race\n",
    "        \n",
    "    def set_race(self):\n",
    "        return self.__race\n",
    "        \n",
    "        \n",
    "toto_le_Lion=Animal('Lion')## Lion est l'instance de ma class animal\n",
    "print(toto_le_Lion.set_race())"
   ]
  },
  {
   "cell_type": "markdown",
   "id": "fa8109fd",
   "metadata": {},
   "source": [
    "### Getteurs"
   ]
  },
  {
   "cell_type": "code",
   "execution_count": 10,
   "id": "1618e1c7",
   "metadata": {},
   "outputs": [
    {
     "name": "stdout",
     "output_type": "stream",
     "text": [
      "Lion\n",
      "Lion\n"
     ]
    }
   ],
   "source": [
    "\n",
    "## Petit t'astuce \n",
    "# Si je veux definir une seul fois mon attribut et il ne change jamais\n",
    "class Animal:\n",
    "    def __init__(self,race):\n",
    "        self.__race=race\n",
    "        \n",
    "    def get_race(self):\n",
    "        return self.__race\n",
    "                \n",
    "toto_le_Lion=Animal('Lion')## Lion est l'instance de ma class animal\n",
    "print(toto_le_Lion.get_race())\n",
    "toto_le_Lion.__race='Lion de la savane'\n",
    "print(toto_le_Lion.get_race())## On ne peut pas modifier encore l'attribut privé"
   ]
  },
  {
   "cell_type": "code",
   "execution_count": 12,
   "id": "322a42b3",
   "metadata": {},
   "outputs": [
    {
     "name": "stdout",
     "output_type": "stream",
     "text": [
      "Lion\n",
      "Lion de la savane\n"
     ]
    }
   ],
   "source": [
    "## Comment le modifier \"Attribut privée\"\n",
    "class Animal:\n",
    "    def __init__(self,race):\n",
    "        self.__race=race\n",
    "        \n",
    "    def get_race(self):\n",
    "        return self.__race\n",
    "    def set_race(self,nouvelle_race):\n",
    "        self.__race=nouvelle_race\n",
    "        return \n",
    "                \n",
    "toto_le_Lion=Animal('Lion')## Lion est l'instance de ma class animal\n",
    "print(toto_le_Lion.get_race())\n",
    "toto_le_Lion.set_race('Lion de la savane')\n",
    "print(toto_le_Lion.get_race())"
   ]
  },
  {
   "cell_type": "markdown",
   "id": "921acbb0",
   "metadata": {},
   "source": [
    "## Héritage"
   ]
  },
  {
   "cell_type": "code",
   "execution_count": 6,
   "id": "55fe29d0",
   "metadata": {},
   "outputs": [
    {
     "name": "stdout",
     "output_type": "stream",
     "text": [
      "gerard Lion de la savane\n",
      "Je viens de manger la viande\n",
      "None\n"
     ]
    }
   ],
   "source": [
    "##super().__init__(),issubclass(subclass,class) et isinstance(instance,class)\n",
    "class felin:\n",
    "    nombre_de_pate=4\n",
    "    carnivore=True\n",
    "    \n",
    "    def __init__(self,couleur):\n",
    "        self.__couleur=couleur\n",
    "        \n",
    "    def get_race(self):\n",
    "        return self.__couleur\n",
    "    def set_race(self,couleur):\n",
    "        self.__couleur=couleur\n",
    "        return \n",
    "    def manger_viande(self):\n",
    "        print(\"Je viens de manger la viande\")\n",
    "    \n",
    "class Lion(felin): # la class lion devient classs fils d'Animal\n",
    "    def __init__(self,race,name,couleur):\n",
    "        super().__init__(couleur)\n",
    "        self.__race=race\n",
    "        self.name=name\n",
    "    def get_race(self):\n",
    "        return self.__race\n",
    "    def set_race(self,nouvelle_race):\n",
    "        self.__race=nouvelle_race\n",
    "        return\n",
    "gerard_le_lion=Lion('Lion de la savane','gerard','rouge')\n",
    "print(gerard_le_lion.name,gerard_le_lion.get_race())\n",
    "print(gerard_le_lion.manger_viande())"
   ]
  },
  {
   "cell_type": "markdown",
   "id": "b11faa70",
   "metadata": {},
   "source": [
    "## Methode et attributs d'instance, de classe, static"
   ]
  },
  {
   "cell_type": "markdown",
   "id": "cbf5e61a",
   "metadata": {},
   "source": [
    "I-Attribut d'instance\n",
    "\n",
    "Une classe c'est cequi est definie et apres on a des instances de cette class \"le lion de la savane\""
   ]
  },
  {
   "cell_type": "code",
   "execution_count": 11,
   "id": "4aa9ed8f",
   "metadata": {},
   "outputs": [
    {
     "name": "stdout",
     "output_type": "stream",
     "text": [
      "4 4\n",
      "3 3\n"
     ]
    }
   ],
   "source": [
    "##super().__init__(),issubclass(subclass,class) et isinstance(instance,class)\n",
    "class felin:\n",
    "    nombre_de_pate=4 ##C'est un attribut de class\n",
    "    carnivore=True ##C'est un attribut de class\n",
    "    \n",
    "    def __init__(self,couleur):\n",
    "        self.__couleur=couleur\n",
    "        \n",
    "    def get_race(self):\n",
    "        return self.__couleur\n",
    "    def set_race(self,couleur):\n",
    "        self.__couleur=couleur\n",
    "        return \n",
    "    def manger_viande(self):\n",
    "        print(\"Je viens de manger la viande\")\n",
    "    \n",
    "class Lion(felin): # la class lion devient classs fils d'Animal\n",
    "    def __init__(self,race,name,couleur):\n",
    "        super().__init__(couleur)\n",
    "        self.__race=race\n",
    "        self.name=name\n",
    "    def get_race(self):\n",
    "        return self.__race\n",
    "    def set_race(self,nouvelle_race):\n",
    "        self.__race=nouvelle_race\n",
    "        return\n",
    "gerard_le_lion=Lion('Lion de la savane','gerard','beige')\n",
    "karim_le_lion=Lion('Lion de la montage','karim','marron')\n",
    "\n",
    "print(gerard_le_lion.nombre_de_pate,karim_le_lion.nombre_de_pate)\n",
    "felin.nombre_de_pate=3\n",
    "print(gerard_le_lion.nombre_de_pate,karim_le_lion.nombre_de_pate)\n"
   ]
  },
  {
   "cell_type": "markdown",
   "id": "0ee53343",
   "metadata": {},
   "source": [
    "2- Class et Static\n",
    "\n",
    "Une methode de classe c'est une methode qui va agir directement sur la class"
   ]
  },
  {
   "cell_type": "code",
   "execution_count": 3,
   "id": "b9284ccb",
   "metadata": {},
   "outputs": [
    {
     "name": "stdout",
     "output_type": "stream",
     "text": [
      "100 100\n",
      "100\n",
      "None\n",
      "90 90\n",
      "90\n"
     ]
    }
   ],
   "source": [
    "##super().__init__(),issubclass(subclass,class) et isinstance(instance,class)\n",
    "class felin:\n",
    "    nombre_de_pate=4 ##C'est un attribut de class\n",
    "    carnivore=True ##C'est un attribut de class\n",
    "    energie=100\n",
    "    \n",
    "    def __init__(self,couleur): #constructeur d'attribut d'instance\n",
    "        self.__couleur=couleur\n",
    "        \n",
    "    def get_race(self):\n",
    "        return self.__couleur\n",
    "    def set_race(self,couleur):\n",
    "        self.__couleur=couleur\n",
    "        return \n",
    "    def manger_viande(self):\n",
    "        print(\"Je viens de manger la viande\")\n",
    "    @classmethod ##deuxieme methode pour definir une methode de class\n",
    "    def tout_les_felins_courent(cls):\n",
    "        cls.energie=cls.energie-10\n",
    "        # premier methode\n",
    "   # tout_les_felins_courent=classmethod(tout_les_felins_courent)\n",
    "    \n",
    "class Lion(felin): # la class lion devient classs fils d'Animal\n",
    "    def __init__(self,race,name,couleur):\n",
    "        super().__init__(couleur)\n",
    "        self.__race=race\n",
    "        self.name=name\n",
    "    def get_race(self):\n",
    "        return self.__race\n",
    "    def set_race(self,nouvelle_race):\n",
    "        self.__race=nouvelle_race\n",
    "        return\n",
    "gerard_le_lion=Lion('Lion de la savane','gerard','beige')\n",
    "karim_le_lion=Lion('Lion de la montage','karim','marron')\n",
    "\n",
    "print(gerard_le_lion.energie,karim_le_lion.energie)\n",
    "print(felin.energie)\n",
    "print(felin.tout_les_felins_courent())\n",
    "print(gerard_le_lion.energie,karim_le_lion.energie)\n",
    "print(felin.energie)\n",
    "#print(gerard_le_lion.nombre_de_pate,karim_le_lion.nombre_de_pate)"
   ]
  },
  {
   "cell_type": "markdown",
   "id": "2d75dc61",
   "metadata": {},
   "source": [
    "## Methode Static"
   ]
  },
  {
   "cell_type": "code",
   "execution_count": 16,
   "id": "faf3d169",
   "metadata": {},
   "outputs": [
    {
     "name": "stdout",
     "output_type": "stream",
     "text": [
      "100 100\n",
      "100\n",
      "None\n",
      "90 90\n",
      "90\n",
      "9\n",
      "Je suis un felin\n"
     ]
    }
   ],
   "source": [
    "##super().__init__(),issubclass(subclass,class) et isinstance(instance,class)\n",
    "class felin:\n",
    "    nombre_de_pate=4 ##C'est un attribut de class\n",
    "    carnivore=True ##C'est un attribut de class\n",
    "    energie=100\n",
    "    \n",
    "    def __init__(self,couleur): #constructeur d'attribut d'instance\n",
    "        self.__couleur=couleur\n",
    "        \n",
    "    def get_race(self):\n",
    "        return self.__couleur\n",
    "    def set_race(self,couleur):\n",
    "        self.__couleur=couleur\n",
    "        return \n",
    "    def manger_viande(self):\n",
    "        print(\"Je viens de manger la viande\")\n",
    "    @classmethod ##deuxieme methode pour definir une methode de class\n",
    "    def tout_les_felins_courent(cls):\n",
    "        cls.energie=cls.energie-10\n",
    "    @staticmethod\n",
    "    def methode_des_felins(nombre_static1,nombre_static2):\n",
    "        return nombre_static1+nombre_static2\n",
    "    def __str__(self):\n",
    "        return \"Je suis un felin\"\n",
    "        # premier methode\n",
    "   # tout_les_felins_courent=classmethod(tout_les_felins_courent)\n",
    "# premier methode pour definie une static method\n",
    " # methode_des_felins=staticmethod(methode_des_felins)\n",
    "    \n",
    "class Lion(felin): # la class lion devient classs fils d'Animal\n",
    "    def __init__(self,race,name,couleur):\n",
    "        super().__init__(couleur)\n",
    "        self.__race=race\n",
    "        self.name=name\n",
    "    def get_race(self):\n",
    "        return self.__race\n",
    "    def set_race(self,nouvelle_race):\n",
    "        self.__race=nouvelle_race\n",
    "        return\n",
    "class Girafe:\n",
    "    race='Girafe'\n",
    "gerard_le_lion=Lion('Lion de la savane','gerard','beige')\n",
    "karim_le_lion=Lion('Lion de la montage','karim','marron')\n",
    "\n",
    "print(gerard_le_lion.energie,karim_le_lion.energie)\n",
    "print(felin.energie)\n",
    "print(felin.tout_les_felins_courent())\n",
    "print(gerard_le_lion.energie,karim_le_lion.energie)\n",
    "print(felin.energie)\n",
    "print(felin.methode_des_felins(5,4))\n",
    "print(karim_le_lion)\n",
    "#print(gerard_le_lion.nombre_de_pate,karim_le_lion.nombre_de_pate)"
   ]
  },
  {
   "cell_type": "markdown",
   "id": "9204011e",
   "metadata": {},
   "source": [
    "Static method nous permet de definir des fonctions dans nos objets."
   ]
  },
  {
   "cell_type": "markdown",
   "id": "2d846453",
   "metadata": {},
   "source": [
    "## Fonction dir, attribut __dict__"
   ]
  },
  {
   "cell_type": "code",
   "execution_count": 4,
   "id": "a292e79d",
   "metadata": {},
   "outputs": [
    {
     "data": {
      "text/plain": [
       "['__class__',\n",
       " '__delattr__',\n",
       " '__dict__',\n",
       " '__dir__',\n",
       " '__doc__',\n",
       " '__eq__',\n",
       " '__format__',\n",
       " '__ge__',\n",
       " '__getattribute__',\n",
       " '__gt__',\n",
       " '__hash__',\n",
       " '__init__',\n",
       " '__init_subclass__',\n",
       " '__le__',\n",
       " '__lt__',\n",
       " '__module__',\n",
       " '__ne__',\n",
       " '__new__',\n",
       " '__reduce__',\n",
       " '__reduce_ex__',\n",
       " '__repr__',\n",
       " '__setattr__',\n",
       " '__sizeof__',\n",
       " '__str__',\n",
       " '__subclasshook__',\n",
       " '__weakref__',\n",
       " 'carnivore',\n",
       " 'energie',\n",
       " 'get_race',\n",
       " 'manger_viande',\n",
       " 'methode_des_felins',\n",
       " 'nombre_de_pate',\n",
       " 'set_race',\n",
       " 'tout_les_felins_courent']"
      ]
     },
     "execution_count": 4,
     "metadata": {},
     "output_type": "execute_result"
    }
   ],
   "source": [
    "## Fonction dir, attribut __dict__\n",
    "dir(felin)"
   ]
  },
  {
   "cell_type": "markdown",
   "id": "f749ce94",
   "metadata": {},
   "source": [
    "## Attribut __dict__\n"
   ]
  },
  {
   "cell_type": "code",
   "execution_count": 10,
   "id": "445a69dc",
   "metadata": {},
   "outputs": [
    {
     "name": "stdout",
     "output_type": "stream",
     "text": [
      "{'_felin__couleur': 'marron', '_Lion__race': 'Lion de la montage', 'name': 'karim'}\n",
      "{'_felin__couleur': 'beige', '_Lion__race': 'Lion de la savane', 'name': 'gerard'}\n"
     ]
    }
   ],
   "source": [
    "## Attribut __dict__\n",
    "print(karim_le_lion.__dict__)\n",
    "print(gerard_le_lion.__dict__)\n"
   ]
  },
  {
   "cell_type": "code",
   "execution_count": 11,
   "id": "70331e35",
   "metadata": {},
   "outputs": [
    {
     "data": {
      "text/plain": [
       "True"
      ]
     },
     "execution_count": 11,
     "metadata": {},
     "output_type": "execute_result"
    }
   ],
   "source": [
    "## isinstance(instance,class) et insubclass(subclass,class)\n",
    "isinstance(gerard_le_lion,Lion)"
   ]
  },
  {
   "cell_type": "code",
   "execution_count": 15,
   "id": "9eb97d57",
   "metadata": {},
   "outputs": [
    {
     "data": {
      "text/plain": [
       "True"
      ]
     },
     "execution_count": 15,
     "metadata": {},
     "output_type": "execute_result"
    }
   ],
   "source": [
    "issubclass(Lion,felin)"
   ]
  },
  {
   "cell_type": "code",
   "execution_count": 17,
   "id": "2d92eb75",
   "metadata": {},
   "outputs": [
    {
     "data": {
      "text/plain": [
       "False"
      ]
     },
     "execution_count": 17,
     "metadata": {},
     "output_type": "execute_result"
    }
   ],
   "source": [
    "issubclass(Girafe,felin)"
   ]
  },
  {
   "cell_type": "markdown",
   "id": "79ad4e39",
   "metadata": {},
   "source": [
    "## Regex"
   ]
  },
  {
   "cell_type": "markdown",
   "id": "eb0a1305",
   "metadata": {},
   "source": [
    "Regex c'est expression reguliere \n",
    "\n",
    "REaliser des recherches et des operations (extraction, remplacement...) dans les chaines de caracteres\n",
    "\n",
    "Les Tokens communs\n",
    "\n",
    "- [abc] : Un caractère unique de a,b ou c\n",
    "- [^abc]: Un caractère sauf a,b ou c\n",
    "- [a-z] : Un caractère entre a et z\n",
    "- [^a-z] : Un caractère pas entre a et z\n",
    "- [a-zA-Z] : Un caractère entre a-z ou A-Z\n",
    "- . : N'importre quel caractère\n",
    "- \\s : n'importe espace blanc caractère\n",
    "- \\S : N'importe non espace blanc caractère\n",
    "- \\d : N'importe quel nombre\n",
    "- \\D : N'importe caractère qui ne soit pas un nombre\n",
    "- \\w : N'importe mot\n",
    "- \\W : N'importe non mot\n",
    "- (...) Récupérer tout ce qui est entre parenthèse\n",
    "- (a|b) : Match a our b\n",
    "- a* 0 : ou + occurences de a\n",
    "- a+ 1 : ou + occurences de a\n",
    "- a{3} : Exactement 3 occurences de a\n",
    "- a{3,}: 3 ou + occurence de a\n",
    "- a{3,6} : Entre 3 et 6 occurences de a\n",
    "- \\b : les frontières d'un mot\n",
    "- \\B : les non frontières d'un mot\n",
    "- ^ : Début de la chaine de caractère\n",
    "- $ : Fin de la chaine de caractère\n"
   ]
  },
  {
   "cell_type": "markdown",
   "id": "ad052c8f",
   "metadata": {},
   "source": [
    "**Regex** elle nous permet de faire du scriping ou de faire le netoyage de notre base de données pour la data science."
   ]
  },
  {
   "cell_type": "markdown",
   "id": "66040361",
   "metadata": {},
   "source": [
    "##  - Regex, exceptions, modules et astuces"
   ]
  },
  {
   "cell_type": "code",
   "execution_count": 2,
   "id": "608d75d3",
   "metadata": {},
   "outputs": [],
   "source": [
    "import re"
   ]
  },
  {
   "cell_type": "code",
   "execution_count": 3,
   "id": "4b26d8aa",
   "metadata": {},
   "outputs": [
    {
     "name": "stdout",
     "output_type": "stream",
     "text": [
      "<re.Match object; span=(64, 67), match='une'>\n",
      "None\n"
     ]
    }
   ],
   "source": [
    "##re.search(text_a_chercher,text) cherche toute la chaine de caractère, return avec .start() et .end() les indexs des recherches\n",
    "#text=\"Les planètes telluriques, à surface solide, proches du Soleil sont, par ordre de distance à notre étoile, Mercure, Vénus, la Terre et Mars. Les planètes géantes et gazeuses, plus éloignées, sont Jupiter, Saturne, Uranus et Neptune.\"\n",
    "## are.match(texte_a_chercher,texte) Cherche au debut de la chaine de caractere \n",
    "# return un Matchobject ou  None\n",
    "text = \"Une planète est un corps céleste orbitant autour du Soleil ou d'une autre étoile, possédant une masse suffisante pour que sa gravité la maintienne en équilibre hydrostatique, c'est-à-dire sous une forme presque sphérique, et ayant éliminé tout corps « rival » se déplaçant sur son orbite ou sur une orbite proche. Par extension on qualifie parfois aussi de planètes les objets libres de masse planétaire.\"\n",
    "print(re.search('une',text))\n",
    "print(re.search('Orbite',text))"
   ]
  },
  {
   "cell_type": "code",
   "execution_count": 6,
   "id": "5616d8a4",
   "metadata": {},
   "outputs": [
    {
     "name": "stdout",
     "output_type": "stream",
     "text": [
      "<re.Match object; span=(33, 38), match='orbit'>\n",
      "None\n"
     ]
    }
   ],
   "source": [
    "texte=\"Une planète est un corps céleste orbitant autour du Soleil ou d'une autre étoile, possédant une masse suffisante pour que sa gravité la maintienne en équilibre hydrostatique, c'est-à-dire sous une forme presque sphérique, et ayant éliminé tout corps « rival » se déplaçant sur son orbite ou sur une orbite proche. Par extension on qualifie parfois aussi de planètes les objets libres de masse planétaire.\"\n",
    "print(re.search('orbit',texte))\n",
    "print(re.search('lion',texte))\n",
    "##Creer une expression reguliere "
   ]
  },
  {
   "cell_type": "markdown",
   "id": "e39dfff2",
   "metadata": {},
   "source": [
    "Creer une expression reguliere en utilisant <<re.compile>> **re.compile** permet de compiler une expression reguliere"
   ]
  },
  {
   "cell_type": "code",
   "execution_count": 7,
   "id": "8c934798",
   "metadata": {},
   "outputs": [
    {
     "name": "stdout",
     "output_type": "stream",
     "text": [
      "<re.Match object; span=(64, 67), match='une'>\n"
     ]
    }
   ],
   "source": [
    "##re.compile(text,args)\n",
    "myregex=re.compile('une')\n",
    "print(myregex.search(texte))"
   ]
  },
  {
   "cell_type": "code",
   "execution_count": 10,
   "id": "b2d1d0ed",
   "metadata": {},
   "outputs": [
    {
     "name": "stdout",
     "output_type": "stream",
     "text": [
      "<re.Match object; span=(0, 4), match='Test'>\n",
      "None\n",
      "None\n",
      "<re.Match object; span=(10, 16), match='Tester'>\n",
      "<re.Match object; span=(10, 16), match='Tester'>\n"
     ]
    }
   ],
   "source": [
    "#re.match: elle nous permet de trouver une chaine de caractere \n",
    "#utilier https://regex101.com/\n",
    "test_text = \"\"\"Test pour\n",
    "Tester\"\"\"\n",
    "\n",
    "print(re.match('Test', test_text)) #OK\n",
    "print(re.match('Tester', test_text)) #None car il ne retourne pas a la ligne\n",
    "print(re.match('^Tester', test_text)) #None\n",
    "print(re.search('Tester', test_text)) #OK\n",
    "print(re.search('^Tester', test_text, re.MULTILINE)) #OK"
   ]
  },
  {
   "cell_type": "code",
   "execution_count": 11,
   "id": "ea5b000c",
   "metadata": {},
   "outputs": [
    {
     "name": "stdout",
     "output_type": "stream",
     "text": [
      "<re.Match object; span=(0, 3), match='Une'>\n"
     ]
    }
   ],
   "source": [
    "text_regex = re.compile('^Une*')\n",
    "print(text_regex.search(text))"
   ]
  },
  {
   "cell_type": "markdown",
   "id": "cac51e61",
   "metadata": {},
   "source": [
    "La commande la plus utiliser en machine Learning est 're.findall' "
   ]
  },
  {
   "cell_type": "code",
   "execution_count": 8,
   "id": "45fd5ae3",
   "metadata": {},
   "outputs": [
    {
     "name": "stdout",
     "output_type": "stream",
     "text": [
      "['orbite', 'orbite']\n",
      "2\n"
     ]
    }
   ],
   "source": [
    "#\n",
    "#re.findall(regex, texte) Return match in list\n",
    "# ou re.search().group()\n",
    "orbit_find=re.findall('orbite',texte)\n",
    "print(orbit_find)\n",
    "print(len(orbit_find))\n"
   ]
  },
  {
   "cell_type": "code",
   "execution_count": 9,
   "id": "f0281961",
   "metadata": {},
   "outputs": [
    {
     "data": {
      "text/plain": [
       "['',\n",
       " 'ne planète est un corps céleste orbitant autour du ',\n",
       " \"oleil ou d'une autre étoile, possédant une masse suffisante pour que sa gravité la maintienne en équilibre hydrostatique, c'est-à-dire sous une forme presque sphérique, et ayant éliminé tout corps « rival » se déplaçant sur son orbite ou sur une orbite proche. \",\n",
       " 'ar extension on qualifie parfois aussi de planètes les objets libres de masse planétaire.']"
      ]
     },
     "execution_count": 9,
     "metadata": {},
     "output_type": "execute_result"
    }
   ],
   "source": [
    "##re.split('regex',text)\n",
    "re.split('[A-Z]',texte)"
   ]
  },
  {
   "cell_type": "markdown",
   "id": "8839287f",
   "metadata": {},
   "source": [
    "## Exceptions"
   ]
  },
  {
   "cell_type": "code",
   "execution_count": 12,
   "id": "a2809b70",
   "metadata": {},
   "outputs": [
    {
     "name": "stdout",
     "output_type": "stream",
     "text": [
      "0\n"
     ]
    }
   ],
   "source": [
    "## Exemple diviser par 0 zeroDivisionerror,NameError,ValueError, or Typeerror\n",
    "# try except finally\n",
    "b=1\n",
    "c=0\n",
    "try:\n",
    "    a=b/c\n",
    "except: ## si on laissse except n'importe quel autre erreur il va toujours faire b*c\n",
    "    a=b*c\n",
    "    \n",
    "print(a)"
   ]
  },
  {
   "cell_type": "code",
   "execution_count": 13,
   "id": "bd276c00",
   "metadata": {},
   "outputs": [
    {
     "name": "stdout",
     "output_type": "stream",
     "text": [
      "Anis\n"
     ]
    }
   ],
   "source": [
    "## Exemple diviser par 0 zeroDivisionerror,NameError,ValueError, or Typeerror\n",
    "# try except finally\n",
    "b=1\n",
    "c='Anis'\n",
    "try:\n",
    "    a=b/c\n",
    "except: ## si on laissse except n'importe quel autre erreur il va toujours faire b*c\n",
    "    a=b*c\n",
    "    \n",
    "print(a)"
   ]
  },
  {
   "cell_type": "markdown",
   "id": "8ac47212",
   "metadata": {},
   "source": [
    "Je ne voulais pas qu'il me print 'Anis' mais zero alors on peut utiliser des methodes d'erreur."
   ]
  },
  {
   "cell_type": "code",
   "execution_count": 28,
   "id": "98399bfc",
   "metadata": {},
   "outputs": [
    {
     "name": "stdout",
     "output_type": "stream",
     "text": [
      "Wall time: 0 ns\n",
      "1\n",
      "Opération terminer\n"
     ]
    }
   ],
   "source": [
    "%time\n",
    "## Exemple diviser par 0 zeroDivisionerror,NameError,ValueError, or Typeerror\n",
    "# try except finally\n",
    "b=1\n",
    "c='Anis'\n",
    "try:\n",
    "    a=b/c\n",
    "except ZeroDivisionError: ## si on laissse except n'importe quel autre erreur il va toujours faire b*c\n",
    "    a=b*c\n",
    "except TypeError:\n",
    "    print(a)\n",
    "print('Opération terminer')"
   ]
  },
  {
   "cell_type": "code",
   "execution_count": 20,
   "id": "f62bbb96",
   "metadata": {},
   "outputs": [
    {
     "name": "stdout",
     "output_type": "stream",
     "text": [
      "1\n",
      "Opération terminer\n"
     ]
    }
   ],
   "source": [
    "%time\n",
    "## Exemple diviser par 0 zeroDivisionerror,NameError,ValueError, or Typeerror\n",
    "# try except finally\n",
    "b=1\n",
    "c='Anis'\n",
    "try:\n",
    "    a=b/c\n",
    "except ZeroDivisionError: ## si on laissse except n'importe quel autre erreur il va toujours faire b*c\n",
    "    a=b*c\n",
    "except TypeError:\n",
    "    a=b\n",
    "finally:\n",
    "    print(a)\n",
    "print('Opération terminer')"
   ]
  },
  {
   "cell_type": "code",
   "execution_count": 27,
   "id": "b0d94356",
   "metadata": {},
   "outputs": [
    {
     "name": "stdout",
     "output_type": "stream",
     "text": [
      "Wall time: 0 ns\n",
      "1\n",
      "Opération terminer\n"
     ]
    }
   ],
   "source": [
    "%time\n",
    "## Exemple diviser par 0 zeroDivisionerror,NameError,ValueError, or Typeerror\n",
    "# try except finally\n",
    "b=1\n",
    "c='Anis'\n",
    "if c==0: ## si on laissse except n'importe quel autre erreur il va toujours faire b*c\n",
    "    a=b*c\n",
    "elif type(c)!=int:\n",
    "    a=b\n",
    "else:\n",
    "     a=b/c\n",
    "print(a)\n",
    "print('Opération terminer')"
   ]
  },
  {
   "cell_type": "code",
   "execution_count": 21,
   "id": "7eb4f247",
   "metadata": {},
   "outputs": [
    {
     "name": "stdout",
     "output_type": "stream",
     "text": [
      "50\n"
     ]
    }
   ],
   "source": [
    "## On peut nous aussi declancher une erreur\n",
    "## If raise error\n",
    "b=5\n",
    "c=10\n",
    "if c<5:\n",
    "    raise ValueError\n",
    "else:\n",
    "    a=b*c\n",
    "print(a)"
   ]
  },
  {
   "cell_type": "code",
   "execution_count": 24,
   "id": "59503429",
   "metadata": {},
   "outputs": [
    {
     "name": "stdout",
     "output_type": "stream",
     "text": [
      "c'est inferieur a 5\n"
     ]
    },
    {
     "ename": "ValueError",
     "evalue": "",
     "output_type": "error",
     "traceback": [
      "\u001b[1;31m---------------------------------------------------------------------------\u001b[0m",
      "\u001b[1;31mValueError\u001b[0m                                Traceback (most recent call last)",
      "\u001b[1;32m~\\AppData\\Local\\Temp/ipykernel_7312/2294045258.py\u001b[0m in \u001b[0;36m<module>\u001b[1;34m\u001b[0m\n\u001b[0;32m      5\u001b[0m \u001b[1;32mif\u001b[0m \u001b[0mc\u001b[0m\u001b[1;33m<\u001b[0m\u001b[1;36m5\u001b[0m\u001b[1;33m:\u001b[0m\u001b[1;33m\u001b[0m\u001b[1;33m\u001b[0m\u001b[0m\n\u001b[0;32m      6\u001b[0m     \u001b[0mprint\u001b[0m\u001b[1;33m(\u001b[0m\u001b[1;34m\"c'est inferieur a 5\"\u001b[0m\u001b[1;33m)\u001b[0m\u001b[1;33m\u001b[0m\u001b[1;33m\u001b[0m\u001b[0m\n\u001b[1;32m----> 7\u001b[1;33m     \u001b[1;32mraise\u001b[0m \u001b[0mValueError\u001b[0m\u001b[1;33m\u001b[0m\u001b[1;33m\u001b[0m\u001b[0m\n\u001b[0m\u001b[0;32m      8\u001b[0m \u001b[1;32melse\u001b[0m\u001b[1;33m:\u001b[0m\u001b[1;33m\u001b[0m\u001b[1;33m\u001b[0m\u001b[0m\n\u001b[0;32m      9\u001b[0m     \u001b[0ma\u001b[0m\u001b[1;33m=\u001b[0m\u001b[0mb\u001b[0m\u001b[1;33m*\u001b[0m\u001b[0mc\u001b[0m\u001b[1;33m\u001b[0m\u001b[1;33m\u001b[0m\u001b[0m\n",
      "\u001b[1;31mValueError\u001b[0m: "
     ]
    }
   ],
   "source": [
    "## On peut nous aussi declancher une erreur\n",
    "## If raise error\n",
    "b=5\n",
    "c=3\n",
    "if c<5:\n",
    "    print(\"c'est inferieur a 5\")\n",
    "    raise ValueError\n",
    "else:\n",
    "    a=b*c\n",
    "print(a)"
   ]
  },
  {
   "cell_type": "markdown",
   "id": "53820377",
   "metadata": {},
   "source": [
    "Cela est tres utilisé dans le traitement d'image"
   ]
  },
  {
   "cell_type": "markdown",
   "id": "895fffef",
   "metadata": {},
   "source": [
    "## Modules"
   ]
  },
  {
   "cell_type": "code",
   "execution_count": 29,
   "id": "6ea90f88",
   "metadata": {},
   "outputs": [
    {
     "name": "stdout",
     "output_type": "stream",
     "text": [
      "Collecting Smarties\n",
      "  Downloading Smarties-0.11.tar.gz (14 kB)\n",
      "Requirement already satisfied: nltk in c:\\programdata\\anaconda3\\lib\\site-packages (from Smarties) (3.6.5)\n",
      "Collecting gensim\n",
      "  Using cached gensim-4.2.0-cp39-cp39-win_amd64.whl (23.9 MB)\n",
      "Collecting wikipedia\n",
      "  Using cached wikipedia-1.4.0-py3-none-any.whl\n",
      "Requirement already satisfied: scikit-learn in c:\\programdata\\anaconda3\\lib\\site-packages (from Smarties) (0.24.2)\n",
      "Requirement already satisfied: pandas in c:\\programdata\\anaconda3\\lib\\site-packages (from Smarties) (1.3.4)\n",
      "Requirement already satisfied: numpy in c:\\programdata\\anaconda3\\lib\\site-packages (from Smarties) (1.20.3)\n",
      "Collecting smart-open>=1.8.1\n",
      "  Using cached smart_open-6.0.0-py3-none-any.whl (58 kB)\n",
      "Collecting Cython==0.29.28\n",
      "  Using cached Cython-0.29.28-py2.py3-none-any.whl (983 kB)\n",
      "Requirement already satisfied: scipy>=0.18.1 in c:\\programdata\\anaconda3\\lib\\site-packages (from gensim->Smarties) (1.7.1)\n",
      "Requirement already satisfied: click in c:\\programdata\\anaconda3\\lib\\site-packages (from nltk->Smarties) (8.0.3)\n",
      "Requirement already satisfied: joblib in c:\\programdata\\anaconda3\\lib\\site-packages (from nltk->Smarties) (1.1.0)\n",
      "Requirement already satisfied: regex>=2021.8.3 in c:\\programdata\\anaconda3\\lib\\site-packages (from nltk->Smarties) (2021.8.3)\n",
      "Requirement already satisfied: tqdm in c:\\programdata\\anaconda3\\lib\\site-packages (from nltk->Smarties) (4.62.3)\n",
      "Requirement already satisfied: colorama in c:\\programdata\\anaconda3\\lib\\site-packages (from click->nltk->Smarties) (0.4.4)\n",
      "Requirement already satisfied: pytz>=2017.3 in c:\\programdata\\anaconda3\\lib\\site-packages (from pandas->Smarties) (2021.3)\n",
      "Requirement already satisfied: python-dateutil>=2.7.3 in c:\\programdata\\anaconda3\\lib\\site-packages (from pandas->Smarties) (2.8.2)\n",
      "Requirement already satisfied: six>=1.5 in c:\\programdata\\anaconda3\\lib\\site-packages (from python-dateutil>=2.7.3->pandas->Smarties) (1.16.0)\n",
      "Requirement already satisfied: threadpoolctl>=2.0.0 in c:\\programdata\\anaconda3\\lib\\site-packages (from scikit-learn->Smarties) (2.2.0)"
     ]
    },
    {
     "name": "stderr",
     "output_type": "stream",
     "text": [
      "ERROR: Could not install packages due to an OSError: [WinError 5] Accès refusé: 'c:\\\\programdata\\\\anaconda3\\\\lib\\\\site-packages\\\\__pycache__\\\\cython.cpython-39.pyc'\n",
      "Consider using the `--user` option or check the permissions.\n",
      "\n"
     ]
    },
    {
     "name": "stdout",
     "output_type": "stream",
     "text": [
      "\n",
      "Requirement already satisfied: beautifulsoup4 in c:\\programdata\\anaconda3\\lib\\site-packages (from wikipedia->Smarties) (4.10.0)\n",
      "Requirement already satisfied: requests<3.0.0,>=2.0.0 in c:\\programdata\\anaconda3\\lib\\site-packages (from wikipedia->Smarties) (2.26.0)\n",
      "Requirement already satisfied: charset-normalizer~=2.0.0 in c:\\programdata\\anaconda3\\lib\\site-packages (from requests<3.0.0,>=2.0.0->wikipedia->Smarties) (2.0.4)\n",
      "Requirement already satisfied: urllib3<1.27,>=1.21.1 in c:\\programdata\\anaconda3\\lib\\site-packages (from requests<3.0.0,>=2.0.0->wikipedia->Smarties) (1.26.7)\n",
      "Requirement already satisfied: idna<4,>=2.5 in c:\\programdata\\anaconda3\\lib\\site-packages (from requests<3.0.0,>=2.0.0->wikipedia->Smarties) (3.2)\n",
      "Requirement already satisfied: certifi>=2017.4.17 in c:\\programdata\\anaconda3\\lib\\site-packages (from requests<3.0.0,>=2.0.0->wikipedia->Smarties) (2021.10.8)\n",
      "Requirement already satisfied: soupsieve>1.2 in c:\\programdata\\anaconda3\\lib\\site-packages (from beautifulsoup4->wikipedia->Smarties) (2.2.1)\n",
      "Building wheels for collected packages: Smarties\n",
      "  Building wheel for Smarties (setup.py): started\n",
      "  Building wheel for Smarties (setup.py): finished with status 'done'\n",
      "  Created wheel for Smarties: filename=Smarties-0.11-py3-none-any.whl size=13530 sha256=0107ca334ad833b285aad10d82da3141ff201c4d9d8dd052e9f069b17a920685\n",
      "  Stored in directory: c:\\users\\hp\\appdata\\local\\pip\\cache\\wheels\\29\\55\\8b\\d253c3a552f1e9a3675707b8f594023e4cba820bd28be16959\n",
      "Successfully built Smarties\n",
      "Installing collected packages: smart-open, Cython, wikipedia, gensim, Smarties\n",
      "  Attempting uninstall: Cython\n",
      "    Found existing installation: Cython 0.29.24\n",
      "    Uninstalling Cython-0.29.24:\n"
     ]
    }
   ],
   "source": [
    "!pip install Smarties"
   ]
  },
  {
   "cell_type": "code",
   "execution_count": 30,
   "id": "52cbbbfd",
   "metadata": {},
   "outputs": [],
   "source": [
    "import numpy\n",
    "#https://pypi.org/"
   ]
  },
  {
   "cell_type": "markdown",
   "id": "0e5122a5",
   "metadata": {},
   "source": [
    "## Créer les decorateur\n",
    "Un decorateur est une fonction qui serai appellé dans une fonction"
   ]
  },
  {
   "cell_type": "code",
   "execution_count": 32,
   "id": "b320831a",
   "metadata": {},
   "outputs": [
    {
     "name": "stdout",
     "output_type": "stream",
     "text": [
      "Ok\n",
      "je suis là\n"
     ]
    }
   ],
   "source": [
    "def f1(f):\n",
    "    def test():\n",
    "        print('Ok')\n",
    "        f()\n",
    "    return test\n",
    "def f():\n",
    "    print('je suis là')\n",
    "f=f1(f)\n",
    "f()"
   ]
  },
  {
   "cell_type": "code",
   "execution_count": 36,
   "id": "5505798f",
   "metadata": {},
   "outputs": [
    {
     "name": "stdout",
     "output_type": "stream",
     "text": [
      "Ok\n",
      "je suis là\n"
     ]
    }
   ],
   "source": [
    "def f1(f):\n",
    "    def test():\n",
    "        print('Ok')\n",
    "        f()\n",
    "    return test\n",
    "\n",
    "@f1\n",
    "def f():\n",
    "    print('je suis là')\n",
    "    \n",
    "f()"
   ]
  },
  {
   "cell_type": "code",
   "execution_count": 37,
   "id": "661e3260",
   "metadata": {},
   "outputs": [
    {
     "name": "stdout",
     "output_type": "stream",
     "text": [
      "Je suis la fonction f\n"
     ]
    }
   ],
   "source": [
    "#decorateur\n",
    "def f():\n",
    "    print('Je suis la fonction f')\n",
    "f()"
   ]
  },
  {
   "cell_type": "code",
   "execution_count": 38,
   "id": "c706bce7",
   "metadata": {},
   "outputs": [
    {
     "name": "stdout",
     "output_type": "stream",
     "text": [
      "Bonsoir\n",
      "Je suis la fonction f\n"
     ]
    }
   ],
   "source": [
    "#decorateur\n",
    "def f():\n",
    "    print('Je suis la fonction f')\n",
    "def f1():\n",
    "    print('Bonsoir')\n",
    "f1()\n",
    "f()"
   ]
  },
  {
   "cell_type": "code",
   "execution_count": 44,
   "id": "6b031344",
   "metadata": {},
   "outputs": [
    {
     "data": {
      "text/plain": [
       "<function __main__.f1.<locals>.myfunct()>"
      ]
     },
     "execution_count": 44,
     "metadata": {},
     "output_type": "execute_result"
    }
   ],
   "source": [
    "#decorateur\n",
    "def f():\n",
    "    print('Je suis la fonction f')\n",
    "def f1(f):\n",
    "    def myfunct():\n",
    "        print('Bonsoir')\n",
    "        f()\n",
    "    return  myfunct\n",
    "    \n",
    "f1(f)"
   ]
  },
  {
   "cell_type": "code",
   "execution_count": 45,
   "id": "a7b01624",
   "metadata": {},
   "outputs": [
    {
     "name": "stdout",
     "output_type": "stream",
     "text": [
      "Bonsoir\n",
      "Je suis la fonction f\n"
     ]
    }
   ],
   "source": [
    "#decorateur\n",
    "def f():\n",
    "    print('Je suis la fonction f')\n",
    "def f1(f):\n",
    "    def myfunct():\n",
    "        print('Bonsoir')\n",
    "        f()\n",
    "    return  myfunct\n",
    "    \n",
    "f=f1(f)\n",
    "f()"
   ]
  },
  {
   "cell_type": "code",
   "execution_count": 47,
   "id": "9a101dc4",
   "metadata": {},
   "outputs": [
    {
     "name": "stdout",
     "output_type": "stream",
     "text": [
      "Bonsoir\n",
      "Je suis la fonction f\n"
     ]
    }
   ],
   "source": [
    "#decorateur\n",
    "\n",
    "def f1(f):\n",
    "    def myfunct():\n",
    "        print('Bonsoir')\n",
    "        f()\n",
    "    return  myfunct\n",
    "@f1\n",
    "def f():\n",
    "    print('Je suis la fonction f')\n",
    "    \n",
    "#f=f1(f)\n",
    "f()"
   ]
  },
  {
   "cell_type": "code",
   "execution_count": 51,
   "id": "9563f49f",
   "metadata": {},
   "outputs": [
    {
     "data": {
      "text/plain": [
       "10"
      ]
     },
     "execution_count": 51,
     "metadata": {},
     "output_type": "execute_result"
    }
   ],
   "source": [
    "# 'args' donner un nombre d'argument variables. Plus utilisé dans la data science\n",
    "def add(*args):\n",
    "    addition=0\n",
    "    for arg in args:\n",
    "        addition= addition+arg\n",
    "    return addition\n",
    "add(1, 2, 3, 4)"
   ]
  },
  {
   "cell_type": "code",
   "execution_count": null,
   "id": "9bdd8d60",
   "metadata": {},
   "outputs": [],
   "source": []
  },
  {
   "cell_type": "code",
   "execution_count": 53,
   "id": "d6bd9478",
   "metadata": {},
   "outputs": [
    {
     "data": {
      "text/plain": [
       "10"
      ]
     },
     "execution_count": 53,
     "metadata": {},
     "output_type": "execute_result"
    }
   ],
   "source": [
    "# 'args' donner un nombre d'argument variables\n",
    "def add(n1,n2,n3,n4):\n",
    "    addition=0\n",
    "    addition= n1+n2+n3+n4\n",
    "    return addition\n",
    "add(1, 2, 3, 4)"
   ]
  },
  {
   "cell_type": "code",
   "execution_count": 58,
   "id": "8cfe4994",
   "metadata": {},
   "outputs": [
    {
     "data": {
      "text/plain": [
       "12"
      ]
     },
     "execution_count": 58,
     "metadata": {},
     "output_type": "execute_result"
    }
   ],
   "source": [
    "##**kwargs passer des arguments d'un dictionnaire, ou des mots clés\n",
    "def add(**kwargs):\n",
    "    addition=0\n",
    "    for key, value in kwargs.items():\n",
    "        if key=='arg1':\n",
    "            continue\n",
    "        addition=addition+value\n",
    "    return addition\n",
    "add(arg1=1,arg2=6,arg3=4,arg4=2)"
   ]
  },
  {
   "cell_type": "code",
   "execution_count": 61,
   "id": "ec56f680",
   "metadata": {},
   "outputs": [
    {
     "data": {
      "text/plain": [
       "13"
      ]
     },
     "execution_count": 61,
     "metadata": {},
     "output_type": "execute_result"
    }
   ],
   "source": [
    "##**kwargs passer des arguments d'un dictionnaire, ou des mots clés\n",
    "def add(**kwargs):\n",
    "    addition=0\n",
    "    for key, value in kwargs.items():\n",
    "        if key=='arg1':\n",
    "            continue\n",
    "        addition=addition+value\n",
    "    return addition\n",
    "dict_args={'args1':1,\n",
    "          'args2':6,\n",
    "          'args3':4,\n",
    "          'args4':2}\n",
    "add(**dict_args)"
   ]
  },
  {
   "cell_type": "code",
   "execution_count": 62,
   "id": "d6e34763",
   "metadata": {},
   "outputs": [
    {
     "data": {
      "text/plain": [
       "12"
      ]
     },
     "execution_count": 62,
     "metadata": {},
     "output_type": "execute_result"
    }
   ],
   "source": [
    "##**kwargs passer des arguments d'un dictionnaire, ou des mots clés\n",
    "## Ici on ignor la clée \"arg1\"\n",
    "def add(**kwargs):\n",
    "    addition=0\n",
    "    for key, value in kwargs.items():\n",
    "        if key=='arg1':\n",
    "            continue\n",
    "        addition=addition+value\n",
    "    return addition\n",
    "dict_args={'arg1':1,\n",
    "          'arg2':6,\n",
    "          'arg3':4,\n",
    "          'arg4':2}\n",
    "add(**dict_args)"
   ]
  },
  {
   "cell_type": "code",
   "execution_count": 64,
   "id": "2268b150",
   "metadata": {},
   "outputs": [
    {
     "name": "stdout",
     "output_type": "stream",
     "text": [
      "Wall time: 0 ns\n"
     ]
    }
   ],
   "source": [
    "## List comprehension\n",
    "%time\n",
    "a=[]\n",
    "for i in range(10):\n",
    "    a.append(10)"
   ]
  },
  {
   "cell_type": "code",
   "execution_count": 65,
   "id": "c4043eb1",
   "metadata": {},
   "outputs": [
    {
     "name": "stdout",
     "output_type": "stream",
     "text": [
      "Wall time: 0 ns\n"
     ]
    }
   ],
   "source": [
    "## List comprehension: C'est qu'ont doit etre capable de le faire sur une seule ligne\n",
    "%time\n",
    "a=[i for i in range(10)]"
   ]
  },
  {
   "cell_type": "code",
   "execution_count": 66,
   "id": "a992fc1f",
   "metadata": {},
   "outputs": [
    {
     "name": "stdout",
     "output_type": "stream",
     "text": [
      "6\n"
     ]
    }
   ],
   "source": [
    "# Une fonction Lambda c'est faire une fonction sans faire de fonction\n",
    "add=lambda arg1,arg2,arg3: arg1+arg2+arg3\n",
    "print(add(1,2,3))"
   ]
  },
  {
   "cell_type": "code",
   "execution_count": 67,
   "id": "1810dfe0",
   "metadata": {},
   "outputs": [
    {
     "data": {
      "text/plain": [
       "6"
      ]
     },
     "execution_count": 67,
     "metadata": {},
     "output_type": "execute_result"
    }
   ],
   "source": [
    "def add(arg1,arg2,arg3):\n",
    "    s=arg1+arg2+arg3\n",
    "    return s\n",
    "add(1,2,3)"
   ]
  },
  {
   "cell_type": "code",
   "execution_count": 68,
   "id": "790b32f7",
   "metadata": {},
   "outputs": [
    {
     "data": {
      "text/plain": [
       "function"
      ]
     },
     "execution_count": 68,
     "metadata": {},
     "output_type": "execute_result"
    }
   ],
   "source": [
    "type(add)##C'est ecrire une fonction sans le definir"
   ]
  },
  {
   "cell_type": "markdown",
   "id": "e081c6d9",
   "metadata": {},
   "source": [
    "## Fin de l'Intro en python"
   ]
  },
  {
   "cell_type": "markdown",
   "id": "b1fee3b7",
   "metadata": {},
   "source": [
    "# Data Science"
   ]
  },
  {
   "cell_type": "markdown",
   "id": "9b43c933",
   "metadata": {},
   "source": [
    "## Les Libraries Numpy et Pandas"
   ]
  },
  {
   "cell_type": "markdown",
   "id": "0a3add32",
   "metadata": {},
   "source": [
    "La donnée: dans un premier temps on imagine des '0' et des '1' si on ai en langage machine."
   ]
  },
  {
   "cell_type": "code",
   "execution_count": 71,
   "id": "81f4f87b",
   "metadata": {},
   "outputs": [
    {
     "data": {
      "image/png": "[encoded data removed]",
      "text/plain": [
       "<Figure size 432x288 with 1 Axes>"
      ]
     },
     "metadata": {
      "needs_background": "light"
     },
     "output_type": "display_data"
    }
   ],
   "source": [
    "image = img.imread('planetes.png')\n",
    "plt.imshow(image)\n",
    "plt.show()"
   ]
  },
  {
   "cell_type": "markdown",
   "id": "a7afacee",
   "metadata": {},
   "source": [
    "Une données se presente de maniere structuré, non structuré ou encore semi-structuré.\n",
    "\n",
    "**Données Structuré** C'est typiquement un tableau qui contient les lignes et colonnes\n",
    "\n",
    "**Données non Structuré** C'est les images, les sons etc... \n",
    "\n",
    "**Données semi Structuré** texte les articles, les pages html"
   ]
  },
  {
   "cell_type": "markdown",
   "id": "a9c6c342",
   "metadata": {},
   "source": [
    "\n",
    "# Numpy\n",
    "\n",
    "Librarie pour calculs sceintifique en Python.\n",
    "\n",
    "<a href=\"https://numpy.org/devdocs/\" target=\"_blank\" >Documentation  </a>\n",
    "\n",
    "<a href=\"https://numpy.org/\" target=\"_blank\" ><img  src=\"https://upload.wikimedia.org/wikipedia/commons/thumb/1/1a/NumPy_logo.svg/1200px-NumPy_logo.svg.png\" width=\"400\" height=\"auto\"/></a>\n"
   ]
  },
  {
   "cell_type": "markdown",
   "id": "bb37010e",
   "metadata": {},
   "source": [
    "Ceux qui est central dans numpy c'est un **nd.array**. On commence par l'installer et en suite l'importer."
   ]
  },
  {
   "cell_type": "code",
   "execution_count": 2,
   "id": "e207d2cc",
   "metadata": {},
   "outputs": [],
   "source": [
    "##l'installation on utilier le !pip install numpy\n",
    "## importer on fait import numpy as np\n",
    "import numpy as np"
   ]
  },
  {
   "cell_type": "code",
   "execution_count": 3,
   "id": "9c8bb4b9",
   "metadata": {},
   "outputs": [
    {
     "data": {
      "text/plain": [
       "array([1, 2, 3, 4])"
      ]
     },
     "execution_count": 3,
     "metadata": {},
     "output_type": "execute_result"
    }
   ],
   "source": [
    "#Creer un array (NB: il es possible de creer des nombre complexe dtype=complex)\n",
    "np.array([1,2,3,4])## un array ne prend qu'un seul type donc si je commence a melanger il va me parler d'un objet"
   ]
  },
  {
   "cell_type": "code",
   "execution_count": 4,
   "id": "6b9730c4",
   "metadata": {},
   "outputs": [
    {
     "data": {
      "text/plain": [
       "array([0, 1, 2, 3, 4, 5, 6, 7, 8, 9])"
      ]
     },
     "execution_count": 4,
     "metadata": {},
     "output_type": "execute_result"
    }
   ],
   "source": [
    "## np.arange(n) c'est creer un array de n elements et un axes\n",
    "np.arange(10)"
   ]
  },
  {
   "cell_type": "code",
   "execution_count": 5,
   "id": "0f9e5e3d",
   "metadata": {},
   "outputs": [
    {
     "data": {
      "text/plain": [
       "array([[0, 1, 2],\n",
       "       [3, 4, 5],\n",
       "       [6, 7, 8]])"
      ]
     },
     "execution_count": 5,
     "metadata": {},
     "output_type": "execute_result"
    }
   ],
   "source": [
    "np.arange(9).reshape(3,3)"
   ]
  },
  {
   "cell_type": "code",
   "execution_count": 6,
   "id": "9a7a2806",
   "metadata": {},
   "outputs": [
    {
     "data": {
      "text/plain": [
       "array([[0, 1],\n",
       "       [2, 3],\n",
       "       [4, 5],\n",
       "       [6, 7],\n",
       "       [8, 9]])"
      ]
     },
     "execution_count": 6,
     "metadata": {},
     "output_type": "execute_result"
    }
   ],
   "source": [
    "np.arange(10).reshape(5,2)"
   ]
  },
  {
   "cell_type": "code",
   "execution_count": 7,
   "id": "57c7ff65",
   "metadata": {},
   "outputs": [
    {
     "data": {
      "text/plain": [
       "array([[0., 0., 0., 0., 0.],\n",
       "       [0., 0., 0., 0., 0.],\n",
       "       [0., 0., 0., 0., 0.],\n",
       "       [0., 0., 0., 0., 0.],\n",
       "       [0., 0., 0., 0., 0.]])"
      ]
     },
     "execution_count": 7,
     "metadata": {},
     "output_type": "execute_result"
    }
   ],
   "source": [
    "## np.zeros(i,j) C'est creer un arrey de shape ixj rempli de 0\n",
    "np.zeros((5,5))"
   ]
  },
  {
   "cell_type": "code",
   "execution_count": 8,
   "id": "ce1efa4e",
   "metadata": {},
   "outputs": [
    {
     "data": {
      "text/plain": [
       "array([0.83514708, 0.303586  , 0.35143823, 0.5585961 , 0.84912145,\n",
       "       0.71967762, 0.61030842, 0.18648613, 0.19090899, 0.6260318 ])"
      ]
     },
     "execution_count": 8,
     "metadata": {},
     "output_type": "execute_result"
    }
   ],
   "source": [
    "np.random.rand(10)###creer un array de dimension 1 aleatoire:"
   ]
  },
  {
   "cell_type": "code",
   "execution_count": 9,
   "id": "d87ebad4",
   "metadata": {},
   "outputs": [
    {
     "data": {
      "text/plain": [
       "array([[0.53055585, 0.07973285],\n",
       "       [0.80621938, 0.56623643],\n",
       "       [0.63003299, 0.12801827]])"
      ]
     },
     "execution_count": 9,
     "metadata": {},
     "output_type": "execute_result"
    }
   ],
   "source": [
    "np.random.random(size=(3,2))"
   ]
  },
  {
   "cell_type": "code",
   "execution_count": 10,
   "id": "e65e894c",
   "metadata": {},
   "outputs": [
    {
     "name": "stdout",
     "output_type": "stream",
     "text": [
      "[0.16887109 0.53157042 0.45673852 0.53833097 0.2092582 ]\n",
      "<class 'numpy.ndarray'>\n",
      "0.5383309727359733\n",
      "[[0.63054706 0.16702354]\n",
      " [0.62007661 0.21878408]\n",
      " [0.64441992 0.59195848]]\n",
      "0.2187840811698678\n"
     ]
    }
   ],
   "source": [
    "##l'indexing\n",
    "myArray=np.random.rand(5)\n",
    "print(myArray)\n",
    "print(type(myArray))\n",
    "print(myArray[3])\n",
    "myarray_multidimension=np.random.rand(6).reshape(3,2)\n",
    "print(myarray_multidimension)\n",
    "print(myarray_multidimension[1,1])"
   ]
  },
  {
   "cell_type": "code",
   "execution_count": 11,
   "id": "ab617506",
   "metadata": {},
   "outputs": [
    {
     "name": "stdout",
     "output_type": "stream",
     "text": [
      "(3, 2)\n",
      "2\n",
      "6\n"
     ]
    }
   ],
   "source": [
    "##np.shape, np.ndim, np.size\n",
    "print(myarray_multidimension.shape)# forme de la matrice\n",
    "print(myarray_multidimension.ndim)# le nombre de dimension\n",
    "print(myarray_multidimension.size)# le nombre total d'element dans son array"
   ]
  },
  {
   "cell_type": "code",
   "execution_count": 12,
   "id": "ad599b75",
   "metadata": {},
   "outputs": [
    {
     "name": "stdout",
     "output_type": "stream",
     "text": [
      "[[0 1]\n",
      " [2 3]\n",
      " [4 5]\n",
      " [6 7]\n",
      " [8 9]]\n",
      "[[ 1.          0.54030231]\n",
      " [-0.41614684 -0.9899925 ]\n",
      " [-0.65364362  0.28366219]\n",
      " [ 0.96017029  0.75390225]\n",
      " [-0.14550003 -0.91113026]]\n",
      "[[1.00000000e+00 2.71828183e+00]\n",
      " [7.38905610e+00 2.00855369e+01]\n",
      " [5.45981500e+01 1.48413159e+02]\n",
      " [4.03428793e+02 1.09663316e+03]\n",
      " [2.98095799e+03 8.10308393e+03]]\n",
      "[[      -inf 0.        ]\n",
      " [0.69314718 1.09861229]\n",
      " [1.38629436 1.60943791]\n",
      " [1.79175947 1.94591015]\n",
      " [2.07944154 2.19722458]]\n",
      "[[0.         1.        ]\n",
      " [1.41421356 1.73205081]\n",
      " [2.         2.23606798]\n",
      " [2.44948974 2.64575131]\n",
      " [2.82842712 3.        ]]\n"
     ]
    },
    {
     "name": "stderr",
     "output_type": "stream",
     "text": [
      "C:\\Users\\hp\\AppData\\Local\\Temp/ipykernel_7816/1891237946.py:6: RuntimeWarning: divide by zero encountered in log\n",
      "  print(np.log(myarray))\n"
     ]
    }
   ],
   "source": [
    "##fonction mathematique np.cos,np.log,np.exp,np.sqrt etc..\n",
    "myarray=np.arange(10).reshape(5,2)\n",
    "print(myarray)\n",
    "print(np.cos(myarray))\n",
    "print(np.exp(myarray))\n",
    "print(np.log(myarray))\n",
    "print(np.sqrt(myarray))"
   ]
  },
  {
   "cell_type": "code",
   "execution_count": 15,
   "id": "ff5d5e41",
   "metadata": {},
   "outputs": [
    {
     "name": "stdout",
     "output_type": "stream",
     "text": [
      "0\n",
      "9\n",
      "4.5\n",
      "9\n"
     ]
    }
   ],
   "source": [
    "##fonction mathematique np.sum,np.min,np.mean etc..\n",
    "print(myarray.min())\n",
    "print(myarray.max())\n",
    "print(myarray.mean())\n",
    "print(np.max(myarray))"
   ]
  },
  {
   "cell_type": "markdown",
   "id": "f03472cf",
   "metadata": {},
   "source": [
    "<a href='https://fr.wikipedia.org/wiki/Matrice_(math%C3%A9matiques)'>  Les matrices </a>\n",
    "\n",
    "<a href='https://fr.wikipedia.org/wiki/Produit_matriciel'> Calcul matriciel (Article Wikipedia) </a>\n",
    "\n",
    "<img  src=\"https://wikimedia.org/api/rest_v1/media/math/render/svg/840716c2745c63bd10c38a0b5ecac966faf0b1ff\" width=\"400\" height=\"auto\"/>\n",
    "<img  src=\"https://upload.wikimedia.org/wikipedia/commons/thumb/1/11/Matrix_multiplication_diagram.svg/188px-Matrix_multiplication_diagram.svg.png\n",
    "\" width=\"100\" height=\"auto\"/>"
   ]
  },
  {
   "cell_type": "code",
   "execution_count": 16,
   "id": "2858a87d",
   "metadata": {},
   "outputs": [
    {
     "data": {
      "text/plain": [
       "8.25"
      ]
     },
     "execution_count": 16,
     "metadata": {},
     "output_type": "execute_result"
    }
   ],
   "source": [
    "np.var(myarray)"
   ]
  },
  {
   "cell_type": "code",
   "execution_count": 22,
   "id": "c5c6d349",
   "metadata": {},
   "outputs": [
    {
     "name": "stdout",
     "output_type": "stream",
     "text": [
      "[[ 0  1  2  3]\n",
      " [ 4  5  6  7]\n",
      " [ 8  9 10 11]\n",
      " [12 13 14 15]]\n",
      "[[0.9843636  0.09755819 0.19358611 0.80529968]\n",
      " [0.84463401 0.63270254 0.79614488 0.08428723]\n",
      " [0.84138846 0.93586235 0.03698957 0.75089612]\n",
      " [0.4595553  0.1623403  0.47983272 0.72778497]]\n",
      "[[ 0.          0.09755819  0.38717222  2.41589904]\n",
      " [ 3.37853602  3.16351268  4.77686929  0.59001059]\n",
      " [ 6.73110771  8.42276117  0.36989567  8.25985733]\n",
      " [ 5.51466362  2.11042393  6.71765802 10.91677448]]\n"
     ]
    }
   ],
   "source": [
    "## Produit d'element matriciel\n",
    "A=np.arange(16).reshape(4,4)\n",
    "print(A)\n",
    "B=np.random.rand(16).reshape(4,4)\n",
    "print(B)\n",
    "print(A*B)"
   ]
  },
  {
   "cell_type": "code",
   "execution_count": 23,
   "id": "0ea80341",
   "metadata": {},
   "outputs": [
    {
     "name": "stdout",
     "output_type": "stream",
     "text": [
      "[[ 3.90607684  2.99144815  2.30962216  3.76943436]\n",
      " [16.42584233 10.30530168  8.33583527 13.24250633]\n",
      " [28.94560782 17.61915522 14.36204837 22.7155783 ]\n",
      " [41.46537331 24.93300876 20.38826148 32.18865026]]\n"
     ]
    }
   ],
   "source": [
    "print(A@ B)## on utilise dot"
   ]
  },
  {
   "cell_type": "code",
   "execution_count": 24,
   "id": "d9a83849",
   "metadata": {},
   "outputs": [
    {
     "name": "stdout",
     "output_type": "stream",
     "text": [
      "[[ 3.90607684  2.99144815  2.30962216  3.76943436]\n",
      " [16.42584233 10.30530168  8.33583527 13.24250633]\n",
      " [28.94560782 17.61915522 14.36204837 22.7155783 ]\n",
      " [41.46537331 24.93300876 20.38826148 32.18865026]]\n"
     ]
    }
   ],
   "source": [
    "print(A.dot(B))"
   ]
  },
  {
   "cell_type": "code",
   "execution_count": 26,
   "id": "90700a22",
   "metadata": {},
   "outputs": [
    {
     "name": "stdout",
     "output_type": "stream",
     "text": [
      "[[ 0  4  8 12]\n",
      " [ 1  5  9 13]\n",
      " [ 2  6 10 14]\n",
      " [ 3  7 11 15]]\n",
      "[[ 0  4  8 12]\n",
      " [ 1  5  9 13]\n",
      " [ 2  6 10 14]\n",
      " [ 3  7 11 15]]\n"
     ]
    }
   ],
   "source": [
    "## La transposé de A\n",
    "print(A.T)\n",
    "print(np.transpose(A))"
   ]
  },
  {
   "cell_type": "code",
   "execution_count": 27,
   "id": "0ee4025a",
   "metadata": {},
   "outputs": [
    {
     "data": {
      "text/plain": [
       "array([[ 2.58974329,  0.38669198, -3.43925125,  1.6170542 ],\n",
       "       [-0.33659606,  1.06230494, -0.89524304,  0.7502351 ],\n",
       "       [-0.23851508,  0.56485351,  0.89235488, -1.08002451],\n",
       "       [-0.47089764, -1.3414084 ,  1.93847448,  0.06461566]])"
      ]
     },
     "execution_count": 27,
     "metadata": {},
     "output_type": "execute_result"
    }
   ],
   "source": [
    "np.linalg.inv(np.random.rand(16).reshape(4,4))"
   ]
  },
  {
   "cell_type": "markdown",
   "id": "6afdd4a7",
   "metadata": {},
   "source": [
    "\n",
    "# Pandas\n",
    "\n",
    "Librarie de manipulation et d'analyse de données pour Python.\n",
    "\n",
    "<a href=\"https://pandas.pydata.org/docs/user_guide/index.html\" target=\"_blank\" >Documentation  </a>\n",
    "\n",
    "<a href=\"https://pandas.pydata.org/\" target=\"_blank\" ><img  src=\"https://upload.wikimedia.org/wikipedia/commons/thumb/e/ed/Pandas_logo.svg/1200px-Pandas_logo.svg.png\" width=\"400\" height=\"auto\"/></a>"
   ]
  },
  {
   "cell_type": "markdown",
   "id": "2f762d11",
   "metadata": {},
   "source": [
    "<img  src=\"https://pandas.pydata.org/docs/_images/01_table_dataframe.svg\" width=\"400\" height=\"auto\"/>\n",
    "\n",
    "\n",
    "<img  src=\"https://pandas.pydata.org/docs/_images/02_io_readwrite.svg\" width=\"400\" height=\"auto\"/>\n"
   ]
  },
  {
   "cell_type": "markdown",
   "id": "a59dd64e",
   "metadata": {},
   "source": [
    "En data science l'element le plus important c'est la préparation des données. Il y a deux objets qu'ont utilisé très souvant en pandas: **DataFrame** et les **Series**.\n",
    "\n",
    "**DataFrame**: c'est un tableau ligne et colonnes \n",
    "\n",
    "**Series**: c'est tout comme on a seulement une colonne.\n"
   ]
  },
  {
   "cell_type": "code",
   "execution_count": 2,
   "id": "1ff4ea61",
   "metadata": {},
   "outputs": [
    {
     "data": {
      "text/plain": [
       "0    1\n",
       "1    2\n",
       "2    3\n",
       "dtype: int32"
      ]
     },
     "execution_count": 2,
     "metadata": {},
     "output_type": "execute_result"
    }
   ],
   "source": [
    "##Comment créer une series \n",
    "import pandas as pd\n",
    "import numpy as np\n",
    "pd.Series(np.array([1,2,3]))"
   ]
  },
  {
   "cell_type": "code",
   "execution_count": 3,
   "id": "ea37b259",
   "metadata": {},
   "outputs": [
    {
     "data": {
      "text/plain": [
       "C1    [1, 5, 6]\n",
       "C2    [1, 2, 3]\n",
       "C3    [8, 9, 3]\n",
       "dtype: object"
      ]
     },
     "execution_count": 3,
     "metadata": {},
     "output_type": "execute_result"
    }
   ],
   "source": [
    "pd.Series([1,5,6]) ## Donc on peut créer une series directement sans numpy\n",
    "pd.Series(({'C1':[1,5,6],'C2':[1,2,3],'C3':[8,9,3]}))"
   ]
  },
  {
   "cell_type": "code",
   "execution_count": 4,
   "id": "2ca326c9",
   "metadata": {},
   "outputs": [
    {
     "data": {
      "text/html": [
       "<div>\n",
       "<style scoped>\n",
       "    .dataframe tbody tr th:only-of-type {\n",
       "        vertical-align: middle;\n",
       "    }\n",
       "\n",
       "    .dataframe tbody tr th {\n",
       "        vertical-align: top;\n",
       "    }\n",
       "\n",
       "    .dataframe thead th {\n",
       "        text-align: right;\n",
       "    }\n",
       "</style>\n",
       "<table border=\"1\" class=\"dataframe\">\n",
       "  <thead>\n",
       "    <tr style=\"text-align: right;\">\n",
       "      <th></th>\n",
       "      <th>colonne1</th>\n",
       "      <th>colonne2</th>\n",
       "      <th>colonne3</th>\n",
       "      <th>colonne4</th>\n",
       "    </tr>\n",
       "  </thead>\n",
       "  <tbody>\n",
       "    <tr>\n",
       "      <th>0</th>\n",
       "      <td>1</td>\n",
       "      <td>1</td>\n",
       "      <td>1</td>\n",
       "      <td>1</td>\n",
       "    </tr>\n",
       "    <tr>\n",
       "      <th>1</th>\n",
       "      <td>5</td>\n",
       "      <td>2</td>\n",
       "      <td>5</td>\n",
       "      <td>5</td>\n",
       "    </tr>\n",
       "    <tr>\n",
       "      <th>2</th>\n",
       "      <td>2</td>\n",
       "      <td>3</td>\n",
       "      <td>2</td>\n",
       "      <td>2</td>\n",
       "    </tr>\n",
       "    <tr>\n",
       "      <th>3</th>\n",
       "      <td>8</td>\n",
       "      <td>4</td>\n",
       "      <td>8</td>\n",
       "      <td>8</td>\n",
       "    </tr>\n",
       "    <tr>\n",
       "      <th>4</th>\n",
       "      <td>4</td>\n",
       "      <td>5</td>\n",
       "      <td>4</td>\n",
       "      <td>4</td>\n",
       "    </tr>\n",
       "  </tbody>\n",
       "</table>\n",
       "</div>"
      ],
      "text/plain": [
       "   colonne1  colonne2  colonne3  colonne4\n",
       "0         1         1         1         1\n",
       "1         5         2         5         5\n",
       "2         2         3         2         2\n",
       "3         8         4         8         8\n",
       "4         4         5         4         4"
      ]
     },
     "execution_count": 4,
     "metadata": {},
     "output_type": "execute_result"
    }
   ],
   "source": [
    "## On peut aussi le faire par un dictionnaire\n",
    "pd.DataFrame({'colonne1':[1,5,2,8,4],'colonne2':[1,2,3,4,5],'colonne3':[1,5,2,8,4],'colonne4':[1,5,2,8,4]})"
   ]
  },
  {
   "cell_type": "code",
   "execution_count": 5,
   "id": "14887b37",
   "metadata": {},
   "outputs": [
    {
     "data": {
      "text/html": [
       "<div>\n",
       "<style scoped>\n",
       "    .dataframe tbody tr th:only-of-type {\n",
       "        vertical-align: middle;\n",
       "    }\n",
       "\n",
       "    .dataframe tbody tr th {\n",
       "        vertical-align: top;\n",
       "    }\n",
       "\n",
       "    .dataframe thead th {\n",
       "        text-align: right;\n",
       "    }\n",
       "</style>\n",
       "<table border=\"1\" class=\"dataframe\">\n",
       "  <thead>\n",
       "    <tr style=\"text-align: right;\">\n",
       "      <th></th>\n",
       "      <th>FIPS</th>\n",
       "      <th>Admin2</th>\n",
       "      <th>Province_State</th>\n",
       "      <th>Country_Region</th>\n",
       "      <th>Last_Update</th>\n",
       "      <th>Lat</th>\n",
       "      <th>Long_</th>\n",
       "      <th>Confirmed</th>\n",
       "      <th>Deaths</th>\n",
       "      <th>Recovered</th>\n",
       "      <th>Active</th>\n",
       "      <th>Combined_Key</th>\n",
       "    </tr>\n",
       "  </thead>\n",
       "  <tbody>\n",
       "    <tr>\n",
       "      <th>0</th>\n",
       "      <td>45001.0</td>\n",
       "      <td>Abbeville</td>\n",
       "      <td>South Carolina</td>\n",
       "      <td>US</td>\n",
       "      <td>2020-04-19 23:41:01</td>\n",
       "      <td>34.223334</td>\n",
       "      <td>-82.461707</td>\n",
       "      <td>17</td>\n",
       "      <td>0</td>\n",
       "      <td>0</td>\n",
       "      <td>17</td>\n",
       "      <td>Abbeville, South Carolina, US</td>\n",
       "    </tr>\n",
       "    <tr>\n",
       "      <th>1</th>\n",
       "      <td>22001.0</td>\n",
       "      <td>Acadia</td>\n",
       "      <td>Louisiana</td>\n",
       "      <td>US</td>\n",
       "      <td>2020-04-19 23:41:01</td>\n",
       "      <td>30.295065</td>\n",
       "      <td>-92.414197</td>\n",
       "      <td>110</td>\n",
       "      <td>7</td>\n",
       "      <td>0</td>\n",
       "      <td>103</td>\n",
       "      <td>Acadia, Louisiana, US</td>\n",
       "    </tr>\n",
       "    <tr>\n",
       "      <th>2</th>\n",
       "      <td>51001.0</td>\n",
       "      <td>Accomack</td>\n",
       "      <td>Virginia</td>\n",
       "      <td>US</td>\n",
       "      <td>2020-04-19 23:41:01</td>\n",
       "      <td>37.767072</td>\n",
       "      <td>-75.632346</td>\n",
       "      <td>42</td>\n",
       "      <td>0</td>\n",
       "      <td>0</td>\n",
       "      <td>42</td>\n",
       "      <td>Accomack, Virginia, US</td>\n",
       "    </tr>\n",
       "    <tr>\n",
       "      <th>3</th>\n",
       "      <td>16001.0</td>\n",
       "      <td>Ada</td>\n",
       "      <td>Idaho</td>\n",
       "      <td>US</td>\n",
       "      <td>2020-04-19 23:41:01</td>\n",
       "      <td>43.452658</td>\n",
       "      <td>-116.241552</td>\n",
       "      <td>598</td>\n",
       "      <td>10</td>\n",
       "      <td>0</td>\n",
       "      <td>588</td>\n",
       "      <td>Ada, Idaho, US</td>\n",
       "    </tr>\n",
       "    <tr>\n",
       "      <th>4</th>\n",
       "      <td>19001.0</td>\n",
       "      <td>Adair</td>\n",
       "      <td>Iowa</td>\n",
       "      <td>US</td>\n",
       "      <td>2020-04-19 23:41:01</td>\n",
       "      <td>41.330756</td>\n",
       "      <td>-94.471059</td>\n",
       "      <td>1</td>\n",
       "      <td>0</td>\n",
       "      <td>0</td>\n",
       "      <td>1</td>\n",
       "      <td>Adair, Iowa, US</td>\n",
       "    </tr>\n",
       "  </tbody>\n",
       "</table>\n",
       "</div>"
      ],
      "text/plain": [
       "      FIPS     Admin2  Province_State Country_Region          Last_Update  \\\n",
       "0  45001.0  Abbeville  South Carolina             US  2020-04-19 23:41:01   \n",
       "1  22001.0     Acadia       Louisiana             US  2020-04-19 23:41:01   \n",
       "2  51001.0   Accomack        Virginia             US  2020-04-19 23:41:01   \n",
       "3  16001.0        Ada           Idaho             US  2020-04-19 23:41:01   \n",
       "4  19001.0      Adair            Iowa             US  2020-04-19 23:41:01   \n",
       "\n",
       "         Lat       Long_  Confirmed  Deaths  Recovered  Active  \\\n",
       "0  34.223334  -82.461707         17       0          0      17   \n",
       "1  30.295065  -92.414197        110       7          0     103   \n",
       "2  37.767072  -75.632346         42       0          0      42   \n",
       "3  43.452658 -116.241552        598      10          0     588   \n",
       "4  41.330756  -94.471059          1       0          0       1   \n",
       "\n",
       "                    Combined_Key  \n",
       "0  Abbeville, South Carolina, US  \n",
       "1          Acadia, Louisiana, US  \n",
       "2         Accomack, Virginia, US  \n",
       "3                 Ada, Idaho, US  \n",
       "4                Adair, Iowa, US  "
      ]
     },
     "execution_count": 5,
     "metadata": {},
     "output_type": "execute_result"
    }
   ],
   "source": [
    "#df.head(n) afficher les n première lignes de notre DF\n",
    "\n",
    "df_covid = pd.read_csv('https://raw.githubusercontent.com/CSSEGISandData/COVID-19/master/csse_covid_19_data/csse_covid_19_daily_reports/04-19-2020.csv')\n",
    "df_covid.head()"
   ]
  },
  {
   "cell_type": "code",
   "execution_count": 6,
   "id": "7c5bf912",
   "metadata": {},
   "outputs": [
    {
     "data": {
      "text/plain": [
       "(3101, 12)"
      ]
     },
     "execution_count": 6,
     "metadata": {},
     "output_type": "execute_result"
    }
   ],
   "source": [
    "df_covid.shape"
   ]
  },
  {
   "cell_type": "code",
   "execution_count": 7,
   "id": "ee56f21e",
   "metadata": {},
   "outputs": [
    {
     "data": {
      "text/plain": [
       "Index(['FIPS', 'Admin2', 'Province_State', 'Country_Region', 'Last_Update',\n",
       "       'Lat', 'Long_', 'Confirmed', 'Deaths', 'Recovered', 'Active',\n",
       "       'Combined_Key'],\n",
       "      dtype='object')"
      ]
     },
     "execution_count": 7,
     "metadata": {},
     "output_type": "execute_result"
    }
   ],
   "source": [
    "df_covid.columns"
   ]
  },
  {
   "cell_type": "code",
   "execution_count": 9,
   "id": "fb8aba69",
   "metadata": {},
   "outputs": [
    {
     "data": {
      "text/html": [
       "<div>\n",
       "<style scoped>\n",
       "    .dataframe tbody tr th:only-of-type {\n",
       "        vertical-align: middle;\n",
       "    }\n",
       "\n",
       "    .dataframe tbody tr th {\n",
       "        vertical-align: top;\n",
       "    }\n",
       "\n",
       "    .dataframe thead th {\n",
       "        text-align: right;\n",
       "    }\n",
       "</style>\n",
       "<table border=\"1\" class=\"dataframe\">\n",
       "  <thead>\n",
       "    <tr style=\"text-align: right;\">\n",
       "      <th></th>\n",
       "      <th>FIPS</th>\n",
       "      <th>Admin2</th>\n",
       "      <th>Province_State</th>\n",
       "      <th>Last_Update</th>\n",
       "      <th>Lat</th>\n",
       "      <th>Long_</th>\n",
       "      <th>Confirmed</th>\n",
       "      <th>Deaths</th>\n",
       "      <th>Recovered</th>\n",
       "      <th>Active</th>\n",
       "      <th>Combined_Key</th>\n",
       "    </tr>\n",
       "    <tr>\n",
       "      <th>Country_Region</th>\n",
       "      <th></th>\n",
       "      <th></th>\n",
       "      <th></th>\n",
       "      <th></th>\n",
       "      <th></th>\n",
       "      <th></th>\n",
       "      <th></th>\n",
       "      <th></th>\n",
       "      <th></th>\n",
       "      <th></th>\n",
       "      <th></th>\n",
       "    </tr>\n",
       "  </thead>\n",
       "  <tbody>\n",
       "    <tr>\n",
       "      <th>US</th>\n",
       "      <td>45001.0</td>\n",
       "      <td>Abbeville</td>\n",
       "      <td>South Carolina</td>\n",
       "      <td>2020-04-19 23:41:01</td>\n",
       "      <td>34.223334</td>\n",
       "      <td>-82.461707</td>\n",
       "      <td>17</td>\n",
       "      <td>0</td>\n",
       "      <td>0</td>\n",
       "      <td>17</td>\n",
       "      <td>Abbeville, South Carolina, US</td>\n",
       "    </tr>\n",
       "    <tr>\n",
       "      <th>US</th>\n",
       "      <td>22001.0</td>\n",
       "      <td>Acadia</td>\n",
       "      <td>Louisiana</td>\n",
       "      <td>2020-04-19 23:41:01</td>\n",
       "      <td>30.295065</td>\n",
       "      <td>-92.414197</td>\n",
       "      <td>110</td>\n",
       "      <td>7</td>\n",
       "      <td>0</td>\n",
       "      <td>103</td>\n",
       "      <td>Acadia, Louisiana, US</td>\n",
       "    </tr>\n",
       "    <tr>\n",
       "      <th>US</th>\n",
       "      <td>51001.0</td>\n",
       "      <td>Accomack</td>\n",
       "      <td>Virginia</td>\n",
       "      <td>2020-04-19 23:41:01</td>\n",
       "      <td>37.767072</td>\n",
       "      <td>-75.632346</td>\n",
       "      <td>42</td>\n",
       "      <td>0</td>\n",
       "      <td>0</td>\n",
       "      <td>42</td>\n",
       "      <td>Accomack, Virginia, US</td>\n",
       "    </tr>\n",
       "    <tr>\n",
       "      <th>US</th>\n",
       "      <td>16001.0</td>\n",
       "      <td>Ada</td>\n",
       "      <td>Idaho</td>\n",
       "      <td>2020-04-19 23:41:01</td>\n",
       "      <td>43.452658</td>\n",
       "      <td>-116.241552</td>\n",
       "      <td>598</td>\n",
       "      <td>10</td>\n",
       "      <td>0</td>\n",
       "      <td>588</td>\n",
       "      <td>Ada, Idaho, US</td>\n",
       "    </tr>\n",
       "    <tr>\n",
       "      <th>US</th>\n",
       "      <td>19001.0</td>\n",
       "      <td>Adair</td>\n",
       "      <td>Iowa</td>\n",
       "      <td>2020-04-19 23:41:01</td>\n",
       "      <td>41.330756</td>\n",
       "      <td>-94.471059</td>\n",
       "      <td>1</td>\n",
       "      <td>0</td>\n",
       "      <td>0</td>\n",
       "      <td>1</td>\n",
       "      <td>Adair, Iowa, US</td>\n",
       "    </tr>\n",
       "  </tbody>\n",
       "</table>\n",
       "</div>"
      ],
      "text/plain": [
       "                   FIPS     Admin2  Province_State          Last_Update  \\\n",
       "Country_Region                                                            \n",
       "US              45001.0  Abbeville  South Carolina  2020-04-19 23:41:01   \n",
       "US              22001.0     Acadia       Louisiana  2020-04-19 23:41:01   \n",
       "US              51001.0   Accomack        Virginia  2020-04-19 23:41:01   \n",
       "US              16001.0        Ada           Idaho  2020-04-19 23:41:01   \n",
       "US              19001.0      Adair            Iowa  2020-04-19 23:41:01   \n",
       "\n",
       "                      Lat       Long_  Confirmed  Deaths  Recovered  Active  \\\n",
       "Country_Region                                                                \n",
       "US              34.223334  -82.461707         17       0          0      17   \n",
       "US              30.295065  -92.414197        110       7          0     103   \n",
       "US              37.767072  -75.632346         42       0          0      42   \n",
       "US              43.452658 -116.241552        598      10          0     588   \n",
       "US              41.330756  -94.471059          1       0          0       1   \n",
       "\n",
       "                                 Combined_Key  \n",
       "Country_Region                                 \n",
       "US              Abbeville, South Carolina, US  \n",
       "US                      Acadia, Louisiana, US  \n",
       "US                     Accomack, Virginia, US  \n",
       "US                             Ada, Idaho, US  \n",
       "US                            Adair, Iowa, US  "
      ]
     },
     "execution_count": 9,
     "metadata": {},
     "output_type": "execute_result"
    }
   ],
   "source": [
    "## Creer un index\n",
    "df_covid.set_index('Country_Region').head()"
   ]
  },
  {
   "cell_type": "code",
   "execution_count": 10,
   "id": "2e1cb81e",
   "metadata": {},
   "outputs": [
    {
     "data": {
      "text/html": [
       "<div>\n",
       "<style scoped>\n",
       "    .dataframe tbody tr th:only-of-type {\n",
       "        vertical-align: middle;\n",
       "    }\n",
       "\n",
       "    .dataframe tbody tr th {\n",
       "        vertical-align: top;\n",
       "    }\n",
       "\n",
       "    .dataframe thead th {\n",
       "        text-align: right;\n",
       "    }\n",
       "</style>\n",
       "<table border=\"1\" class=\"dataframe\">\n",
       "  <thead>\n",
       "    <tr style=\"text-align: right;\">\n",
       "      <th></th>\n",
       "      <th>FIPS</th>\n",
       "      <th>Admin2</th>\n",
       "      <th>Province_State</th>\n",
       "      <th>Country_Region</th>\n",
       "      <th>Last_Update</th>\n",
       "      <th>Lat</th>\n",
       "      <th>Long_</th>\n",
       "      <th>Confirmed</th>\n",
       "      <th>Deaths</th>\n",
       "      <th>Recovered</th>\n",
       "      <th>Active</th>\n",
       "      <th>Combined_Key</th>\n",
       "    </tr>\n",
       "  </thead>\n",
       "  <tbody>\n",
       "    <tr>\n",
       "      <th>0</th>\n",
       "      <td>45001.0</td>\n",
       "      <td>Abbeville</td>\n",
       "      <td>South Carolina</td>\n",
       "      <td>US</td>\n",
       "      <td>2020-04-19 23:41:01</td>\n",
       "      <td>34.223334</td>\n",
       "      <td>-82.461707</td>\n",
       "      <td>17</td>\n",
       "      <td>0</td>\n",
       "      <td>0</td>\n",
       "      <td>17</td>\n",
       "      <td>Abbeville, South Carolina, US</td>\n",
       "    </tr>\n",
       "    <tr>\n",
       "      <th>1</th>\n",
       "      <td>22001.0</td>\n",
       "      <td>Acadia</td>\n",
       "      <td>Louisiana</td>\n",
       "      <td>US</td>\n",
       "      <td>2020-04-19 23:41:01</td>\n",
       "      <td>30.295065</td>\n",
       "      <td>-92.414197</td>\n",
       "      <td>110</td>\n",
       "      <td>7</td>\n",
       "      <td>0</td>\n",
       "      <td>103</td>\n",
       "      <td>Acadia, Louisiana, US</td>\n",
       "    </tr>\n",
       "  </tbody>\n",
       "</table>\n",
       "</div>"
      ],
      "text/plain": [
       "      FIPS     Admin2  Province_State Country_Region          Last_Update  \\\n",
       "0  45001.0  Abbeville  South Carolina             US  2020-04-19 23:41:01   \n",
       "1  22001.0     Acadia       Louisiana             US  2020-04-19 23:41:01   \n",
       "\n",
       "         Lat      Long_  Confirmed  Deaths  Recovered  Active  \\\n",
       "0  34.223334 -82.461707         17       0          0      17   \n",
       "1  30.295065 -92.414197        110       7          0     103   \n",
       "\n",
       "                    Combined_Key  \n",
       "0  Abbeville, South Carolina, US  \n",
       "1          Acadia, Louisiana, US  "
      ]
     },
     "execution_count": 10,
     "metadata": {},
     "output_type": "execute_result"
    }
   ],
   "source": [
    "df_covid.head(2)"
   ]
  },
  {
   "cell_type": "code",
   "execution_count": 11,
   "id": "6e04cb15",
   "metadata": {},
   "outputs": [
    {
     "data": {
      "text/html": [
       "<div>\n",
       "<style scoped>\n",
       "    .dataframe tbody tr th:only-of-type {\n",
       "        vertical-align: middle;\n",
       "    }\n",
       "\n",
       "    .dataframe tbody tr th {\n",
       "        vertical-align: top;\n",
       "    }\n",
       "\n",
       "    .dataframe thead th {\n",
       "        text-align: right;\n",
       "    }\n",
       "</style>\n",
       "<table border=\"1\" class=\"dataframe\">\n",
       "  <thead>\n",
       "    <tr style=\"text-align: right;\">\n",
       "      <th></th>\n",
       "      <th>FIPS</th>\n",
       "      <th>Admin2</th>\n",
       "      <th>Province_State</th>\n",
       "      <th>Last_Update</th>\n",
       "      <th>Lat</th>\n",
       "      <th>Long_</th>\n",
       "      <th>Confirmed</th>\n",
       "      <th>Deaths</th>\n",
       "      <th>Recovered</th>\n",
       "      <th>Active</th>\n",
       "      <th>Combined_Key</th>\n",
       "    </tr>\n",
       "    <tr>\n",
       "      <th>Country_Region</th>\n",
       "      <th></th>\n",
       "      <th></th>\n",
       "      <th></th>\n",
       "      <th></th>\n",
       "      <th></th>\n",
       "      <th></th>\n",
       "      <th></th>\n",
       "      <th></th>\n",
       "      <th></th>\n",
       "      <th></th>\n",
       "      <th></th>\n",
       "    </tr>\n",
       "  </thead>\n",
       "  <tbody>\n",
       "    <tr>\n",
       "      <th>US</th>\n",
       "      <td>45001.0</td>\n",
       "      <td>Abbeville</td>\n",
       "      <td>South Carolina</td>\n",
       "      <td>2020-04-19 23:41:01</td>\n",
       "      <td>34.223334</td>\n",
       "      <td>-82.461707</td>\n",
       "      <td>17</td>\n",
       "      <td>0</td>\n",
       "      <td>0</td>\n",
       "      <td>17</td>\n",
       "      <td>Abbeville, South Carolina, US</td>\n",
       "    </tr>\n",
       "    <tr>\n",
       "      <th>US</th>\n",
       "      <td>22001.0</td>\n",
       "      <td>Acadia</td>\n",
       "      <td>Louisiana</td>\n",
       "      <td>2020-04-19 23:41:01</td>\n",
       "      <td>30.295065</td>\n",
       "      <td>-92.414197</td>\n",
       "      <td>110</td>\n",
       "      <td>7</td>\n",
       "      <td>0</td>\n",
       "      <td>103</td>\n",
       "      <td>Acadia, Louisiana, US</td>\n",
       "    </tr>\n",
       "  </tbody>\n",
       "</table>\n",
       "</div>"
      ],
      "text/plain": [
       "                   FIPS     Admin2  Province_State          Last_Update  \\\n",
       "Country_Region                                                            \n",
       "US              45001.0  Abbeville  South Carolina  2020-04-19 23:41:01   \n",
       "US              22001.0     Acadia       Louisiana  2020-04-19 23:41:01   \n",
       "\n",
       "                      Lat      Long_  Confirmed  Deaths  Recovered  Active  \\\n",
       "Country_Region                                                               \n",
       "US              34.223334 -82.461707         17       0          0      17   \n",
       "US              30.295065 -92.414197        110       7          0     103   \n",
       "\n",
       "                                 Combined_Key  \n",
       "Country_Region                                 \n",
       "US              Abbeville, South Carolina, US  \n",
       "US                      Acadia, Louisiana, US  "
      ]
     },
     "execution_count": 11,
     "metadata": {},
     "output_type": "execute_result"
    }
   ],
   "source": [
    "## Pour enregitrer ce DataFrame en memoire le changement d'indexe on utilise \n",
    "#df_covid=df_covid.set_index('Country_Region').head()\n",
    "#df_covid\n",
    "df_covid.set_index('Country_Region',inplace=True)\n",
    "df_covid.head(2)"
   ]
  },
  {
   "cell_type": "code",
   "execution_count": 12,
   "id": "28d0cc10",
   "metadata": {},
   "outputs": [
    {
     "data": {
      "text/html": [
       "<div>\n",
       "<style scoped>\n",
       "    .dataframe tbody tr th:only-of-type {\n",
       "        vertical-align: middle;\n",
       "    }\n",
       "\n",
       "    .dataframe tbody tr th {\n",
       "        vertical-align: top;\n",
       "    }\n",
       "\n",
       "    .dataframe thead th {\n",
       "        text-align: right;\n",
       "    }\n",
       "</style>\n",
       "<table border=\"1\" class=\"dataframe\">\n",
       "  <thead>\n",
       "    <tr style=\"text-align: right;\">\n",
       "      <th></th>\n",
       "      <th>Country_Region</th>\n",
       "      <th>FIPS</th>\n",
       "      <th>Admin2</th>\n",
       "      <th>Province_State</th>\n",
       "      <th>Last_Update</th>\n",
       "      <th>Lat</th>\n",
       "      <th>Long_</th>\n",
       "      <th>Confirmed</th>\n",
       "      <th>Deaths</th>\n",
       "      <th>Recovered</th>\n",
       "      <th>Active</th>\n",
       "      <th>Combined_Key</th>\n",
       "    </tr>\n",
       "  </thead>\n",
       "  <tbody>\n",
       "    <tr>\n",
       "      <th>0</th>\n",
       "      <td>US</td>\n",
       "      <td>45001.0</td>\n",
       "      <td>Abbeville</td>\n",
       "      <td>South Carolina</td>\n",
       "      <td>2020-04-19 23:41:01</td>\n",
       "      <td>34.223334</td>\n",
       "      <td>-82.461707</td>\n",
       "      <td>17</td>\n",
       "      <td>0</td>\n",
       "      <td>0</td>\n",
       "      <td>17</td>\n",
       "      <td>Abbeville, South Carolina, US</td>\n",
       "    </tr>\n",
       "    <tr>\n",
       "      <th>1</th>\n",
       "      <td>US</td>\n",
       "      <td>22001.0</td>\n",
       "      <td>Acadia</td>\n",
       "      <td>Louisiana</td>\n",
       "      <td>2020-04-19 23:41:01</td>\n",
       "      <td>30.295065</td>\n",
       "      <td>-92.414197</td>\n",
       "      <td>110</td>\n",
       "      <td>7</td>\n",
       "      <td>0</td>\n",
       "      <td>103</td>\n",
       "      <td>Acadia, Louisiana, US</td>\n",
       "    </tr>\n",
       "    <tr>\n",
       "      <th>2</th>\n",
       "      <td>US</td>\n",
       "      <td>51001.0</td>\n",
       "      <td>Accomack</td>\n",
       "      <td>Virginia</td>\n",
       "      <td>2020-04-19 23:41:01</td>\n",
       "      <td>37.767072</td>\n",
       "      <td>-75.632346</td>\n",
       "      <td>42</td>\n",
       "      <td>0</td>\n",
       "      <td>0</td>\n",
       "      <td>42</td>\n",
       "      <td>Accomack, Virginia, US</td>\n",
       "    </tr>\n",
       "    <tr>\n",
       "      <th>3</th>\n",
       "      <td>US</td>\n",
       "      <td>16001.0</td>\n",
       "      <td>Ada</td>\n",
       "      <td>Idaho</td>\n",
       "      <td>2020-04-19 23:41:01</td>\n",
       "      <td>43.452658</td>\n",
       "      <td>-116.241552</td>\n",
       "      <td>598</td>\n",
       "      <td>10</td>\n",
       "      <td>0</td>\n",
       "      <td>588</td>\n",
       "      <td>Ada, Idaho, US</td>\n",
       "    </tr>\n",
       "    <tr>\n",
       "      <th>4</th>\n",
       "      <td>US</td>\n",
       "      <td>19001.0</td>\n",
       "      <td>Adair</td>\n",
       "      <td>Iowa</td>\n",
       "      <td>2020-04-19 23:41:01</td>\n",
       "      <td>41.330756</td>\n",
       "      <td>-94.471059</td>\n",
       "      <td>1</td>\n",
       "      <td>0</td>\n",
       "      <td>0</td>\n",
       "      <td>1</td>\n",
       "      <td>Adair, Iowa, US</td>\n",
       "    </tr>\n",
       "    <tr>\n",
       "      <th>...</th>\n",
       "      <td>...</td>\n",
       "      <td>...</td>\n",
       "      <td>...</td>\n",
       "      <td>...</td>\n",
       "      <td>...</td>\n",
       "      <td>...</td>\n",
       "      <td>...</td>\n",
       "      <td>...</td>\n",
       "      <td>...</td>\n",
       "      <td>...</td>\n",
       "      <td>...</td>\n",
       "      <td>...</td>\n",
       "    </tr>\n",
       "    <tr>\n",
       "      <th>3096</th>\n",
       "      <td>Winter Olympics 2022</td>\n",
       "      <td>NaN</td>\n",
       "      <td>NaN</td>\n",
       "      <td>NaN</td>\n",
       "      <td>2020-04-19 23:41:01</td>\n",
       "      <td>39.904200</td>\n",
       "      <td>116.407400</td>\n",
       "      <td>0</td>\n",
       "      <td>0</td>\n",
       "      <td>0</td>\n",
       "      <td>0</td>\n",
       "      <td>Winter Olympics 2022</td>\n",
       "    </tr>\n",
       "    <tr>\n",
       "      <th>3097</th>\n",
       "      <td>Antarctica</td>\n",
       "      <td>NaN</td>\n",
       "      <td>NaN</td>\n",
       "      <td>NaN</td>\n",
       "      <td>2020-04-19 23:41:01</td>\n",
       "      <td>-71.949900</td>\n",
       "      <td>23.347000</td>\n",
       "      <td>0</td>\n",
       "      <td>0</td>\n",
       "      <td>0</td>\n",
       "      <td>0</td>\n",
       "      <td>Antarctica</td>\n",
       "    </tr>\n",
       "    <tr>\n",
       "      <th>3098</th>\n",
       "      <td>United Kingdom</td>\n",
       "      <td>NaN</td>\n",
       "      <td>NaN</td>\n",
       "      <td>Jersey</td>\n",
       "      <td>2020-04-19 23:41:01</td>\n",
       "      <td>49.213800</td>\n",
       "      <td>-2.135800</td>\n",
       "      <td>230</td>\n",
       "      <td>11</td>\n",
       "      <td>0</td>\n",
       "      <td>0</td>\n",
       "      <td>Jersey, United Kingdom</td>\n",
       "    </tr>\n",
       "    <tr>\n",
       "      <th>3099</th>\n",
       "      <td>United Kingdom</td>\n",
       "      <td>NaN</td>\n",
       "      <td>NaN</td>\n",
       "      <td>Guernsey</td>\n",
       "      <td>2020-04-19 23:41:01</td>\n",
       "      <td>49.448196</td>\n",
       "      <td>-2.589490</td>\n",
       "      <td>239</td>\n",
       "      <td>13</td>\n",
       "      <td>0</td>\n",
       "      <td>0</td>\n",
       "      <td>Guernsey, United Kingdom</td>\n",
       "    </tr>\n",
       "    <tr>\n",
       "      <th>3100</th>\n",
       "      <td>Korea, North</td>\n",
       "      <td>NaN</td>\n",
       "      <td>NaN</td>\n",
       "      <td>NaN</td>\n",
       "      <td>2020-04-19 23:41:01</td>\n",
       "      <td>40.339900</td>\n",
       "      <td>127.510100</td>\n",
       "      <td>0</td>\n",
       "      <td>0</td>\n",
       "      <td>0</td>\n",
       "      <td>0</td>\n",
       "      <td>Korea, North</td>\n",
       "    </tr>\n",
       "  </tbody>\n",
       "</table>\n",
       "<p>3101 rows × 12 columns</p>\n",
       "</div>"
      ],
      "text/plain": [
       "            Country_Region     FIPS     Admin2  Province_State  \\\n",
       "0                       US  45001.0  Abbeville  South Carolina   \n",
       "1                       US  22001.0     Acadia       Louisiana   \n",
       "2                       US  51001.0   Accomack        Virginia   \n",
       "3                       US  16001.0        Ada           Idaho   \n",
       "4                       US  19001.0      Adair            Iowa   \n",
       "...                    ...      ...        ...             ...   \n",
       "3096  Winter Olympics 2022      NaN        NaN             NaN   \n",
       "3097            Antarctica      NaN        NaN             NaN   \n",
       "3098        United Kingdom      NaN        NaN          Jersey   \n",
       "3099        United Kingdom      NaN        NaN        Guernsey   \n",
       "3100          Korea, North      NaN        NaN             NaN   \n",
       "\n",
       "              Last_Update        Lat       Long_  Confirmed  Deaths  \\\n",
       "0     2020-04-19 23:41:01  34.223334  -82.461707         17       0   \n",
       "1     2020-04-19 23:41:01  30.295065  -92.414197        110       7   \n",
       "2     2020-04-19 23:41:01  37.767072  -75.632346         42       0   \n",
       "3     2020-04-19 23:41:01  43.452658 -116.241552        598      10   \n",
       "4     2020-04-19 23:41:01  41.330756  -94.471059          1       0   \n",
       "...                   ...        ...         ...        ...     ...   \n",
       "3096  2020-04-19 23:41:01  39.904200  116.407400          0       0   \n",
       "3097  2020-04-19 23:41:01 -71.949900   23.347000          0       0   \n",
       "3098  2020-04-19 23:41:01  49.213800   -2.135800        230      11   \n",
       "3099  2020-04-19 23:41:01  49.448196   -2.589490        239      13   \n",
       "3100  2020-04-19 23:41:01  40.339900  127.510100          0       0   \n",
       "\n",
       "      Recovered  Active                   Combined_Key  \n",
       "0             0      17  Abbeville, South Carolina, US  \n",
       "1             0     103          Acadia, Louisiana, US  \n",
       "2             0      42         Accomack, Virginia, US  \n",
       "3             0     588                 Ada, Idaho, US  \n",
       "4             0       1                Adair, Iowa, US  \n",
       "...         ...     ...                            ...  \n",
       "3096          0       0           Winter Olympics 2022  \n",
       "3097          0       0                     Antarctica  \n",
       "3098          0       0         Jersey, United Kingdom  \n",
       "3099          0       0       Guernsey, United Kingdom  \n",
       "3100          0       0                   Korea, North  \n",
       "\n",
       "[3101 rows x 12 columns]"
      ]
     },
     "execution_count": 12,
     "metadata": {},
     "output_type": "execute_result"
    }
   ],
   "source": [
    "df_covid=df_covid.reset_index()\n",
    "df_covid"
   ]
  },
  {
   "cell_type": "code",
   "execution_count": 13,
   "id": "62719eae",
   "metadata": {},
   "outputs": [],
   "source": [
    "#df_covid=df_covid.reset_index(drop=True)\n",
    "#df_covid"
   ]
  },
  {
   "cell_type": "code",
   "execution_count": 14,
   "id": "1b0bc1a5",
   "metadata": {},
   "outputs": [
    {
     "data": {
      "text/html": [
       "<div>\n",
       "<style scoped>\n",
       "    .dataframe tbody tr th:only-of-type {\n",
       "        vertical-align: middle;\n",
       "    }\n",
       "\n",
       "    .dataframe tbody tr th {\n",
       "        vertical-align: top;\n",
       "    }\n",
       "\n",
       "    .dataframe thead th {\n",
       "        text-align: right;\n",
       "    }\n",
       "</style>\n",
       "<table border=\"1\" class=\"dataframe\">\n",
       "  <thead>\n",
       "    <tr style=\"text-align: right;\">\n",
       "      <th></th>\n",
       "      <th>Country_Region</th>\n",
       "      <th>FIPS</th>\n",
       "      <th>Admin</th>\n",
       "      <th>Province_State</th>\n",
       "      <th>Last_Update</th>\n",
       "      <th>Lat</th>\n",
       "      <th>Long_</th>\n",
       "      <th>Confirmed</th>\n",
       "      <th>Deaths</th>\n",
       "      <th>Recovered</th>\n",
       "      <th>Active</th>\n",
       "      <th>Combined_Key</th>\n",
       "    </tr>\n",
       "  </thead>\n",
       "  <tbody>\n",
       "    <tr>\n",
       "      <th>0</th>\n",
       "      <td>US</td>\n",
       "      <td>45001.0</td>\n",
       "      <td>Abbeville</td>\n",
       "      <td>South Carolina</td>\n",
       "      <td>2020-04-19 23:41:01</td>\n",
       "      <td>34.223334</td>\n",
       "      <td>-82.461707</td>\n",
       "      <td>17</td>\n",
       "      <td>0</td>\n",
       "      <td>0</td>\n",
       "      <td>17</td>\n",
       "      <td>Abbeville, South Carolina, US</td>\n",
       "    </tr>\n",
       "    <tr>\n",
       "      <th>1</th>\n",
       "      <td>US</td>\n",
       "      <td>22001.0</td>\n",
       "      <td>Acadia</td>\n",
       "      <td>Louisiana</td>\n",
       "      <td>2020-04-19 23:41:01</td>\n",
       "      <td>30.295065</td>\n",
       "      <td>-92.414197</td>\n",
       "      <td>110</td>\n",
       "      <td>7</td>\n",
       "      <td>0</td>\n",
       "      <td>103</td>\n",
       "      <td>Acadia, Louisiana, US</td>\n",
       "    </tr>\n",
       "  </tbody>\n",
       "</table>\n",
       "</div>"
      ],
      "text/plain": [
       "  Country_Region     FIPS      Admin  Province_State          Last_Update  \\\n",
       "0             US  45001.0  Abbeville  South Carolina  2020-04-19 23:41:01   \n",
       "1             US  22001.0     Acadia       Louisiana  2020-04-19 23:41:01   \n",
       "\n",
       "         Lat      Long_  Confirmed  Deaths  Recovered  Active  \\\n",
       "0  34.223334 -82.461707         17       0          0      17   \n",
       "1  30.295065 -92.414197        110       7          0     103   \n",
       "\n",
       "                    Combined_Key  \n",
       "0  Abbeville, South Carolina, US  \n",
       "1          Acadia, Louisiana, US  "
      ]
     },
     "execution_count": 14,
     "metadata": {},
     "output_type": "execute_result"
    }
   ],
   "source": [
    "## Rénommer une collonne\n",
    "df_covid.rename(columns={'Admin2':'Admin'},inplace=True)\n",
    "df_covid.head(2)"
   ]
  },
  {
   "cell_type": "code",
   "execution_count": 15,
   "id": "48ea8c6d",
   "metadata": {},
   "outputs": [
    {
     "data": {
      "text/plain": [
       "0        True\n",
       "1        True\n",
       "2        True\n",
       "3        True\n",
       "4        True\n",
       "        ...  \n",
       "3096    False\n",
       "3097    False\n",
       "3098    False\n",
       "3099    False\n",
       "3100    False\n",
       "Name: Country_Region, Length: 3101, dtype: bool"
      ]
     },
     "execution_count": 15,
     "metadata": {},
     "output_type": "execute_result"
    }
   ],
   "source": [
    "#accéder aux données\n",
    "# boolean , selectionner certaines données\n",
    "\n",
    "df_covid['Country_Region'] == 'US'"
   ]
  },
  {
   "cell_type": "code",
   "execution_count": 16,
   "id": "392fd925",
   "metadata": {},
   "outputs": [
    {
     "data": {
      "text/plain": [
       "(3101, 12)"
      ]
     },
     "execution_count": 16,
     "metadata": {},
     "output_type": "execute_result"
    }
   ],
   "source": [
    "df_covid.shape"
   ]
  },
  {
   "cell_type": "code",
   "execution_count": 17,
   "id": "5f68707e",
   "metadata": {},
   "outputs": [
    {
     "data": {
      "text/html": [
       "<div>\n",
       "<style scoped>\n",
       "    .dataframe tbody tr th:only-of-type {\n",
       "        vertical-align: middle;\n",
       "    }\n",
       "\n",
       "    .dataframe tbody tr th {\n",
       "        vertical-align: top;\n",
       "    }\n",
       "\n",
       "    .dataframe thead th {\n",
       "        text-align: right;\n",
       "    }\n",
       "</style>\n",
       "<table border=\"1\" class=\"dataframe\">\n",
       "  <thead>\n",
       "    <tr style=\"text-align: right;\">\n",
       "      <th></th>\n",
       "      <th>Country_Region</th>\n",
       "      <th>FIPS</th>\n",
       "      <th>Admin</th>\n",
       "      <th>Province_State</th>\n",
       "      <th>Last_Update</th>\n",
       "      <th>Lat</th>\n",
       "      <th>Long_</th>\n",
       "      <th>Confirmed</th>\n",
       "      <th>Deaths</th>\n",
       "      <th>Recovered</th>\n",
       "      <th>Active</th>\n",
       "      <th>Combined_Key</th>\n",
       "    </tr>\n",
       "  </thead>\n",
       "  <tbody>\n",
       "    <tr>\n",
       "      <th>0</th>\n",
       "      <td>US</td>\n",
       "      <td>45001.0</td>\n",
       "      <td>Abbeville</td>\n",
       "      <td>South Carolina</td>\n",
       "      <td>2020-04-19 23:41:01</td>\n",
       "      <td>34.223334</td>\n",
       "      <td>-82.461707</td>\n",
       "      <td>17</td>\n",
       "      <td>0</td>\n",
       "      <td>0</td>\n",
       "      <td>17</td>\n",
       "      <td>Abbeville, South Carolina, US</td>\n",
       "    </tr>\n",
       "    <tr>\n",
       "      <th>1</th>\n",
       "      <td>US</td>\n",
       "      <td>22001.0</td>\n",
       "      <td>Acadia</td>\n",
       "      <td>Louisiana</td>\n",
       "      <td>2020-04-19 23:41:01</td>\n",
       "      <td>30.295065</td>\n",
       "      <td>-92.414197</td>\n",
       "      <td>110</td>\n",
       "      <td>7</td>\n",
       "      <td>0</td>\n",
       "      <td>103</td>\n",
       "      <td>Acadia, Louisiana, US</td>\n",
       "    </tr>\n",
       "    <tr>\n",
       "      <th>2</th>\n",
       "      <td>US</td>\n",
       "      <td>51001.0</td>\n",
       "      <td>Accomack</td>\n",
       "      <td>Virginia</td>\n",
       "      <td>2020-04-19 23:41:01</td>\n",
       "      <td>37.767072</td>\n",
       "      <td>-75.632346</td>\n",
       "      <td>42</td>\n",
       "      <td>0</td>\n",
       "      <td>0</td>\n",
       "      <td>42</td>\n",
       "      <td>Accomack, Virginia, US</td>\n",
       "    </tr>\n",
       "    <tr>\n",
       "      <th>3</th>\n",
       "      <td>US</td>\n",
       "      <td>16001.0</td>\n",
       "      <td>Ada</td>\n",
       "      <td>Idaho</td>\n",
       "      <td>2020-04-19 23:41:01</td>\n",
       "      <td>43.452658</td>\n",
       "      <td>-116.241552</td>\n",
       "      <td>598</td>\n",
       "      <td>10</td>\n",
       "      <td>0</td>\n",
       "      <td>588</td>\n",
       "      <td>Ada, Idaho, US</td>\n",
       "    </tr>\n",
       "    <tr>\n",
       "      <th>4</th>\n",
       "      <td>US</td>\n",
       "      <td>19001.0</td>\n",
       "      <td>Adair</td>\n",
       "      <td>Iowa</td>\n",
       "      <td>2020-04-19 23:41:01</td>\n",
       "      <td>41.330756</td>\n",
       "      <td>-94.471059</td>\n",
       "      <td>1</td>\n",
       "      <td>0</td>\n",
       "      <td>0</td>\n",
       "      <td>1</td>\n",
       "      <td>Adair, Iowa, US</td>\n",
       "    </tr>\n",
       "    <tr>\n",
       "      <th>...</th>\n",
       "      <td>...</td>\n",
       "      <td>...</td>\n",
       "      <td>...</td>\n",
       "      <td>...</td>\n",
       "      <td>...</td>\n",
       "      <td>...</td>\n",
       "      <td>...</td>\n",
       "      <td>...</td>\n",
       "      <td>...</td>\n",
       "      <td>...</td>\n",
       "      <td>...</td>\n",
       "      <td>...</td>\n",
       "    </tr>\n",
       "    <tr>\n",
       "      <th>2829</th>\n",
       "      <td>US</td>\n",
       "      <td>66.0</td>\n",
       "      <td>NaN</td>\n",
       "      <td>Guam</td>\n",
       "      <td>2020-04-19 23:41:01</td>\n",
       "      <td>13.444300</td>\n",
       "      <td>144.793700</td>\n",
       "      <td>136</td>\n",
       "      <td>5</td>\n",
       "      <td>0</td>\n",
       "      <td>131</td>\n",
       "      <td>Guam, US</td>\n",
       "    </tr>\n",
       "    <tr>\n",
       "      <th>2856</th>\n",
       "      <td>US</td>\n",
       "      <td>69.0</td>\n",
       "      <td>NaN</td>\n",
       "      <td>Northern Mariana Islands</td>\n",
       "      <td>2020-04-19 23:41:01</td>\n",
       "      <td>15.097900</td>\n",
       "      <td>145.673900</td>\n",
       "      <td>14</td>\n",
       "      <td>2</td>\n",
       "      <td>0</td>\n",
       "      <td>12</td>\n",
       "      <td>Northern Mariana Islands, US</td>\n",
       "    </tr>\n",
       "    <tr>\n",
       "      <th>2863</th>\n",
       "      <td>US</td>\n",
       "      <td>72.0</td>\n",
       "      <td>NaN</td>\n",
       "      <td>Puerto Rico</td>\n",
       "      <td>2020-04-19 23:41:01</td>\n",
       "      <td>18.220800</td>\n",
       "      <td>-66.590100</td>\n",
       "      <td>1213</td>\n",
       "      <td>62</td>\n",
       "      <td>0</td>\n",
       "      <td>1151</td>\n",
       "      <td>Puerto Rico, US</td>\n",
       "    </tr>\n",
       "    <tr>\n",
       "      <th>2868</th>\n",
       "      <td>US</td>\n",
       "      <td>NaN</td>\n",
       "      <td>NaN</td>\n",
       "      <td>Recovered</td>\n",
       "      <td>2020-04-19 23:41:01</td>\n",
       "      <td>NaN</td>\n",
       "      <td>NaN</td>\n",
       "      <td>0</td>\n",
       "      <td>0</td>\n",
       "      <td>70337</td>\n",
       "      <td>0</td>\n",
       "      <td>Recovered, US</td>\n",
       "    </tr>\n",
       "    <tr>\n",
       "      <th>2887</th>\n",
       "      <td>US</td>\n",
       "      <td>78.0</td>\n",
       "      <td>NaN</td>\n",
       "      <td>Virgin Islands</td>\n",
       "      <td>2020-04-19 23:41:01</td>\n",
       "      <td>18.335800</td>\n",
       "      <td>-64.896300</td>\n",
       "      <td>53</td>\n",
       "      <td>3</td>\n",
       "      <td>0</td>\n",
       "      <td>50</td>\n",
       "      <td>Virgin Islands, US</td>\n",
       "    </tr>\n",
       "  </tbody>\n",
       "</table>\n",
       "<p>2810 rows × 12 columns</p>\n",
       "</div>"
      ],
      "text/plain": [
       "     Country_Region     FIPS      Admin            Province_State  \\\n",
       "0                US  45001.0  Abbeville            South Carolina   \n",
       "1                US  22001.0     Acadia                 Louisiana   \n",
       "2                US  51001.0   Accomack                  Virginia   \n",
       "3                US  16001.0        Ada                     Idaho   \n",
       "4                US  19001.0      Adair                      Iowa   \n",
       "...             ...      ...        ...                       ...   \n",
       "2829             US     66.0        NaN                      Guam   \n",
       "2856             US     69.0        NaN  Northern Mariana Islands   \n",
       "2863             US     72.0        NaN               Puerto Rico   \n",
       "2868             US      NaN        NaN                 Recovered   \n",
       "2887             US     78.0        NaN            Virgin Islands   \n",
       "\n",
       "              Last_Update        Lat       Long_  Confirmed  Deaths  \\\n",
       "0     2020-04-19 23:41:01  34.223334  -82.461707         17       0   \n",
       "1     2020-04-19 23:41:01  30.295065  -92.414197        110       7   \n",
       "2     2020-04-19 23:41:01  37.767072  -75.632346         42       0   \n",
       "3     2020-04-19 23:41:01  43.452658 -116.241552        598      10   \n",
       "4     2020-04-19 23:41:01  41.330756  -94.471059          1       0   \n",
       "...                   ...        ...         ...        ...     ...   \n",
       "2829  2020-04-19 23:41:01  13.444300  144.793700        136       5   \n",
       "2856  2020-04-19 23:41:01  15.097900  145.673900         14       2   \n",
       "2863  2020-04-19 23:41:01  18.220800  -66.590100       1213      62   \n",
       "2868  2020-04-19 23:41:01        NaN         NaN          0       0   \n",
       "2887  2020-04-19 23:41:01  18.335800  -64.896300         53       3   \n",
       "\n",
       "      Recovered  Active                   Combined_Key  \n",
       "0             0      17  Abbeville, South Carolina, US  \n",
       "1             0     103          Acadia, Louisiana, US  \n",
       "2             0      42         Accomack, Virginia, US  \n",
       "3             0     588                 Ada, Idaho, US  \n",
       "4             0       1                Adair, Iowa, US  \n",
       "...         ...     ...                            ...  \n",
       "2829          0     131                       Guam, US  \n",
       "2856          0      12   Northern Mariana Islands, US  \n",
       "2863          0    1151                Puerto Rico, US  \n",
       "2868      70337       0                  Recovered, US  \n",
       "2887          0      50             Virgin Islands, US  \n",
       "\n",
       "[2810 rows x 12 columns]"
      ]
     },
     "execution_count": 17,
     "metadata": {},
     "output_type": "execute_result"
    }
   ],
   "source": [
    "df_covid[df_covid['Country_Region'] == 'US']"
   ]
  },
  {
   "cell_type": "code",
   "execution_count": 18,
   "id": "5bfb0a84",
   "metadata": {},
   "outputs": [
    {
     "data": {
      "text/plain": [
       "90.61593034504999"
      ]
     },
     "execution_count": 18,
     "metadata": {},
     "output_type": "execute_result"
    }
   ],
   "source": [
    "(df_covid[df_covid['Country_Region']=='US'].shape[0]/df_covid.shape[0])*100"
   ]
  },
  {
   "cell_type": "code",
   "execution_count": 19,
   "id": "19e9b24a",
   "metadata": {},
   "outputs": [
    {
     "data": {
      "text/plain": [
       "Index(['Country_Region', 'FIPS', 'Admin', 'Province_State', 'Last_Update',\n",
       "       'Lat', 'Long_', 'Confirmed', 'Deaths', 'Recovered', 'Active',\n",
       "       'Combined_Key'],\n",
       "      dtype='object')"
      ]
     },
     "execution_count": 19,
     "metadata": {},
     "output_type": "execute_result"
    }
   ],
   "source": [
    "df_covid.columns"
   ]
  },
  {
   "cell_type": "code",
   "execution_count": 20,
   "id": "7d5a5046",
   "metadata": {},
   "outputs": [
    {
     "data": {
      "text/html": [
       "<div>\n",
       "<style scoped>\n",
       "    .dataframe tbody tr th:only-of-type {\n",
       "        vertical-align: middle;\n",
       "    }\n",
       "\n",
       "    .dataframe tbody tr th {\n",
       "        vertical-align: top;\n",
       "    }\n",
       "\n",
       "    .dataframe thead th {\n",
       "        text-align: right;\n",
       "    }\n",
       "</style>\n",
       "<table border=\"1\" class=\"dataframe\">\n",
       "  <thead>\n",
       "    <tr style=\"text-align: right;\">\n",
       "      <th></th>\n",
       "      <th>Confirmed</th>\n",
       "      <th>Deaths</th>\n",
       "      <th>Recovered</th>\n",
       "      <th>Active</th>\n",
       "    </tr>\n",
       "  </thead>\n",
       "  <tbody>\n",
       "    <tr>\n",
       "      <th>0</th>\n",
       "      <td>17</td>\n",
       "      <td>0</td>\n",
       "      <td>0</td>\n",
       "      <td>17</td>\n",
       "    </tr>\n",
       "    <tr>\n",
       "      <th>1</th>\n",
       "      <td>110</td>\n",
       "      <td>7</td>\n",
       "      <td>0</td>\n",
       "      <td>103</td>\n",
       "    </tr>\n",
       "    <tr>\n",
       "      <th>2</th>\n",
       "      <td>42</td>\n",
       "      <td>0</td>\n",
       "      <td>0</td>\n",
       "      <td>42</td>\n",
       "    </tr>\n",
       "    <tr>\n",
       "      <th>3</th>\n",
       "      <td>598</td>\n",
       "      <td>10</td>\n",
       "      <td>0</td>\n",
       "      <td>588</td>\n",
       "    </tr>\n",
       "    <tr>\n",
       "      <th>4</th>\n",
       "      <td>1</td>\n",
       "      <td>0</td>\n",
       "      <td>0</td>\n",
       "      <td>1</td>\n",
       "    </tr>\n",
       "    <tr>\n",
       "      <th>...</th>\n",
       "      <td>...</td>\n",
       "      <td>...</td>\n",
       "      <td>...</td>\n",
       "      <td>...</td>\n",
       "    </tr>\n",
       "    <tr>\n",
       "      <th>3096</th>\n",
       "      <td>0</td>\n",
       "      <td>0</td>\n",
       "      <td>0</td>\n",
       "      <td>0</td>\n",
       "    </tr>\n",
       "    <tr>\n",
       "      <th>3097</th>\n",
       "      <td>0</td>\n",
       "      <td>0</td>\n",
       "      <td>0</td>\n",
       "      <td>0</td>\n",
       "    </tr>\n",
       "    <tr>\n",
       "      <th>3098</th>\n",
       "      <td>230</td>\n",
       "      <td>11</td>\n",
       "      <td>0</td>\n",
       "      <td>0</td>\n",
       "    </tr>\n",
       "    <tr>\n",
       "      <th>3099</th>\n",
       "      <td>239</td>\n",
       "      <td>13</td>\n",
       "      <td>0</td>\n",
       "      <td>0</td>\n",
       "    </tr>\n",
       "    <tr>\n",
       "      <th>3100</th>\n",
       "      <td>0</td>\n",
       "      <td>0</td>\n",
       "      <td>0</td>\n",
       "      <td>0</td>\n",
       "    </tr>\n",
       "  </tbody>\n",
       "</table>\n",
       "<p>3101 rows × 4 columns</p>\n",
       "</div>"
      ],
      "text/plain": [
       "      Confirmed  Deaths  Recovered  Active\n",
       "0            17       0          0      17\n",
       "1           110       7          0     103\n",
       "2            42       0          0      42\n",
       "3           598      10          0     588\n",
       "4             1       0          0       1\n",
       "...         ...     ...        ...     ...\n",
       "3096          0       0          0       0\n",
       "3097          0       0          0       0\n",
       "3098        230      11          0       0\n",
       "3099        239      13          0       0\n",
       "3100          0       0          0       0\n",
       "\n",
       "[3101 rows x 4 columns]"
      ]
     },
     "execution_count": 20,
     "metadata": {},
     "output_type": "execute_result"
    }
   ],
   "source": [
    "df_covid[['Confirmed', 'Deaths', 'Recovered', 'Active']]"
   ]
  },
  {
   "cell_type": "code",
   "execution_count": 23,
   "id": "52109360",
   "metadata": {},
   "outputs": [
    {
     "name": "stdout",
     "output_type": "stream",
     "text": [
      "<class 'pandas.core.frame.DataFrame'>\n",
      "RangeIndex: 3101 entries, 0 to 3100\n",
      "Data columns (total 12 columns):\n",
      " #   Column          Non-Null Count  Dtype  \n",
      "---  ------          --------------  -----  \n",
      " 0   Country_Region  3101 non-null   object \n",
      " 1   FIPS            2799 non-null   float64\n",
      " 2   Admin           2803 non-null   object \n",
      " 3   Province_State  2914 non-null   object \n",
      " 4   Last_Update     3101 non-null   object \n",
      " 5   Lat             3039 non-null   float64\n",
      " 6   Long_           3039 non-null   float64\n",
      " 7   Confirmed       3101 non-null   int64  \n",
      " 8   Deaths          3101 non-null   int64  \n",
      " 9   Recovered       3101 non-null   int64  \n",
      " 10  Active          3101 non-null   int64  \n",
      " 11  Combined_Key    3101 non-null   object \n",
      "dtypes: float64(3), int64(4), object(5)\n",
      "memory usage: 290.8+ KB\n"
     ]
    }
   ],
   "source": [
    "df_covid.info()"
   ]
  },
  {
   "cell_type": "code",
   "execution_count": 24,
   "id": "aecd894e",
   "metadata": {},
   "outputs": [
    {
     "data": {
      "text/html": [
       "<div>\n",
       "<style scoped>\n",
       "    .dataframe tbody tr th:only-of-type {\n",
       "        vertical-align: middle;\n",
       "    }\n",
       "\n",
       "    .dataframe tbody tr th {\n",
       "        vertical-align: top;\n",
       "    }\n",
       "\n",
       "    .dataframe thead th {\n",
       "        text-align: right;\n",
       "    }\n",
       "</style>\n",
       "<table border=\"1\" class=\"dataframe\">\n",
       "  <thead>\n",
       "    <tr style=\"text-align: right;\">\n",
       "      <th></th>\n",
       "      <th>Deaths</th>\n",
       "      <th>Active</th>\n",
       "    </tr>\n",
       "    <tr>\n",
       "      <th>Country_Region</th>\n",
       "      <th></th>\n",
       "      <th></th>\n",
       "    </tr>\n",
       "  </thead>\n",
       "  <tbody>\n",
       "    <tr>\n",
       "      <th>US</th>\n",
       "      <td>0</td>\n",
       "      <td>17</td>\n",
       "    </tr>\n",
       "    <tr>\n",
       "      <th>US</th>\n",
       "      <td>7</td>\n",
       "      <td>103</td>\n",
       "    </tr>\n",
       "    <tr>\n",
       "      <th>US</th>\n",
       "      <td>0</td>\n",
       "      <td>42</td>\n",
       "    </tr>\n",
       "    <tr>\n",
       "      <th>US</th>\n",
       "      <td>10</td>\n",
       "      <td>588</td>\n",
       "    </tr>\n",
       "    <tr>\n",
       "      <th>US</th>\n",
       "      <td>0</td>\n",
       "      <td>1</td>\n",
       "    </tr>\n",
       "    <tr>\n",
       "      <th>...</th>\n",
       "      <td>...</td>\n",
       "      <td>...</td>\n",
       "    </tr>\n",
       "    <tr>\n",
       "      <th>US</th>\n",
       "      <td>5</td>\n",
       "      <td>131</td>\n",
       "    </tr>\n",
       "    <tr>\n",
       "      <th>US</th>\n",
       "      <td>2</td>\n",
       "      <td>12</td>\n",
       "    </tr>\n",
       "    <tr>\n",
       "      <th>US</th>\n",
       "      <td>62</td>\n",
       "      <td>1151</td>\n",
       "    </tr>\n",
       "    <tr>\n",
       "      <th>US</th>\n",
       "      <td>0</td>\n",
       "      <td>0</td>\n",
       "    </tr>\n",
       "    <tr>\n",
       "      <th>US</th>\n",
       "      <td>3</td>\n",
       "      <td>50</td>\n",
       "    </tr>\n",
       "  </tbody>\n",
       "</table>\n",
       "<p>2810 rows × 2 columns</p>\n",
       "</div>"
      ],
      "text/plain": [
       "                Deaths  Active\n",
       "Country_Region                \n",
       "US                   0      17\n",
       "US                   7     103\n",
       "US                   0      42\n",
       "US                  10     588\n",
       "US                   0       1\n",
       "...                ...     ...\n",
       "US                   5     131\n",
       "US                   2      12\n",
       "US                  62    1151\n",
       "US                   0       0\n",
       "US                   3      50\n",
       "\n",
       "[2810 rows x 2 columns]"
      ]
     },
     "execution_count": 24,
     "metadata": {},
     "output_type": "execute_result"
    }
   ],
   "source": [
    "df_covid.set_index('Country_Region').loc['US',{'Active','Deaths'}]"
   ]
  },
  {
   "cell_type": "code",
   "execution_count": 21,
   "id": "c7e26fa3",
   "metadata": {},
   "outputs": [
    {
     "data": {
      "text/html": [
       "<div>\n",
       "<style scoped>\n",
       "    .dataframe tbody tr th:only-of-type {\n",
       "        vertical-align: middle;\n",
       "    }\n",
       "\n",
       "    .dataframe tbody tr th {\n",
       "        vertical-align: top;\n",
       "    }\n",
       "\n",
       "    .dataframe thead th {\n",
       "        text-align: right;\n",
       "    }\n",
       "</style>\n",
       "<table border=\"1\" class=\"dataframe\">\n",
       "  <thead>\n",
       "    <tr style=\"text-align: right;\">\n",
       "      <th></th>\n",
       "      <th>Country_Region</th>\n",
       "      <th>Active</th>\n",
       "    </tr>\n",
       "  </thead>\n",
       "  <tbody>\n",
       "    <tr>\n",
       "      <th>0</th>\n",
       "      <td>US</td>\n",
       "      <td>17</td>\n",
       "    </tr>\n",
       "    <tr>\n",
       "      <th>1</th>\n",
       "      <td>US</td>\n",
       "      <td>103</td>\n",
       "    </tr>\n",
       "    <tr>\n",
       "      <th>2</th>\n",
       "      <td>US</td>\n",
       "      <td>42</td>\n",
       "    </tr>\n",
       "    <tr>\n",
       "      <th>3</th>\n",
       "      <td>US</td>\n",
       "      <td>588</td>\n",
       "    </tr>\n",
       "    <tr>\n",
       "      <th>4</th>\n",
       "      <td>US</td>\n",
       "      <td>1</td>\n",
       "    </tr>\n",
       "    <tr>\n",
       "      <th>...</th>\n",
       "      <td>...</td>\n",
       "      <td>...</td>\n",
       "    </tr>\n",
       "    <tr>\n",
       "      <th>3096</th>\n",
       "      <td>Winter Olympics 2022</td>\n",
       "      <td>0</td>\n",
       "    </tr>\n",
       "    <tr>\n",
       "      <th>3097</th>\n",
       "      <td>Antarctica</td>\n",
       "      <td>0</td>\n",
       "    </tr>\n",
       "    <tr>\n",
       "      <th>3098</th>\n",
       "      <td>United Kingdom</td>\n",
       "      <td>0</td>\n",
       "    </tr>\n",
       "    <tr>\n",
       "      <th>3099</th>\n",
       "      <td>United Kingdom</td>\n",
       "      <td>0</td>\n",
       "    </tr>\n",
       "    <tr>\n",
       "      <th>3100</th>\n",
       "      <td>Korea, North</td>\n",
       "      <td>0</td>\n",
       "    </tr>\n",
       "  </tbody>\n",
       "</table>\n",
       "<p>3101 rows × 2 columns</p>\n",
       "</div>"
      ],
      "text/plain": [
       "            Country_Region  Active\n",
       "0                       US      17\n",
       "1                       US     103\n",
       "2                       US      42\n",
       "3                       US     588\n",
       "4                       US       1\n",
       "...                    ...     ...\n",
       "3096  Winter Olympics 2022       0\n",
       "3097            Antarctica       0\n",
       "3098        United Kingdom       0\n",
       "3099        United Kingdom       0\n",
       "3100          Korea, North       0\n",
       "\n",
       "[3101 rows x 2 columns]"
      ]
     },
     "execution_count": 21,
     "metadata": {},
     "output_type": "execute_result"
    }
   ],
   "source": [
    "#Series serie[[index]], serie[ : numéro de ligne]\n",
    "#dataframe accéder à une colone df[colonne]\n",
    "df_covid[['Country_Region', 'Active']]"
   ]
  },
  {
   "cell_type": "code",
   "execution_count": 22,
   "id": "53e7d141",
   "metadata": {},
   "outputs": [
    {
     "data": {
      "text/html": [
       "<div>\n",
       "<style scoped>\n",
       "    .dataframe tbody tr th:only-of-type {\n",
       "        vertical-align: middle;\n",
       "    }\n",
       "\n",
       "    .dataframe tbody tr th {\n",
       "        vertical-align: top;\n",
       "    }\n",
       "\n",
       "    .dataframe thead th {\n",
       "        text-align: right;\n",
       "    }\n",
       "</style>\n",
       "<table border=\"1\" class=\"dataframe\">\n",
       "  <thead>\n",
       "    <tr style=\"text-align: right;\">\n",
       "      <th></th>\n",
       "      <th>FIPS</th>\n",
       "      <th>Admin</th>\n",
       "      <th>Province_State</th>\n",
       "      <th>Last_Update</th>\n",
       "      <th>Lat</th>\n",
       "      <th>Long_</th>\n",
       "      <th>Confirmed</th>\n",
       "      <th>Deaths</th>\n",
       "      <th>Recovered</th>\n",
       "      <th>Active</th>\n",
       "      <th>Combined_Key</th>\n",
       "    </tr>\n",
       "    <tr>\n",
       "      <th>Country_Region</th>\n",
       "      <th></th>\n",
       "      <th></th>\n",
       "      <th></th>\n",
       "      <th></th>\n",
       "      <th></th>\n",
       "      <th></th>\n",
       "      <th></th>\n",
       "      <th></th>\n",
       "      <th></th>\n",
       "      <th></th>\n",
       "      <th></th>\n",
       "    </tr>\n",
       "  </thead>\n",
       "  <tbody>\n",
       "    <tr>\n",
       "      <th>US</th>\n",
       "      <td>45001.0</td>\n",
       "      <td>Abbeville</td>\n",
       "      <td>South Carolina</td>\n",
       "      <td>2020-04-19 23:41:01</td>\n",
       "      <td>34.223334</td>\n",
       "      <td>-82.461707</td>\n",
       "      <td>17</td>\n",
       "      <td>0</td>\n",
       "      <td>0</td>\n",
       "      <td>17</td>\n",
       "      <td>Abbeville, South Carolina, US</td>\n",
       "    </tr>\n",
       "    <tr>\n",
       "      <th>US</th>\n",
       "      <td>22001.0</td>\n",
       "      <td>Acadia</td>\n",
       "      <td>Louisiana</td>\n",
       "      <td>2020-04-19 23:41:01</td>\n",
       "      <td>30.295065</td>\n",
       "      <td>-92.414197</td>\n",
       "      <td>110</td>\n",
       "      <td>7</td>\n",
       "      <td>0</td>\n",
       "      <td>103</td>\n",
       "      <td>Acadia, Louisiana, US</td>\n",
       "    </tr>\n",
       "    <tr>\n",
       "      <th>US</th>\n",
       "      <td>51001.0</td>\n",
       "      <td>Accomack</td>\n",
       "      <td>Virginia</td>\n",
       "      <td>2020-04-19 23:41:01</td>\n",
       "      <td>37.767072</td>\n",
       "      <td>-75.632346</td>\n",
       "      <td>42</td>\n",
       "      <td>0</td>\n",
       "      <td>0</td>\n",
       "      <td>42</td>\n",
       "      <td>Accomack, Virginia, US</td>\n",
       "    </tr>\n",
       "    <tr>\n",
       "      <th>US</th>\n",
       "      <td>16001.0</td>\n",
       "      <td>Ada</td>\n",
       "      <td>Idaho</td>\n",
       "      <td>2020-04-19 23:41:01</td>\n",
       "      <td>43.452658</td>\n",
       "      <td>-116.241552</td>\n",
       "      <td>598</td>\n",
       "      <td>10</td>\n",
       "      <td>0</td>\n",
       "      <td>588</td>\n",
       "      <td>Ada, Idaho, US</td>\n",
       "    </tr>\n",
       "    <tr>\n",
       "      <th>US</th>\n",
       "      <td>19001.0</td>\n",
       "      <td>Adair</td>\n",
       "      <td>Iowa</td>\n",
       "      <td>2020-04-19 23:41:01</td>\n",
       "      <td>41.330756</td>\n",
       "      <td>-94.471059</td>\n",
       "      <td>1</td>\n",
       "      <td>0</td>\n",
       "      <td>0</td>\n",
       "      <td>1</td>\n",
       "      <td>Adair, Iowa, US</td>\n",
       "    </tr>\n",
       "    <tr>\n",
       "      <th>...</th>\n",
       "      <td>...</td>\n",
       "      <td>...</td>\n",
       "      <td>...</td>\n",
       "      <td>...</td>\n",
       "      <td>...</td>\n",
       "      <td>...</td>\n",
       "      <td>...</td>\n",
       "      <td>...</td>\n",
       "      <td>...</td>\n",
       "      <td>...</td>\n",
       "      <td>...</td>\n",
       "    </tr>\n",
       "    <tr>\n",
       "      <th>US</th>\n",
       "      <td>66.0</td>\n",
       "      <td>NaN</td>\n",
       "      <td>Guam</td>\n",
       "      <td>2020-04-19 23:41:01</td>\n",
       "      <td>13.444300</td>\n",
       "      <td>144.793700</td>\n",
       "      <td>136</td>\n",
       "      <td>5</td>\n",
       "      <td>0</td>\n",
       "      <td>131</td>\n",
       "      <td>Guam, US</td>\n",
       "    </tr>\n",
       "    <tr>\n",
       "      <th>US</th>\n",
       "      <td>69.0</td>\n",
       "      <td>NaN</td>\n",
       "      <td>Northern Mariana Islands</td>\n",
       "      <td>2020-04-19 23:41:01</td>\n",
       "      <td>15.097900</td>\n",
       "      <td>145.673900</td>\n",
       "      <td>14</td>\n",
       "      <td>2</td>\n",
       "      <td>0</td>\n",
       "      <td>12</td>\n",
       "      <td>Northern Mariana Islands, US</td>\n",
       "    </tr>\n",
       "    <tr>\n",
       "      <th>US</th>\n",
       "      <td>72.0</td>\n",
       "      <td>NaN</td>\n",
       "      <td>Puerto Rico</td>\n",
       "      <td>2020-04-19 23:41:01</td>\n",
       "      <td>18.220800</td>\n",
       "      <td>-66.590100</td>\n",
       "      <td>1213</td>\n",
       "      <td>62</td>\n",
       "      <td>0</td>\n",
       "      <td>1151</td>\n",
       "      <td>Puerto Rico, US</td>\n",
       "    </tr>\n",
       "    <tr>\n",
       "      <th>US</th>\n",
       "      <td>NaN</td>\n",
       "      <td>NaN</td>\n",
       "      <td>Recovered</td>\n",
       "      <td>2020-04-19 23:41:01</td>\n",
       "      <td>NaN</td>\n",
       "      <td>NaN</td>\n",
       "      <td>0</td>\n",
       "      <td>0</td>\n",
       "      <td>70337</td>\n",
       "      <td>0</td>\n",
       "      <td>Recovered, US</td>\n",
       "    </tr>\n",
       "    <tr>\n",
       "      <th>US</th>\n",
       "      <td>78.0</td>\n",
       "      <td>NaN</td>\n",
       "      <td>Virgin Islands</td>\n",
       "      <td>2020-04-19 23:41:01</td>\n",
       "      <td>18.335800</td>\n",
       "      <td>-64.896300</td>\n",
       "      <td>53</td>\n",
       "      <td>3</td>\n",
       "      <td>0</td>\n",
       "      <td>50</td>\n",
       "      <td>Virgin Islands, US</td>\n",
       "    </tr>\n",
       "  </tbody>\n",
       "</table>\n",
       "<p>2810 rows × 11 columns</p>\n",
       "</div>"
      ],
      "text/plain": [
       "                   FIPS      Admin            Province_State  \\\n",
       "Country_Region                                                 \n",
       "US              45001.0  Abbeville            South Carolina   \n",
       "US              22001.0     Acadia                 Louisiana   \n",
       "US              51001.0   Accomack                  Virginia   \n",
       "US              16001.0        Ada                     Idaho   \n",
       "US              19001.0      Adair                      Iowa   \n",
       "...                 ...        ...                       ...   \n",
       "US                 66.0        NaN                      Guam   \n",
       "US                 69.0        NaN  Northern Mariana Islands   \n",
       "US                 72.0        NaN               Puerto Rico   \n",
       "US                  NaN        NaN                 Recovered   \n",
       "US                 78.0        NaN            Virgin Islands   \n",
       "\n",
       "                        Last_Update        Lat       Long_  Confirmed  Deaths  \\\n",
       "Country_Region                                                                  \n",
       "US              2020-04-19 23:41:01  34.223334  -82.461707         17       0   \n",
       "US              2020-04-19 23:41:01  30.295065  -92.414197        110       7   \n",
       "US              2020-04-19 23:41:01  37.767072  -75.632346         42       0   \n",
       "US              2020-04-19 23:41:01  43.452658 -116.241552        598      10   \n",
       "US              2020-04-19 23:41:01  41.330756  -94.471059          1       0   \n",
       "...                             ...        ...         ...        ...     ...   \n",
       "US              2020-04-19 23:41:01  13.444300  144.793700        136       5   \n",
       "US              2020-04-19 23:41:01  15.097900  145.673900         14       2   \n",
       "US              2020-04-19 23:41:01  18.220800  -66.590100       1213      62   \n",
       "US              2020-04-19 23:41:01        NaN         NaN          0       0   \n",
       "US              2020-04-19 23:41:01  18.335800  -64.896300         53       3   \n",
       "\n",
       "                Recovered  Active                   Combined_Key  \n",
       "Country_Region                                                    \n",
       "US                      0      17  Abbeville, South Carolina, US  \n",
       "US                      0     103          Acadia, Louisiana, US  \n",
       "US                      0      42         Accomack, Virginia, US  \n",
       "US                      0     588                 Ada, Idaho, US  \n",
       "US                      0       1                Adair, Iowa, US  \n",
       "...                   ...     ...                            ...  \n",
       "US                      0     131                       Guam, US  \n",
       "US                      0      12   Northern Mariana Islands, US  \n",
       "US                      0    1151                Puerto Rico, US  \n",
       "US                  70337       0                  Recovered, US  \n",
       "US                      0      50             Virgin Islands, US  \n",
       "\n",
       "[2810 rows x 11 columns]"
      ]
     },
     "execution_count": 22,
     "metadata": {},
     "output_type": "execute_result"
    }
   ],
   "source": [
    "#df.loc[nom_index] accéder à la ligne qui correspond a l'index\n",
    "#df.iloc[numéro_ligne] accede aux valeurs d'un certain numéro de ligne\n",
    "\n",
    "df_covid.set_index('Country_Region').loc['US']"
   ]
  },
  {
   "cell_type": "code",
   "execution_count": 19,
   "id": "6b82ed38",
   "metadata": {},
   "outputs": [
    {
     "data": {
      "text/plain": [
       "Country_Region                     US\n",
       "FIPS                          19001.0\n",
       "Admin                           Adair\n",
       "Province_State                   Iowa\n",
       "Last_Update       2020-04-19 23:41:01\n",
       "Lat                         41.330756\n",
       "Long_                      -94.471059\n",
       "Confirmed                           1\n",
       "Deaths                              0\n",
       "Recovered                           0\n",
       "Active                              1\n",
       "Combined_Key          Adair, Iowa, US\n",
       "Name: 4, dtype: object"
      ]
     },
     "execution_count": 19,
     "metadata": {},
     "output_type": "execute_result"
    }
   ],
   "source": [
    "df_covid.iloc[4]"
   ]
  },
  {
   "cell_type": "code",
   "execution_count": 20,
   "id": "21b30c3b",
   "metadata": {},
   "outputs": [
    {
     "data": {
      "text/html": [
       "<div>\n",
       "<style scoped>\n",
       "    .dataframe tbody tr th:only-of-type {\n",
       "        vertical-align: middle;\n",
       "    }\n",
       "\n",
       "    .dataframe tbody tr th {\n",
       "        vertical-align: top;\n",
       "    }\n",
       "\n",
       "    .dataframe thead th {\n",
       "        text-align: right;\n",
       "    }\n",
       "</style>\n",
       "<table border=\"1\" class=\"dataframe\">\n",
       "  <thead>\n",
       "    <tr style=\"text-align: right;\">\n",
       "      <th></th>\n",
       "      <th>Country_Region</th>\n",
       "      <th>FIPS</th>\n",
       "      <th>Admin</th>\n",
       "      <th>Province_State</th>\n",
       "      <th>Last_Update</th>\n",
       "      <th>Lat</th>\n",
       "      <th>Long_</th>\n",
       "      <th>Confirmed</th>\n",
       "      <th>Deaths</th>\n",
       "      <th>Recovered</th>\n",
       "      <th>Active</th>\n",
       "      <th>Combined_Key</th>\n",
       "    </tr>\n",
       "  </thead>\n",
       "  <tbody>\n",
       "    <tr>\n",
       "      <th>4</th>\n",
       "      <td>US</td>\n",
       "      <td>19001.0</td>\n",
       "      <td>Adair</td>\n",
       "      <td>Iowa</td>\n",
       "      <td>2020-04-19 23:41:01</td>\n",
       "      <td>41.330756</td>\n",
       "      <td>-94.471059</td>\n",
       "      <td>1</td>\n",
       "      <td>0</td>\n",
       "      <td>0</td>\n",
       "      <td>1</td>\n",
       "      <td>Adair, Iowa, US</td>\n",
       "    </tr>\n",
       "    <tr>\n",
       "      <th>5</th>\n",
       "      <td>US</td>\n",
       "      <td>21001.0</td>\n",
       "      <td>Adair</td>\n",
       "      <td>Kentucky</td>\n",
       "      <td>2020-04-19 23:41:01</td>\n",
       "      <td>37.104598</td>\n",
       "      <td>-85.281297</td>\n",
       "      <td>53</td>\n",
       "      <td>3</td>\n",
       "      <td>0</td>\n",
       "      <td>50</td>\n",
       "      <td>Adair, Kentucky, US</td>\n",
       "    </tr>\n",
       "    <tr>\n",
       "      <th>6</th>\n",
       "      <td>US</td>\n",
       "      <td>29001.0</td>\n",
       "      <td>Adair</td>\n",
       "      <td>Missouri</td>\n",
       "      <td>2020-04-19 23:41:01</td>\n",
       "      <td>40.190586</td>\n",
       "      <td>-92.600782</td>\n",
       "      <td>12</td>\n",
       "      <td>0</td>\n",
       "      <td>0</td>\n",
       "      <td>12</td>\n",
       "      <td>Adair, Missouri, US</td>\n",
       "    </tr>\n",
       "    <tr>\n",
       "      <th>7</th>\n",
       "      <td>US</td>\n",
       "      <td>40001.0</td>\n",
       "      <td>Adair</td>\n",
       "      <td>Oklahoma</td>\n",
       "      <td>2020-04-19 23:41:01</td>\n",
       "      <td>35.884942</td>\n",
       "      <td>-94.658593</td>\n",
       "      <td>43</td>\n",
       "      <td>3</td>\n",
       "      <td>0</td>\n",
       "      <td>40</td>\n",
       "      <td>Adair, Oklahoma, US</td>\n",
       "    </tr>\n",
       "    <tr>\n",
       "      <th>8</th>\n",
       "      <td>US</td>\n",
       "      <td>8001.0</td>\n",
       "      <td>Adams</td>\n",
       "      <td>Colorado</td>\n",
       "      <td>2020-04-19 23:41:01</td>\n",
       "      <td>39.874321</td>\n",
       "      <td>-104.336258</td>\n",
       "      <td>915</td>\n",
       "      <td>35</td>\n",
       "      <td>0</td>\n",
       "      <td>880</td>\n",
       "      <td>Adams, Colorado, US</td>\n",
       "    </tr>\n",
       "    <tr>\n",
       "      <th>9</th>\n",
       "      <td>US</td>\n",
       "      <td>16003.0</td>\n",
       "      <td>Adams</td>\n",
       "      <td>Idaho</td>\n",
       "      <td>2020-04-19 23:41:01</td>\n",
       "      <td>44.893336</td>\n",
       "      <td>-116.454525</td>\n",
       "      <td>1</td>\n",
       "      <td>0</td>\n",
       "      <td>0</td>\n",
       "      <td>1</td>\n",
       "      <td>Adams, Idaho, US</td>\n",
       "    </tr>\n",
       "  </tbody>\n",
       "</table>\n",
       "</div>"
      ],
      "text/plain": [
       "  Country_Region     FIPS  Admin Province_State          Last_Update  \\\n",
       "4             US  19001.0  Adair           Iowa  2020-04-19 23:41:01   \n",
       "5             US  21001.0  Adair       Kentucky  2020-04-19 23:41:01   \n",
       "6             US  29001.0  Adair       Missouri  2020-04-19 23:41:01   \n",
       "7             US  40001.0  Adair       Oklahoma  2020-04-19 23:41:01   \n",
       "8             US   8001.0  Adams       Colorado  2020-04-19 23:41:01   \n",
       "9             US  16003.0  Adams          Idaho  2020-04-19 23:41:01   \n",
       "\n",
       "         Lat       Long_  Confirmed  Deaths  Recovered  Active  \\\n",
       "4  41.330756  -94.471059          1       0          0       1   \n",
       "5  37.104598  -85.281297         53       3          0      50   \n",
       "6  40.190586  -92.600782         12       0          0      12   \n",
       "7  35.884942  -94.658593         43       3          0      40   \n",
       "8  39.874321 -104.336258        915      35          0     880   \n",
       "9  44.893336 -116.454525          1       0          0       1   \n",
       "\n",
       "          Combined_Key  \n",
       "4      Adair, Iowa, US  \n",
       "5  Adair, Kentucky, US  \n",
       "6  Adair, Missouri, US  \n",
       "7  Adair, Oklahoma, US  \n",
       "8  Adams, Colorado, US  \n",
       "9     Adams, Idaho, US  "
      ]
     },
     "execution_count": 20,
     "metadata": {},
     "output_type": "execute_result"
    }
   ],
   "source": [
    "df_covid.iloc[4:10]"
   ]
  },
  {
   "cell_type": "code",
   "execution_count": 21,
   "id": "1ed9c2dc",
   "metadata": {},
   "outputs": [
    {
     "data": {
      "text/html": [
       "<div>\n",
       "<style scoped>\n",
       "    .dataframe tbody tr th:only-of-type {\n",
       "        vertical-align: middle;\n",
       "    }\n",
       "\n",
       "    .dataframe tbody tr th {\n",
       "        vertical-align: top;\n",
       "    }\n",
       "\n",
       "    .dataframe thead th {\n",
       "        text-align: right;\n",
       "    }\n",
       "</style>\n",
       "<table border=\"1\" class=\"dataframe\">\n",
       "  <thead>\n",
       "    <tr style=\"text-align: right;\">\n",
       "      <th></th>\n",
       "      <th>Active</th>\n",
       "      <th>Deaths</th>\n",
       "    </tr>\n",
       "    <tr>\n",
       "      <th>Country_Region</th>\n",
       "      <th></th>\n",
       "      <th></th>\n",
       "    </tr>\n",
       "  </thead>\n",
       "  <tbody>\n",
       "    <tr>\n",
       "      <th>US</th>\n",
       "      <td>17</td>\n",
       "      <td>0</td>\n",
       "    </tr>\n",
       "    <tr>\n",
       "      <th>US</th>\n",
       "      <td>103</td>\n",
       "      <td>7</td>\n",
       "    </tr>\n",
       "    <tr>\n",
       "      <th>US</th>\n",
       "      <td>42</td>\n",
       "      <td>0</td>\n",
       "    </tr>\n",
       "    <tr>\n",
       "      <th>US</th>\n",
       "      <td>588</td>\n",
       "      <td>10</td>\n",
       "    </tr>\n",
       "    <tr>\n",
       "      <th>US</th>\n",
       "      <td>1</td>\n",
       "      <td>0</td>\n",
       "    </tr>\n",
       "    <tr>\n",
       "      <th>...</th>\n",
       "      <td>...</td>\n",
       "      <td>...</td>\n",
       "    </tr>\n",
       "    <tr>\n",
       "      <th>US</th>\n",
       "      <td>131</td>\n",
       "      <td>5</td>\n",
       "    </tr>\n",
       "    <tr>\n",
       "      <th>US</th>\n",
       "      <td>12</td>\n",
       "      <td>2</td>\n",
       "    </tr>\n",
       "    <tr>\n",
       "      <th>US</th>\n",
       "      <td>1151</td>\n",
       "      <td>62</td>\n",
       "    </tr>\n",
       "    <tr>\n",
       "      <th>US</th>\n",
       "      <td>0</td>\n",
       "      <td>0</td>\n",
       "    </tr>\n",
       "    <tr>\n",
       "      <th>US</th>\n",
       "      <td>50</td>\n",
       "      <td>3</td>\n",
       "    </tr>\n",
       "  </tbody>\n",
       "</table>\n",
       "<p>2810 rows × 2 columns</p>\n",
       "</div>"
      ],
      "text/plain": [
       "                Active  Deaths\n",
       "Country_Region                \n",
       "US                  17       0\n",
       "US                 103       7\n",
       "US                  42       0\n",
       "US                 588      10\n",
       "US                   1       0\n",
       "...                ...     ...\n",
       "US                 131       5\n",
       "US                  12       2\n",
       "US                1151      62\n",
       "US                   0       0\n",
       "US                  50       3\n",
       "\n",
       "[2810 rows x 2 columns]"
      ]
     },
     "execution_count": 21,
     "metadata": {},
     "output_type": "execute_result"
    }
   ],
   "source": [
    "#loc et iloc peuvent prendre plusieurs dimensions entre crochets\n",
    "#df.loc[nom_index, colonne] loc et iloc peuvent prendre plusieurs dimensions\n",
    "\n",
    "df_covid.set_index('Country_Region').loc['US',['Active','Deaths']]"
   ]
  },
  {
   "cell_type": "code",
   "execution_count": 22,
   "id": "39a2fbf1",
   "metadata": {},
   "outputs": [
    {
     "data": {
      "text/html": [
       "<div>\n",
       "<style scoped>\n",
       "    .dataframe tbody tr th:only-of-type {\n",
       "        vertical-align: middle;\n",
       "    }\n",
       "\n",
       "    .dataframe tbody tr th {\n",
       "        vertical-align: top;\n",
       "    }\n",
       "\n",
       "    .dataframe thead th {\n",
       "        text-align: right;\n",
       "    }\n",
       "</style>\n",
       "<table border=\"1\" class=\"dataframe\">\n",
       "  <thead>\n",
       "    <tr style=\"text-align: right;\">\n",
       "      <th></th>\n",
       "      <th>Active</th>\n",
       "      <th>Deaths</th>\n",
       "    </tr>\n",
       "  </thead>\n",
       "  <tbody>\n",
       "    <tr>\n",
       "      <th>0</th>\n",
       "      <td>17</td>\n",
       "      <td>0</td>\n",
       "    </tr>\n",
       "    <tr>\n",
       "      <th>1</th>\n",
       "      <td>103</td>\n",
       "      <td>7</td>\n",
       "    </tr>\n",
       "    <tr>\n",
       "      <th>2</th>\n",
       "      <td>42</td>\n",
       "      <td>0</td>\n",
       "    </tr>\n",
       "    <tr>\n",
       "      <th>3</th>\n",
       "      <td>588</td>\n",
       "      <td>10</td>\n",
       "    </tr>\n",
       "    <tr>\n",
       "      <th>4</th>\n",
       "      <td>1</td>\n",
       "      <td>0</td>\n",
       "    </tr>\n",
       "    <tr>\n",
       "      <th>...</th>\n",
       "      <td>...</td>\n",
       "      <td>...</td>\n",
       "    </tr>\n",
       "    <tr>\n",
       "      <th>3096</th>\n",
       "      <td>0</td>\n",
       "      <td>0</td>\n",
       "    </tr>\n",
       "    <tr>\n",
       "      <th>3097</th>\n",
       "      <td>0</td>\n",
       "      <td>0</td>\n",
       "    </tr>\n",
       "    <tr>\n",
       "      <th>3098</th>\n",
       "      <td>0</td>\n",
       "      <td>11</td>\n",
       "    </tr>\n",
       "    <tr>\n",
       "      <th>3099</th>\n",
       "      <td>0</td>\n",
       "      <td>13</td>\n",
       "    </tr>\n",
       "    <tr>\n",
       "      <th>3100</th>\n",
       "      <td>0</td>\n",
       "      <td>0</td>\n",
       "    </tr>\n",
       "  </tbody>\n",
       "</table>\n",
       "<p>3101 rows × 2 columns</p>\n",
       "</div>"
      ],
      "text/plain": [
       "      Active  Deaths\n",
       "0         17       0\n",
       "1        103       7\n",
       "2         42       0\n",
       "3        588      10\n",
       "4          1       0\n",
       "...      ...     ...\n",
       "3096       0       0\n",
       "3097       0       0\n",
       "3098       0      11\n",
       "3099       0      13\n",
       "3100       0       0\n",
       "\n",
       "[3101 rows x 2 columns]"
      ]
     },
     "execution_count": 22,
     "metadata": {},
     "output_type": "execute_result"
    }
   ],
   "source": [
    "df_covid[['Active','Deaths']]"
   ]
  },
  {
   "cell_type": "code",
   "execution_count": 23,
   "id": "90c37eff",
   "metadata": {},
   "outputs": [
    {
     "data": {
      "text/html": [
       "<div>\n",
       "<style scoped>\n",
       "    .dataframe tbody tr th:only-of-type {\n",
       "        vertical-align: middle;\n",
       "    }\n",
       "\n",
       "    .dataframe tbody tr th {\n",
       "        vertical-align: top;\n",
       "    }\n",
       "\n",
       "    .dataframe thead th {\n",
       "        text-align: right;\n",
       "    }\n",
       "</style>\n",
       "<table border=\"1\" class=\"dataframe\">\n",
       "  <thead>\n",
       "    <tr style=\"text-align: right;\">\n",
       "      <th></th>\n",
       "      <th>Recovered</th>\n",
       "      <th>Active</th>\n",
       "      <th>Deaths</th>\n",
       "    </tr>\n",
       "  </thead>\n",
       "  <tbody>\n",
       "    <tr>\n",
       "      <th>0</th>\n",
       "      <td>0</td>\n",
       "      <td>17</td>\n",
       "      <td>0</td>\n",
       "    </tr>\n",
       "    <tr>\n",
       "      <th>1</th>\n",
       "      <td>0</td>\n",
       "      <td>103</td>\n",
       "      <td>7</td>\n",
       "    </tr>\n",
       "    <tr>\n",
       "      <th>2</th>\n",
       "      <td>0</td>\n",
       "      <td>42</td>\n",
       "      <td>0</td>\n",
       "    </tr>\n",
       "    <tr>\n",
       "      <th>3</th>\n",
       "      <td>0</td>\n",
       "      <td>588</td>\n",
       "      <td>10</td>\n",
       "    </tr>\n",
       "    <tr>\n",
       "      <th>4</th>\n",
       "      <td>0</td>\n",
       "      <td>1</td>\n",
       "      <td>0</td>\n",
       "    </tr>\n",
       "    <tr>\n",
       "      <th>...</th>\n",
       "      <td>...</td>\n",
       "      <td>...</td>\n",
       "      <td>...</td>\n",
       "    </tr>\n",
       "    <tr>\n",
       "      <th>3096</th>\n",
       "      <td>0</td>\n",
       "      <td>0</td>\n",
       "      <td>0</td>\n",
       "    </tr>\n",
       "    <tr>\n",
       "      <th>3097</th>\n",
       "      <td>0</td>\n",
       "      <td>0</td>\n",
       "      <td>0</td>\n",
       "    </tr>\n",
       "    <tr>\n",
       "      <th>3098</th>\n",
       "      <td>0</td>\n",
       "      <td>0</td>\n",
       "      <td>11</td>\n",
       "    </tr>\n",
       "    <tr>\n",
       "      <th>3099</th>\n",
       "      <td>0</td>\n",
       "      <td>0</td>\n",
       "      <td>13</td>\n",
       "    </tr>\n",
       "    <tr>\n",
       "      <th>3100</th>\n",
       "      <td>0</td>\n",
       "      <td>0</td>\n",
       "      <td>0</td>\n",
       "    </tr>\n",
       "  </tbody>\n",
       "</table>\n",
       "<p>3101 rows × 3 columns</p>\n",
       "</div>"
      ],
      "text/plain": [
       "      Recovered  Active  Deaths\n",
       "0             0      17       0\n",
       "1             0     103       7\n",
       "2             0      42       0\n",
       "3             0     588      10\n",
       "4             0       1       0\n",
       "...         ...     ...     ...\n",
       "3096          0       0       0\n",
       "3097          0       0       0\n",
       "3098          0       0      11\n",
       "3099          0       0      13\n",
       "3100          0       0       0\n",
       "\n",
       "[3101 rows x 3 columns]"
      ]
     },
     "execution_count": 23,
     "metadata": {},
     "output_type": "execute_result"
    }
   ],
   "source": [
    "df_covid[['Recovered','Active','Deaths']]"
   ]
  },
  {
   "cell_type": "code",
   "execution_count": 24,
   "id": "19f130c6",
   "metadata": {},
   "outputs": [
    {
     "data": {
      "text/plain": [
       "0        17\n",
       "1       110\n",
       "2        42\n",
       "3       598\n",
       "4         1\n",
       "       ... \n",
       "3096      0\n",
       "3097      0\n",
       "3098     11\n",
       "3099     13\n",
       "3100      0\n",
       "Length: 3101, dtype: int64"
      ]
     },
     "execution_count": 24,
     "metadata": {},
     "output_type": "execute_result"
    }
   ],
   "source": [
    "df_covid['Recovered']+df_covid['Active']+df_covid['Deaths']"
   ]
  },
  {
   "cell_type": "code",
   "execution_count": 25,
   "id": "a38c84e5",
   "metadata": {},
   "outputs": [
    {
     "data": {
      "text/html": [
       "<div>\n",
       "<style scoped>\n",
       "    .dataframe tbody tr th:only-of-type {\n",
       "        vertical-align: middle;\n",
       "    }\n",
       "\n",
       "    .dataframe tbody tr th {\n",
       "        vertical-align: top;\n",
       "    }\n",
       "\n",
       "    .dataframe thead th {\n",
       "        text-align: right;\n",
       "    }\n",
       "</style>\n",
       "<table border=\"1\" class=\"dataframe\">\n",
       "  <thead>\n",
       "    <tr style=\"text-align: right;\">\n",
       "      <th></th>\n",
       "      <th>Country_Region</th>\n",
       "      <th>FIPS</th>\n",
       "      <th>Admin</th>\n",
       "      <th>Province_State</th>\n",
       "      <th>Last_Update</th>\n",
       "      <th>Lat</th>\n",
       "      <th>Long_</th>\n",
       "      <th>Confirmed</th>\n",
       "      <th>Deaths</th>\n",
       "      <th>Recovered</th>\n",
       "      <th>Active</th>\n",
       "      <th>Combined_Key</th>\n",
       "      <th>sum_all_cases</th>\n",
       "    </tr>\n",
       "  </thead>\n",
       "  <tbody>\n",
       "    <tr>\n",
       "      <th>0</th>\n",
       "      <td>US</td>\n",
       "      <td>45001.0</td>\n",
       "      <td>Abbeville</td>\n",
       "      <td>South Carolina</td>\n",
       "      <td>2020-04-19 23:41:01</td>\n",
       "      <td>34.223334</td>\n",
       "      <td>-82.461707</td>\n",
       "      <td>17</td>\n",
       "      <td>0</td>\n",
       "      <td>0</td>\n",
       "      <td>17</td>\n",
       "      <td>Abbeville, South Carolina, US</td>\n",
       "      <td>17</td>\n",
       "    </tr>\n",
       "    <tr>\n",
       "      <th>1</th>\n",
       "      <td>US</td>\n",
       "      <td>22001.0</td>\n",
       "      <td>Acadia</td>\n",
       "      <td>Louisiana</td>\n",
       "      <td>2020-04-19 23:41:01</td>\n",
       "      <td>30.295065</td>\n",
       "      <td>-92.414197</td>\n",
       "      <td>110</td>\n",
       "      <td>7</td>\n",
       "      <td>0</td>\n",
       "      <td>103</td>\n",
       "      <td>Acadia, Louisiana, US</td>\n",
       "      <td>110</td>\n",
       "    </tr>\n",
       "    <tr>\n",
       "      <th>2</th>\n",
       "      <td>US</td>\n",
       "      <td>51001.0</td>\n",
       "      <td>Accomack</td>\n",
       "      <td>Virginia</td>\n",
       "      <td>2020-04-19 23:41:01</td>\n",
       "      <td>37.767072</td>\n",
       "      <td>-75.632346</td>\n",
       "      <td>42</td>\n",
       "      <td>0</td>\n",
       "      <td>0</td>\n",
       "      <td>42</td>\n",
       "      <td>Accomack, Virginia, US</td>\n",
       "      <td>42</td>\n",
       "    </tr>\n",
       "    <tr>\n",
       "      <th>3</th>\n",
       "      <td>US</td>\n",
       "      <td>16001.0</td>\n",
       "      <td>Ada</td>\n",
       "      <td>Idaho</td>\n",
       "      <td>2020-04-19 23:41:01</td>\n",
       "      <td>43.452658</td>\n",
       "      <td>-116.241552</td>\n",
       "      <td>598</td>\n",
       "      <td>10</td>\n",
       "      <td>0</td>\n",
       "      <td>588</td>\n",
       "      <td>Ada, Idaho, US</td>\n",
       "      <td>598</td>\n",
       "    </tr>\n",
       "    <tr>\n",
       "      <th>4</th>\n",
       "      <td>US</td>\n",
       "      <td>19001.0</td>\n",
       "      <td>Adair</td>\n",
       "      <td>Iowa</td>\n",
       "      <td>2020-04-19 23:41:01</td>\n",
       "      <td>41.330756</td>\n",
       "      <td>-94.471059</td>\n",
       "      <td>1</td>\n",
       "      <td>0</td>\n",
       "      <td>0</td>\n",
       "      <td>1</td>\n",
       "      <td>Adair, Iowa, US</td>\n",
       "      <td>1</td>\n",
       "    </tr>\n",
       "    <tr>\n",
       "      <th>...</th>\n",
       "      <td>...</td>\n",
       "      <td>...</td>\n",
       "      <td>...</td>\n",
       "      <td>...</td>\n",
       "      <td>...</td>\n",
       "      <td>...</td>\n",
       "      <td>...</td>\n",
       "      <td>...</td>\n",
       "      <td>...</td>\n",
       "      <td>...</td>\n",
       "      <td>...</td>\n",
       "      <td>...</td>\n",
       "      <td>...</td>\n",
       "    </tr>\n",
       "    <tr>\n",
       "      <th>3096</th>\n",
       "      <td>Winter Olympics 2022</td>\n",
       "      <td>NaN</td>\n",
       "      <td>NaN</td>\n",
       "      <td>NaN</td>\n",
       "      <td>2020-04-19 23:41:01</td>\n",
       "      <td>39.904200</td>\n",
       "      <td>116.407400</td>\n",
       "      <td>0</td>\n",
       "      <td>0</td>\n",
       "      <td>0</td>\n",
       "      <td>0</td>\n",
       "      <td>Winter Olympics 2022</td>\n",
       "      <td>0</td>\n",
       "    </tr>\n",
       "    <tr>\n",
       "      <th>3097</th>\n",
       "      <td>Antarctica</td>\n",
       "      <td>NaN</td>\n",
       "      <td>NaN</td>\n",
       "      <td>NaN</td>\n",
       "      <td>2020-04-19 23:41:01</td>\n",
       "      <td>-71.949900</td>\n",
       "      <td>23.347000</td>\n",
       "      <td>0</td>\n",
       "      <td>0</td>\n",
       "      <td>0</td>\n",
       "      <td>0</td>\n",
       "      <td>Antarctica</td>\n",
       "      <td>0</td>\n",
       "    </tr>\n",
       "    <tr>\n",
       "      <th>3098</th>\n",
       "      <td>United Kingdom</td>\n",
       "      <td>NaN</td>\n",
       "      <td>NaN</td>\n",
       "      <td>Jersey</td>\n",
       "      <td>2020-04-19 23:41:01</td>\n",
       "      <td>49.213800</td>\n",
       "      <td>-2.135800</td>\n",
       "      <td>230</td>\n",
       "      <td>11</td>\n",
       "      <td>0</td>\n",
       "      <td>0</td>\n",
       "      <td>Jersey, United Kingdom</td>\n",
       "      <td>11</td>\n",
       "    </tr>\n",
       "    <tr>\n",
       "      <th>3099</th>\n",
       "      <td>United Kingdom</td>\n",
       "      <td>NaN</td>\n",
       "      <td>NaN</td>\n",
       "      <td>Guernsey</td>\n",
       "      <td>2020-04-19 23:41:01</td>\n",
       "      <td>49.448196</td>\n",
       "      <td>-2.589490</td>\n",
       "      <td>239</td>\n",
       "      <td>13</td>\n",
       "      <td>0</td>\n",
       "      <td>0</td>\n",
       "      <td>Guernsey, United Kingdom</td>\n",
       "      <td>13</td>\n",
       "    </tr>\n",
       "    <tr>\n",
       "      <th>3100</th>\n",
       "      <td>Korea, North</td>\n",
       "      <td>NaN</td>\n",
       "      <td>NaN</td>\n",
       "      <td>NaN</td>\n",
       "      <td>2020-04-19 23:41:01</td>\n",
       "      <td>40.339900</td>\n",
       "      <td>127.510100</td>\n",
       "      <td>0</td>\n",
       "      <td>0</td>\n",
       "      <td>0</td>\n",
       "      <td>0</td>\n",
       "      <td>Korea, North</td>\n",
       "      <td>0</td>\n",
       "    </tr>\n",
       "  </tbody>\n",
       "</table>\n",
       "<p>3101 rows × 13 columns</p>\n",
       "</div>"
      ],
      "text/plain": [
       "            Country_Region     FIPS      Admin  Province_State  \\\n",
       "0                       US  45001.0  Abbeville  South Carolina   \n",
       "1                       US  22001.0     Acadia       Louisiana   \n",
       "2                       US  51001.0   Accomack        Virginia   \n",
       "3                       US  16001.0        Ada           Idaho   \n",
       "4                       US  19001.0      Adair            Iowa   \n",
       "...                    ...      ...        ...             ...   \n",
       "3096  Winter Olympics 2022      NaN        NaN             NaN   \n",
       "3097            Antarctica      NaN        NaN             NaN   \n",
       "3098        United Kingdom      NaN        NaN          Jersey   \n",
       "3099        United Kingdom      NaN        NaN        Guernsey   \n",
       "3100          Korea, North      NaN        NaN             NaN   \n",
       "\n",
       "              Last_Update        Lat       Long_  Confirmed  Deaths  \\\n",
       "0     2020-04-19 23:41:01  34.223334  -82.461707         17       0   \n",
       "1     2020-04-19 23:41:01  30.295065  -92.414197        110       7   \n",
       "2     2020-04-19 23:41:01  37.767072  -75.632346         42       0   \n",
       "3     2020-04-19 23:41:01  43.452658 -116.241552        598      10   \n",
       "4     2020-04-19 23:41:01  41.330756  -94.471059          1       0   \n",
       "...                   ...        ...         ...        ...     ...   \n",
       "3096  2020-04-19 23:41:01  39.904200  116.407400          0       0   \n",
       "3097  2020-04-19 23:41:01 -71.949900   23.347000          0       0   \n",
       "3098  2020-04-19 23:41:01  49.213800   -2.135800        230      11   \n",
       "3099  2020-04-19 23:41:01  49.448196   -2.589490        239      13   \n",
       "3100  2020-04-19 23:41:01  40.339900  127.510100          0       0   \n",
       "\n",
       "      Recovered  Active                   Combined_Key  sum_all_cases  \n",
       "0             0      17  Abbeville, South Carolina, US             17  \n",
       "1             0     103          Acadia, Louisiana, US            110  \n",
       "2             0      42         Accomack, Virginia, US             42  \n",
       "3             0     588                 Ada, Idaho, US            598  \n",
       "4             0       1                Adair, Iowa, US              1  \n",
       "...         ...     ...                            ...            ...  \n",
       "3096          0       0           Winter Olympics 2022              0  \n",
       "3097          0       0                     Antarctica              0  \n",
       "3098          0       0         Jersey, United Kingdom             11  \n",
       "3099          0       0       Guernsey, United Kingdom             13  \n",
       "3100          0       0                   Korea, North              0  \n",
       "\n",
       "[3101 rows x 13 columns]"
      ]
     },
     "execution_count": 25,
     "metadata": {},
     "output_type": "execute_result"
    }
   ],
   "source": [
    "df_covid['sum_all_cases']=df_covid['Recovered']+df_covid['Active']+df_covid['Deaths']\n",
    "df_covid"
   ]
  },
  {
   "cell_type": "code",
   "execution_count": 26,
   "id": "13a3a3e4",
   "metadata": {},
   "outputs": [],
   "source": [
    "df_covid.insert(2,'sum_all_case',df_covid['Recovered']+df_covid['Active']+df_covid['Deaths'])"
   ]
  },
  {
   "cell_type": "code",
   "execution_count": 65,
   "id": "34b0b4a5",
   "metadata": {},
   "outputs": [
    {
     "data": {
      "text/html": [
       "<div>\n",
       "<style scoped>\n",
       "    .dataframe tbody tr th:only-of-type {\n",
       "        vertical-align: middle;\n",
       "    }\n",
       "\n",
       "    .dataframe tbody tr th {\n",
       "        vertical-align: top;\n",
       "    }\n",
       "\n",
       "    .dataframe thead th {\n",
       "        text-align: right;\n",
       "    }\n",
       "</style>\n",
       "<table border=\"1\" class=\"dataframe\">\n",
       "  <thead>\n",
       "    <tr style=\"text-align: right;\">\n",
       "      <th></th>\n",
       "      <th>Country_Region</th>\n",
       "      <th>FIPS</th>\n",
       "      <th>sum_all_case</th>\n",
       "      <th>Admin</th>\n",
       "      <th>Province_State</th>\n",
       "      <th>Last_Update</th>\n",
       "      <th>Lat</th>\n",
       "      <th>Long_</th>\n",
       "      <th>Confirmed</th>\n",
       "      <th>Deaths</th>\n",
       "      <th>Recovered</th>\n",
       "      <th>Active</th>\n",
       "      <th>Combined_Key</th>\n",
       "      <th>sum_all_cases</th>\n",
       "    </tr>\n",
       "  </thead>\n",
       "  <tbody>\n",
       "    <tr>\n",
       "      <th>0</th>\n",
       "      <td>US</td>\n",
       "      <td>45001.0</td>\n",
       "      <td>17</td>\n",
       "      <td>Abbeville</td>\n",
       "      <td>South Carolina</td>\n",
       "      <td>2020-04-19 23:41:01</td>\n",
       "      <td>34.223334</td>\n",
       "      <td>-82.461707</td>\n",
       "      <td>17</td>\n",
       "      <td>0</td>\n",
       "      <td>0</td>\n",
       "      <td>17</td>\n",
       "      <td>Abbeville, South Carolina, US</td>\n",
       "      <td>17</td>\n",
       "    </tr>\n",
       "    <tr>\n",
       "      <th>1</th>\n",
       "      <td>US</td>\n",
       "      <td>22001.0</td>\n",
       "      <td>110</td>\n",
       "      <td>Acadia</td>\n",
       "      <td>Louisiana</td>\n",
       "      <td>2020-04-19 23:41:01</td>\n",
       "      <td>30.295065</td>\n",
       "      <td>-92.414197</td>\n",
       "      <td>110</td>\n",
       "      <td>7</td>\n",
       "      <td>0</td>\n",
       "      <td>103</td>\n",
       "      <td>Acadia, Louisiana, US</td>\n",
       "      <td>110</td>\n",
       "    </tr>\n",
       "    <tr>\n",
       "      <th>2</th>\n",
       "      <td>US</td>\n",
       "      <td>51001.0</td>\n",
       "      <td>42</td>\n",
       "      <td>Accomack</td>\n",
       "      <td>Virginia</td>\n",
       "      <td>2020-04-19 23:41:01</td>\n",
       "      <td>37.767072</td>\n",
       "      <td>-75.632346</td>\n",
       "      <td>42</td>\n",
       "      <td>0</td>\n",
       "      <td>0</td>\n",
       "      <td>42</td>\n",
       "      <td>Accomack, Virginia, US</td>\n",
       "      <td>42</td>\n",
       "    </tr>\n",
       "    <tr>\n",
       "      <th>3</th>\n",
       "      <td>US</td>\n",
       "      <td>16001.0</td>\n",
       "      <td>598</td>\n",
       "      <td>Ada</td>\n",
       "      <td>Idaho</td>\n",
       "      <td>2020-04-19 23:41:01</td>\n",
       "      <td>43.452658</td>\n",
       "      <td>-116.241552</td>\n",
       "      <td>598</td>\n",
       "      <td>10</td>\n",
       "      <td>0</td>\n",
       "      <td>588</td>\n",
       "      <td>Ada, Idaho, US</td>\n",
       "      <td>598</td>\n",
       "    </tr>\n",
       "    <tr>\n",
       "      <th>4</th>\n",
       "      <td>US</td>\n",
       "      <td>19001.0</td>\n",
       "      <td>1</td>\n",
       "      <td>Adair</td>\n",
       "      <td>Iowa</td>\n",
       "      <td>2020-04-19 23:41:01</td>\n",
       "      <td>41.330756</td>\n",
       "      <td>-94.471059</td>\n",
       "      <td>1</td>\n",
       "      <td>0</td>\n",
       "      <td>0</td>\n",
       "      <td>1</td>\n",
       "      <td>Adair, Iowa, US</td>\n",
       "      <td>1</td>\n",
       "    </tr>\n",
       "    <tr>\n",
       "      <th>...</th>\n",
       "      <td>...</td>\n",
       "      <td>...</td>\n",
       "      <td>...</td>\n",
       "      <td>...</td>\n",
       "      <td>...</td>\n",
       "      <td>...</td>\n",
       "      <td>...</td>\n",
       "      <td>...</td>\n",
       "      <td>...</td>\n",
       "      <td>...</td>\n",
       "      <td>...</td>\n",
       "      <td>...</td>\n",
       "      <td>...</td>\n",
       "      <td>...</td>\n",
       "    </tr>\n",
       "    <tr>\n",
       "      <th>3096</th>\n",
       "      <td>Winter Olympics 2022</td>\n",
       "      <td>NaN</td>\n",
       "      <td>0</td>\n",
       "      <td>NaN</td>\n",
       "      <td>NaN</td>\n",
       "      <td>2020-04-19 23:41:01</td>\n",
       "      <td>39.904200</td>\n",
       "      <td>116.407400</td>\n",
       "      <td>0</td>\n",
       "      <td>0</td>\n",
       "      <td>0</td>\n",
       "      <td>0</td>\n",
       "      <td>Winter Olympics 2022</td>\n",
       "      <td>0</td>\n",
       "    </tr>\n",
       "    <tr>\n",
       "      <th>3097</th>\n",
       "      <td>Antarctica</td>\n",
       "      <td>NaN</td>\n",
       "      <td>0</td>\n",
       "      <td>NaN</td>\n",
       "      <td>NaN</td>\n",
       "      <td>2020-04-19 23:41:01</td>\n",
       "      <td>-71.949900</td>\n",
       "      <td>23.347000</td>\n",
       "      <td>0</td>\n",
       "      <td>0</td>\n",
       "      <td>0</td>\n",
       "      <td>0</td>\n",
       "      <td>Antarctica</td>\n",
       "      <td>0</td>\n",
       "    </tr>\n",
       "    <tr>\n",
       "      <th>3098</th>\n",
       "      <td>United Kingdom</td>\n",
       "      <td>NaN</td>\n",
       "      <td>11</td>\n",
       "      <td>NaN</td>\n",
       "      <td>Jersey</td>\n",
       "      <td>2020-04-19 23:41:01</td>\n",
       "      <td>49.213800</td>\n",
       "      <td>-2.135800</td>\n",
       "      <td>230</td>\n",
       "      <td>11</td>\n",
       "      <td>0</td>\n",
       "      <td>0</td>\n",
       "      <td>Jersey, United Kingdom</td>\n",
       "      <td>11</td>\n",
       "    </tr>\n",
       "    <tr>\n",
       "      <th>3099</th>\n",
       "      <td>United Kingdom</td>\n",
       "      <td>NaN</td>\n",
       "      <td>13</td>\n",
       "      <td>NaN</td>\n",
       "      <td>Guernsey</td>\n",
       "      <td>2020-04-19 23:41:01</td>\n",
       "      <td>49.448196</td>\n",
       "      <td>-2.589490</td>\n",
       "      <td>239</td>\n",
       "      <td>13</td>\n",
       "      <td>0</td>\n",
       "      <td>0</td>\n",
       "      <td>Guernsey, United Kingdom</td>\n",
       "      <td>13</td>\n",
       "    </tr>\n",
       "    <tr>\n",
       "      <th>3100</th>\n",
       "      <td>Korea, North</td>\n",
       "      <td>NaN</td>\n",
       "      <td>0</td>\n",
       "      <td>NaN</td>\n",
       "      <td>NaN</td>\n",
       "      <td>2020-04-19 23:41:01</td>\n",
       "      <td>40.339900</td>\n",
       "      <td>127.510100</td>\n",
       "      <td>0</td>\n",
       "      <td>0</td>\n",
       "      <td>0</td>\n",
       "      <td>0</td>\n",
       "      <td>Korea, North</td>\n",
       "      <td>0</td>\n",
       "    </tr>\n",
       "  </tbody>\n",
       "</table>\n",
       "<p>3101 rows × 14 columns</p>\n",
       "</div>"
      ],
      "text/plain": [
       "            Country_Region     FIPS  sum_all_case      Admin  Province_State  \\\n",
       "0                       US  45001.0            17  Abbeville  South Carolina   \n",
       "1                       US  22001.0           110     Acadia       Louisiana   \n",
       "2                       US  51001.0            42   Accomack        Virginia   \n",
       "3                       US  16001.0           598        Ada           Idaho   \n",
       "4                       US  19001.0             1      Adair            Iowa   \n",
       "...                    ...      ...           ...        ...             ...   \n",
       "3096  Winter Olympics 2022      NaN             0        NaN             NaN   \n",
       "3097            Antarctica      NaN             0        NaN             NaN   \n",
       "3098        United Kingdom      NaN            11        NaN          Jersey   \n",
       "3099        United Kingdom      NaN            13        NaN        Guernsey   \n",
       "3100          Korea, North      NaN             0        NaN             NaN   \n",
       "\n",
       "              Last_Update        Lat       Long_  Confirmed  Deaths  \\\n",
       "0     2020-04-19 23:41:01  34.223334  -82.461707         17       0   \n",
       "1     2020-04-19 23:41:01  30.295065  -92.414197        110       7   \n",
       "2     2020-04-19 23:41:01  37.767072  -75.632346         42       0   \n",
       "3     2020-04-19 23:41:01  43.452658 -116.241552        598      10   \n",
       "4     2020-04-19 23:41:01  41.330756  -94.471059          1       0   \n",
       "...                   ...        ...         ...        ...     ...   \n",
       "3096  2020-04-19 23:41:01  39.904200  116.407400          0       0   \n",
       "3097  2020-04-19 23:41:01 -71.949900   23.347000          0       0   \n",
       "3098  2020-04-19 23:41:01  49.213800   -2.135800        230      11   \n",
       "3099  2020-04-19 23:41:01  49.448196   -2.589490        239      13   \n",
       "3100  2020-04-19 23:41:01  40.339900  127.510100          0       0   \n",
       "\n",
       "      Recovered  Active                   Combined_Key  sum_all_cases  \n",
       "0             0      17  Abbeville, South Carolina, US             17  \n",
       "1             0     103          Acadia, Louisiana, US            110  \n",
       "2             0      42         Accomack, Virginia, US             42  \n",
       "3             0     588                 Ada, Idaho, US            598  \n",
       "4             0       1                Adair, Iowa, US              1  \n",
       "...         ...     ...                            ...            ...  \n",
       "3096          0       0           Winter Olympics 2022              0  \n",
       "3097          0       0                     Antarctica              0  \n",
       "3098          0       0         Jersey, United Kingdom             11  \n",
       "3099          0       0       Guernsey, United Kingdom             13  \n",
       "3100          0       0                   Korea, North              0  \n",
       "\n",
       "[3101 rows x 14 columns]"
      ]
     },
     "execution_count": 65,
     "metadata": {},
     "output_type": "execute_result"
    }
   ],
   "source": [
    "df_covid"
   ]
  },
  {
   "cell_type": "markdown",
   "id": "c37ae119",
   "metadata": {},
   "source": [
    "## Quelques fonctions de base \n"
   ]
  },
  {
   "cell_type": "code",
   "execution_count": 27,
   "id": "a1a00f57",
   "metadata": {},
   "outputs": [
    {
     "data": {
      "text/html": [
       "<div>\n",
       "<style scoped>\n",
       "    .dataframe tbody tr th:only-of-type {\n",
       "        vertical-align: middle;\n",
       "    }\n",
       "\n",
       "    .dataframe tbody tr th {\n",
       "        vertical-align: top;\n",
       "    }\n",
       "\n",
       "    .dataframe thead th {\n",
       "        text-align: right;\n",
       "    }\n",
       "</style>\n",
       "<table border=\"1\" class=\"dataframe\">\n",
       "  <thead>\n",
       "    <tr style=\"text-align: right;\">\n",
       "      <th></th>\n",
       "      <th>FIPS</th>\n",
       "      <th>sum_all_case</th>\n",
       "      <th>Lat</th>\n",
       "      <th>Long_</th>\n",
       "      <th>Confirmed</th>\n",
       "      <th>Deaths</th>\n",
       "      <th>Recovered</th>\n",
       "      <th>Active</th>\n",
       "      <th>sum_all_cases</th>\n",
       "    </tr>\n",
       "  </thead>\n",
       "  <tbody>\n",
       "    <tr>\n",
       "      <th>count</th>\n",
       "      <td>2799.000000</td>\n",
       "      <td>3101.000000</td>\n",
       "      <td>3039.000000</td>\n",
       "      <td>3039.000000</td>\n",
       "      <td>3101.000000</td>\n",
       "      <td>3101.000000</td>\n",
       "      <td>3101.000000</td>\n",
       "      <td>3101.000000</td>\n",
       "      <td>3101.000000</td>\n",
       "    </tr>\n",
       "    <tr>\n",
       "      <th>mean</th>\n",
       "      <td>31226.101108</td>\n",
       "      <td>801.943244</td>\n",
       "      <td>36.422957</td>\n",
       "      <td>-79.951238</td>\n",
       "      <td>774.432764</td>\n",
       "      <td>54.325379</td>\n",
       "      <td>201.300226</td>\n",
       "      <td>546.317639</td>\n",
       "      <td>801.943244</td>\n",
       "    </tr>\n",
       "    <tr>\n",
       "      <th>std</th>\n",
       "      <td>17232.001408</td>\n",
       "      <td>7756.285178</td>\n",
       "      <td>10.539217</td>\n",
       "      <td>42.847718</td>\n",
       "      <td>7652.803265</td>\n",
       "      <td>797.532104</td>\n",
       "      <td>3157.677683</td>\n",
       "      <td>4909.848613</td>\n",
       "      <td>7756.285178</td>\n",
       "    </tr>\n",
       "    <tr>\n",
       "      <th>min</th>\n",
       "      <td>66.000000</td>\n",
       "      <td>0.000000</td>\n",
       "      <td>-71.949900</td>\n",
       "      <td>-175.198200</td>\n",
       "      <td>0.000000</td>\n",
       "      <td>0.000000</td>\n",
       "      <td>0.000000</td>\n",
       "      <td>0.000000</td>\n",
       "      <td>0.000000</td>\n",
       "    </tr>\n",
       "    <tr>\n",
       "      <th>25%</th>\n",
       "      <td>18108.000000</td>\n",
       "      <td>5.000000</td>\n",
       "      <td>33.719896</td>\n",
       "      <td>-95.826625</td>\n",
       "      <td>4.000000</td>\n",
       "      <td>0.000000</td>\n",
       "      <td>0.000000</td>\n",
       "      <td>4.000000</td>\n",
       "      <td>5.000000</td>\n",
       "    </tr>\n",
       "    <tr>\n",
       "      <th>50%</th>\n",
       "      <td>29123.000000</td>\n",
       "      <td>19.000000</td>\n",
       "      <td>37.814742</td>\n",
       "      <td>-87.525568</td>\n",
       "      <td>18.000000</td>\n",
       "      <td>0.000000</td>\n",
       "      <td>0.000000</td>\n",
       "      <td>17.000000</td>\n",
       "      <td>19.000000</td>\n",
       "    </tr>\n",
       "    <tr>\n",
       "      <th>75%</th>\n",
       "      <td>46061.000000</td>\n",
       "      <td>91.000000</td>\n",
       "      <td>41.494244</td>\n",
       "      <td>-80.909852</td>\n",
       "      <td>89.000000</td>\n",
       "      <td>3.000000</td>\n",
       "      <td>0.000000</td>\n",
       "      <td>78.000000</td>\n",
       "      <td>91.000000</td>\n",
       "    </tr>\n",
       "    <tr>\n",
       "      <th>max</th>\n",
       "      <td>99999.000000</td>\n",
       "      <td>198674.000000</td>\n",
       "      <td>71.706900</td>\n",
       "      <td>178.065000</td>\n",
       "      <td>198674.000000</td>\n",
       "      <td>23660.000000</td>\n",
       "      <td>88000.000000</td>\n",
       "      <td>124249.000000</td>\n",
       "      <td>198674.000000</td>\n",
       "    </tr>\n",
       "  </tbody>\n",
       "</table>\n",
       "</div>"
      ],
      "text/plain": [
       "               FIPS   sum_all_case          Lat        Long_      Confirmed  \\\n",
       "count   2799.000000    3101.000000  3039.000000  3039.000000    3101.000000   \n",
       "mean   31226.101108     801.943244    36.422957   -79.951238     774.432764   \n",
       "std    17232.001408    7756.285178    10.539217    42.847718    7652.803265   \n",
       "min       66.000000       0.000000   -71.949900  -175.198200       0.000000   \n",
       "25%    18108.000000       5.000000    33.719896   -95.826625       4.000000   \n",
       "50%    29123.000000      19.000000    37.814742   -87.525568      18.000000   \n",
       "75%    46061.000000      91.000000    41.494244   -80.909852      89.000000   \n",
       "max    99999.000000  198674.000000    71.706900   178.065000  198674.000000   \n",
       "\n",
       "             Deaths     Recovered         Active  sum_all_cases  \n",
       "count   3101.000000   3101.000000    3101.000000    3101.000000  \n",
       "mean      54.325379    201.300226     546.317639     801.943244  \n",
       "std      797.532104   3157.677683    4909.848613    7756.285178  \n",
       "min        0.000000      0.000000       0.000000       0.000000  \n",
       "25%        0.000000      0.000000       4.000000       5.000000  \n",
       "50%        0.000000      0.000000      17.000000      19.000000  \n",
       "75%        3.000000      0.000000      78.000000      91.000000  \n",
       "max    23660.000000  88000.000000  124249.000000  198674.000000  "
      ]
     },
     "execution_count": 27,
     "metadata": {},
     "output_type": "execute_result"
    }
   ],
   "source": [
    "## df.info(), df.describe(),serie.value_counts()\n",
    "df_covid.describe()"
   ]
  },
  {
   "cell_type": "markdown",
   "id": "3774f921",
   "metadata": {},
   "source": [
    "Pour avoir les type de nos collonnes on applique le fontions df.info()"
   ]
  },
  {
   "cell_type": "code",
   "execution_count": 28,
   "id": "70487bdd",
   "metadata": {},
   "outputs": [
    {
     "name": "stdout",
     "output_type": "stream",
     "text": [
      "<class 'pandas.core.frame.DataFrame'>\n",
      "RangeIndex: 3101 entries, 0 to 3100\n",
      "Data columns (total 14 columns):\n",
      " #   Column          Non-Null Count  Dtype  \n",
      "---  ------          --------------  -----  \n",
      " 0   Country_Region  3101 non-null   object \n",
      " 1   FIPS            2799 non-null   float64\n",
      " 2   sum_all_case    3101 non-null   int64  \n",
      " 3   Admin           2803 non-null   object \n",
      " 4   Province_State  2914 non-null   object \n",
      " 5   Last_Update     3101 non-null   object \n",
      " 6   Lat             3039 non-null   float64\n",
      " 7   Long_           3039 non-null   float64\n",
      " 8   Confirmed       3101 non-null   int64  \n",
      " 9   Deaths          3101 non-null   int64  \n",
      " 10  Recovered       3101 non-null   int64  \n",
      " 11  Active          3101 non-null   int64  \n",
      " 12  Combined_Key    3101 non-null   object \n",
      " 13  sum_all_cases   3101 non-null   int64  \n",
      "dtypes: float64(3), int64(6), object(5)\n",
      "memory usage: 339.3+ KB\n"
     ]
    }
   ],
   "source": [
    "df_covid.info()"
   ]
  },
  {
   "cell_type": "code",
   "execution_count": 31,
   "id": "50d62898",
   "metadata": {},
   "outputs": [
    {
     "data": {
      "text/plain": [
       "US                2810\n",
       "China               34\n",
       "Malaysia            17\n",
       "Canada              15\n",
       "United Kingdom      14\n",
       "                  ... \n",
       "Greece               1\n",
       "Grenada              1\n",
       "Guatemala            1\n",
       "Guinea               1\n",
       "Korea, North         1\n",
       "Name: Country_Region, Length: 192, dtype: int64"
      ]
     },
     "execution_count": 31,
     "metadata": {},
     "output_type": "execute_result"
    }
   ],
   "source": [
    "df_covid['Country_Region'].value_counts()"
   ]
  },
  {
   "cell_type": "code",
   "execution_count": 33,
   "id": "0a0393ef",
   "metadata": {},
   "outputs": [
    {
     "data": {
      "text/plain": [
       "(11, 13)"
      ]
     },
     "execution_count": 33,
     "metadata": {},
     "output_type": "execute_result"
    }
   ],
   "source": [
    "df_covid.set_index('Country_Region').loc['France'].shape"
   ]
  },
  {
   "cell_type": "code",
   "execution_count": 30,
   "id": "dd24fb86",
   "metadata": {},
   "outputs": [],
   "source": [
    "## df.covid2=df.covid.copy()\n",
    "df_covid2=df_covid.copy()"
   ]
  },
  {
   "cell_type": "markdown",
   "id": "5634c151",
   "metadata": {},
   "source": [
    "# https://colab.research.google.com/"
   ]
  },
  {
   "cell_type": "markdown",
   "id": "410d288b",
   "metadata": {},
   "source": [
    "# Apprendre à coder en Python pour l'Intelligence Artificielle\n",
    "## Episode 7 - Data Manipulation (intro viz)\n",
    "\n",
    "<p align=\"center\">\n",
    "<a href=\"https://www.youtube.com/watch?v=qMGjh6rKIgw\" target=\"_blank\" ><img  src=\"https://raw.githubusercontent.com/anisayari/Youtube-apprendre-python-intelligence-artificielle/master/%237%20-%20Data%20Visualisation%20-%20Seaborn%20et%20Plotly/cover-serie-7.png\" width=\"800\" height=\"auto\"/></a>\n",
    "</p>"
   ]
  },
  {
   "cell_type": "markdown",
   "id": "6b2b6587",
   "metadata": {},
   "source": [
    "# Recupération de données et les plots de Pandas\n",
    "Matplotlib par défaut.\n",
    "\n",
    "<a href=\"https://seaborn.pydata.org/tutorial.html\" target=\"_blank\" >Documentation  </a>\n",
    "\n",
    "<a href=\"https://seaborn.pydata.org/\" target=\"_blank\" ><img  src=\"https://data-flair.training/blogs/wp-content/uploads/sites/2/2018/07/seaborn.png\" width=\"200\" height=\"auto\"/></a>"
   ]
  },
  {
   "cell_type": "code",
   "execution_count": 25,
   "id": "8428cb0b",
   "metadata": {},
   "outputs": [
    {
     "data": {
      "text/html": [
       "<div>\n",
       "<style scoped>\n",
       "    .dataframe tbody tr th:only-of-type {\n",
       "        vertical-align: middle;\n",
       "    }\n",
       "\n",
       "    .dataframe tbody tr th {\n",
       "        vertical-align: top;\n",
       "    }\n",
       "\n",
       "    .dataframe thead th {\n",
       "        text-align: right;\n",
       "    }\n",
       "</style>\n",
       "<table border=\"1\" class=\"dataframe\">\n",
       "  <thead>\n",
       "    <tr style=\"text-align: right;\">\n",
       "      <th></th>\n",
       "      <th>FIPS</th>\n",
       "      <th>Admin2</th>\n",
       "      <th>Province_State</th>\n",
       "      <th>Country_Region</th>\n",
       "      <th>Last_Update</th>\n",
       "      <th>Lat</th>\n",
       "      <th>Long_</th>\n",
       "      <th>Confirmed</th>\n",
       "      <th>Deaths</th>\n",
       "      <th>Recovered</th>\n",
       "      <th>Active</th>\n",
       "      <th>Combined_Key</th>\n",
       "    </tr>\n",
       "  </thead>\n",
       "  <tbody>\n",
       "    <tr>\n",
       "      <th>0</th>\n",
       "      <td>45001.0</td>\n",
       "      <td>Abbeville</td>\n",
       "      <td>South Carolina</td>\n",
       "      <td>US</td>\n",
       "      <td>2020-04-20 23:36:47</td>\n",
       "      <td>34.223334</td>\n",
       "      <td>-82.461707</td>\n",
       "      <td>17</td>\n",
       "      <td>0</td>\n",
       "      <td>0</td>\n",
       "      <td>17</td>\n",
       "      <td>Abbeville, South Carolina, US</td>\n",
       "    </tr>\n",
       "    <tr>\n",
       "      <th>1</th>\n",
       "      <td>22001.0</td>\n",
       "      <td>Acadia</td>\n",
       "      <td>Louisiana</td>\n",
       "      <td>US</td>\n",
       "      <td>2020-04-20 23:36:47</td>\n",
       "      <td>30.295065</td>\n",
       "      <td>-92.414197</td>\n",
       "      <td>114</td>\n",
       "      <td>7</td>\n",
       "      <td>0</td>\n",
       "      <td>107</td>\n",
       "      <td>Acadia, Louisiana, US</td>\n",
       "    </tr>\n",
       "    <tr>\n",
       "      <th>2</th>\n",
       "      <td>51001.0</td>\n",
       "      <td>Accomack</td>\n",
       "      <td>Virginia</td>\n",
       "      <td>US</td>\n",
       "      <td>2020-04-20 23:36:47</td>\n",
       "      <td>37.767072</td>\n",
       "      <td>-75.632346</td>\n",
       "      <td>52</td>\n",
       "      <td>0</td>\n",
       "      <td>0</td>\n",
       "      <td>52</td>\n",
       "      <td>Accomack, Virginia, US</td>\n",
       "    </tr>\n",
       "    <tr>\n",
       "      <th>3</th>\n",
       "      <td>16001.0</td>\n",
       "      <td>Ada</td>\n",
       "      <td>Idaho</td>\n",
       "      <td>US</td>\n",
       "      <td>2020-04-20 23:36:47</td>\n",
       "      <td>43.452658</td>\n",
       "      <td>-116.241552</td>\n",
       "      <td>598</td>\n",
       "      <td>10</td>\n",
       "      <td>0</td>\n",
       "      <td>588</td>\n",
       "      <td>Ada, Idaho, US</td>\n",
       "    </tr>\n",
       "    <tr>\n",
       "      <th>4</th>\n",
       "      <td>19001.0</td>\n",
       "      <td>Adair</td>\n",
       "      <td>Iowa</td>\n",
       "      <td>US</td>\n",
       "      <td>2020-04-20 23:36:47</td>\n",
       "      <td>41.330756</td>\n",
       "      <td>-94.471059</td>\n",
       "      <td>1</td>\n",
       "      <td>0</td>\n",
       "      <td>0</td>\n",
       "      <td>1</td>\n",
       "      <td>Adair, Iowa, US</td>\n",
       "    </tr>\n",
       "  </tbody>\n",
       "</table>\n",
       "</div>"
      ],
      "text/plain": [
       "      FIPS     Admin2  Province_State Country_Region          Last_Update  \\\n",
       "0  45001.0  Abbeville  South Carolina             US  2020-04-20 23:36:47   \n",
       "1  22001.0     Acadia       Louisiana             US  2020-04-20 23:36:47   \n",
       "2  51001.0   Accomack        Virginia             US  2020-04-20 23:36:47   \n",
       "3  16001.0        Ada           Idaho             US  2020-04-20 23:36:47   \n",
       "4  19001.0      Adair            Iowa             US  2020-04-20 23:36:47   \n",
       "\n",
       "         Lat       Long_  Confirmed  Deaths  Recovered  Active  \\\n",
       "0  34.223334  -82.461707         17       0          0      17   \n",
       "1  30.295065  -92.414197        114       7          0     107   \n",
       "2  37.767072  -75.632346         52       0          0      52   \n",
       "3  43.452658 -116.241552        598      10          0     588   \n",
       "4  41.330756  -94.471059          1       0          0       1   \n",
       "\n",
       "                    Combined_Key  \n",
       "0  Abbeville, South Carolina, US  \n",
       "1          Acadia, Louisiana, US  \n",
       "2         Accomack, Virginia, US  \n",
       "3                 Ada, Idaho, US  \n",
       "4                Adair, Iowa, US  "
      ]
     },
     "execution_count": 25,
     "metadata": {},
     "output_type": "execute_result"
    }
   ],
   "source": [
    "import pandas as pd\n",
    "df_covid_daily_report = pd.read_csv('https://raw.githubusercontent.com/CSSEGISandData/COVID-19/master/csse_covid_19_data/csse_covid_19_daily_reports/04-20-2020.csv')\n",
    "df_covid_daily_report.head()"
   ]
  },
  {
   "cell_type": "code",
   "execution_count": 26,
   "id": "9cda24f9",
   "metadata": {},
   "outputs": [
    {
     "data": {
      "text/html": [
       "<div>\n",
       "<style scoped>\n",
       "    .dataframe tbody tr th:only-of-type {\n",
       "        vertical-align: middle;\n",
       "    }\n",
       "\n",
       "    .dataframe tbody tr th {\n",
       "        vertical-align: top;\n",
       "    }\n",
       "\n",
       "    .dataframe thead th {\n",
       "        text-align: right;\n",
       "    }\n",
       "</style>\n",
       "<table border=\"1\" class=\"dataframe\">\n",
       "  <thead>\n",
       "    <tr style=\"text-align: right;\">\n",
       "      <th></th>\n",
       "      <th>Province/State</th>\n",
       "      <th>Country/Region</th>\n",
       "      <th>Lat</th>\n",
       "      <th>Long</th>\n",
       "      <th>1/22/20</th>\n",
       "      <th>1/23/20</th>\n",
       "      <th>1/24/20</th>\n",
       "      <th>1/25/20</th>\n",
       "      <th>1/26/20</th>\n",
       "      <th>1/27/20</th>\n",
       "      <th>...</th>\n",
       "      <th>6/7/22</th>\n",
       "      <th>6/8/22</th>\n",
       "      <th>6/9/22</th>\n",
       "      <th>6/10/22</th>\n",
       "      <th>6/11/22</th>\n",
       "      <th>6/12/22</th>\n",
       "      <th>6/13/22</th>\n",
       "      <th>6/14/22</th>\n",
       "      <th>6/15/22</th>\n",
       "      <th>6/16/22</th>\n",
       "    </tr>\n",
       "  </thead>\n",
       "  <tbody>\n",
       "    <tr>\n",
       "      <th>0</th>\n",
       "      <td>NaN</td>\n",
       "      <td>Afghanistan</td>\n",
       "      <td>33.93911</td>\n",
       "      <td>67.709953</td>\n",
       "      <td>0</td>\n",
       "      <td>0</td>\n",
       "      <td>0</td>\n",
       "      <td>0</td>\n",
       "      <td>0</td>\n",
       "      <td>0</td>\n",
       "      <td>...</td>\n",
       "      <td>0</td>\n",
       "      <td>0</td>\n",
       "      <td>0</td>\n",
       "      <td>0</td>\n",
       "      <td>0</td>\n",
       "      <td>0</td>\n",
       "      <td>0</td>\n",
       "      <td>0</td>\n",
       "      <td>0</td>\n",
       "      <td>0</td>\n",
       "    </tr>\n",
       "    <tr>\n",
       "      <th>1</th>\n",
       "      <td>NaN</td>\n",
       "      <td>Albania</td>\n",
       "      <td>41.15330</td>\n",
       "      <td>20.168300</td>\n",
       "      <td>0</td>\n",
       "      <td>0</td>\n",
       "      <td>0</td>\n",
       "      <td>0</td>\n",
       "      <td>0</td>\n",
       "      <td>0</td>\n",
       "      <td>...</td>\n",
       "      <td>0</td>\n",
       "      <td>0</td>\n",
       "      <td>0</td>\n",
       "      <td>0</td>\n",
       "      <td>0</td>\n",
       "      <td>0</td>\n",
       "      <td>0</td>\n",
       "      <td>0</td>\n",
       "      <td>0</td>\n",
       "      <td>0</td>\n",
       "    </tr>\n",
       "    <tr>\n",
       "      <th>2</th>\n",
       "      <td>NaN</td>\n",
       "      <td>Algeria</td>\n",
       "      <td>28.03390</td>\n",
       "      <td>1.659600</td>\n",
       "      <td>0</td>\n",
       "      <td>0</td>\n",
       "      <td>0</td>\n",
       "      <td>0</td>\n",
       "      <td>0</td>\n",
       "      <td>0</td>\n",
       "      <td>...</td>\n",
       "      <td>0</td>\n",
       "      <td>0</td>\n",
       "      <td>0</td>\n",
       "      <td>0</td>\n",
       "      <td>0</td>\n",
       "      <td>0</td>\n",
       "      <td>0</td>\n",
       "      <td>0</td>\n",
       "      <td>0</td>\n",
       "      <td>0</td>\n",
       "    </tr>\n",
       "    <tr>\n",
       "      <th>3</th>\n",
       "      <td>NaN</td>\n",
       "      <td>Andorra</td>\n",
       "      <td>42.50630</td>\n",
       "      <td>1.521800</td>\n",
       "      <td>0</td>\n",
       "      <td>0</td>\n",
       "      <td>0</td>\n",
       "      <td>0</td>\n",
       "      <td>0</td>\n",
       "      <td>0</td>\n",
       "      <td>...</td>\n",
       "      <td>0</td>\n",
       "      <td>0</td>\n",
       "      <td>0</td>\n",
       "      <td>0</td>\n",
       "      <td>0</td>\n",
       "      <td>0</td>\n",
       "      <td>0</td>\n",
       "      <td>0</td>\n",
       "      <td>0</td>\n",
       "      <td>0</td>\n",
       "    </tr>\n",
       "    <tr>\n",
       "      <th>4</th>\n",
       "      <td>NaN</td>\n",
       "      <td>Angola</td>\n",
       "      <td>-11.20270</td>\n",
       "      <td>17.873900</td>\n",
       "      <td>0</td>\n",
       "      <td>0</td>\n",
       "      <td>0</td>\n",
       "      <td>0</td>\n",
       "      <td>0</td>\n",
       "      <td>0</td>\n",
       "      <td>...</td>\n",
       "      <td>0</td>\n",
       "      <td>0</td>\n",
       "      <td>0</td>\n",
       "      <td>0</td>\n",
       "      <td>0</td>\n",
       "      <td>0</td>\n",
       "      <td>0</td>\n",
       "      <td>0</td>\n",
       "      <td>0</td>\n",
       "      <td>0</td>\n",
       "    </tr>\n",
       "  </tbody>\n",
       "</table>\n",
       "<p>5 rows × 881 columns</p>\n",
       "</div>"
      ],
      "text/plain": [
       "  Province/State Country/Region       Lat       Long  1/22/20  1/23/20  \\\n",
       "0            NaN    Afghanistan  33.93911  67.709953        0        0   \n",
       "1            NaN        Albania  41.15330  20.168300        0        0   \n",
       "2            NaN        Algeria  28.03390   1.659600        0        0   \n",
       "3            NaN        Andorra  42.50630   1.521800        0        0   \n",
       "4            NaN         Angola -11.20270  17.873900        0        0   \n",
       "\n",
       "   1/24/20  1/25/20  1/26/20  1/27/20  ...  6/7/22  6/8/22  6/9/22  6/10/22  \\\n",
       "0        0        0        0        0  ...       0       0       0        0   \n",
       "1        0        0        0        0  ...       0       0       0        0   \n",
       "2        0        0        0        0  ...       0       0       0        0   \n",
       "3        0        0        0        0  ...       0       0       0        0   \n",
       "4        0        0        0        0  ...       0       0       0        0   \n",
       "\n",
       "   6/11/22  6/12/22  6/13/22  6/14/22  6/15/22  6/16/22  \n",
       "0        0        0        0        0        0        0  \n",
       "1        0        0        0        0        0        0  \n",
       "2        0        0        0        0        0        0  \n",
       "3        0        0        0        0        0        0  \n",
       "4        0        0        0        0        0        0  \n",
       "\n",
       "[5 rows x 881 columns]"
      ]
     },
     "execution_count": 26,
     "metadata": {},
     "output_type": "execute_result"
    }
   ],
   "source": [
    "df_recovered = pd.read_csv('https://raw.githubusercontent.com/CSSEGISandData/COVID-19/master/csse_covid_19_data/csse_covid_19_time_series/time_series_covid19_recovered_global.csv')\n",
    "df_recovered.head()"
   ]
  },
  {
   "cell_type": "code",
   "execution_count": 27,
   "id": "f86cf27d",
   "metadata": {},
   "outputs": [
    {
     "data": {
      "text/html": [
       "<div>\n",
       "<style scoped>\n",
       "    .dataframe tbody tr th:only-of-type {\n",
       "        vertical-align: middle;\n",
       "    }\n",
       "\n",
       "    .dataframe tbody tr th {\n",
       "        vertical-align: top;\n",
       "    }\n",
       "\n",
       "    .dataframe thead th {\n",
       "        text-align: right;\n",
       "    }\n",
       "</style>\n",
       "<table border=\"1\" class=\"dataframe\">\n",
       "  <thead>\n",
       "    <tr style=\"text-align: right;\">\n",
       "      <th></th>\n",
       "      <th>Province/State</th>\n",
       "      <th>Country/Region</th>\n",
       "      <th>Lat</th>\n",
       "      <th>Long</th>\n",
       "      <th>1/22/20</th>\n",
       "      <th>1/23/20</th>\n",
       "      <th>1/24/20</th>\n",
       "      <th>1/25/20</th>\n",
       "      <th>1/26/20</th>\n",
       "      <th>1/27/20</th>\n",
       "      <th>...</th>\n",
       "      <th>6/7/22</th>\n",
       "      <th>6/8/22</th>\n",
       "      <th>6/9/22</th>\n",
       "      <th>6/10/22</th>\n",
       "      <th>6/11/22</th>\n",
       "      <th>6/12/22</th>\n",
       "      <th>6/13/22</th>\n",
       "      <th>6/14/22</th>\n",
       "      <th>6/15/22</th>\n",
       "      <th>6/16/22</th>\n",
       "    </tr>\n",
       "  </thead>\n",
       "  <tbody>\n",
       "    <tr>\n",
       "      <th>105</th>\n",
       "      <td>French Guiana</td>\n",
       "      <td>France</td>\n",
       "      <td>3.933900</td>\n",
       "      <td>-53.125800</td>\n",
       "      <td>0</td>\n",
       "      <td>0</td>\n",
       "      <td>0</td>\n",
       "      <td>0</td>\n",
       "      <td>0</td>\n",
       "      <td>0</td>\n",
       "      <td>...</td>\n",
       "      <td>0</td>\n",
       "      <td>0</td>\n",
       "      <td>0</td>\n",
       "      <td>0</td>\n",
       "      <td>0</td>\n",
       "      <td>0</td>\n",
       "      <td>0</td>\n",
       "      <td>0</td>\n",
       "      <td>0</td>\n",
       "      <td>0</td>\n",
       "    </tr>\n",
       "    <tr>\n",
       "      <th>106</th>\n",
       "      <td>French Polynesia</td>\n",
       "      <td>France</td>\n",
       "      <td>-17.679700</td>\n",
       "      <td>149.406800</td>\n",
       "      <td>0</td>\n",
       "      <td>0</td>\n",
       "      <td>0</td>\n",
       "      <td>0</td>\n",
       "      <td>0</td>\n",
       "      <td>0</td>\n",
       "      <td>...</td>\n",
       "      <td>0</td>\n",
       "      <td>0</td>\n",
       "      <td>0</td>\n",
       "      <td>0</td>\n",
       "      <td>0</td>\n",
       "      <td>0</td>\n",
       "      <td>0</td>\n",
       "      <td>0</td>\n",
       "      <td>0</td>\n",
       "      <td>0</td>\n",
       "    </tr>\n",
       "    <tr>\n",
       "      <th>107</th>\n",
       "      <td>Guadeloupe</td>\n",
       "      <td>France</td>\n",
       "      <td>16.265000</td>\n",
       "      <td>-61.551000</td>\n",
       "      <td>0</td>\n",
       "      <td>0</td>\n",
       "      <td>0</td>\n",
       "      <td>0</td>\n",
       "      <td>0</td>\n",
       "      <td>0</td>\n",
       "      <td>...</td>\n",
       "      <td>0</td>\n",
       "      <td>0</td>\n",
       "      <td>0</td>\n",
       "      <td>0</td>\n",
       "      <td>0</td>\n",
       "      <td>0</td>\n",
       "      <td>0</td>\n",
       "      <td>0</td>\n",
       "      <td>0</td>\n",
       "      <td>0</td>\n",
       "    </tr>\n",
       "    <tr>\n",
       "      <th>108</th>\n",
       "      <td>Martinique</td>\n",
       "      <td>France</td>\n",
       "      <td>14.641500</td>\n",
       "      <td>-61.024200</td>\n",
       "      <td>0</td>\n",
       "      <td>0</td>\n",
       "      <td>0</td>\n",
       "      <td>0</td>\n",
       "      <td>0</td>\n",
       "      <td>0</td>\n",
       "      <td>...</td>\n",
       "      <td>0</td>\n",
       "      <td>0</td>\n",
       "      <td>0</td>\n",
       "      <td>0</td>\n",
       "      <td>0</td>\n",
       "      <td>0</td>\n",
       "      <td>0</td>\n",
       "      <td>0</td>\n",
       "      <td>0</td>\n",
       "      <td>0</td>\n",
       "    </tr>\n",
       "    <tr>\n",
       "      <th>109</th>\n",
       "      <td>Mayotte</td>\n",
       "      <td>France</td>\n",
       "      <td>-12.827500</td>\n",
       "      <td>45.166244</td>\n",
       "      <td>0</td>\n",
       "      <td>0</td>\n",
       "      <td>0</td>\n",
       "      <td>0</td>\n",
       "      <td>0</td>\n",
       "      <td>0</td>\n",
       "      <td>...</td>\n",
       "      <td>0</td>\n",
       "      <td>0</td>\n",
       "      <td>0</td>\n",
       "      <td>0</td>\n",
       "      <td>0</td>\n",
       "      <td>0</td>\n",
       "      <td>0</td>\n",
       "      <td>0</td>\n",
       "      <td>0</td>\n",
       "      <td>0</td>\n",
       "    </tr>\n",
       "    <tr>\n",
       "      <th>110</th>\n",
       "      <td>New Caledonia</td>\n",
       "      <td>France</td>\n",
       "      <td>-20.904305</td>\n",
       "      <td>165.618042</td>\n",
       "      <td>0</td>\n",
       "      <td>0</td>\n",
       "      <td>0</td>\n",
       "      <td>0</td>\n",
       "      <td>0</td>\n",
       "      <td>0</td>\n",
       "      <td>...</td>\n",
       "      <td>0</td>\n",
       "      <td>0</td>\n",
       "      <td>0</td>\n",
       "      <td>0</td>\n",
       "      <td>0</td>\n",
       "      <td>0</td>\n",
       "      <td>0</td>\n",
       "      <td>0</td>\n",
       "      <td>0</td>\n",
       "      <td>0</td>\n",
       "    </tr>\n",
       "    <tr>\n",
       "      <th>111</th>\n",
       "      <td>Reunion</td>\n",
       "      <td>France</td>\n",
       "      <td>-21.115100</td>\n",
       "      <td>55.536400</td>\n",
       "      <td>0</td>\n",
       "      <td>0</td>\n",
       "      <td>0</td>\n",
       "      <td>0</td>\n",
       "      <td>0</td>\n",
       "      <td>0</td>\n",
       "      <td>...</td>\n",
       "      <td>0</td>\n",
       "      <td>0</td>\n",
       "      <td>0</td>\n",
       "      <td>0</td>\n",
       "      <td>0</td>\n",
       "      <td>0</td>\n",
       "      <td>0</td>\n",
       "      <td>0</td>\n",
       "      <td>0</td>\n",
       "      <td>0</td>\n",
       "    </tr>\n",
       "    <tr>\n",
       "      <th>112</th>\n",
       "      <td>Saint Barthelemy</td>\n",
       "      <td>France</td>\n",
       "      <td>17.900000</td>\n",
       "      <td>-62.833300</td>\n",
       "      <td>0</td>\n",
       "      <td>0</td>\n",
       "      <td>0</td>\n",
       "      <td>0</td>\n",
       "      <td>0</td>\n",
       "      <td>0</td>\n",
       "      <td>...</td>\n",
       "      <td>0</td>\n",
       "      <td>0</td>\n",
       "      <td>0</td>\n",
       "      <td>0</td>\n",
       "      <td>0</td>\n",
       "      <td>0</td>\n",
       "      <td>0</td>\n",
       "      <td>0</td>\n",
       "      <td>0</td>\n",
       "      <td>0</td>\n",
       "    </tr>\n",
       "    <tr>\n",
       "      <th>113</th>\n",
       "      <td>Saint Pierre and Miquelon</td>\n",
       "      <td>France</td>\n",
       "      <td>46.885200</td>\n",
       "      <td>-56.315900</td>\n",
       "      <td>0</td>\n",
       "      <td>0</td>\n",
       "      <td>0</td>\n",
       "      <td>0</td>\n",
       "      <td>0</td>\n",
       "      <td>0</td>\n",
       "      <td>...</td>\n",
       "      <td>0</td>\n",
       "      <td>0</td>\n",
       "      <td>0</td>\n",
       "      <td>0</td>\n",
       "      <td>0</td>\n",
       "      <td>0</td>\n",
       "      <td>0</td>\n",
       "      <td>0</td>\n",
       "      <td>0</td>\n",
       "      <td>0</td>\n",
       "    </tr>\n",
       "    <tr>\n",
       "      <th>114</th>\n",
       "      <td>St Martin</td>\n",
       "      <td>France</td>\n",
       "      <td>18.070800</td>\n",
       "      <td>-63.050100</td>\n",
       "      <td>0</td>\n",
       "      <td>0</td>\n",
       "      <td>0</td>\n",
       "      <td>0</td>\n",
       "      <td>0</td>\n",
       "      <td>0</td>\n",
       "      <td>...</td>\n",
       "      <td>0</td>\n",
       "      <td>0</td>\n",
       "      <td>0</td>\n",
       "      <td>0</td>\n",
       "      <td>0</td>\n",
       "      <td>0</td>\n",
       "      <td>0</td>\n",
       "      <td>0</td>\n",
       "      <td>0</td>\n",
       "      <td>0</td>\n",
       "    </tr>\n",
       "    <tr>\n",
       "      <th>115</th>\n",
       "      <td>Wallis and Futuna</td>\n",
       "      <td>France</td>\n",
       "      <td>-14.293800</td>\n",
       "      <td>-178.116500</td>\n",
       "      <td>0</td>\n",
       "      <td>0</td>\n",
       "      <td>0</td>\n",
       "      <td>0</td>\n",
       "      <td>0</td>\n",
       "      <td>0</td>\n",
       "      <td>...</td>\n",
       "      <td>0</td>\n",
       "      <td>0</td>\n",
       "      <td>0</td>\n",
       "      <td>0</td>\n",
       "      <td>0</td>\n",
       "      <td>0</td>\n",
       "      <td>0</td>\n",
       "      <td>0</td>\n",
       "      <td>0</td>\n",
       "      <td>0</td>\n",
       "    </tr>\n",
       "    <tr>\n",
       "      <th>116</th>\n",
       "      <td>NaN</td>\n",
       "      <td>France</td>\n",
       "      <td>46.227600</td>\n",
       "      <td>2.213700</td>\n",
       "      <td>0</td>\n",
       "      <td>0</td>\n",
       "      <td>0</td>\n",
       "      <td>0</td>\n",
       "      <td>0</td>\n",
       "      <td>0</td>\n",
       "      <td>...</td>\n",
       "      <td>0</td>\n",
       "      <td>0</td>\n",
       "      <td>0</td>\n",
       "      <td>0</td>\n",
       "      <td>0</td>\n",
       "      <td>0</td>\n",
       "      <td>0</td>\n",
       "      <td>0</td>\n",
       "      <td>0</td>\n",
       "      <td>0</td>\n",
       "    </tr>\n",
       "  </tbody>\n",
       "</table>\n",
       "<p>12 rows × 881 columns</p>\n",
       "</div>"
      ],
      "text/plain": [
       "                Province/State Country/Region        Lat        Long  1/22/20  \\\n",
       "105              French Guiana         France   3.933900  -53.125800        0   \n",
       "106           French Polynesia         France -17.679700  149.406800        0   \n",
       "107                 Guadeloupe         France  16.265000  -61.551000        0   \n",
       "108                 Martinique         France  14.641500  -61.024200        0   \n",
       "109                    Mayotte         France -12.827500   45.166244        0   \n",
       "110              New Caledonia         France -20.904305  165.618042        0   \n",
       "111                    Reunion         France -21.115100   55.536400        0   \n",
       "112           Saint Barthelemy         France  17.900000  -62.833300        0   \n",
       "113  Saint Pierre and Miquelon         France  46.885200  -56.315900        0   \n",
       "114                  St Martin         France  18.070800  -63.050100        0   \n",
       "115          Wallis and Futuna         France -14.293800 -178.116500        0   \n",
       "116                        NaN         France  46.227600    2.213700        0   \n",
       "\n",
       "     1/23/20  1/24/20  1/25/20  1/26/20  1/27/20  ...  6/7/22  6/8/22  6/9/22  \\\n",
       "105        0        0        0        0        0  ...       0       0       0   \n",
       "106        0        0        0        0        0  ...       0       0       0   \n",
       "107        0        0        0        0        0  ...       0       0       0   \n",
       "108        0        0        0        0        0  ...       0       0       0   \n",
       "109        0        0        0        0        0  ...       0       0       0   \n",
       "110        0        0        0        0        0  ...       0       0       0   \n",
       "111        0        0        0        0        0  ...       0       0       0   \n",
       "112        0        0        0        0        0  ...       0       0       0   \n",
       "113        0        0        0        0        0  ...       0       0       0   \n",
       "114        0        0        0        0        0  ...       0       0       0   \n",
       "115        0        0        0        0        0  ...       0       0       0   \n",
       "116        0        0        0        0        0  ...       0       0       0   \n",
       "\n",
       "     6/10/22  6/11/22  6/12/22  6/13/22  6/14/22  6/15/22  6/16/22  \n",
       "105        0        0        0        0        0        0        0  \n",
       "106        0        0        0        0        0        0        0  \n",
       "107        0        0        0        0        0        0        0  \n",
       "108        0        0        0        0        0        0        0  \n",
       "109        0        0        0        0        0        0        0  \n",
       "110        0        0        0        0        0        0        0  \n",
       "111        0        0        0        0        0        0        0  \n",
       "112        0        0        0        0        0        0        0  \n",
       "113        0        0        0        0        0        0        0  \n",
       "114        0        0        0        0        0        0        0  \n",
       "115        0        0        0        0        0        0        0  \n",
       "116        0        0        0        0        0        0        0  \n",
       "\n",
       "[12 rows x 881 columns]"
      ]
     },
     "execution_count": 27,
     "metadata": {},
     "output_type": "execute_result"
    }
   ],
   "source": [
    "# get data france\n",
    "df_recovered[df_recovered['Country/Region']=='France']"
   ]
  },
  {
   "cell_type": "code",
   "execution_count": 28,
   "id": "0822770b",
   "metadata": {},
   "outputs": [],
   "source": [
    "Row_France=df_recovered.iloc[116]"
   ]
  },
  {
   "cell_type": "code",
   "execution_count": 29,
   "id": "a69ba00f",
   "metadata": {},
   "outputs": [
    {
     "data": {
      "text/plain": [
       "1/22/20    0\n",
       "1/23/20    0\n",
       "1/24/20    0\n",
       "1/25/20    0\n",
       "1/26/20    0\n",
       "          ..\n",
       "6/12/22    0\n",
       "6/13/22    0\n",
       "6/14/22    0\n",
       "6/15/22    0\n",
       "6/16/22    0\n",
       "Name: 116, Length: 877, dtype: object"
      ]
     },
     "execution_count": 29,
     "metadata": {},
     "output_type": "execute_result"
    }
   ],
   "source": [
    "time_series_France=df_recovered.iloc[116].drop(['Province/State','Country/Region','Lat','Long'])\n",
    "time_series_France"
   ]
  },
  {
   "cell_type": "code",
   "execution_count": 30,
   "id": "ac8c5b48",
   "metadata": {},
   "outputs": [
    {
     "data": {
      "text/plain": [
       "pandas.core.series.Series"
      ]
     },
     "execution_count": 30,
     "metadata": {},
     "output_type": "execute_result"
    }
   ],
   "source": [
    "type(time_series_France)"
   ]
  },
  {
   "cell_type": "code",
   "execution_count": 31,
   "id": "478efb04",
   "metadata": {},
   "outputs": [
    {
     "data": {
      "text/plain": [
       "<AxesSubplot:>"
      ]
     },
     "execution_count": 31,
     "metadata": {},
     "output_type": "execute_result"
    },
    {
     "data": {
      "image/png": "[encoded data removed]",
      "text/plain": [
       "<Figure size 432x288 with 1 Axes>"
      ]
     },
     "metadata": {
      "needs_background": "light"
     },
     "output_type": "display_data"
    }
   ],
   "source": [
    "import matplotlib.pyplot as plt\n",
    "time_series_France.plot()"
   ]
  },
  {
   "cell_type": "code",
   "execution_count": 32,
   "id": "40c77a9e",
   "metadata": {},
   "outputs": [
    {
     "data": {
      "text/plain": [
       "<AxesSubplot:>"
      ]
     },
     "execution_count": 32,
     "metadata": {},
     "output_type": "execute_result"
    },
    {
     "data": {
      "image/png": "[encoded data removed]",
      "text/plain": [
       "<Figure size 432x288 with 1 Axes>"
      ]
     },
     "metadata": {},
     "output_type": "display_data"
    }
   ],
   "source": [
    "plt.style.use('ggplot')\n",
    "time_series_France.plot()"
   ]
  },
  {
   "cell_type": "markdown",
   "id": "55a0ecb6",
   "metadata": {},
   "source": [
    "Difference entre Data analyse et data scientiste \n",
    "\n",
    "**Data analyse** font plus ce qu'on appel la **Bisness inteligente** donc c'est vraiment de tirer l'information des données, et pour ce faire de manière le plus simple est de ploter les données (les graphiques). Mais c'est pas seulement les data analysis qui dois faire les graphique c'est beaucoup au data scientiste d'expliquer ceux qu'il sont capable de faire donc il serai bien de le faire avec des graphiques."
   ]
  },
  {
   "cell_type": "code",
   "execution_count": 33,
   "id": "1d584d48",
   "metadata": {},
   "outputs": [
    {
     "data": {
      "text/plain": [
       "<AxesSubplot:>"
      ]
     },
     "execution_count": 33,
     "metadata": {},
     "output_type": "execute_result"
    },
    {
     "data": {
      "image/png": "[encoded data removed]",
      "text/plain": [
       "<Figure size 640x480 with 1 Axes>"
      ]
     },
     "metadata": {},
     "output_type": "display_data"
    }
   ],
   "source": [
    "plt.rcParams.update(plt.rcParamsDefault)\n",
    "time_series_France.plot()"
   ]
  },
  {
   "cell_type": "markdown",
   "id": "0e57a6b1",
   "metadata": {},
   "source": [
    "# Seaborn\n",
    "\n",
    "Librarie de visualisation (Matplotlib mais en plus stylé).\n",
    "\n",
    "<a href=\"https://seaborn.pydata.org/tutorial.html\" target=\"_blank\" >Documentation  </a>\n",
    "\n",
    "<a href=\"https://seaborn.pydata.org/\" target=\"_blank\" ><img  src=\"https://data-flair.training/blogs/wp-content/uploads/sites/2/2018/07/seaborn.png\" width=\"200\" height=\"auto\"/></a>"
   ]
  },
  {
   "cell_type": "markdown",
   "id": "59cb6955",
   "metadata": {},
   "source": [
    "**Seaborn**: C'est une librairie qui utilise matplotlb mais qui est au dessus d'elle car elle offre un moyen de visualiser beaucoup plus jolie."
   ]
  },
  {
   "cell_type": "code",
   "execution_count": 56,
   "id": "e6f4b2e2",
   "metadata": {},
   "outputs": [],
   "source": [
    "import seaborn as sns"
   ]
  },
  {
   "cell_type": "code",
   "execution_count": 57,
   "id": "c3eb0a0b",
   "metadata": {},
   "outputs": [
    {
     "data": {
      "text/plain": [
       "Index(['1/22/20', '1/23/20', '1/24/20', '1/25/20', '1/26/20', '1/27/20',\n",
       "       '1/28/20', '1/29/20', '1/30/20', '1/31/20',\n",
       "       ...\n",
       "       '6/7/22', '6/8/22', '6/9/22', '6/10/22', '6/11/22', '6/12/22',\n",
       "       '6/13/22', '6/14/22', '6/15/22', '6/16/22'],\n",
       "      dtype='object', length=877)"
      ]
     },
     "execution_count": 57,
     "metadata": {},
     "output_type": "execute_result"
    }
   ],
   "source": [
    "time_series_France.index"
   ]
  },
  {
   "cell_type": "code",
   "execution_count": 58,
   "id": "5aa0af27",
   "metadata": {},
   "outputs": [
    {
     "data": {
      "text/plain": [
       "array([0, 0, 0, 0, 0, 0, 0, 0, 0, 0, 0, 0, 0, 0, 0, 0, 0, 0, 0, 0, 0, 2,\n",
       "       2, 2, 4, 4, 4, 4, 4, 4, 4, 4, 4, 4, 11, 11, 11, 11, 12, 12, 12, 12,\n",
       "       12, 12, 12, 12, 12, 12, 12, 12, 12, 12, 12, 12, 12, 12, 12, 12, 12,\n",
       "       12, 2200, 2200, 3243, 3900, 4948, 5700, 5700, 7202, 7927, 9444,\n",
       "       10934, 12428, 14008, 15438, 16183, 17250, 19337, 21254, 23206,\n",
       "       24932, 26391, 27186, 27718, 28512, 30440, 32297, 33834, 35379,\n",
       "       35973, 36782, 38543, 39988, 41414, 42715, 43816, 44125, 44733,\n",
       "       45997, 47338, 48572, 49300, 49751, 49973, 50438, 51803, 53022,\n",
       "       54076, 54770, 54886, 55062, 55569, 56617, 57368, 58300, 59143,\n",
       "       59142, 59907, 60416, 61246, 61713, 62216, 62557, 62893, 62961,\n",
       "       63542, 64222, 64503, 65098, 65599, 66051, 66123, 66120, 66485,\n",
       "       67031, 67510, 68007, 68282, 68283, 68319, 68736, 69032, 69344,\n",
       "       69578, 69783, 69820, 69719, 69943, 70223, 70322, 70496, 70641,\n",
       "       70661, 70737, 70952, 71138, 71322, 71550, 71455, 71455, 71595,\n",
       "       71714, 71879, 72054, 72181, 72092, 72092, 72233, 72363, 72133,\n",
       "       72408, 72396, 72200, 72200, 72180, 71918, 71774, 71910, 71979,\n",
       "       71639, 71639, 71494, 71382, 71238, 71618, 71811, 71566, 71566,\n",
       "       71497, 71667, 71597, 71643, 71656, 71511, 71511, 71258, 71152,\n",
       "       71484, 71613, 71766, 71585, 71585, 71537, 71454, 71906, 71730,\n",
       "       72023, 71971, 71971, 72072, 72003, 71945, 71868, 72535, 72600,\n",
       "       72623, 72793, 73082, 73020, 73433, 73501, 73279, 73279, 73537,\n",
       "       73727, 73946, 74156, 74377, 73866, 73866, 74223, 74569, 74867,\n",
       "       74991, 75308, 75308, 75308, 75139, 75477, 75921, 75880, 76583,\n",
       "       76583, 76583, 77254, 77757, 77757, 77214, 77692, 77692, 77692,\n",
       "       77846, 78678, 79128, 79578, 80061, 80061, 80061, 80394, 80933,\n",
       "       81431, 81886, 81763, 81739, 81739, 82402, 83544, 84266, 84933,\n",
       "       85035, 85008, 85008, 86234, 87138, 87951, 88898, 89600, 89600,\n",
       "       89600, 91461, 92830, 94048, 95358, 96604, 97475, 98044, 98044,\n",
       "       98044, 100531, 104095, 105650, 107259, 107935, 109056, 111241,\n",
       "       113017, 114275, 115928, 117913, 118583, 119653, 121925, 124164,\n",
       "       126342, 128294, 129218, 129722, 130633, 132720, 134593, 136277,\n",
       "       137956, 138666, 138956, 139810, 141558, 143092, 144469, 145324,\n",
       "       146330, 146558, 147257, 148840, 150219, 151630, 152555, 152555,\n",
       "       153659, 154311, 155751, 156975, 158170, 159138, 160053, 160288,\n",
       "       160946, 162540, 163754, 165121, 165650, 165923, 166146, 166927,\n",
       "       168011, 169250, 170426, 170896, 171169, 171381, 172032, 173498,\n",
       "       174751, 174751, 177157, 178036, 178300, 178943, 180261, 181543,\n",
       "       182673, 183719, 183719, 184991, 185848, 187464, 188890, 190186,\n",
       "       191262, 192165, 192405, 193148, 194592, 196010, 196010, 198614,\n",
       "       199303, 199589, 200492, 202069, 203645, 203645, 206481, 207625,\n",
       "       207909, 208925, 210649, 211765, 213405, 213405, 213405, 213405,\n",
       "       217180, 218890, 219862, 221252, 221252, 221252, 221252, 224657,\n",
       "       226208, 226881, 228299, 228299, 228299, 228299, 231815, 232638,\n",
       "       234034, 235435, 236664, 237654, 238040, 238841, 239851, 241331,\n",
       "       242745, 243990, 244927, 245272, 246083, 247672, 247672, 250575,\n",
       "       250575, 251238, 251238, 253477, 254144, 254144, 257244, 258699,\n",
       "       259987, 260389, 261447, 262669, 264511, 266039, 267607, 267607,\n",
       "       269497, 269937, 269989, 269989, 274401, 274401, 274401, 278477,\n",
       "       279624, 280958, 283059, 284943, 286830, 288182, 288664, 289796,\n",
       "       291009, 292859, 294716, 296453, 297886, 298410, 299611, 300619,\n",
       "       302323, 304042, 305692, 307039, 307500, 308493, 309118, 311037,\n",
       "       312621, 314146, 315324, 315726, 316648, 316468, 317958, 319025,\n",
       "       319798, 320711, 321026, 321874, 323205, 324444, 324444, 324444,\n",
       "       324444, 324444, 327886, 327636, 328943, 329920, 331006, 331686,\n",
       "       331911, 332474, 333397, 333397, 334930, 335715, 336178, 336313,\n",
       "       336806, 335174, 335947, 336579, 337201, 337566, 337668, 338034,\n",
       "       337467, 337995, 338555, 339027, 339290, 339339, 339638, 338834,\n",
       "       339232, 339701, 340005, 340230, 340293, 340555, 340876, 340159,\n",
       "       340446, 340724, 340889, 340920, 341121, 340385, 340586, 340816,\n",
       "       341046, 341218, 341237, 341520, 340616, 340616, 340929, 341209,\n",
       "       341351, 341381, 341615, 340769, 341053, 341358, 341672, 341848,\n",
       "       341877, 342182, 342647, 341160, 341577, 342009, 342374, 342482,\n",
       "       342482, 341758, 342253, 0, 0, 0, 0, 0, 0, 0, 0, 0, 0, 0, 0, 0, 0,\n",
       "       0, 0, 0, 0, 0, 0, 0, 0, 0, 0, 0, 0, 0, 0, 0, 0, 0, 0, 0, 0, 0, 0,\n",
       "       0, 0, 0, 0, 0, 0, 0, 0, 0, 0, 0, 0, 0, 0, 0, 0, 0, 0, 0, 0, 0, 0,\n",
       "       0, 0, 0, 0, 0, 0, 0, 0, 0, 0, 0, 0, 0, 0, 0, 0, 0, 0, 0, 0, 0, 0,\n",
       "       0, 0, 0, 0, 0, 0, 0, 0, 0, 0, 0, 0, 0, 0, 0, 0, 0, 0, 0, 0, 0, 0,\n",
       "       0, 0, 0, 0, 0, 0, 0, 0, 0, 0, 0, 0, 0, 0, 0, 0, 0, 0, 0, 0, 0, 0,\n",
       "       0, 0, 0, 0, 0, 0, 0, 0, 0, 0, 0, 0, 0, 0, 0, 0, 0, 0, 0, 0, 0, 0,\n",
       "       0, 0, 0, 0, 0, 0, 0, 0, 0, 0, 0, 0, 0, 0, 0, 0, 0, 0, 0, 0, 0, 0,\n",
       "       0, 0, 0, 0, 0, 0, 0, 0, 0, 0, 0, 0, 0, 0, 0, 0, 0, 0, 0, 0, 0, 0,\n",
       "       0, 0, 0, 0, 0, 0, 0, 0, 0, 0, 0, 0, 0, 0, 0, 0, 0, 0, 0, 0, 0, 0,\n",
       "       0, 0, 0, 0, 0, 0, 0, 0, 0, 0, 0, 0, 0, 0, 0, 0, 0, 0, 0, 0, 0, 0,\n",
       "       0, 0, 0, 0, 0, 0, 0, 0, 0, 0, 0, 0, 0, 0, 0, 0, 0, 0, 0, 0, 0, 0,\n",
       "       0, 0, 0, 0, 0, 0, 0, 0, 0, 0, 0, 0, 0, 0, 0, 0, 0, 0, 0, 0, 0, 0,\n",
       "       0, 0, 0, 0, 0, 0, 0, 0, 0, 0, 0, 0, 0, 0, 0, 0, 0, 0, 0, 0, 0, 0,\n",
       "       0, 0, 0, 0, 0, 0, 0, 0, 0, 0, 0, 0, 0, 0, 0, 0], dtype=object)"
      ]
     },
     "execution_count": 58,
     "metadata": {},
     "output_type": "execute_result"
    }
   ],
   "source": [
    "time_series_France.values"
   ]
  },
  {
   "cell_type": "code",
   "execution_count": 59,
   "id": "eacb1745",
   "metadata": {},
   "outputs": [
    {
     "data": {
      "text/html": [
       "<div>\n",
       "<style scoped>\n",
       "    .dataframe tbody tr th:only-of-type {\n",
       "        vertical-align: middle;\n",
       "    }\n",
       "\n",
       "    .dataframe tbody tr th {\n",
       "        vertical-align: top;\n",
       "    }\n",
       "\n",
       "    .dataframe thead th {\n",
       "        text-align: right;\n",
       "    }\n",
       "</style>\n",
       "<table border=\"1\" class=\"dataframe\">\n",
       "  <thead>\n",
       "    <tr style=\"text-align: right;\">\n",
       "      <th></th>\n",
       "      <th>116</th>\n",
       "    </tr>\n",
       "  </thead>\n",
       "  <tbody>\n",
       "    <tr>\n",
       "      <th>1/22/20</th>\n",
       "      <td>0</td>\n",
       "    </tr>\n",
       "    <tr>\n",
       "      <th>1/23/20</th>\n",
       "      <td>0</td>\n",
       "    </tr>\n",
       "    <tr>\n",
       "      <th>1/24/20</th>\n",
       "      <td>0</td>\n",
       "    </tr>\n",
       "    <tr>\n",
       "      <th>1/25/20</th>\n",
       "      <td>0</td>\n",
       "    </tr>\n",
       "    <tr>\n",
       "      <th>1/26/20</th>\n",
       "      <td>0</td>\n",
       "    </tr>\n",
       "    <tr>\n",
       "      <th>...</th>\n",
       "      <td>...</td>\n",
       "    </tr>\n",
       "    <tr>\n",
       "      <th>6/12/22</th>\n",
       "      <td>0</td>\n",
       "    </tr>\n",
       "    <tr>\n",
       "      <th>6/13/22</th>\n",
       "      <td>0</td>\n",
       "    </tr>\n",
       "    <tr>\n",
       "      <th>6/14/22</th>\n",
       "      <td>0</td>\n",
       "    </tr>\n",
       "    <tr>\n",
       "      <th>6/15/22</th>\n",
       "      <td>0</td>\n",
       "    </tr>\n",
       "    <tr>\n",
       "      <th>6/16/22</th>\n",
       "      <td>0</td>\n",
       "    </tr>\n",
       "  </tbody>\n",
       "</table>\n",
       "<p>877 rows × 1 columns</p>\n",
       "</div>"
      ],
      "text/plain": [
       "        116\n",
       "1/22/20   0\n",
       "1/23/20   0\n",
       "1/24/20   0\n",
       "1/25/20   0\n",
       "1/26/20   0\n",
       "...      ..\n",
       "6/12/22   0\n",
       "6/13/22   0\n",
       "6/14/22   0\n",
       "6/15/22   0\n",
       "6/16/22   0\n",
       "\n",
       "[877 rows x 1 columns]"
      ]
     },
     "execution_count": 59,
     "metadata": {},
     "output_type": "execute_result"
    }
   ],
   "source": [
    "pd.DataFrame(time_series_France)"
   ]
  },
  {
   "cell_type": "code",
   "execution_count": 60,
   "id": "d60ff70d",
   "metadata": {},
   "outputs": [
    {
     "data": {
      "text/html": [
       "<div>\n",
       "<style scoped>\n",
       "    .dataframe tbody tr th:only-of-type {\n",
       "        vertical-align: middle;\n",
       "    }\n",
       "\n",
       "    .dataframe tbody tr th {\n",
       "        vertical-align: top;\n",
       "    }\n",
       "\n",
       "    .dataframe thead th {\n",
       "        text-align: right;\n",
       "    }\n",
       "</style>\n",
       "<table border=\"1\" class=\"dataframe\">\n",
       "  <thead>\n",
       "    <tr style=\"text-align: right;\">\n",
       "      <th></th>\n",
       "      <th>index</th>\n",
       "      <th>116</th>\n",
       "    </tr>\n",
       "  </thead>\n",
       "  <tbody>\n",
       "    <tr>\n",
       "      <th>0</th>\n",
       "      <td>1/22/20</td>\n",
       "      <td>0</td>\n",
       "    </tr>\n",
       "    <tr>\n",
       "      <th>1</th>\n",
       "      <td>1/23/20</td>\n",
       "      <td>0</td>\n",
       "    </tr>\n",
       "    <tr>\n",
       "      <th>2</th>\n",
       "      <td>1/24/20</td>\n",
       "      <td>0</td>\n",
       "    </tr>\n",
       "    <tr>\n",
       "      <th>3</th>\n",
       "      <td>1/25/20</td>\n",
       "      <td>0</td>\n",
       "    </tr>\n",
       "    <tr>\n",
       "      <th>4</th>\n",
       "      <td>1/26/20</td>\n",
       "      <td>0</td>\n",
       "    </tr>\n",
       "    <tr>\n",
       "      <th>...</th>\n",
       "      <td>...</td>\n",
       "      <td>...</td>\n",
       "    </tr>\n",
       "    <tr>\n",
       "      <th>872</th>\n",
       "      <td>6/12/22</td>\n",
       "      <td>0</td>\n",
       "    </tr>\n",
       "    <tr>\n",
       "      <th>873</th>\n",
       "      <td>6/13/22</td>\n",
       "      <td>0</td>\n",
       "    </tr>\n",
       "    <tr>\n",
       "      <th>874</th>\n",
       "      <td>6/14/22</td>\n",
       "      <td>0</td>\n",
       "    </tr>\n",
       "    <tr>\n",
       "      <th>875</th>\n",
       "      <td>6/15/22</td>\n",
       "      <td>0</td>\n",
       "    </tr>\n",
       "    <tr>\n",
       "      <th>876</th>\n",
       "      <td>6/16/22</td>\n",
       "      <td>0</td>\n",
       "    </tr>\n",
       "  </tbody>\n",
       "</table>\n",
       "<p>877 rows × 2 columns</p>\n",
       "</div>"
      ],
      "text/plain": [
       "       index 116\n",
       "0    1/22/20   0\n",
       "1    1/23/20   0\n",
       "2    1/24/20   0\n",
       "3    1/25/20   0\n",
       "4    1/26/20   0\n",
       "..       ...  ..\n",
       "872  6/12/22   0\n",
       "873  6/13/22   0\n",
       "874  6/14/22   0\n",
       "875  6/15/22   0\n",
       "876  6/16/22   0\n",
       "\n",
       "[877 rows x 2 columns]"
      ]
     },
     "execution_count": 60,
     "metadata": {},
     "output_type": "execute_result"
    }
   ],
   "source": [
    "pd.DataFrame(time_series_France).reset_index()"
   ]
  },
  {
   "cell_type": "code",
   "execution_count": 61,
   "id": "aba7dece",
   "metadata": {},
   "outputs": [
    {
     "data": {
      "text/html": [
       "<div>\n",
       "<style scoped>\n",
       "    .dataframe tbody tr th:only-of-type {\n",
       "        vertical-align: middle;\n",
       "    }\n",
       "\n",
       "    .dataframe tbody tr th {\n",
       "        vertical-align: top;\n",
       "    }\n",
       "\n",
       "    .dataframe thead th {\n",
       "        text-align: right;\n",
       "    }\n",
       "</style>\n",
       "<table border=\"1\" class=\"dataframe\">\n",
       "  <thead>\n",
       "    <tr style=\"text-align: right;\">\n",
       "      <th></th>\n",
       "      <th>index</th>\n",
       "      <th>116</th>\n",
       "    </tr>\n",
       "  </thead>\n",
       "  <tbody>\n",
       "    <tr>\n",
       "      <th>0</th>\n",
       "      <td>1/22/20</td>\n",
       "      <td>0</td>\n",
       "    </tr>\n",
       "    <tr>\n",
       "      <th>1</th>\n",
       "      <td>1/23/20</td>\n",
       "      <td>0</td>\n",
       "    </tr>\n",
       "    <tr>\n",
       "      <th>2</th>\n",
       "      <td>1/24/20</td>\n",
       "      <td>0</td>\n",
       "    </tr>\n",
       "    <tr>\n",
       "      <th>3</th>\n",
       "      <td>1/25/20</td>\n",
       "      <td>0</td>\n",
       "    </tr>\n",
       "    <tr>\n",
       "      <th>4</th>\n",
       "      <td>1/26/20</td>\n",
       "      <td>0</td>\n",
       "    </tr>\n",
       "    <tr>\n",
       "      <th>...</th>\n",
       "      <td>...</td>\n",
       "      <td>...</td>\n",
       "    </tr>\n",
       "    <tr>\n",
       "      <th>872</th>\n",
       "      <td>6/12/22</td>\n",
       "      <td>0</td>\n",
       "    </tr>\n",
       "    <tr>\n",
       "      <th>873</th>\n",
       "      <td>6/13/22</td>\n",
       "      <td>0</td>\n",
       "    </tr>\n",
       "    <tr>\n",
       "      <th>874</th>\n",
       "      <td>6/14/22</td>\n",
       "      <td>0</td>\n",
       "    </tr>\n",
       "    <tr>\n",
       "      <th>875</th>\n",
       "      <td>6/15/22</td>\n",
       "      <td>0</td>\n",
       "    </tr>\n",
       "    <tr>\n",
       "      <th>876</th>\n",
       "      <td>6/16/22</td>\n",
       "      <td>0</td>\n",
       "    </tr>\n",
       "  </tbody>\n",
       "</table>\n",
       "<p>877 rows × 2 columns</p>\n",
       "</div>"
      ],
      "text/plain": [
       "       index 116\n",
       "0    1/22/20   0\n",
       "1    1/23/20   0\n",
       "2    1/24/20   0\n",
       "3    1/25/20   0\n",
       "4    1/26/20   0\n",
       "..       ...  ..\n",
       "872  6/12/22   0\n",
       "873  6/13/22   0\n",
       "874  6/14/22   0\n",
       "875  6/15/22   0\n",
       "876  6/16/22   0\n",
       "\n",
       "[877 rows x 2 columns]"
      ]
     },
     "execution_count": 61,
     "metadata": {},
     "output_type": "execute_result"
    }
   ],
   "source": [
    "df_boo=pd.DataFrame(time_series_France).reset_index()\n",
    "df_boo"
   ]
  },
  {
   "cell_type": "code",
   "execution_count": 62,
   "id": "36e65b35",
   "metadata": {},
   "outputs": [],
   "source": [
    "## renomer les collonnes \n",
    "df_boo.columns=['time','cases_numbers']"
   ]
  },
  {
   "cell_type": "code",
   "execution_count": 63,
   "id": "602283d0",
   "metadata": {},
   "outputs": [
    {
     "data": {
      "text/plain": [
       "pandas.core.frame.DataFrame"
      ]
     },
     "execution_count": 63,
     "metadata": {},
     "output_type": "execute_result"
    }
   ],
   "source": [
    "type(df_boo)"
   ]
  },
  {
   "cell_type": "code",
   "execution_count": 64,
   "id": "5ee8b2b4",
   "metadata": {},
   "outputs": [
    {
     "data": {
      "text/html": [
       "<div>\n",
       "<style scoped>\n",
       "    .dataframe tbody tr th:only-of-type {\n",
       "        vertical-align: middle;\n",
       "    }\n",
       "\n",
       "    .dataframe tbody tr th {\n",
       "        vertical-align: top;\n",
       "    }\n",
       "\n",
       "    .dataframe thead th {\n",
       "        text-align: right;\n",
       "    }\n",
       "</style>\n",
       "<table border=\"1\" class=\"dataframe\">\n",
       "  <thead>\n",
       "    <tr style=\"text-align: right;\">\n",
       "      <th></th>\n",
       "      <th>time</th>\n",
       "      <th>cases_numbers</th>\n",
       "    </tr>\n",
       "  </thead>\n",
       "  <tbody>\n",
       "    <tr>\n",
       "      <th>0</th>\n",
       "      <td>1/22/20</td>\n",
       "      <td>0</td>\n",
       "    </tr>\n",
       "    <tr>\n",
       "      <th>1</th>\n",
       "      <td>1/23/20</td>\n",
       "      <td>0</td>\n",
       "    </tr>\n",
       "    <tr>\n",
       "      <th>2</th>\n",
       "      <td>1/24/20</td>\n",
       "      <td>0</td>\n",
       "    </tr>\n",
       "    <tr>\n",
       "      <th>3</th>\n",
       "      <td>1/25/20</td>\n",
       "      <td>0</td>\n",
       "    </tr>\n",
       "    <tr>\n",
       "      <th>4</th>\n",
       "      <td>1/26/20</td>\n",
       "      <td>0</td>\n",
       "    </tr>\n",
       "    <tr>\n",
       "      <th>...</th>\n",
       "      <td>...</td>\n",
       "      <td>...</td>\n",
       "    </tr>\n",
       "    <tr>\n",
       "      <th>872</th>\n",
       "      <td>6/12/22</td>\n",
       "      <td>0</td>\n",
       "    </tr>\n",
       "    <tr>\n",
       "      <th>873</th>\n",
       "      <td>6/13/22</td>\n",
       "      <td>0</td>\n",
       "    </tr>\n",
       "    <tr>\n",
       "      <th>874</th>\n",
       "      <td>6/14/22</td>\n",
       "      <td>0</td>\n",
       "    </tr>\n",
       "    <tr>\n",
       "      <th>875</th>\n",
       "      <td>6/15/22</td>\n",
       "      <td>0</td>\n",
       "    </tr>\n",
       "    <tr>\n",
       "      <th>876</th>\n",
       "      <td>6/16/22</td>\n",
       "      <td>0</td>\n",
       "    </tr>\n",
       "  </tbody>\n",
       "</table>\n",
       "<p>877 rows × 2 columns</p>\n",
       "</div>"
      ],
      "text/plain": [
       "        time cases_numbers\n",
       "0    1/22/20             0\n",
       "1    1/23/20             0\n",
       "2    1/24/20             0\n",
       "3    1/25/20             0\n",
       "4    1/26/20             0\n",
       "..       ...           ...\n",
       "872  6/12/22             0\n",
       "873  6/13/22             0\n",
       "874  6/14/22             0\n",
       "875  6/15/22             0\n",
       "876  6/16/22             0\n",
       "\n",
       "[877 rows x 2 columns]"
      ]
     },
     "execution_count": 64,
     "metadata": {},
     "output_type": "execute_result"
    }
   ],
   "source": [
    "df_boo"
   ]
  },
  {
   "cell_type": "code",
   "execution_count": 66,
   "id": "aed94376",
   "metadata": {},
   "outputs": [
    {
     "name": "stdout",
     "output_type": "stream",
     "text": [
      "<class 'pandas.core.frame.DataFrame'>\n",
      "RangeIndex: 877 entries, 0 to 876\n",
      "Data columns (total 2 columns):\n",
      " #   Column         Non-Null Count  Dtype \n",
      "---  ------         --------------  ----- \n",
      " 0   time           877 non-null    object\n",
      " 1   cases_numbers  877 non-null    object\n",
      "dtypes: object(2)\n",
      "memory usage: 13.8+ KB\n"
     ]
    }
   ],
   "source": [
    "df_boo.info()"
   ]
  },
  {
   "cell_type": "code",
   "execution_count": 65,
   "id": "d9dbfe97",
   "metadata": {},
   "outputs": [
    {
     "ename": "DataError",
     "evalue": "No numeric types to aggregate",
     "output_type": "error",
     "traceback": [
      "\u001b[1;31m---------------------------------------------------------------------------\u001b[0m",
      "\u001b[1;31mDataError\u001b[0m                                 Traceback (most recent call last)",
      "\u001b[1;32m<ipython-input-65-ca05a5863723>\u001b[0m in \u001b[0;36m<module>\u001b[1;34m\u001b[0m\n\u001b[1;32m----> 1\u001b[1;33m \u001b[0msns\u001b[0m\u001b[1;33m.\u001b[0m\u001b[0mlineplot\u001b[0m\u001b[1;33m(\u001b[0m\u001b[0mx\u001b[0m\u001b[1;33m=\u001b[0m\u001b[1;34m'time'\u001b[0m\u001b[1;33m,\u001b[0m\u001b[0my\u001b[0m\u001b[1;33m=\u001b[0m\u001b[1;34m'cases_numbers'\u001b[0m\u001b[1;33m,\u001b[0m\u001b[0mdata\u001b[0m\u001b[1;33m=\u001b[0m\u001b[0mdf_boo\u001b[0m\u001b[1;33m)\u001b[0m\u001b[1;33m\u001b[0m\u001b[1;33m\u001b[0m\u001b[0m\n\u001b[0m",
      "\u001b[1;32mC:\\ProgramData\\Anaconda3\\lib\\site-packages\\seaborn\\_decorators.py\u001b[0m in \u001b[0;36minner_f\u001b[1;34m(*args, **kwargs)\u001b[0m\n\u001b[0;32m     44\u001b[0m             )\n\u001b[0;32m     45\u001b[0m         \u001b[0mkwargs\u001b[0m\u001b[1;33m.\u001b[0m\u001b[0mupdate\u001b[0m\u001b[1;33m(\u001b[0m\u001b[1;33m{\u001b[0m\u001b[0mk\u001b[0m\u001b[1;33m:\u001b[0m \u001b[0marg\u001b[0m \u001b[1;32mfor\u001b[0m \u001b[0mk\u001b[0m\u001b[1;33m,\u001b[0m \u001b[0marg\u001b[0m \u001b[1;32min\u001b[0m \u001b[0mzip\u001b[0m\u001b[1;33m(\u001b[0m\u001b[0msig\u001b[0m\u001b[1;33m.\u001b[0m\u001b[0mparameters\u001b[0m\u001b[1;33m,\u001b[0m \u001b[0margs\u001b[0m\u001b[1;33m)\u001b[0m\u001b[1;33m}\u001b[0m\u001b[1;33m)\u001b[0m\u001b[1;33m\u001b[0m\u001b[1;33m\u001b[0m\u001b[0m\n\u001b[1;32m---> 46\u001b[1;33m         \u001b[1;32mreturn\u001b[0m \u001b[0mf\u001b[0m\u001b[1;33m(\u001b[0m\u001b[1;33m**\u001b[0m\u001b[0mkwargs\u001b[0m\u001b[1;33m)\u001b[0m\u001b[1;33m\u001b[0m\u001b[1;33m\u001b[0m\u001b[0m\n\u001b[0m\u001b[0;32m     47\u001b[0m     \u001b[1;32mreturn\u001b[0m \u001b[0minner_f\u001b[0m\u001b[1;33m\u001b[0m\u001b[1;33m\u001b[0m\u001b[0m\n\u001b[0;32m     48\u001b[0m \u001b[1;33m\u001b[0m\u001b[0m\n",
      "\u001b[1;32mC:\\ProgramData\\Anaconda3\\lib\\site-packages\\seaborn\\relational.py\u001b[0m in \u001b[0;36mlineplot\u001b[1;34m(x, y, hue, size, style, data, palette, hue_order, hue_norm, sizes, size_order, size_norm, dashes, markers, style_order, units, estimator, ci, n_boot, seed, sort, err_style, err_kws, legend, ax, **kwargs)\u001b[0m\n\u001b[0;32m    701\u001b[0m     \u001b[0mp\u001b[0m\u001b[1;33m.\u001b[0m\u001b[0m_attach\u001b[0m\u001b[1;33m(\u001b[0m\u001b[0max\u001b[0m\u001b[1;33m)\u001b[0m\u001b[1;33m\u001b[0m\u001b[1;33m\u001b[0m\u001b[0m\n\u001b[0;32m    702\u001b[0m \u001b[1;33m\u001b[0m\u001b[0m\n\u001b[1;32m--> 703\u001b[1;33m     \u001b[0mp\u001b[0m\u001b[1;33m.\u001b[0m\u001b[0mplot\u001b[0m\u001b[1;33m(\u001b[0m\u001b[0max\u001b[0m\u001b[1;33m,\u001b[0m \u001b[0mkwargs\u001b[0m\u001b[1;33m)\u001b[0m\u001b[1;33m\u001b[0m\u001b[1;33m\u001b[0m\u001b[0m\n\u001b[0m\u001b[0;32m    704\u001b[0m     \u001b[1;32mreturn\u001b[0m \u001b[0max\u001b[0m\u001b[1;33m\u001b[0m\u001b[1;33m\u001b[0m\u001b[0m\n\u001b[0;32m    705\u001b[0m \u001b[1;33m\u001b[0m\u001b[0m\n",
      "\u001b[1;32mC:\\ProgramData\\Anaconda3\\lib\\site-packages\\seaborn\\relational.py\u001b[0m in \u001b[0;36mplot\u001b[1;34m(self, ax, kws)\u001b[0m\n\u001b[0;32m    497\u001b[0m                     \u001b[0merr\u001b[0m \u001b[1;33m=\u001b[0m \u001b[1;34m\"estimator must be None when specifying units\"\u001b[0m\u001b[1;33m\u001b[0m\u001b[1;33m\u001b[0m\u001b[0m\n\u001b[0;32m    498\u001b[0m                     \u001b[1;32mraise\u001b[0m \u001b[0mValueError\u001b[0m\u001b[1;33m(\u001b[0m\u001b[0merr\u001b[0m\u001b[1;33m)\u001b[0m\u001b[1;33m\u001b[0m\u001b[1;33m\u001b[0m\u001b[0m\n\u001b[1;32m--> 499\u001b[1;33m                 \u001b[0mx\u001b[0m\u001b[1;33m,\u001b[0m \u001b[0my\u001b[0m\u001b[1;33m,\u001b[0m \u001b[0my_ci\u001b[0m \u001b[1;33m=\u001b[0m \u001b[0mself\u001b[0m\u001b[1;33m.\u001b[0m\u001b[0maggregate\u001b[0m\u001b[1;33m(\u001b[0m\u001b[0my\u001b[0m\u001b[1;33m,\u001b[0m \u001b[0mx\u001b[0m\u001b[1;33m,\u001b[0m \u001b[0mu\u001b[0m\u001b[1;33m)\u001b[0m\u001b[1;33m\u001b[0m\u001b[1;33m\u001b[0m\u001b[0m\n\u001b[0m\u001b[0;32m    500\u001b[0m             \u001b[1;32melse\u001b[0m\u001b[1;33m:\u001b[0m\u001b[1;33m\u001b[0m\u001b[1;33m\u001b[0m\u001b[0m\n\u001b[0;32m    501\u001b[0m                 \u001b[0my_ci\u001b[0m \u001b[1;33m=\u001b[0m \u001b[1;32mNone\u001b[0m\u001b[1;33m\u001b[0m\u001b[1;33m\u001b[0m\u001b[0m\n",
      "\u001b[1;32mC:\\ProgramData\\Anaconda3\\lib\\site-packages\\seaborn\\relational.py\u001b[0m in \u001b[0;36maggregate\u001b[1;34m(self, vals, grouper, units)\u001b[0m\n\u001b[0;32m    399\u001b[0m         \u001b[1;31m# Group and get the aggregation estimate\u001b[0m\u001b[1;33m\u001b[0m\u001b[1;33m\u001b[0m\u001b[1;33m\u001b[0m\u001b[0m\n\u001b[0;32m    400\u001b[0m         \u001b[0mgrouped\u001b[0m \u001b[1;33m=\u001b[0m \u001b[0mvals\u001b[0m\u001b[1;33m.\u001b[0m\u001b[0mgroupby\u001b[0m\u001b[1;33m(\u001b[0m\u001b[0mgrouper\u001b[0m\u001b[1;33m,\u001b[0m \u001b[0msort\u001b[0m\u001b[1;33m=\u001b[0m\u001b[0mself\u001b[0m\u001b[1;33m.\u001b[0m\u001b[0msort\u001b[0m\u001b[1;33m)\u001b[0m\u001b[1;33m\u001b[0m\u001b[1;33m\u001b[0m\u001b[0m\n\u001b[1;32m--> 401\u001b[1;33m         \u001b[0mest\u001b[0m \u001b[1;33m=\u001b[0m \u001b[0mgrouped\u001b[0m\u001b[1;33m.\u001b[0m\u001b[0magg\u001b[0m\u001b[1;33m(\u001b[0m\u001b[0mfunc\u001b[0m\u001b[1;33m)\u001b[0m\u001b[1;33m\u001b[0m\u001b[1;33m\u001b[0m\u001b[0m\n\u001b[0m\u001b[0;32m    402\u001b[0m \u001b[1;33m\u001b[0m\u001b[0m\n\u001b[0;32m    403\u001b[0m         \u001b[1;31m# Exit early if we don't want a confidence interval\u001b[0m\u001b[1;33m\u001b[0m\u001b[1;33m\u001b[0m\u001b[1;33m\u001b[0m\u001b[0m\n",
      "\u001b[1;32mC:\\ProgramData\\Anaconda3\\lib\\site-packages\\pandas\\core\\groupby\\generic.py\u001b[0m in \u001b[0;36maggregate\u001b[1;34m(self, func, engine, engine_kwargs, *args, **kwargs)\u001b[0m\n\u001b[0;32m    239\u001b[0m \u001b[1;33m\u001b[0m\u001b[0m\n\u001b[0;32m    240\u001b[0m         \u001b[1;32mif\u001b[0m \u001b[0misinstance\u001b[0m\u001b[1;33m(\u001b[0m\u001b[0mfunc\u001b[0m\u001b[1;33m,\u001b[0m \u001b[0mstr\u001b[0m\u001b[1;33m)\u001b[0m\u001b[1;33m:\u001b[0m\u001b[1;33m\u001b[0m\u001b[1;33m\u001b[0m\u001b[0m\n\u001b[1;32m--> 241\u001b[1;33m             \u001b[1;32mreturn\u001b[0m \u001b[0mgetattr\u001b[0m\u001b[1;33m(\u001b[0m\u001b[0mself\u001b[0m\u001b[1;33m,\u001b[0m \u001b[0mfunc\u001b[0m\u001b[1;33m)\u001b[0m\u001b[1;33m(\u001b[0m\u001b[1;33m*\u001b[0m\u001b[0margs\u001b[0m\u001b[1;33m,\u001b[0m \u001b[1;33m**\u001b[0m\u001b[0mkwargs\u001b[0m\u001b[1;33m)\u001b[0m\u001b[1;33m\u001b[0m\u001b[1;33m\u001b[0m\u001b[0m\n\u001b[0m\u001b[0;32m    242\u001b[0m \u001b[1;33m\u001b[0m\u001b[0m\n\u001b[0;32m    243\u001b[0m         \u001b[1;32melif\u001b[0m \u001b[0misinstance\u001b[0m\u001b[1;33m(\u001b[0m\u001b[0mfunc\u001b[0m\u001b[1;33m,\u001b[0m \u001b[0mabc\u001b[0m\u001b[1;33m.\u001b[0m\u001b[0mIterable\u001b[0m\u001b[1;33m)\u001b[0m\u001b[1;33m:\u001b[0m\u001b[1;33m\u001b[0m\u001b[1;33m\u001b[0m\u001b[0m\n",
      "\u001b[1;32mC:\\ProgramData\\Anaconda3\\lib\\site-packages\\pandas\\core\\groupby\\groupby.py\u001b[0m in \u001b[0;36mmean\u001b[1;34m(self, numeric_only)\u001b[0m\n\u001b[0;32m   1494\u001b[0m         \u001b[0mName\u001b[0m\u001b[1;33m:\u001b[0m \u001b[0mB\u001b[0m\u001b[1;33m,\u001b[0m \u001b[0mdtype\u001b[0m\u001b[1;33m:\u001b[0m \u001b[0mfloat64\u001b[0m\u001b[1;33m\u001b[0m\u001b[1;33m\u001b[0m\u001b[0m\n\u001b[0;32m   1495\u001b[0m         \"\"\"\n\u001b[1;32m-> 1496\u001b[1;33m         return self._cython_agg_general(\n\u001b[0m\u001b[0;32m   1497\u001b[0m             \u001b[1;34m\"mean\"\u001b[0m\u001b[1;33m,\u001b[0m\u001b[1;33m\u001b[0m\u001b[1;33m\u001b[0m\u001b[0m\n\u001b[0;32m   1498\u001b[0m             \u001b[0malt\u001b[0m\u001b[1;33m=\u001b[0m\u001b[1;32mlambda\u001b[0m \u001b[0mx\u001b[0m\u001b[1;33m,\u001b[0m \u001b[0maxis\u001b[0m\u001b[1;33m:\u001b[0m \u001b[0mSeries\u001b[0m\u001b[1;33m(\u001b[0m\u001b[0mx\u001b[0m\u001b[1;33m)\u001b[0m\u001b[1;33m.\u001b[0m\u001b[0mmean\u001b[0m\u001b[1;33m(\u001b[0m\u001b[0mnumeric_only\u001b[0m\u001b[1;33m=\u001b[0m\u001b[0mnumeric_only\u001b[0m\u001b[1;33m)\u001b[0m\u001b[1;33m,\u001b[0m\u001b[1;33m\u001b[0m\u001b[1;33m\u001b[0m\u001b[0m\n",
      "\u001b[1;32mC:\\ProgramData\\Anaconda3\\lib\\site-packages\\pandas\\core\\groupby\\groupby.py\u001b[0m in \u001b[0;36m_cython_agg_general\u001b[1;34m(self, how, alt, numeric_only, min_count)\u001b[0m\n\u001b[0;32m   1079\u001b[0m \u001b[1;33m\u001b[0m\u001b[0m\n\u001b[0;32m   1080\u001b[0m         \u001b[1;32mif\u001b[0m \u001b[1;32mnot\u001b[0m \u001b[0moutput\u001b[0m\u001b[1;33m:\u001b[0m\u001b[1;33m\u001b[0m\u001b[1;33m\u001b[0m\u001b[0m\n\u001b[1;32m-> 1081\u001b[1;33m             \u001b[1;32mraise\u001b[0m \u001b[0mDataError\u001b[0m\u001b[1;33m(\u001b[0m\u001b[1;34m\"No numeric types to aggregate\"\u001b[0m\u001b[1;33m)\u001b[0m\u001b[1;33m\u001b[0m\u001b[1;33m\u001b[0m\u001b[0m\n\u001b[0m\u001b[0;32m   1082\u001b[0m \u001b[1;33m\u001b[0m\u001b[0m\n\u001b[0;32m   1083\u001b[0m         \u001b[1;32mreturn\u001b[0m \u001b[0mself\u001b[0m\u001b[1;33m.\u001b[0m\u001b[0m_wrap_aggregated_output\u001b[0m\u001b[1;33m(\u001b[0m\u001b[0moutput\u001b[0m\u001b[1;33m,\u001b[0m \u001b[0mindex\u001b[0m\u001b[1;33m=\u001b[0m\u001b[0mself\u001b[0m\u001b[1;33m.\u001b[0m\u001b[0mgrouper\u001b[0m\u001b[1;33m.\u001b[0m\u001b[0mresult_index\u001b[0m\u001b[1;33m)\u001b[0m\u001b[1;33m\u001b[0m\u001b[1;33m\u001b[0m\u001b[0m\n",
      "\u001b[1;31mDataError\u001b[0m: No numeric types to aggregate"
     ]
    },
    {
     "data": {
      "image/png": "[encoded data removed]",
      "text/plain": [
       "<Figure size 640x480 with 1 Axes>"
      ]
     },
     "metadata": {},
     "output_type": "display_data"
    }
   ],
   "source": [
    "sns.lineplot(x='time',y='cases_numbers',data=df_boo)"
   ]
  },
  {
   "cell_type": "code",
   "execution_count": 67,
   "id": "cac74452",
   "metadata": {},
   "outputs": [
    {
     "name": "stdout",
     "output_type": "stream",
     "text": [
      "<class 'pandas.core.frame.DataFrame'>\n",
      "RangeIndex: 877 entries, 0 to 876\n",
      "Data columns (total 2 columns):\n",
      " #   Column         Non-Null Count  Dtype \n",
      "---  ------         --------------  ----- \n",
      " 0   time           877 non-null    object\n",
      " 1   cases_numbers  877 non-null    object\n",
      "dtypes: object(2)\n",
      "memory usage: 13.8+ KB\n"
     ]
    }
   ],
   "source": [
    "df_boo.info()"
   ]
  },
  {
   "cell_type": "code",
   "execution_count": 68,
   "id": "29c23627",
   "metadata": {},
   "outputs": [],
   "source": [
    "df_boo['cases_numbers']=df_boo['cases_numbers'].astype(int)"
   ]
  },
  {
   "cell_type": "code",
   "execution_count": 69,
   "id": "53f00963",
   "metadata": {},
   "outputs": [
    {
     "name": "stdout",
     "output_type": "stream",
     "text": [
      "<class 'pandas.core.frame.DataFrame'>\n",
      "RangeIndex: 877 entries, 0 to 876\n",
      "Data columns (total 2 columns):\n",
      " #   Column         Non-Null Count  Dtype \n",
      "---  ------         --------------  ----- \n",
      " 0   time           877 non-null    object\n",
      " 1   cases_numbers  877 non-null    int32 \n",
      "dtypes: int32(1), object(1)\n",
      "memory usage: 10.4+ KB\n"
     ]
    }
   ],
   "source": [
    "df_boo.info()"
   ]
  },
  {
   "cell_type": "code",
   "execution_count": 70,
   "id": "579cc76d",
   "metadata": {},
   "outputs": [],
   "source": [
    "df_boo['time']=pd.to_datetime(df_boo['time'])"
   ]
  },
  {
   "cell_type": "code",
   "execution_count": 71,
   "id": "0d82355d",
   "metadata": {},
   "outputs": [
    {
     "data": {
      "text/html": [
       "<div>\n",
       "<style scoped>\n",
       "    .dataframe tbody tr th:only-of-type {\n",
       "        vertical-align: middle;\n",
       "    }\n",
       "\n",
       "    .dataframe tbody tr th {\n",
       "        vertical-align: top;\n",
       "    }\n",
       "\n",
       "    .dataframe thead th {\n",
       "        text-align: right;\n",
       "    }\n",
       "</style>\n",
       "<table border=\"1\" class=\"dataframe\">\n",
       "  <thead>\n",
       "    <tr style=\"text-align: right;\">\n",
       "      <th></th>\n",
       "      <th>time</th>\n",
       "      <th>cases_numbers</th>\n",
       "    </tr>\n",
       "  </thead>\n",
       "  <tbody>\n",
       "    <tr>\n",
       "      <th>0</th>\n",
       "      <td>2020-01-22</td>\n",
       "      <td>0</td>\n",
       "    </tr>\n",
       "    <tr>\n",
       "      <th>1</th>\n",
       "      <td>2020-01-23</td>\n",
       "      <td>0</td>\n",
       "    </tr>\n",
       "    <tr>\n",
       "      <th>2</th>\n",
       "      <td>2020-01-24</td>\n",
       "      <td>0</td>\n",
       "    </tr>\n",
       "    <tr>\n",
       "      <th>3</th>\n",
       "      <td>2020-01-25</td>\n",
       "      <td>0</td>\n",
       "    </tr>\n",
       "    <tr>\n",
       "      <th>4</th>\n",
       "      <td>2020-01-26</td>\n",
       "      <td>0</td>\n",
       "    </tr>\n",
       "  </tbody>\n",
       "</table>\n",
       "</div>"
      ],
      "text/plain": [
       "        time  cases_numbers\n",
       "0 2020-01-22              0\n",
       "1 2020-01-23              0\n",
       "2 2020-01-24              0\n",
       "3 2020-01-25              0\n",
       "4 2020-01-26              0"
      ]
     },
     "execution_count": 71,
     "metadata": {},
     "output_type": "execute_result"
    }
   ],
   "source": [
    "df_boo.head()"
   ]
  },
  {
   "cell_type": "code",
   "execution_count": 72,
   "id": "aa19febc",
   "metadata": {},
   "outputs": [
    {
     "data": {
      "text/plain": [
       "<AxesSubplot:xlabel='time', ylabel='cases_numbers'>"
      ]
     },
     "execution_count": 72,
     "metadata": {},
     "output_type": "execute_result"
    },
    {
     "data": {
      "image/png": "[encoded data removed]",
      "text/plain": [
       "<Figure size 640x480 with 1 Axes>"
      ]
     },
     "metadata": {},
     "output_type": "display_data"
    }
   ],
   "source": [
    "sns.lineplot(x='time',y='cases_numbers',data=df_boo)"
   ]
  },
  {
   "cell_type": "markdown",
   "id": "6f0c3265",
   "metadata": {},
   "source": [
    "## Un nuage de points -relplot"
   ]
  },
  {
   "cell_type": "code",
   "execution_count": 73,
   "id": "5b1430e2",
   "metadata": {},
   "outputs": [
    {
     "data": {
      "text/html": [
       "<div>\n",
       "<style scoped>\n",
       "    .dataframe tbody tr th:only-of-type {\n",
       "        vertical-align: middle;\n",
       "    }\n",
       "\n",
       "    .dataframe tbody tr th {\n",
       "        vertical-align: top;\n",
       "    }\n",
       "\n",
       "    .dataframe thead th {\n",
       "        text-align: right;\n",
       "    }\n",
       "</style>\n",
       "<table border=\"1\" class=\"dataframe\">\n",
       "  <thead>\n",
       "    <tr style=\"text-align: right;\">\n",
       "      <th></th>\n",
       "      <th>Province/State</th>\n",
       "      <th>Country/Region</th>\n",
       "      <th>Lat</th>\n",
       "      <th>Long</th>\n",
       "      <th>1/22/20</th>\n",
       "      <th>1/23/20</th>\n",
       "      <th>1/24/20</th>\n",
       "      <th>1/25/20</th>\n",
       "      <th>1/26/20</th>\n",
       "      <th>1/27/20</th>\n",
       "      <th>...</th>\n",
       "      <th>6/7/22</th>\n",
       "      <th>6/8/22</th>\n",
       "      <th>6/9/22</th>\n",
       "      <th>6/10/22</th>\n",
       "      <th>6/11/22</th>\n",
       "      <th>6/12/22</th>\n",
       "      <th>6/13/22</th>\n",
       "      <th>6/14/22</th>\n",
       "      <th>6/15/22</th>\n",
       "      <th>6/16/22</th>\n",
       "    </tr>\n",
       "  </thead>\n",
       "  <tbody>\n",
       "    <tr>\n",
       "      <th>0</th>\n",
       "      <td>NaN</td>\n",
       "      <td>Afghanistan</td>\n",
       "      <td>33.93911</td>\n",
       "      <td>67.709953</td>\n",
       "      <td>0</td>\n",
       "      <td>0</td>\n",
       "      <td>0</td>\n",
       "      <td>0</td>\n",
       "      <td>0</td>\n",
       "      <td>0</td>\n",
       "      <td>...</td>\n",
       "      <td>0</td>\n",
       "      <td>0</td>\n",
       "      <td>0</td>\n",
       "      <td>0</td>\n",
       "      <td>0</td>\n",
       "      <td>0</td>\n",
       "      <td>0</td>\n",
       "      <td>0</td>\n",
       "      <td>0</td>\n",
       "      <td>0</td>\n",
       "    </tr>\n",
       "    <tr>\n",
       "      <th>1</th>\n",
       "      <td>NaN</td>\n",
       "      <td>Albania</td>\n",
       "      <td>41.15330</td>\n",
       "      <td>20.168300</td>\n",
       "      <td>0</td>\n",
       "      <td>0</td>\n",
       "      <td>0</td>\n",
       "      <td>0</td>\n",
       "      <td>0</td>\n",
       "      <td>0</td>\n",
       "      <td>...</td>\n",
       "      <td>0</td>\n",
       "      <td>0</td>\n",
       "      <td>0</td>\n",
       "      <td>0</td>\n",
       "      <td>0</td>\n",
       "      <td>0</td>\n",
       "      <td>0</td>\n",
       "      <td>0</td>\n",
       "      <td>0</td>\n",
       "      <td>0</td>\n",
       "    </tr>\n",
       "    <tr>\n",
       "      <th>2</th>\n",
       "      <td>NaN</td>\n",
       "      <td>Algeria</td>\n",
       "      <td>28.03390</td>\n",
       "      <td>1.659600</td>\n",
       "      <td>0</td>\n",
       "      <td>0</td>\n",
       "      <td>0</td>\n",
       "      <td>0</td>\n",
       "      <td>0</td>\n",
       "      <td>0</td>\n",
       "      <td>...</td>\n",
       "      <td>0</td>\n",
       "      <td>0</td>\n",
       "      <td>0</td>\n",
       "      <td>0</td>\n",
       "      <td>0</td>\n",
       "      <td>0</td>\n",
       "      <td>0</td>\n",
       "      <td>0</td>\n",
       "      <td>0</td>\n",
       "      <td>0</td>\n",
       "    </tr>\n",
       "    <tr>\n",
       "      <th>3</th>\n",
       "      <td>NaN</td>\n",
       "      <td>Andorra</td>\n",
       "      <td>42.50630</td>\n",
       "      <td>1.521800</td>\n",
       "      <td>0</td>\n",
       "      <td>0</td>\n",
       "      <td>0</td>\n",
       "      <td>0</td>\n",
       "      <td>0</td>\n",
       "      <td>0</td>\n",
       "      <td>...</td>\n",
       "      <td>0</td>\n",
       "      <td>0</td>\n",
       "      <td>0</td>\n",
       "      <td>0</td>\n",
       "      <td>0</td>\n",
       "      <td>0</td>\n",
       "      <td>0</td>\n",
       "      <td>0</td>\n",
       "      <td>0</td>\n",
       "      <td>0</td>\n",
       "    </tr>\n",
       "    <tr>\n",
       "      <th>4</th>\n",
       "      <td>NaN</td>\n",
       "      <td>Angola</td>\n",
       "      <td>-11.20270</td>\n",
       "      <td>17.873900</td>\n",
       "      <td>0</td>\n",
       "      <td>0</td>\n",
       "      <td>0</td>\n",
       "      <td>0</td>\n",
       "      <td>0</td>\n",
       "      <td>0</td>\n",
       "      <td>...</td>\n",
       "      <td>0</td>\n",
       "      <td>0</td>\n",
       "      <td>0</td>\n",
       "      <td>0</td>\n",
       "      <td>0</td>\n",
       "      <td>0</td>\n",
       "      <td>0</td>\n",
       "      <td>0</td>\n",
       "      <td>0</td>\n",
       "      <td>0</td>\n",
       "    </tr>\n",
       "  </tbody>\n",
       "</table>\n",
       "<p>5 rows × 881 columns</p>\n",
       "</div>"
      ],
      "text/plain": [
       "  Province/State Country/Region       Lat       Long  1/22/20  1/23/20  \\\n",
       "0            NaN    Afghanistan  33.93911  67.709953        0        0   \n",
       "1            NaN        Albania  41.15330  20.168300        0        0   \n",
       "2            NaN        Algeria  28.03390   1.659600        0        0   \n",
       "3            NaN        Andorra  42.50630   1.521800        0        0   \n",
       "4            NaN         Angola -11.20270  17.873900        0        0   \n",
       "\n",
       "   1/24/20  1/25/20  1/26/20  1/27/20  ...  6/7/22  6/8/22  6/9/22  6/10/22  \\\n",
       "0        0        0        0        0  ...       0       0       0        0   \n",
       "1        0        0        0        0  ...       0       0       0        0   \n",
       "2        0        0        0        0  ...       0       0       0        0   \n",
       "3        0        0        0        0  ...       0       0       0        0   \n",
       "4        0        0        0        0  ...       0       0       0        0   \n",
       "\n",
       "   6/11/22  6/12/22  6/13/22  6/14/22  6/15/22  6/16/22  \n",
       "0        0        0        0        0        0        0  \n",
       "1        0        0        0        0        0        0  \n",
       "2        0        0        0        0        0        0  \n",
       "3        0        0        0        0        0        0  \n",
       "4        0        0        0        0        0        0  \n",
       "\n",
       "[5 rows x 881 columns]"
      ]
     },
     "execution_count": 73,
     "metadata": {},
     "output_type": "execute_result"
    }
   ],
   "source": [
    "df_recovered = pd.read_csv('https://raw.githubusercontent.com/CSSEGISandData/COVID-19/master/csse_covid_19_data/csse_covid_19_time_series/time_series_covid19_recovered_global.csv')\n",
    "df_recovered.head()"
   ]
  },
  {
   "cell_type": "code",
   "execution_count": 74,
   "id": "90790127",
   "metadata": {},
   "outputs": [
    {
     "data": {
      "text/html": [
       "<div>\n",
       "<style scoped>\n",
       "    .dataframe tbody tr th:only-of-type {\n",
       "        vertical-align: middle;\n",
       "    }\n",
       "\n",
       "    .dataframe tbody tr th {\n",
       "        vertical-align: top;\n",
       "    }\n",
       "\n",
       "    .dataframe thead th {\n",
       "        text-align: right;\n",
       "    }\n",
       "</style>\n",
       "<table border=\"1\" class=\"dataframe\">\n",
       "  <thead>\n",
       "    <tr style=\"text-align: right;\">\n",
       "      <th></th>\n",
       "      <th>Province/State</th>\n",
       "      <th>Country/Region</th>\n",
       "      <th>Lat</th>\n",
       "      <th>Long</th>\n",
       "      <th>1/22/20</th>\n",
       "      <th>1/23/20</th>\n",
       "      <th>1/24/20</th>\n",
       "      <th>1/25/20</th>\n",
       "      <th>1/26/20</th>\n",
       "      <th>1/27/20</th>\n",
       "      <th>...</th>\n",
       "      <th>6/7/22</th>\n",
       "      <th>6/8/22</th>\n",
       "      <th>6/9/22</th>\n",
       "      <th>6/10/22</th>\n",
       "      <th>6/11/22</th>\n",
       "      <th>6/12/22</th>\n",
       "      <th>6/13/22</th>\n",
       "      <th>6/14/22</th>\n",
       "      <th>6/15/22</th>\n",
       "      <th>6/16/22</th>\n",
       "    </tr>\n",
       "  </thead>\n",
       "  <tbody>\n",
       "    <tr>\n",
       "      <th>0</th>\n",
       "      <td>NaN</td>\n",
       "      <td>Afghanistan</td>\n",
       "      <td>33.93911</td>\n",
       "      <td>67.709953</td>\n",
       "      <td>0</td>\n",
       "      <td>0</td>\n",
       "      <td>0</td>\n",
       "      <td>0</td>\n",
       "      <td>0</td>\n",
       "      <td>0</td>\n",
       "      <td>...</td>\n",
       "      <td>7709</td>\n",
       "      <td>7709</td>\n",
       "      <td>7709</td>\n",
       "      <td>7709</td>\n",
       "      <td>7709</td>\n",
       "      <td>7709</td>\n",
       "      <td>7710</td>\n",
       "      <td>7710</td>\n",
       "      <td>7710</td>\n",
       "      <td>7713</td>\n",
       "    </tr>\n",
       "    <tr>\n",
       "      <th>1</th>\n",
       "      <td>NaN</td>\n",
       "      <td>Albania</td>\n",
       "      <td>41.15330</td>\n",
       "      <td>20.168300</td>\n",
       "      <td>0</td>\n",
       "      <td>0</td>\n",
       "      <td>0</td>\n",
       "      <td>0</td>\n",
       "      <td>0</td>\n",
       "      <td>0</td>\n",
       "      <td>...</td>\n",
       "      <td>3497</td>\n",
       "      <td>3497</td>\n",
       "      <td>3497</td>\n",
       "      <td>3497</td>\n",
       "      <td>3497</td>\n",
       "      <td>3497</td>\n",
       "      <td>3497</td>\n",
       "      <td>3497</td>\n",
       "      <td>3497</td>\n",
       "      <td>3497</td>\n",
       "    </tr>\n",
       "    <tr>\n",
       "      <th>2</th>\n",
       "      <td>NaN</td>\n",
       "      <td>Algeria</td>\n",
       "      <td>28.03390</td>\n",
       "      <td>1.659600</td>\n",
       "      <td>0</td>\n",
       "      <td>0</td>\n",
       "      <td>0</td>\n",
       "      <td>0</td>\n",
       "      <td>0</td>\n",
       "      <td>0</td>\n",
       "      <td>...</td>\n",
       "      <td>6875</td>\n",
       "      <td>6875</td>\n",
       "      <td>6875</td>\n",
       "      <td>6875</td>\n",
       "      <td>6875</td>\n",
       "      <td>6875</td>\n",
       "      <td>6875</td>\n",
       "      <td>6875</td>\n",
       "      <td>6875</td>\n",
       "      <td>6875</td>\n",
       "    </tr>\n",
       "    <tr>\n",
       "      <th>3</th>\n",
       "      <td>NaN</td>\n",
       "      <td>Andorra</td>\n",
       "      <td>42.50630</td>\n",
       "      <td>1.521800</td>\n",
       "      <td>0</td>\n",
       "      <td>0</td>\n",
       "      <td>0</td>\n",
       "      <td>0</td>\n",
       "      <td>0</td>\n",
       "      <td>0</td>\n",
       "      <td>...</td>\n",
       "      <td>153</td>\n",
       "      <td>153</td>\n",
       "      <td>153</td>\n",
       "      <td>153</td>\n",
       "      <td>153</td>\n",
       "      <td>153</td>\n",
       "      <td>153</td>\n",
       "      <td>153</td>\n",
       "      <td>153</td>\n",
       "      <td>153</td>\n",
       "    </tr>\n",
       "    <tr>\n",
       "      <th>4</th>\n",
       "      <td>NaN</td>\n",
       "      <td>Angola</td>\n",
       "      <td>-11.20270</td>\n",
       "      <td>17.873900</td>\n",
       "      <td>0</td>\n",
       "      <td>0</td>\n",
       "      <td>0</td>\n",
       "      <td>0</td>\n",
       "      <td>0</td>\n",
       "      <td>0</td>\n",
       "      <td>...</td>\n",
       "      <td>1900</td>\n",
       "      <td>1900</td>\n",
       "      <td>1900</td>\n",
       "      <td>1900</td>\n",
       "      <td>1900</td>\n",
       "      <td>1900</td>\n",
       "      <td>1900</td>\n",
       "      <td>1900</td>\n",
       "      <td>1900</td>\n",
       "      <td>1900</td>\n",
       "    </tr>\n",
       "  </tbody>\n",
       "</table>\n",
       "<p>5 rows × 881 columns</p>\n",
       "</div>"
      ],
      "text/plain": [
       "  Province/State Country/Region       Lat       Long  1/22/20  1/23/20  \\\n",
       "0            NaN    Afghanistan  33.93911  67.709953        0        0   \n",
       "1            NaN        Albania  41.15330  20.168300        0        0   \n",
       "2            NaN        Algeria  28.03390   1.659600        0        0   \n",
       "3            NaN        Andorra  42.50630   1.521800        0        0   \n",
       "4            NaN         Angola -11.20270  17.873900        0        0   \n",
       "\n",
       "   1/24/20  1/25/20  1/26/20  1/27/20  ...  6/7/22  6/8/22  6/9/22  6/10/22  \\\n",
       "0        0        0        0        0  ...    7709    7709    7709     7709   \n",
       "1        0        0        0        0  ...    3497    3497    3497     3497   \n",
       "2        0        0        0        0  ...    6875    6875    6875     6875   \n",
       "3        0        0        0        0  ...     153     153     153      153   \n",
       "4        0        0        0        0  ...    1900    1900    1900     1900   \n",
       "\n",
       "   6/11/22  6/12/22  6/13/22  6/14/22  6/15/22  6/16/22  \n",
       "0     7709     7709     7710     7710     7710     7713  \n",
       "1     3497     3497     3497     3497     3497     3497  \n",
       "2     6875     6875     6875     6875     6875     6875  \n",
       "3      153      153      153      153      153      153  \n",
       "4     1900     1900     1900     1900     1900     1900  \n",
       "\n",
       "[5 rows x 881 columns]"
      ]
     },
     "execution_count": 74,
     "metadata": {},
     "output_type": "execute_result"
    }
   ],
   "source": [
    "df_deaths = pd.read_csv('https://raw.githubusercontent.com/CSSEGISandData/COVID-19/master/csse_covid_19_data/csse_covid_19_time_series/time_series_covid19_deaths_global.csv')\n",
    "df_deaths.head()"
   ]
  },
  {
   "cell_type": "code",
   "execution_count": 75,
   "id": "400ddc90",
   "metadata": {},
   "outputs": [
    {
     "data": {
      "text/html": [
       "<div>\n",
       "<style scoped>\n",
       "    .dataframe tbody tr th:only-of-type {\n",
       "        vertical-align: middle;\n",
       "    }\n",
       "\n",
       "    .dataframe tbody tr th {\n",
       "        vertical-align: top;\n",
       "    }\n",
       "\n",
       "    .dataframe thead th {\n",
       "        text-align: right;\n",
       "    }\n",
       "</style>\n",
       "<table border=\"1\" class=\"dataframe\">\n",
       "  <thead>\n",
       "    <tr style=\"text-align: right;\">\n",
       "      <th></th>\n",
       "      <th>Province/State</th>\n",
       "      <th>Country/Region</th>\n",
       "      <th>Lat</th>\n",
       "      <th>Long</th>\n",
       "      <th>1/22/20</th>\n",
       "      <th>1/23/20</th>\n",
       "      <th>1/24/20</th>\n",
       "      <th>1/25/20</th>\n",
       "      <th>1/26/20</th>\n",
       "      <th>1/27/20</th>\n",
       "      <th>...</th>\n",
       "      <th>6/7/22</th>\n",
       "      <th>6/8/22</th>\n",
       "      <th>6/9/22</th>\n",
       "      <th>6/10/22</th>\n",
       "      <th>6/11/22</th>\n",
       "      <th>6/12/22</th>\n",
       "      <th>6/13/22</th>\n",
       "      <th>6/14/22</th>\n",
       "      <th>6/15/22</th>\n",
       "      <th>6/16/22</th>\n",
       "    </tr>\n",
       "  </thead>\n",
       "  <tbody>\n",
       "    <tr>\n",
       "      <th>0</th>\n",
       "      <td>NaN</td>\n",
       "      <td>Afghanistan</td>\n",
       "      <td>33.93911</td>\n",
       "      <td>67.709953</td>\n",
       "      <td>0</td>\n",
       "      <td>0</td>\n",
       "      <td>0</td>\n",
       "      <td>0</td>\n",
       "      <td>0</td>\n",
       "      <td>0</td>\n",
       "      <td>...</td>\n",
       "      <td>180741</td>\n",
       "      <td>180784</td>\n",
       "      <td>180864</td>\n",
       "      <td>180864</td>\n",
       "      <td>180864</td>\n",
       "      <td>180864</td>\n",
       "      <td>181120</td>\n",
       "      <td>181178</td>\n",
       "      <td>181236</td>\n",
       "      <td>181465</td>\n",
       "    </tr>\n",
       "    <tr>\n",
       "      <th>1</th>\n",
       "      <td>NaN</td>\n",
       "      <td>Albania</td>\n",
       "      <td>41.15330</td>\n",
       "      <td>20.168300</td>\n",
       "      <td>0</td>\n",
       "      <td>0</td>\n",
       "      <td>0</td>\n",
       "      <td>0</td>\n",
       "      <td>0</td>\n",
       "      <td>0</td>\n",
       "      <td>...</td>\n",
       "      <td>276468</td>\n",
       "      <td>276518</td>\n",
       "      <td>276583</td>\n",
       "      <td>276638</td>\n",
       "      <td>276690</td>\n",
       "      <td>276731</td>\n",
       "      <td>276731</td>\n",
       "      <td>276821</td>\n",
       "      <td>276821</td>\n",
       "      <td>276821</td>\n",
       "    </tr>\n",
       "    <tr>\n",
       "      <th>2</th>\n",
       "      <td>NaN</td>\n",
       "      <td>Algeria</td>\n",
       "      <td>28.03390</td>\n",
       "      <td>1.659600</td>\n",
       "      <td>0</td>\n",
       "      <td>0</td>\n",
       "      <td>0</td>\n",
       "      <td>0</td>\n",
       "      <td>0</td>\n",
       "      <td>0</td>\n",
       "      <td>...</td>\n",
       "      <td>265904</td>\n",
       "      <td>265909</td>\n",
       "      <td>265920</td>\n",
       "      <td>265925</td>\n",
       "      <td>265925</td>\n",
       "      <td>265927</td>\n",
       "      <td>265937</td>\n",
       "      <td>265943</td>\n",
       "      <td>265952</td>\n",
       "      <td>265964</td>\n",
       "    </tr>\n",
       "    <tr>\n",
       "      <th>3</th>\n",
       "      <td>NaN</td>\n",
       "      <td>Andorra</td>\n",
       "      <td>42.50630</td>\n",
       "      <td>1.521800</td>\n",
       "      <td>0</td>\n",
       "      <td>0</td>\n",
       "      <td>0</td>\n",
       "      <td>0</td>\n",
       "      <td>0</td>\n",
       "      <td>0</td>\n",
       "      <td>...</td>\n",
       "      <td>43067</td>\n",
       "      <td>43224</td>\n",
       "      <td>43224</td>\n",
       "      <td>43224</td>\n",
       "      <td>43224</td>\n",
       "      <td>43224</td>\n",
       "      <td>43224</td>\n",
       "      <td>43224</td>\n",
       "      <td>43449</td>\n",
       "      <td>43449</td>\n",
       "    </tr>\n",
       "    <tr>\n",
       "      <th>4</th>\n",
       "      <td>NaN</td>\n",
       "      <td>Angola</td>\n",
       "      <td>-11.20270</td>\n",
       "      <td>17.873900</td>\n",
       "      <td>0</td>\n",
       "      <td>0</td>\n",
       "      <td>0</td>\n",
       "      <td>0</td>\n",
       "      <td>0</td>\n",
       "      <td>0</td>\n",
       "      <td>...</td>\n",
       "      <td>99761</td>\n",
       "      <td>99761</td>\n",
       "      <td>99761</td>\n",
       "      <td>99761</td>\n",
       "      <td>99761</td>\n",
       "      <td>99761</td>\n",
       "      <td>99761</td>\n",
       "      <td>99761</td>\n",
       "      <td>99761</td>\n",
       "      <td>99761</td>\n",
       "    </tr>\n",
       "  </tbody>\n",
       "</table>\n",
       "<p>5 rows × 881 columns</p>\n",
       "</div>"
      ],
      "text/plain": [
       "  Province/State Country/Region       Lat       Long  1/22/20  1/23/20  \\\n",
       "0            NaN    Afghanistan  33.93911  67.709953        0        0   \n",
       "1            NaN        Albania  41.15330  20.168300        0        0   \n",
       "2            NaN        Algeria  28.03390   1.659600        0        0   \n",
       "3            NaN        Andorra  42.50630   1.521800        0        0   \n",
       "4            NaN         Angola -11.20270  17.873900        0        0   \n",
       "\n",
       "   1/24/20  1/25/20  1/26/20  1/27/20  ...  6/7/22  6/8/22  6/9/22  6/10/22  \\\n",
       "0        0        0        0        0  ...  180741  180784  180864   180864   \n",
       "1        0        0        0        0  ...  276468  276518  276583   276638   \n",
       "2        0        0        0        0  ...  265904  265909  265920   265925   \n",
       "3        0        0        0        0  ...   43067   43224   43224    43224   \n",
       "4        0        0        0        0  ...   99761   99761   99761    99761   \n",
       "\n",
       "   6/11/22  6/12/22  6/13/22  6/14/22  6/15/22  6/16/22  \n",
       "0   180864   180864   181120   181178   181236   181465  \n",
       "1   276690   276731   276731   276821   276821   276821  \n",
       "2   265925   265927   265937   265943   265952   265964  \n",
       "3    43224    43224    43224    43224    43449    43449  \n",
       "4    99761    99761    99761    99761    99761    99761  \n",
       "\n",
       "[5 rows x 881 columns]"
      ]
     },
     "execution_count": 75,
     "metadata": {},
     "output_type": "execute_result"
    }
   ],
   "source": [
    "df_confirmed = pd.read_csv('https://raw.githubusercontent.com/CSSEGISandData/COVID-19/master/csse_covid_19_data/csse_covid_19_time_series/time_series_covid19_confirmed_global.csv')\n",
    "df_confirmed.head()"
   ]
  },
  {
   "cell_type": "code",
   "execution_count": 76,
   "id": "2dbf93f3",
   "metadata": {},
   "outputs": [
    {
     "data": {
      "text/html": [
       "<div>\n",
       "<style scoped>\n",
       "    .dataframe tbody tr th:only-of-type {\n",
       "        vertical-align: middle;\n",
       "    }\n",
       "\n",
       "    .dataframe tbody tr th {\n",
       "        vertical-align: top;\n",
       "    }\n",
       "\n",
       "    .dataframe thead th {\n",
       "        text-align: right;\n",
       "    }\n",
       "</style>\n",
       "<table border=\"1\" class=\"dataframe\">\n",
       "  <thead>\n",
       "    <tr style=\"text-align: right;\">\n",
       "      <th></th>\n",
       "      <th>Province/State</th>\n",
       "      <th>Country/Region</th>\n",
       "      <th>Lat</th>\n",
       "      <th>Long</th>\n",
       "      <th>1/22/20</th>\n",
       "      <th>1/23/20</th>\n",
       "      <th>1/24/20</th>\n",
       "      <th>1/25/20</th>\n",
       "      <th>1/26/20</th>\n",
       "      <th>1/27/20</th>\n",
       "      <th>...</th>\n",
       "      <th>6/7/22</th>\n",
       "      <th>6/8/22</th>\n",
       "      <th>6/9/22</th>\n",
       "      <th>6/10/22</th>\n",
       "      <th>6/11/22</th>\n",
       "      <th>6/12/22</th>\n",
       "      <th>6/13/22</th>\n",
       "      <th>6/14/22</th>\n",
       "      <th>6/15/22</th>\n",
       "      <th>6/16/22</th>\n",
       "    </tr>\n",
       "  </thead>\n",
       "  <tbody>\n",
       "    <tr>\n",
       "      <th>0</th>\n",
       "      <td>NaN</td>\n",
       "      <td>Afghanistan</td>\n",
       "      <td>33.93911</td>\n",
       "      <td>67.709953</td>\n",
       "      <td>0</td>\n",
       "      <td>0</td>\n",
       "      <td>0</td>\n",
       "      <td>0</td>\n",
       "      <td>0</td>\n",
       "      <td>0</td>\n",
       "      <td>...</td>\n",
       "      <td>7709</td>\n",
       "      <td>7709</td>\n",
       "      <td>7709</td>\n",
       "      <td>7709</td>\n",
       "      <td>7709</td>\n",
       "      <td>7709</td>\n",
       "      <td>7710</td>\n",
       "      <td>7710</td>\n",
       "      <td>7710</td>\n",
       "      <td>7713</td>\n",
       "    </tr>\n",
       "    <tr>\n",
       "      <th>1</th>\n",
       "      <td>NaN</td>\n",
       "      <td>Albania</td>\n",
       "      <td>41.15330</td>\n",
       "      <td>20.168300</td>\n",
       "      <td>0</td>\n",
       "      <td>0</td>\n",
       "      <td>0</td>\n",
       "      <td>0</td>\n",
       "      <td>0</td>\n",
       "      <td>0</td>\n",
       "      <td>...</td>\n",
       "      <td>3497</td>\n",
       "      <td>3497</td>\n",
       "      <td>3497</td>\n",
       "      <td>3497</td>\n",
       "      <td>3497</td>\n",
       "      <td>3497</td>\n",
       "      <td>3497</td>\n",
       "      <td>3497</td>\n",
       "      <td>3497</td>\n",
       "      <td>3497</td>\n",
       "    </tr>\n",
       "    <tr>\n",
       "      <th>2</th>\n",
       "      <td>NaN</td>\n",
       "      <td>Algeria</td>\n",
       "      <td>28.03390</td>\n",
       "      <td>1.659600</td>\n",
       "      <td>0</td>\n",
       "      <td>0</td>\n",
       "      <td>0</td>\n",
       "      <td>0</td>\n",
       "      <td>0</td>\n",
       "      <td>0</td>\n",
       "      <td>...</td>\n",
       "      <td>6875</td>\n",
       "      <td>6875</td>\n",
       "      <td>6875</td>\n",
       "      <td>6875</td>\n",
       "      <td>6875</td>\n",
       "      <td>6875</td>\n",
       "      <td>6875</td>\n",
       "      <td>6875</td>\n",
       "      <td>6875</td>\n",
       "      <td>6875</td>\n",
       "    </tr>\n",
       "    <tr>\n",
       "      <th>3</th>\n",
       "      <td>NaN</td>\n",
       "      <td>Andorra</td>\n",
       "      <td>42.50630</td>\n",
       "      <td>1.521800</td>\n",
       "      <td>0</td>\n",
       "      <td>0</td>\n",
       "      <td>0</td>\n",
       "      <td>0</td>\n",
       "      <td>0</td>\n",
       "      <td>0</td>\n",
       "      <td>...</td>\n",
       "      <td>153</td>\n",
       "      <td>153</td>\n",
       "      <td>153</td>\n",
       "      <td>153</td>\n",
       "      <td>153</td>\n",
       "      <td>153</td>\n",
       "      <td>153</td>\n",
       "      <td>153</td>\n",
       "      <td>153</td>\n",
       "      <td>153</td>\n",
       "    </tr>\n",
       "    <tr>\n",
       "      <th>4</th>\n",
       "      <td>NaN</td>\n",
       "      <td>Angola</td>\n",
       "      <td>-11.20270</td>\n",
       "      <td>17.873900</td>\n",
       "      <td>0</td>\n",
       "      <td>0</td>\n",
       "      <td>0</td>\n",
       "      <td>0</td>\n",
       "      <td>0</td>\n",
       "      <td>0</td>\n",
       "      <td>...</td>\n",
       "      <td>1900</td>\n",
       "      <td>1900</td>\n",
       "      <td>1900</td>\n",
       "      <td>1900</td>\n",
       "      <td>1900</td>\n",
       "      <td>1900</td>\n",
       "      <td>1900</td>\n",
       "      <td>1900</td>\n",
       "      <td>1900</td>\n",
       "      <td>1900</td>\n",
       "    </tr>\n",
       "  </tbody>\n",
       "</table>\n",
       "<p>5 rows × 881 columns</p>\n",
       "</div>"
      ],
      "text/plain": [
       "  Province/State Country/Region       Lat       Long  1/22/20  1/23/20  \\\n",
       "0            NaN    Afghanistan  33.93911  67.709953        0        0   \n",
       "1            NaN        Albania  41.15330  20.168300        0        0   \n",
       "2            NaN        Algeria  28.03390   1.659600        0        0   \n",
       "3            NaN        Andorra  42.50630   1.521800        0        0   \n",
       "4            NaN         Angola -11.20270  17.873900        0        0   \n",
       "\n",
       "   1/24/20  1/25/20  1/26/20  1/27/20  ...  6/7/22  6/8/22  6/9/22  6/10/22  \\\n",
       "0        0        0        0        0  ...    7709    7709    7709     7709   \n",
       "1        0        0        0        0  ...    3497    3497    3497     3497   \n",
       "2        0        0        0        0  ...    6875    6875    6875     6875   \n",
       "3        0        0        0        0  ...     153     153     153      153   \n",
       "4        0        0        0        0  ...    1900    1900    1900     1900   \n",
       "\n",
       "   6/11/22  6/12/22  6/13/22  6/14/22  6/15/22  6/16/22  \n",
       "0     7709     7709     7710     7710     7710     7713  \n",
       "1     3497     3497     3497     3497     3497     3497  \n",
       "2     6875     6875     6875     6875     6875     6875  \n",
       "3      153      153      153      153      153      153  \n",
       "4     1900     1900     1900     1900     1900     1900  \n",
       "\n",
       "[5 rows x 881 columns]"
      ]
     },
     "execution_count": 76,
     "metadata": {},
     "output_type": "execute_result"
    }
   ],
   "source": [
    "df_deaths = pd.read_csv('https://raw.githubusercontent.com/CSSEGISandData/COVID-19/master/csse_covid_19_data/csse_covid_19_time_series/time_series_covid19_deaths_global.csv')\n",
    "df_deaths.head()"
   ]
  },
  {
   "cell_type": "code",
   "execution_count": 77,
   "id": "49d8acbf",
   "metadata": {},
   "outputs": [
    {
     "data": {
      "text/html": [
       "<div>\n",
       "<style scoped>\n",
       "    .dataframe tbody tr th:only-of-type {\n",
       "        vertical-align: middle;\n",
       "    }\n",
       "\n",
       "    .dataframe tbody tr th {\n",
       "        vertical-align: top;\n",
       "    }\n",
       "\n",
       "    .dataframe thead th {\n",
       "        text-align: right;\n",
       "    }\n",
       "</style>\n",
       "<table border=\"1\" class=\"dataframe\">\n",
       "  <thead>\n",
       "    <tr style=\"text-align: right;\">\n",
       "      <th></th>\n",
       "      <th>Province/State</th>\n",
       "      <th>Country/Region</th>\n",
       "      <th>Lat</th>\n",
       "      <th>Long</th>\n",
       "      <th>1/22/20</th>\n",
       "      <th>1/23/20</th>\n",
       "      <th>1/24/20</th>\n",
       "      <th>1/25/20</th>\n",
       "      <th>1/26/20</th>\n",
       "      <th>1/27/20</th>\n",
       "      <th>...</th>\n",
       "      <th>6/7/22</th>\n",
       "      <th>6/8/22</th>\n",
       "      <th>6/9/22</th>\n",
       "      <th>6/10/22</th>\n",
       "      <th>6/11/22</th>\n",
       "      <th>6/12/22</th>\n",
       "      <th>6/13/22</th>\n",
       "      <th>6/14/22</th>\n",
       "      <th>6/15/22</th>\n",
       "      <th>6/16/22</th>\n",
       "    </tr>\n",
       "  </thead>\n",
       "  <tbody>\n",
       "    <tr>\n",
       "      <th>120</th>\n",
       "      <td>French Guiana</td>\n",
       "      <td>France</td>\n",
       "      <td>3.933900</td>\n",
       "      <td>-53.125800</td>\n",
       "      <td>0</td>\n",
       "      <td>0</td>\n",
       "      <td>0</td>\n",
       "      <td>0</td>\n",
       "      <td>0</td>\n",
       "      <td>0</td>\n",
       "      <td>...</td>\n",
       "      <td>397</td>\n",
       "      <td>397</td>\n",
       "      <td>397</td>\n",
       "      <td>397</td>\n",
       "      <td>397</td>\n",
       "      <td>397</td>\n",
       "      <td>397</td>\n",
       "      <td>399</td>\n",
       "      <td>399</td>\n",
       "      <td>399</td>\n",
       "    </tr>\n",
       "    <tr>\n",
       "      <th>121</th>\n",
       "      <td>French Polynesia</td>\n",
       "      <td>France</td>\n",
       "      <td>-17.679700</td>\n",
       "      <td>149.406800</td>\n",
       "      <td>0</td>\n",
       "      <td>0</td>\n",
       "      <td>0</td>\n",
       "      <td>0</td>\n",
       "      <td>0</td>\n",
       "      <td>0</td>\n",
       "      <td>...</td>\n",
       "      <td>649</td>\n",
       "      <td>649</td>\n",
       "      <td>649</td>\n",
       "      <td>649</td>\n",
       "      <td>649</td>\n",
       "      <td>649</td>\n",
       "      <td>649</td>\n",
       "      <td>649</td>\n",
       "      <td>649</td>\n",
       "      <td>649</td>\n",
       "    </tr>\n",
       "    <tr>\n",
       "      <th>122</th>\n",
       "      <td>Guadeloupe</td>\n",
       "      <td>France</td>\n",
       "      <td>16.265000</td>\n",
       "      <td>-61.551000</td>\n",
       "      <td>0</td>\n",
       "      <td>0</td>\n",
       "      <td>0</td>\n",
       "      <td>0</td>\n",
       "      <td>0</td>\n",
       "      <td>0</td>\n",
       "      <td>...</td>\n",
       "      <td>949</td>\n",
       "      <td>949</td>\n",
       "      <td>949</td>\n",
       "      <td>949</td>\n",
       "      <td>949</td>\n",
       "      <td>949</td>\n",
       "      <td>949</td>\n",
       "      <td>950</td>\n",
       "      <td>950</td>\n",
       "      <td>950</td>\n",
       "    </tr>\n",
       "    <tr>\n",
       "      <th>123</th>\n",
       "      <td>Martinique</td>\n",
       "      <td>France</td>\n",
       "      <td>14.641500</td>\n",
       "      <td>-61.024200</td>\n",
       "      <td>0</td>\n",
       "      <td>0</td>\n",
       "      <td>0</td>\n",
       "      <td>0</td>\n",
       "      <td>0</td>\n",
       "      <td>0</td>\n",
       "      <td>...</td>\n",
       "      <td>942</td>\n",
       "      <td>942</td>\n",
       "      <td>942</td>\n",
       "      <td>942</td>\n",
       "      <td>942</td>\n",
       "      <td>942</td>\n",
       "      <td>942</td>\n",
       "      <td>950</td>\n",
       "      <td>950</td>\n",
       "      <td>950</td>\n",
       "    </tr>\n",
       "    <tr>\n",
       "      <th>124</th>\n",
       "      <td>Mayotte</td>\n",
       "      <td>France</td>\n",
       "      <td>-12.827500</td>\n",
       "      <td>45.166244</td>\n",
       "      <td>0</td>\n",
       "      <td>0</td>\n",
       "      <td>0</td>\n",
       "      <td>0</td>\n",
       "      <td>0</td>\n",
       "      <td>0</td>\n",
       "      <td>...</td>\n",
       "      <td>187</td>\n",
       "      <td>187</td>\n",
       "      <td>187</td>\n",
       "      <td>187</td>\n",
       "      <td>187</td>\n",
       "      <td>187</td>\n",
       "      <td>187</td>\n",
       "      <td>187</td>\n",
       "      <td>187</td>\n",
       "      <td>187</td>\n",
       "    </tr>\n",
       "    <tr>\n",
       "      <th>125</th>\n",
       "      <td>New Caledonia</td>\n",
       "      <td>France</td>\n",
       "      <td>-20.904305</td>\n",
       "      <td>165.618042</td>\n",
       "      <td>0</td>\n",
       "      <td>0</td>\n",
       "      <td>0</td>\n",
       "      <td>0</td>\n",
       "      <td>0</td>\n",
       "      <td>0</td>\n",
       "      <td>...</td>\n",
       "      <td>313</td>\n",
       "      <td>313</td>\n",
       "      <td>313</td>\n",
       "      <td>313</td>\n",
       "      <td>313</td>\n",
       "      <td>313</td>\n",
       "      <td>313</td>\n",
       "      <td>313</td>\n",
       "      <td>313</td>\n",
       "      <td>313</td>\n",
       "    </tr>\n",
       "    <tr>\n",
       "      <th>126</th>\n",
       "      <td>Reunion</td>\n",
       "      <td>France</td>\n",
       "      <td>-21.115100</td>\n",
       "      <td>55.536400</td>\n",
       "      <td>0</td>\n",
       "      <td>0</td>\n",
       "      <td>0</td>\n",
       "      <td>0</td>\n",
       "      <td>0</td>\n",
       "      <td>0</td>\n",
       "      <td>...</td>\n",
       "      <td>784</td>\n",
       "      <td>784</td>\n",
       "      <td>796</td>\n",
       "      <td>796</td>\n",
       "      <td>796</td>\n",
       "      <td>796</td>\n",
       "      <td>796</td>\n",
       "      <td>799</td>\n",
       "      <td>799</td>\n",
       "      <td>799</td>\n",
       "    </tr>\n",
       "    <tr>\n",
       "      <th>127</th>\n",
       "      <td>Saint Barthelemy</td>\n",
       "      <td>France</td>\n",
       "      <td>17.900000</td>\n",
       "      <td>-62.833300</td>\n",
       "      <td>0</td>\n",
       "      <td>0</td>\n",
       "      <td>0</td>\n",
       "      <td>0</td>\n",
       "      <td>0</td>\n",
       "      <td>0</td>\n",
       "      <td>...</td>\n",
       "      <td>6</td>\n",
       "      <td>6</td>\n",
       "      <td>6</td>\n",
       "      <td>6</td>\n",
       "      <td>6</td>\n",
       "      <td>6</td>\n",
       "      <td>6</td>\n",
       "      <td>6</td>\n",
       "      <td>6</td>\n",
       "      <td>6</td>\n",
       "    </tr>\n",
       "    <tr>\n",
       "      <th>128</th>\n",
       "      <td>Saint Pierre and Miquelon</td>\n",
       "      <td>France</td>\n",
       "      <td>46.885200</td>\n",
       "      <td>-56.315900</td>\n",
       "      <td>0</td>\n",
       "      <td>0</td>\n",
       "      <td>0</td>\n",
       "      <td>0</td>\n",
       "      <td>0</td>\n",
       "      <td>0</td>\n",
       "      <td>...</td>\n",
       "      <td>1</td>\n",
       "      <td>1</td>\n",
       "      <td>1</td>\n",
       "      <td>1</td>\n",
       "      <td>1</td>\n",
       "      <td>1</td>\n",
       "      <td>1</td>\n",
       "      <td>1</td>\n",
       "      <td>1</td>\n",
       "      <td>1</td>\n",
       "    </tr>\n",
       "    <tr>\n",
       "      <th>129</th>\n",
       "      <td>St Martin</td>\n",
       "      <td>France</td>\n",
       "      <td>18.070800</td>\n",
       "      <td>-63.050100</td>\n",
       "      <td>0</td>\n",
       "      <td>0</td>\n",
       "      <td>0</td>\n",
       "      <td>0</td>\n",
       "      <td>0</td>\n",
       "      <td>0</td>\n",
       "      <td>...</td>\n",
       "      <td>63</td>\n",
       "      <td>63</td>\n",
       "      <td>63</td>\n",
       "      <td>63</td>\n",
       "      <td>63</td>\n",
       "      <td>63</td>\n",
       "      <td>63</td>\n",
       "      <td>63</td>\n",
       "      <td>63</td>\n",
       "      <td>63</td>\n",
       "    </tr>\n",
       "    <tr>\n",
       "      <th>130</th>\n",
       "      <td>Wallis and Futuna</td>\n",
       "      <td>France</td>\n",
       "      <td>-14.293800</td>\n",
       "      <td>-178.116500</td>\n",
       "      <td>0</td>\n",
       "      <td>0</td>\n",
       "      <td>0</td>\n",
       "      <td>0</td>\n",
       "      <td>0</td>\n",
       "      <td>0</td>\n",
       "      <td>...</td>\n",
       "      <td>7</td>\n",
       "      <td>7</td>\n",
       "      <td>7</td>\n",
       "      <td>7</td>\n",
       "      <td>7</td>\n",
       "      <td>7</td>\n",
       "      <td>7</td>\n",
       "      <td>7</td>\n",
       "      <td>7</td>\n",
       "      <td>7</td>\n",
       "    </tr>\n",
       "    <tr>\n",
       "      <th>131</th>\n",
       "      <td>NaN</td>\n",
       "      <td>France</td>\n",
       "      <td>46.227600</td>\n",
       "      <td>2.213700</td>\n",
       "      <td>0</td>\n",
       "      <td>0</td>\n",
       "      <td>0</td>\n",
       "      <td>0</td>\n",
       "      <td>0</td>\n",
       "      <td>0</td>\n",
       "      <td>...</td>\n",
       "      <td>145332</td>\n",
       "      <td>145409</td>\n",
       "      <td>145439</td>\n",
       "      <td>145439</td>\n",
       "      <td>145478</td>\n",
       "      <td>145478</td>\n",
       "      <td>145478</td>\n",
       "      <td>145613</td>\n",
       "      <td>145662</td>\n",
       "      <td>145711</td>\n",
       "    </tr>\n",
       "  </tbody>\n",
       "</table>\n",
       "<p>12 rows × 881 columns</p>\n",
       "</div>"
      ],
      "text/plain": [
       "                Province/State Country/Region        Lat        Long  1/22/20  \\\n",
       "120              French Guiana         France   3.933900  -53.125800        0   \n",
       "121           French Polynesia         France -17.679700  149.406800        0   \n",
       "122                 Guadeloupe         France  16.265000  -61.551000        0   \n",
       "123                 Martinique         France  14.641500  -61.024200        0   \n",
       "124                    Mayotte         France -12.827500   45.166244        0   \n",
       "125              New Caledonia         France -20.904305  165.618042        0   \n",
       "126                    Reunion         France -21.115100   55.536400        0   \n",
       "127           Saint Barthelemy         France  17.900000  -62.833300        0   \n",
       "128  Saint Pierre and Miquelon         France  46.885200  -56.315900        0   \n",
       "129                  St Martin         France  18.070800  -63.050100        0   \n",
       "130          Wallis and Futuna         France -14.293800 -178.116500        0   \n",
       "131                        NaN         France  46.227600    2.213700        0   \n",
       "\n",
       "     1/23/20  1/24/20  1/25/20  1/26/20  1/27/20  ...  6/7/22  6/8/22  6/9/22  \\\n",
       "120        0        0        0        0        0  ...     397     397     397   \n",
       "121        0        0        0        0        0  ...     649     649     649   \n",
       "122        0        0        0        0        0  ...     949     949     949   \n",
       "123        0        0        0        0        0  ...     942     942     942   \n",
       "124        0        0        0        0        0  ...     187     187     187   \n",
       "125        0        0        0        0        0  ...     313     313     313   \n",
       "126        0        0        0        0        0  ...     784     784     796   \n",
       "127        0        0        0        0        0  ...       6       6       6   \n",
       "128        0        0        0        0        0  ...       1       1       1   \n",
       "129        0        0        0        0        0  ...      63      63      63   \n",
       "130        0        0        0        0        0  ...       7       7       7   \n",
       "131        0        0        0        0        0  ...  145332  145409  145439   \n",
       "\n",
       "     6/10/22  6/11/22  6/12/22  6/13/22  6/14/22  6/15/22  6/16/22  \n",
       "120      397      397      397      397      399      399      399  \n",
       "121      649      649      649      649      649      649      649  \n",
       "122      949      949      949      949      950      950      950  \n",
       "123      942      942      942      942      950      950      950  \n",
       "124      187      187      187      187      187      187      187  \n",
       "125      313      313      313      313      313      313      313  \n",
       "126      796      796      796      796      799      799      799  \n",
       "127        6        6        6        6        6        6        6  \n",
       "128        1        1        1        1        1        1        1  \n",
       "129       63       63       63       63       63       63       63  \n",
       "130        7        7        7        7        7        7        7  \n",
       "131   145439   145478   145478   145478   145613   145662   145711  \n",
       "\n",
       "[12 rows x 881 columns]"
      ]
     },
     "execution_count": 77,
     "metadata": {},
     "output_type": "execute_result"
    }
   ],
   "source": [
    "# get data france\n",
    "df_deaths[df_deaths['Country/Region']=='France']"
   ]
  },
  {
   "cell_type": "code",
   "execution_count": 78,
   "id": "ac6c1baa",
   "metadata": {},
   "outputs": [
    {
     "data": {
      "text/plain": [
       "Province/State        NaN\n",
       "Country/Region     France\n",
       "Lat               46.2276\n",
       "Long               2.2137\n",
       "1/22/20                 0\n",
       "                   ...   \n",
       "6/12/22            145478\n",
       "6/13/22            145478\n",
       "6/14/22            145613\n",
       "6/15/22            145662\n",
       "6/16/22            145711\n",
       "Name: 131, Length: 881, dtype: object"
      ]
     },
     "execution_count": 78,
     "metadata": {},
     "output_type": "execute_result"
    }
   ],
   "source": [
    "df_deaths.iloc[131]"
   ]
  },
  {
   "cell_type": "code",
   "execution_count": 79,
   "id": "a820ddb9",
   "metadata": {},
   "outputs": [
    {
     "data": {
      "text/plain": [
       "1/22/20         0\n",
       "1/23/20         0\n",
       "1/24/20         0\n",
       "1/25/20         0\n",
       "1/26/20         0\n",
       "            ...  \n",
       "6/12/22    145478\n",
       "6/13/22    145478\n",
       "6/14/22    145613\n",
       "6/15/22    145662\n",
       "6/16/22    145711\n",
       "Name: 131, Length: 877, dtype: object"
      ]
     },
     "execution_count": 79,
     "metadata": {},
     "output_type": "execute_result"
    }
   ],
   "source": [
    "time_series_deaths_France=df_deaths.iloc[131].drop(['Province/State','Country/Region','Lat','Long'])\n",
    "time_series_deaths_France"
   ]
  },
  {
   "cell_type": "code",
   "execution_count": 80,
   "id": "b220946e",
   "metadata": {},
   "outputs": [
    {
     "data": {
      "text/html": [
       "<div>\n",
       "<style scoped>\n",
       "    .dataframe tbody tr th:only-of-type {\n",
       "        vertical-align: middle;\n",
       "    }\n",
       "\n",
       "    .dataframe tbody tr th {\n",
       "        vertical-align: top;\n",
       "    }\n",
       "\n",
       "    .dataframe thead th {\n",
       "        text-align: right;\n",
       "    }\n",
       "</style>\n",
       "<table border=\"1\" class=\"dataframe\">\n",
       "  <thead>\n",
       "    <tr style=\"text-align: right;\">\n",
       "      <th></th>\n",
       "      <th>time</th>\n",
       "      <th>cases_numbers</th>\n",
       "    </tr>\n",
       "  </thead>\n",
       "  <tbody>\n",
       "    <tr>\n",
       "      <th>0</th>\n",
       "      <td>1/22/20</td>\n",
       "      <td>0</td>\n",
       "    </tr>\n",
       "    <tr>\n",
       "      <th>1</th>\n",
       "      <td>1/23/20</td>\n",
       "      <td>0</td>\n",
       "    </tr>\n",
       "    <tr>\n",
       "      <th>2</th>\n",
       "      <td>1/24/20</td>\n",
       "      <td>0</td>\n",
       "    </tr>\n",
       "    <tr>\n",
       "      <th>3</th>\n",
       "      <td>1/25/20</td>\n",
       "      <td>0</td>\n",
       "    </tr>\n",
       "    <tr>\n",
       "      <th>4</th>\n",
       "      <td>1/26/20</td>\n",
       "      <td>0</td>\n",
       "    </tr>\n",
       "    <tr>\n",
       "      <th>...</th>\n",
       "      <td>...</td>\n",
       "      <td>...</td>\n",
       "    </tr>\n",
       "    <tr>\n",
       "      <th>872</th>\n",
       "      <td>6/12/22</td>\n",
       "      <td>145478</td>\n",
       "    </tr>\n",
       "    <tr>\n",
       "      <th>873</th>\n",
       "      <td>6/13/22</td>\n",
       "      <td>145478</td>\n",
       "    </tr>\n",
       "    <tr>\n",
       "      <th>874</th>\n",
       "      <td>6/14/22</td>\n",
       "      <td>145613</td>\n",
       "    </tr>\n",
       "    <tr>\n",
       "      <th>875</th>\n",
       "      <td>6/15/22</td>\n",
       "      <td>145662</td>\n",
       "    </tr>\n",
       "    <tr>\n",
       "      <th>876</th>\n",
       "      <td>6/16/22</td>\n",
       "      <td>145711</td>\n",
       "    </tr>\n",
       "  </tbody>\n",
       "</table>\n",
       "<p>877 rows × 2 columns</p>\n",
       "</div>"
      ],
      "text/plain": [
       "        time cases_numbers\n",
       "0    1/22/20             0\n",
       "1    1/23/20             0\n",
       "2    1/24/20             0\n",
       "3    1/25/20             0\n",
       "4    1/26/20             0\n",
       "..       ...           ...\n",
       "872  6/12/22        145478\n",
       "873  6/13/22        145478\n",
       "874  6/14/22        145613\n",
       "875  6/15/22        145662\n",
       "876  6/16/22        145711\n",
       "\n",
       "[877 rows x 2 columns]"
      ]
     },
     "execution_count": 80,
     "metadata": {},
     "output_type": "execute_result"
    }
   ],
   "source": [
    "df_france_deaths=pd.DataFrame(time_series_deaths_France).reset_index()\n",
    "df_france_deaths.columns=['time','cases_numbers']\n",
    "df_france_deaths"
   ]
  },
  {
   "cell_type": "code",
   "execution_count": 81,
   "id": "28234373",
   "metadata": {},
   "outputs": [
    {
     "data": {
      "text/html": [
       "<div>\n",
       "<style scoped>\n",
       "    .dataframe tbody tr th:only-of-type {\n",
       "        vertical-align: middle;\n",
       "    }\n",
       "\n",
       "    .dataframe tbody tr th {\n",
       "        vertical-align: top;\n",
       "    }\n",
       "\n",
       "    .dataframe thead th {\n",
       "        text-align: right;\n",
       "    }\n",
       "</style>\n",
       "<table border=\"1\" class=\"dataframe\">\n",
       "  <thead>\n",
       "    <tr style=\"text-align: right;\">\n",
       "      <th></th>\n",
       "      <th>index</th>\n",
       "      <th>131</th>\n",
       "      <th>type</th>\n",
       "    </tr>\n",
       "  </thead>\n",
       "  <tbody>\n",
       "    <tr>\n",
       "      <th>0</th>\n",
       "      <td>1/22/20</td>\n",
       "      <td>0</td>\n",
       "      <td>deaths</td>\n",
       "    </tr>\n",
       "    <tr>\n",
       "      <th>1</th>\n",
       "      <td>1/23/20</td>\n",
       "      <td>0</td>\n",
       "      <td>deaths</td>\n",
       "    </tr>\n",
       "    <tr>\n",
       "      <th>2</th>\n",
       "      <td>1/24/20</td>\n",
       "      <td>0</td>\n",
       "      <td>deaths</td>\n",
       "    </tr>\n",
       "    <tr>\n",
       "      <th>3</th>\n",
       "      <td>1/25/20</td>\n",
       "      <td>0</td>\n",
       "      <td>deaths</td>\n",
       "    </tr>\n",
       "    <tr>\n",
       "      <th>4</th>\n",
       "      <td>1/26/20</td>\n",
       "      <td>0</td>\n",
       "      <td>deaths</td>\n",
       "    </tr>\n",
       "    <tr>\n",
       "      <th>...</th>\n",
       "      <td>...</td>\n",
       "      <td>...</td>\n",
       "      <td>...</td>\n",
       "    </tr>\n",
       "    <tr>\n",
       "      <th>872</th>\n",
       "      <td>6/12/22</td>\n",
       "      <td>145478</td>\n",
       "      <td>deaths</td>\n",
       "    </tr>\n",
       "    <tr>\n",
       "      <th>873</th>\n",
       "      <td>6/13/22</td>\n",
       "      <td>145478</td>\n",
       "      <td>deaths</td>\n",
       "    </tr>\n",
       "    <tr>\n",
       "      <th>874</th>\n",
       "      <td>6/14/22</td>\n",
       "      <td>145613</td>\n",
       "      <td>deaths</td>\n",
       "    </tr>\n",
       "    <tr>\n",
       "      <th>875</th>\n",
       "      <td>6/15/22</td>\n",
       "      <td>145662</td>\n",
       "      <td>deaths</td>\n",
       "    </tr>\n",
       "    <tr>\n",
       "      <th>876</th>\n",
       "      <td>6/16/22</td>\n",
       "      <td>145711</td>\n",
       "      <td>deaths</td>\n",
       "    </tr>\n",
       "  </tbody>\n",
       "</table>\n",
       "<p>877 rows × 3 columns</p>\n",
       "</div>"
      ],
      "text/plain": [
       "       index     131    type\n",
       "0    1/22/20       0  deaths\n",
       "1    1/23/20       0  deaths\n",
       "2    1/24/20       0  deaths\n",
       "3    1/25/20       0  deaths\n",
       "4    1/26/20       0  deaths\n",
       "..       ...     ...     ...\n",
       "872  6/12/22  145478  deaths\n",
       "873  6/13/22  145478  deaths\n",
       "874  6/14/22  145613  deaths\n",
       "875  6/15/22  145662  deaths\n",
       "876  6/16/22  145711  deaths\n",
       "\n",
       "[877 rows x 3 columns]"
      ]
     },
     "execution_count": 81,
     "metadata": {},
     "output_type": "execute_result"
    }
   ],
   "source": [
    "df_france_deaths=pd.DataFrame(time_series_deaths_France).reset_index()\n",
    "df_france_deaths['type']='deaths'\n",
    "df_france_deaths"
   ]
  },
  {
   "cell_type": "code",
   "execution_count": 82,
   "id": "b9739af0",
   "metadata": {},
   "outputs": [
    {
     "ename": "ValueError",
     "evalue": "Length mismatch: Expected axis has 3 elements, new values have 2 elements",
     "output_type": "error",
     "traceback": [
      "\u001b[1;31m---------------------------------------------------------------------------\u001b[0m",
      "\u001b[1;31mValueError\u001b[0m                                Traceback (most recent call last)",
      "\u001b[1;32m<ipython-input-82-de1a5f15d3b2>\u001b[0m in \u001b[0;36m<module>\u001b[1;34m\u001b[0m\n\u001b[1;32m----> 1\u001b[1;33m \u001b[0mdf_france_deaths\u001b[0m\u001b[1;33m.\u001b[0m\u001b[0mcolumns\u001b[0m\u001b[1;33m=\u001b[0m\u001b[1;33m[\u001b[0m\u001b[1;34m'time'\u001b[0m\u001b[1;33m,\u001b[0m\u001b[1;34m'cases_numbers'\u001b[0m\u001b[1;33m]\u001b[0m\u001b[1;33m\u001b[0m\u001b[1;33m\u001b[0m\u001b[0m\n\u001b[0m\u001b[0;32m      2\u001b[0m \u001b[0mdf_france_deaths\u001b[0m\u001b[1;33m\u001b[0m\u001b[1;33m\u001b[0m\u001b[0m\n",
      "\u001b[1;32mC:\\ProgramData\\Anaconda3\\lib\\site-packages\\pandas\\core\\generic.py\u001b[0m in \u001b[0;36m__setattr__\u001b[1;34m(self, name, value)\u001b[0m\n\u001b[0;32m   5476\u001b[0m         \u001b[1;32mtry\u001b[0m\u001b[1;33m:\u001b[0m\u001b[1;33m\u001b[0m\u001b[1;33m\u001b[0m\u001b[0m\n\u001b[0;32m   5477\u001b[0m             \u001b[0mobject\u001b[0m\u001b[1;33m.\u001b[0m\u001b[0m__getattribute__\u001b[0m\u001b[1;33m(\u001b[0m\u001b[0mself\u001b[0m\u001b[1;33m,\u001b[0m \u001b[0mname\u001b[0m\u001b[1;33m)\u001b[0m\u001b[1;33m\u001b[0m\u001b[1;33m\u001b[0m\u001b[0m\n\u001b[1;32m-> 5478\u001b[1;33m             \u001b[1;32mreturn\u001b[0m \u001b[0mobject\u001b[0m\u001b[1;33m.\u001b[0m\u001b[0m__setattr__\u001b[0m\u001b[1;33m(\u001b[0m\u001b[0mself\u001b[0m\u001b[1;33m,\u001b[0m \u001b[0mname\u001b[0m\u001b[1;33m,\u001b[0m \u001b[0mvalue\u001b[0m\u001b[1;33m)\u001b[0m\u001b[1;33m\u001b[0m\u001b[1;33m\u001b[0m\u001b[0m\n\u001b[0m\u001b[0;32m   5479\u001b[0m         \u001b[1;32mexcept\u001b[0m \u001b[0mAttributeError\u001b[0m\u001b[1;33m:\u001b[0m\u001b[1;33m\u001b[0m\u001b[1;33m\u001b[0m\u001b[0m\n\u001b[0;32m   5480\u001b[0m             \u001b[1;32mpass\u001b[0m\u001b[1;33m\u001b[0m\u001b[1;33m\u001b[0m\u001b[0m\n",
      "\u001b[1;32mpandas\\_libs\\properties.pyx\u001b[0m in \u001b[0;36mpandas._libs.properties.AxisProperty.__set__\u001b[1;34m()\u001b[0m\n",
      "\u001b[1;32mC:\\ProgramData\\Anaconda3\\lib\\site-packages\\pandas\\core\\generic.py\u001b[0m in \u001b[0;36m_set_axis\u001b[1;34m(self, axis, labels)\u001b[0m\n\u001b[0;32m    668\u001b[0m     \u001b[1;32mdef\u001b[0m \u001b[0m_set_axis\u001b[0m\u001b[1;33m(\u001b[0m\u001b[0mself\u001b[0m\u001b[1;33m,\u001b[0m \u001b[0maxis\u001b[0m\u001b[1;33m:\u001b[0m \u001b[0mint\u001b[0m\u001b[1;33m,\u001b[0m \u001b[0mlabels\u001b[0m\u001b[1;33m:\u001b[0m \u001b[0mIndex\u001b[0m\u001b[1;33m)\u001b[0m \u001b[1;33m->\u001b[0m \u001b[1;32mNone\u001b[0m\u001b[1;33m:\u001b[0m\u001b[1;33m\u001b[0m\u001b[1;33m\u001b[0m\u001b[0m\n\u001b[0;32m    669\u001b[0m         \u001b[0mlabels\u001b[0m \u001b[1;33m=\u001b[0m \u001b[0mensure_index\u001b[0m\u001b[1;33m(\u001b[0m\u001b[0mlabels\u001b[0m\u001b[1;33m)\u001b[0m\u001b[1;33m\u001b[0m\u001b[1;33m\u001b[0m\u001b[0m\n\u001b[1;32m--> 670\u001b[1;33m         \u001b[0mself\u001b[0m\u001b[1;33m.\u001b[0m\u001b[0m_mgr\u001b[0m\u001b[1;33m.\u001b[0m\u001b[0mset_axis\u001b[0m\u001b[1;33m(\u001b[0m\u001b[0maxis\u001b[0m\u001b[1;33m,\u001b[0m \u001b[0mlabels\u001b[0m\u001b[1;33m)\u001b[0m\u001b[1;33m\u001b[0m\u001b[1;33m\u001b[0m\u001b[0m\n\u001b[0m\u001b[0;32m    671\u001b[0m         \u001b[0mself\u001b[0m\u001b[1;33m.\u001b[0m\u001b[0m_clear_item_cache\u001b[0m\u001b[1;33m(\u001b[0m\u001b[1;33m)\u001b[0m\u001b[1;33m\u001b[0m\u001b[1;33m\u001b[0m\u001b[0m\n\u001b[0;32m    672\u001b[0m \u001b[1;33m\u001b[0m\u001b[0m\n",
      "\u001b[1;32mC:\\ProgramData\\Anaconda3\\lib\\site-packages\\pandas\\core\\internals\\managers.py\u001b[0m in \u001b[0;36mset_axis\u001b[1;34m(self, axis, new_labels)\u001b[0m\n\u001b[0;32m    218\u001b[0m \u001b[1;33m\u001b[0m\u001b[0m\n\u001b[0;32m    219\u001b[0m         \u001b[1;32mif\u001b[0m \u001b[0mnew_len\u001b[0m \u001b[1;33m!=\u001b[0m \u001b[0mold_len\u001b[0m\u001b[1;33m:\u001b[0m\u001b[1;33m\u001b[0m\u001b[1;33m\u001b[0m\u001b[0m\n\u001b[1;32m--> 220\u001b[1;33m             raise ValueError(\n\u001b[0m\u001b[0;32m    221\u001b[0m                 \u001b[1;34mf\"Length mismatch: Expected axis has {old_len} elements, new \"\u001b[0m\u001b[1;33m\u001b[0m\u001b[1;33m\u001b[0m\u001b[0m\n\u001b[0;32m    222\u001b[0m                 \u001b[1;34mf\"values have {new_len} elements\"\u001b[0m\u001b[1;33m\u001b[0m\u001b[1;33m\u001b[0m\u001b[0m\n",
      "\u001b[1;31mValueError\u001b[0m: Length mismatch: Expected axis has 3 elements, new values have 2 elements"
     ]
    }
   ],
   "source": [
    "df_france_deaths.columns=['time','cases_numbers']\n",
    "df_france_deaths"
   ]
  },
  {
   "cell_type": "code",
   "execution_count": null,
   "id": "ff090cae",
   "metadata": {},
   "outputs": [],
   "source": []
  },
  {
   "cell_type": "code",
   "execution_count": null,
   "id": "aba3637a",
   "metadata": {},
   "outputs": [],
   "source": []
  },
  {
   "cell_type": "code",
   "execution_count": null,
   "id": "461c23f0",
   "metadata": {},
   "outputs": [],
   "source": []
  },
  {
   "cell_type": "code",
   "execution_count": null,
   "id": "113d85b0",
   "metadata": {},
   "outputs": [],
   "source": []
  },
  {
   "cell_type": "code",
   "execution_count": null,
   "id": "a7f5c5fa",
   "metadata": {},
   "outputs": [],
   "source": []
  },
  {
   "cell_type": "code",
   "execution_count": null,
   "id": "2364dcd7",
   "metadata": {},
   "outputs": [],
   "source": []
  },
  {
   "cell_type": "markdown",
   "id": "4d04ec39",
   "metadata": {},
   "source": [
    "# Reconnaissance de chiffres manuscrits avec scikit-learn\n",
    "@ Gaston Berger University"
   ]
  },
  {
   "cell_type": "markdown",
   "id": "2e2bd137",
   "metadata": {},
   "source": [
    "## Échantillon de données de chiffres manuscrits\n",
    "\n",
    "Une version basse résolution de cet échantillon est fourni avec scikit-learn.\n",
    "\n",
    "On commence par charger l'échantillon : "
   ]
  },
  {
   "cell_type": "code",
   "execution_count": 1,
   "id": "def3f0a2",
   "metadata": {},
   "outputs": [],
   "source": [
    "from sklearn import datasets\n",
    "digits = datasets.load_digits()"
   ]
  },
  {
   "cell_type": "markdown",
   "id": "9f7aae7e",
   "metadata": {},
   "source": [
    "Puis on imprime la première image :"
   ]
  },
  {
   "cell_type": "code",
   "execution_count": 2,
   "id": "4380bf8c",
   "metadata": {},
   "outputs": [
    {
     "name": "stdout",
     "output_type": "stream",
     "text": [
      "[[ 0.  0.  5. 13.  9.  1.  0.  0.]\n",
      " [ 0.  0. 13. 15. 10. 15.  5.  0.]\n",
      " [ 0.  3. 15.  2.  0. 11.  8.  0.]\n",
      " [ 0.  4. 12.  0.  0.  8.  8.  0.]\n",
      " [ 0.  5.  8.  0.  0.  9.  8.  0.]\n",
      " [ 0.  4. 11.  0.  1. 12.  7.  0.]\n",
      " [ 0.  2. 14.  5. 10. 12.  0.  0.]\n",
      " [ 0.  0.  6. 13. 10.  0.  0.  0.]]\n"
     ]
    }
   ],
   "source": [
    "print(digits.images[0])"
   ]
  },
  {
   "cell_type": "code",
   "execution_count": null,
   "id": "67258483",
   "metadata": {},
   "outputs": [],
   "source": [
    " "
   ]
  }
 ],
 "metadata": {
  "kernelspec": {
   "display_name": "Python 3",
   "language": "python",
   "name": "python3"
  },
  "language_info": {
   "codemirror_mode": {
    "name": "ipython",
    "version": 3
   },
   "file_extension": ".py",
   "mimetype": "text/x-python",
   "name": "python",
   "nbconvert_exporter": "python",
   "pygments_lexer": "ipython3",
   "version": "3.8.8"
  }
 },
 "nbformat": 4,
 "nbformat_minor": 5
}
